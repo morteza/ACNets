{
 "cells": [
  {
   "cell_type": "code",
   "execution_count": 1,
   "metadata": {},
   "outputs": [],
   "source": [
    "%reload_ext autoreload\n",
    "%autoreload 3\n",
    "from src.acnets.pipeline import Parcellation\n",
    "import pandas as pd\n",
    "import numpy as np\n",
    "\n",
    "from sklearn.preprocessing import LabelEncoder\n",
    "from sklearn.model_selection import StratifiedShuffleSplit, cross_val_score\n",
    "from sklearn.inspection import permutation_importance\n",
    "\n",
    "from tqdm import tqdm\n",
    "\n",
    "from src.acnets.pipeline import MultiScaleClassifier"
   ]
  },
  {
   "cell_type": "code",
   "execution_count": 2,
   "metadata": {},
   "outputs": [
    {
     "name": "stdout",
     "output_type": "stream",
     "text": [
      "[DEBUG] overfit accuracy: 1.000\n"
     ]
    }
   ],
   "source": [
    "# Combined model\n",
    "\n",
    "# Input/Output\n",
    "parcellation = Parcellation(atlas_name='dosenbach2010')\n",
    "subjects = parcellation.fit_transform(None).coords['subject'].values\n",
    "subject_labels = [s[:4] for s in subjects]\n",
    "X = subjects.reshape(-1,1)                     # subjects, shape: (n_subjects, 1)\n",
    "y_encoder = LabelEncoder()\n",
    "y = y_encoder.fit_transform(subject_labels)     # labels, shape: (n_subjects,)\n",
    "\n",
    "\n",
    "model = MultiScaleClassifier()\n",
    "\n",
    "# DEBUG (expected to overfit, i.e., score=1)\n",
    "overfit_score = model.fit(X, y).score(X, y)\n",
    "print(f'[DEBUG] overfit accuracy: {overfit_score:.3f}')"
   ]
  },
  {
   "cell_type": "code",
   "execution_count": 10,
   "metadata": {},
   "outputs": [
    {
     "name": "stdout",
     "output_type": "stream",
     "text": [
      "CV accuracy: 0.703 +/- 0.127\n"
     ]
    }
   ],
   "source": [
    "cv = StratifiedShuffleSplit(n_splits=100, test_size=8)\n",
    "\n",
    "cv_scores = cross_val_score(model, X, y, cv=cv, verbose=0, n_jobs=-1)\n",
    "\n",
    "print(f'CV accuracy: {cv_scores.mean():.3f} +/- {cv_scores.std():.3f}')"
   ]
  },
  {
   "cell_type": "code",
   "execution_count": null,
   "metadata": {},
   "outputs": [],
   "source": [
    "feature_importance_results = []\n",
    "# TODO feature_names = model.get_feature_extractor_head().get_feature_names_out()\n",
    "\n",
    "permutation_cv = StratifiedShuffleSplit(n_splits=100, test_size=8)\n",
    "\n",
    "for train, test in tqdm(permutation_cv.split(X,y), total=permutation_cv.get_n_splits(X,y)):\n",
    "    model.fit(X[train], y[train])\n",
    "    X_features = model.get_feature_extractor_head().transform(X)\n",
    "\n",
    "    _results = permutation_importance(model.get_classification_head(), X_features[test], y[test],\n",
    "                                      n_jobs=-1,\n",
    "                                    scoring='accuracy')\n",
    "    feature_importance_results.append(_results)\n"
   ]
  },
  {
   "cell_type": "code",
   "execution_count": 6,
   "metadata": {},
   "outputs": [
    {
     "data": {
      "text/html": [
       "<div>\n",
       "<style scoped>\n",
       "    .dataframe tbody tr th:only-of-type {\n",
       "        vertical-align: middle;\n",
       "    }\n",
       "\n",
       "    .dataframe tbody tr th {\n",
       "        vertical-align: top;\n",
       "    }\n",
       "\n",
       "    .dataframe thead th {\n",
       "        text-align: right;\n",
       "    }\n",
       "</style>\n",
       "<table border=\"1\" class=\"dataframe\">\n",
       "  <thead>\n",
       "    <tr style=\"text-align: right;\">\n",
       "      <th></th>\n",
       "      <th>importance</th>\n",
       "    </tr>\n",
       "  </thead>\n",
       "  <tbody>\n",
       "    <tr>\n",
       "      <th>h2__default</th>\n",
       "      <td>0.1925</td>\n",
       "    </tr>\n",
       "    <tr>\n",
       "      <th>h3__fronto-parietal ↔ sensorimotor</th>\n",
       "      <td>0.0325</td>\n",
       "    </tr>\n",
       "    <tr>\n",
       "      <th>h1__med cerebellum 143</th>\n",
       "      <td>0.0250</td>\n",
       "    </tr>\n",
       "    <tr>\n",
       "      <th>h1__post cingulate 108</th>\n",
       "      <td>0.0225</td>\n",
       "    </tr>\n",
       "    <tr>\n",
       "      <th>h2__fronto-parietal</th>\n",
       "      <td>0.0175</td>\n",
       "    </tr>\n",
       "    <tr>\n",
       "      <th>h2__cerebellum</th>\n",
       "      <td>0.0125</td>\n",
       "    </tr>\n",
       "    <tr>\n",
       "      <th>h1__occipital 142</th>\n",
       "      <td>0.0100</td>\n",
       "    </tr>\n",
       "    <tr>\n",
       "      <th>h3__default ↔ sensorimotor</th>\n",
       "      <td>0.0100</td>\n",
       "    </tr>\n",
       "    <tr>\n",
       "      <th>h3__cerebellum ↔ occipital</th>\n",
       "      <td>0.0075</td>\n",
       "    </tr>\n",
       "    <tr>\n",
       "      <th>h2__cingulo-opercular</th>\n",
       "      <td>0.0075</td>\n",
       "    </tr>\n",
       "  </tbody>\n",
       "</table>\n",
       "</div>"
      ],
      "text/plain": [
       "                                    importance\n",
       "h2__default                             0.1925\n",
       "h3__fronto-parietal ↔ sensorimotor      0.0325\n",
       "h1__med cerebellum 143                  0.0250\n",
       "h1__post cingulate 108                  0.0225\n",
       "h2__fronto-parietal                     0.0175\n",
       "h2__cerebellum                          0.0125\n",
       "h1__occipital 142                       0.0100\n",
       "h3__default ↔ sensorimotor              0.0100\n",
       "h3__cerebellum ↔ occipital              0.0075\n",
       "h2__cingulo-opercular                   0.0075"
      ]
     },
     "execution_count": 6,
     "metadata": {},
     "output_type": "execute_result"
    }
   ],
   "source": [
    "# TODO\n",
    "\n",
    "importances = pd.DataFrame(\n",
    "    data=np.stack([imp['importances_mean'] for imp in feature_importance_results]),\n",
    "    columns=feature_names).mean().sort_values(ascending=False).to_frame('importance')\n",
    "\n",
    "importances[:10]  # top 10 features"
   ]
  }
 ],
 "metadata": {
  "kernelspec": {
   "display_name": "acnets",
   "language": "python",
   "name": "python3"
  },
  "language_info": {
   "codemirror_mode": {
    "name": "ipython",
    "version": 3
   },
   "file_extension": ".py",
   "mimetype": "text/x-python",
   "name": "python",
   "nbconvert_exporter": "python",
   "pygments_lexer": "ipython3",
   "version": "3.10.12"
  },
  "orig_nbformat": 4
 },
 "nbformat": 4,
 "nbformat_minor": 2
}
