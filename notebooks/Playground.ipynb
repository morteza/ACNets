{
 "cells": [
  {
   "cell_type": "code",
   "execution_count": null,
   "metadata": {},
   "outputs": [],
   "source": [
    "%reload_ext autoreload\n",
    "%autoreload 3\n",
    "from src.acnets.pipeline import Parcellation\n",
    "import pandas as pd\n",
    "import numpy as np\n",
    "\n",
    "from sklearn.preprocessing import LabelEncoder\n",
    "from sklearn.model_selection import StratifiedShuffleSplit, cross_val_score\n",
    "from sklearn.inspection import permutation_importance\n",
    "\n",
    "from tqdm import tqdm\n",
    "\n",
    "from src.acnets.pipeline import MultiScaleClassifier"
   ]
  },
  {
   "cell_type": "code",
   "execution_count": null,
   "metadata": {},
   "outputs": [],
   "source": [
    "# Combined model\n",
    "\n",
    "# Input/Output\n",
    "parcellation = Parcellation(atlas_name='dosenbach2010').fit()\n",
    "subjects = parcellation.dataset_.coords['subject'].values\n",
    "subject_labels = [s[:4] for s in subjects]  \n",
    "X = subjects.reshape(-1,1)                     # subjects, shape: (n_subjects, 1)\n",
    "y_encoder = LabelEncoder()\n",
    "y = y_encoder.fit_transform(subject_labels)     # labels, shape: (n_subjects,)\n",
    "\n",
    "\n",
    "model = MultiScaleClassifier()\n",
    "\n",
    "# DEBUG (expected to overfit, i.e., score=1)\n",
    "overfit_score = model.fit(X, y).score(X, y)\n",
    "print(f'[DEBUG] overfit accuracy: {overfit_score:.3f}')"
   ]
  },
  {
   "cell_type": "code",
   "execution_count": null,
   "metadata": {},
   "outputs": [],
   "source": [
    "\n",
    "CV = StratifiedShuffleSplit(n_splits=10, test_size=8)\n",
    "cross_val_score(model, X, y, cv=CV, verbose=3).mean()"
   ]
  },
  {
   "cell_type": "code",
   "execution_count": null,
   "metadata": {},
   "outputs": [],
   "source": [
    "feature_importance_results = []\n",
    "feature_names = model.get_encoder().get_feature_names_out()\n",
    "\n",
    "permutation_cv = StratifiedShuffleSplit(n_splits=10, test_size=8)\n",
    "\n",
    "for train, test in tqdm(permutation_cv.split(X,y), total=permutation_cv.get_n_splits(X,y)):\n",
    "    model.fit(X[train], y[train])\n",
    "    X_features = model.get_encoder().transform(X)\n",
    "\n",
    "    _results = permutation_importance(model.get_classification_head(), X_features[test], y[test],\n",
    "                                    scoring='accuracy')\n",
    "    feature_importance_results.append(_results)\n"
   ]
  },
  {
   "cell_type": "code",
   "execution_count": null,
   "metadata": {},
   "outputs": [],
   "source": [
    "importances = pd.DataFrame(\n",
    "    data=np.stack([imp['importances_mean'] for imp in feature_importance_results]),\n",
    "    columns=feature_names).mean().sort_values(ascending=False).to_frame('importance')\n",
    "\n",
    "importances[:10]  # top 10 features"
   ]
  }
 ],
 "metadata": {
  "kernelspec": {
   "display_name": "acnets",
   "language": "python",
   "name": "python3"
  },
  "language_info": {
   "codemirror_mode": {
    "name": "ipython",
    "version": 3
   },
   "file_extension": ".py",
   "mimetype": "text/x-python",
   "name": "python",
   "nbconvert_exporter": "python",
   "pygments_lexer": "ipython3",
   "version": "3.10.12"
  },
  "orig_nbformat": 4
 },
 "nbformat": 4,
 "nbformat_minor": 2
}
