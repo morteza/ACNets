{
 "cells": [
  {
   "cell_type": "code",
   "execution_count": 1,
   "metadata": {},
   "outputs": [],
   "source": [
    "%reload_ext autoreload\n",
    "%autoreload 2\n",
    "from src.acnets.pipeline import Parcellation\n",
    "from src.acnets.pipeline import TimeseriesAggregator, ConnectivityExtractor\n",
    "from src.acnets.pipeline import ConnectivityAggregator\n",
    "import pandas as pd\n",
    "import numpy as np\n",
    "\n",
    "from sklearn.pipeline import Pipeline"
   ]
  },
  {
   "cell_type": "code",
   "execution_count": 16,
   "metadata": {},
   "outputs": [],
   "source": [
    "# parcellation\n",
    "parcellation = Parcellation(atlas_name='dosenbach2010')\n",
    "dataset = parcellation.fit_transform(None)\n",
    "\n",
    "# time-series aggregation\n",
    "ts_agg = TimeseriesAggregator(strategy=None)\n",
    "dataset = ts_agg.fit_transform(dataset)\n",
    "\n",
    "# connectivity extraction\n",
    "conn_extractor = ConnectivityExtractor(kind='correlation')\n",
    "dataset = conn_extractor.fit_transform(dataset)\n",
    "\n",
    "# connectivity aggregation\n",
    "conn_agg = ConnectivityAggregator(strategy='network')\n",
    "dataset = conn_agg.fit_transform(dataset)"
   ]
  },
  {
   "cell_type": "code",
   "execution_count": null,
   "metadata": {},
   "outputs": [],
   "source": [
    "debug_pipe = Pipeline([\n",
    "    ('parcellation', Parcellation('dosenbach2010')),\n",
    "    ('timeseries_aggregation', TimeseriesAggregator(strategy=None)),\n",
    "    ('connectivity', ConnectivityExtractor('partial correlation')),\n",
    "    ('connectivity_aggregation', ConnectivityAggregator(strategy='network')),\n",
    "])\n",
    "\n",
    "debug_pipe.fit_transform(None)  # load data for all participants\n"
   ]
  }
 ],
 "metadata": {
  "kernelspec": {
   "display_name": "acnets",
   "language": "python",
   "name": "python3"
  },
  "language_info": {
   "codemirror_mode": {
    "name": "ipython",
    "version": 3
   },
   "file_extension": ".py",
   "mimetype": "text/x-python",
   "name": "python",
   "nbconvert_exporter": "python",
   "pygments_lexer": "ipython3",
   "version": "3.10.12"
  },
  "orig_nbformat": 4
 },
 "nbformat": 4,
 "nbformat_minor": 2
}
