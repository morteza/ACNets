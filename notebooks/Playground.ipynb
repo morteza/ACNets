{
 "cells": [
  {
   "cell_type": "code",
   "execution_count": 1,
   "metadata": {},
   "outputs": [],
   "source": [
    "%reload_ext autoreload\n",
    "%autoreload 3\n",
    "from src.acnets.pipeline import Parcellation\n",
    "import pandas as pd\n",
    "import numpy as np\n",
    "\n",
    "from sklearn.preprocessing import LabelEncoder\n",
    "from sklearn.model_selection import StratifiedShuffleSplit, cross_val_score\n",
    "from sklearn.inspection import permutation_importance\n",
    "\n",
    "from tqdm import tqdm\n",
    "from joblib import delayed, Parallel\n",
    "\n",
    "from IPython.display import clear_output\n",
    "\n",
    "from src.acnets.pipeline import MultiScaleClassifier\n",
    "\n",
    "from ray import tune\n",
    "from ray.tune.search.hyperopt import HyperOptSearch\n",
    "\n",
    "from ray.tune.sklearn import TuneSearchCV\n",
    "from sklearn.model_selection import GridSearchCV"
   ]
  },
  {
   "cell_type": "code",
   "execution_count": 2,
   "metadata": {},
   "outputs": [
    {
     "name": "stdout",
     "output_type": "stream",
     "text": [
      "[DEBUG] overfit accuracy: 1.000\n"
     ]
    }
   ],
   "source": [
    "# Input/Output\n",
    "parcellation = Parcellation(atlas_name='dosenbach2010')\n",
    "subjects = parcellation.fit_transform(None).coords['subject'].values\n",
    "subject_labels = [s[:4] for s in subjects]\n",
    "X = subjects.reshape(-1,1)                     # subjects, shape: (n_subjects, 1)\n",
    "y_encoder = LabelEncoder()\n",
    "y = y_encoder.fit_transform(subject_labels)     # labels, shape: (n_subjects,)\n",
    "\n",
    "\n",
    "# DEBUG (expected to overfit, i.e., score=1)\n",
    "overfit_score = MultiScaleClassifier().fit(X, y).score(X, y)\n",
    "print(f'[DEBUG] overfit accuracy: {overfit_score:.3f}')"
   ]
  },
  {
   "cell_type": "code",
   "execution_count": 29,
   "metadata": {},
   "outputs": [
    {
     "data": {
      "text/html": [
       "<style>#sk-container-id-9 {color: black;}#sk-container-id-9 pre{padding: 0;}#sk-container-id-9 div.sk-toggleable {background-color: white;}#sk-container-id-9 label.sk-toggleable__label {cursor: pointer;display: block;width: 100%;margin-bottom: 0;padding: 0.3em;box-sizing: border-box;text-align: center;}#sk-container-id-9 label.sk-toggleable__label-arrow:before {content: \"▸\";float: left;margin-right: 0.25em;color: #696969;}#sk-container-id-9 label.sk-toggleable__label-arrow:hover:before {color: black;}#sk-container-id-9 div.sk-estimator:hover label.sk-toggleable__label-arrow:before {color: black;}#sk-container-id-9 div.sk-toggleable__content {max-height: 0;max-width: 0;overflow: hidden;text-align: left;background-color: #f0f8ff;}#sk-container-id-9 div.sk-toggleable__content pre {margin: 0.2em;color: black;border-radius: 0.25em;background-color: #f0f8ff;}#sk-container-id-9 input.sk-toggleable__control:checked~div.sk-toggleable__content {max-height: 200px;max-width: 100%;overflow: auto;}#sk-container-id-9 input.sk-toggleable__control:checked~label.sk-toggleable__label-arrow:before {content: \"▾\";}#sk-container-id-9 div.sk-estimator input.sk-toggleable__control:checked~label.sk-toggleable__label {background-color: #d4ebff;}#sk-container-id-9 div.sk-label input.sk-toggleable__control:checked~label.sk-toggleable__label {background-color: #d4ebff;}#sk-container-id-9 input.sk-hidden--visually {border: 0;clip: rect(1px 1px 1px 1px);clip: rect(1px, 1px, 1px, 1px);height: 1px;margin: -1px;overflow: hidden;padding: 0;position: absolute;width: 1px;}#sk-container-id-9 div.sk-estimator {font-family: monospace;background-color: #f0f8ff;border: 1px dotted black;border-radius: 0.25em;box-sizing: border-box;margin-bottom: 0.5em;}#sk-container-id-9 div.sk-estimator:hover {background-color: #d4ebff;}#sk-container-id-9 div.sk-parallel-item::after {content: \"\";width: 100%;border-bottom: 1px solid gray;flex-grow: 1;}#sk-container-id-9 div.sk-label:hover label.sk-toggleable__label {background-color: #d4ebff;}#sk-container-id-9 div.sk-serial::before {content: \"\";position: absolute;border-left: 1px solid gray;box-sizing: border-box;top: 0;bottom: 0;left: 50%;z-index: 0;}#sk-container-id-9 div.sk-serial {display: flex;flex-direction: column;align-items: center;background-color: white;padding-right: 0.2em;padding-left: 0.2em;position: relative;}#sk-container-id-9 div.sk-item {position: relative;z-index: 1;}#sk-container-id-9 div.sk-parallel {display: flex;align-items: stretch;justify-content: center;background-color: white;position: relative;}#sk-container-id-9 div.sk-item::before, #sk-container-id-9 div.sk-parallel-item::before {content: \"\";position: absolute;border-left: 1px solid gray;box-sizing: border-box;top: 0;bottom: 0;left: 50%;z-index: -1;}#sk-container-id-9 div.sk-parallel-item {display: flex;flex-direction: column;z-index: 1;position: relative;background-color: white;}#sk-container-id-9 div.sk-parallel-item:first-child::after {align-self: flex-end;width: 50%;}#sk-container-id-9 div.sk-parallel-item:last-child::after {align-self: flex-start;width: 50%;}#sk-container-id-9 div.sk-parallel-item:only-child::after {width: 0;}#sk-container-id-9 div.sk-dashed-wrapped {border: 1px dashed gray;margin: 0 0.4em 0.5em 0.4em;box-sizing: border-box;padding-bottom: 0.4em;background-color: white;}#sk-container-id-9 div.sk-label label {font-family: monospace;font-weight: bold;display: inline-block;line-height: 1.2em;}#sk-container-id-9 div.sk-label-container {text-align: center;}#sk-container-id-9 div.sk-container {/* jupyter's `normalize.less` sets `[hidden] { display: none; }` but bootstrap.min.css set `[hidden] { display: none !important; }` so we also need the `!important` here to be able to override the default hidden behavior on the sphinx rendered scikit-learn.org. See: https://github.com/scikit-learn/scikit-learn/issues/21755 */display: inline-block !important;position: relative;}#sk-container-id-9 div.sk-text-repr-fallback {display: none;}</style><div id=\"sk-container-id-9\" class=\"sk-top-container\"><div class=\"sk-text-repr-fallback\"><pre>MultiScaleClassifier()</pre><b>In a Jupyter environment, please rerun this cell to show the HTML representation or trust the notebook. <br />On GitHub, the HTML representation is unable to render, please try loading this page with nbviewer.org.</b></div><div class=\"sk-container\" hidden><div class=\"sk-item sk-dashed-wrapped\"><div class=\"sk-label-container\"><div class=\"sk-label sk-toggleable\"><input class=\"sk-toggleable__control sk-hidden--visually\" id=\"sk-estimator-id-113\" type=\"checkbox\" ><label for=\"sk-estimator-id-113\" class=\"sk-toggleable__label sk-toggleable__label-arrow\">MultiScaleClassifier</label><div class=\"sk-toggleable__content\"><pre>MultiScaleClassifier()</pre></div></div></div><div class=\"sk-serial\"><div class=\"sk-item\"><div class=\"sk-estimator sk-toggleable\"><input class=\"sk-toggleable__control sk-hidden--visually\" id=\"sk-estimator-id-114\" type=\"checkbox\" ><label for=\"sk-estimator-id-114\" class=\"sk-toggleable__label sk-toggleable__label-arrow\">Parcellation</label><div class=\"sk-toggleable__content\"><pre>Parcellation(atlas_name=&#x27;dosenbach2010&#x27;,\n",
       "             bids_dir=PosixPath(&#x27;/home/morteza/workspace/acnets/data/julia2018&#x27;),\n",
       "             cache_dir=PosixPath(&#x27;/home/morteza/workspace/acnets/data/julia2018/derivatives/resting_timeseries&#x27;))</pre></div></div></div><div class=\"sk-item sk-dashed-wrapped\"><div class=\"sk-label-container\"><div class=\"sk-label sk-toggleable\"><input class=\"sk-toggleable__control sk-hidden--visually\" id=\"sk-estimator-id-115\" type=\"checkbox\" ><label for=\"sk-estimator-id-115\" class=\"sk-toggleable__label sk-toggleable__label-arrow\">extract_features: FeatureUnion</label><div class=\"sk-toggleable__content\"><pre>FeatureUnion(transformer_list=[(&#x27;h1&#x27;,\n",
       "                                Pipeline(steps=[(&#x27;h1_features&#x27;,\n",
       "                                                 ExtractH1Features())])),\n",
       "                               (&#x27;h2&#x27;,\n",
       "                                Pipeline(steps=[(&#x27;aggregate_timeseries&#x27;,\n",
       "                                                 TimeseriesAggregator()),\n",
       "                                                (&#x27;extract_connectivity&#x27;,\n",
       "                                                 ConnectivityExtractor(kind=&#x27;partial &#x27;\n",
       "                                                                            &#x27;correlation&#x27;)),\n",
       "                                                (&#x27;aggregate_connectivity&#x27;,\n",
       "                                                 ConnectivityAggregator(strategy=&#x27;network&#x27;)),\n",
       "                                                (&#x27;h2_features&#x27;,\n",
       "                                                 ExtractH2Features())])),\n",
       "                               (&#x27;h3&#x27;,\n",
       "                                Pipeline(steps=[(&#x27;aggregate_timeseries&#x27;,\n",
       "                                                 TimeseriesAggregator(strategy=&#x27;network&#x27;)),\n",
       "                                                (&#x27;extract_connectivity&#x27;,\n",
       "                                                 ConnectivityExtractor(kind=&#x27;partial &#x27;\n",
       "                                                                            &#x27;correlation&#x27;)),\n",
       "                                                (&#x27;h3_features&#x27;,\n",
       "                                                 ExtractH3Features())]))])</pre></div></div></div><div class=\"sk-parallel\"><div class=\"sk-parallel-item\"><div class=\"sk-item\"><div class=\"sk-label-container\"><div class=\"sk-label sk-toggleable\"><label>h1</label></div></div><div class=\"sk-serial\"><div class=\"sk-item\"><div class=\"sk-serial\"><div class=\"sk-item\"><div class=\"sk-estimator sk-toggleable\"><input class=\"sk-toggleable__control sk-hidden--visually\" id=\"sk-estimator-id-116\" type=\"checkbox\" ><label for=\"sk-estimator-id-116\" class=\"sk-toggleable__label sk-toggleable__label-arrow\">ExtractH1Features</label><div class=\"sk-toggleable__content\"><pre>ExtractH1Features()</pre></div></div></div></div></div></div></div></div><div class=\"sk-parallel-item\"><div class=\"sk-item\"><div class=\"sk-label-container\"><div class=\"sk-label sk-toggleable\"><label>h2</label></div></div><div class=\"sk-serial\"><div class=\"sk-item\"><div class=\"sk-serial\"><div class=\"sk-item\"><div class=\"sk-estimator sk-toggleable\"><input class=\"sk-toggleable__control sk-hidden--visually\" id=\"sk-estimator-id-117\" type=\"checkbox\" ><label for=\"sk-estimator-id-117\" class=\"sk-toggleable__label sk-toggleable__label-arrow\">TimeseriesAggregator</label><div class=\"sk-toggleable__content\"><pre>TimeseriesAggregator()</pre></div></div></div><div class=\"sk-item\"><div class=\"sk-estimator sk-toggleable\"><input class=\"sk-toggleable__control sk-hidden--visually\" id=\"sk-estimator-id-118\" type=\"checkbox\" ><label for=\"sk-estimator-id-118\" class=\"sk-toggleable__label sk-toggleable__label-arrow\">ConnectivityExtractor</label><div class=\"sk-toggleable__content\"><pre>ConnectivityExtractor(kind=&#x27;partial correlation&#x27;)</pre></div></div></div><div class=\"sk-item\"><div class=\"sk-estimator sk-toggleable\"><input class=\"sk-toggleable__control sk-hidden--visually\" id=\"sk-estimator-id-119\" type=\"checkbox\" ><label for=\"sk-estimator-id-119\" class=\"sk-toggleable__label sk-toggleable__label-arrow\">ConnectivityAggregator</label><div class=\"sk-toggleable__content\"><pre>ConnectivityAggregator(strategy=&#x27;network&#x27;)</pre></div></div></div><div class=\"sk-item\"><div class=\"sk-estimator sk-toggleable\"><input class=\"sk-toggleable__control sk-hidden--visually\" id=\"sk-estimator-id-120\" type=\"checkbox\" ><label for=\"sk-estimator-id-120\" class=\"sk-toggleable__label sk-toggleable__label-arrow\">ExtractH2Features</label><div class=\"sk-toggleable__content\"><pre>ExtractH2Features()</pre></div></div></div></div></div></div></div></div><div class=\"sk-parallel-item\"><div class=\"sk-item\"><div class=\"sk-label-container\"><div class=\"sk-label sk-toggleable\"><label>h3</label></div></div><div class=\"sk-serial\"><div class=\"sk-item\"><div class=\"sk-serial\"><div class=\"sk-item\"><div class=\"sk-estimator sk-toggleable\"><input class=\"sk-toggleable__control sk-hidden--visually\" id=\"sk-estimator-id-121\" type=\"checkbox\" ><label for=\"sk-estimator-id-121\" class=\"sk-toggleable__label sk-toggleable__label-arrow\">TimeseriesAggregator</label><div class=\"sk-toggleable__content\"><pre>TimeseriesAggregator(strategy=&#x27;network&#x27;)</pre></div></div></div><div class=\"sk-item\"><div class=\"sk-estimator sk-toggleable\"><input class=\"sk-toggleable__control sk-hidden--visually\" id=\"sk-estimator-id-122\" type=\"checkbox\" ><label for=\"sk-estimator-id-122\" class=\"sk-toggleable__label sk-toggleable__label-arrow\">ConnectivityExtractor</label><div class=\"sk-toggleable__content\"><pre>ConnectivityExtractor(kind=&#x27;partial correlation&#x27;)</pre></div></div></div><div class=\"sk-item\"><div class=\"sk-estimator sk-toggleable\"><input class=\"sk-toggleable__control sk-hidden--visually\" id=\"sk-estimator-id-123\" type=\"checkbox\" ><label for=\"sk-estimator-id-123\" class=\"sk-toggleable__label sk-toggleable__label-arrow\">ExtractH3Features</label><div class=\"sk-toggleable__content\"><pre>ExtractH3Features()</pre></div></div></div></div></div></div></div></div></div></div><div class=\"sk-item\"><div class=\"sk-estimator sk-toggleable\"><input class=\"sk-toggleable__control sk-hidden--visually\" id=\"sk-estimator-id-124\" type=\"checkbox\" ><label for=\"sk-estimator-id-124\" class=\"sk-toggleable__label sk-toggleable__label-arrow\">StandardScaler</label><div class=\"sk-toggleable__content\"><pre>StandardScaler()</pre></div></div></div><div class=\"sk-item\"><div class=\"sk-estimator sk-toggleable\"><input class=\"sk-toggleable__control sk-hidden--visually\" id=\"sk-estimator-id-125\" type=\"checkbox\" ><label for=\"sk-estimator-id-125\" class=\"sk-toggleable__label sk-toggleable__label-arrow\">VarianceThreshold</label><div class=\"sk-toggleable__content\"><pre>VarianceThreshold()</pre></div></div></div><div class=\"sk-item\"><div class=\"sk-estimator sk-toggleable\"><input class=\"sk-toggleable__control sk-hidden--visually\" id=\"sk-estimator-id-126\" type=\"checkbox\" ><label for=\"sk-estimator-id-126\" class=\"sk-toggleable__label sk-toggleable__label-arrow\">XGBClassifier</label><div class=\"sk-toggleable__content\"><pre>XGBClassifier(base_score=None, booster=None, callbacks=None,\n",
       "              colsample_bylevel=None, colsample_bynode=None,\n",
       "              colsample_bytree=None, early_stopping_rounds=None,\n",
       "              enable_categorical=False, eta=0.00526607841746878,\n",
       "              eval_metric=None, feature_types=None, gamma=None, gpu_id=None,\n",
       "              grow_policy=None, importance_type=None,\n",
       "              interaction_constraints=None, learning_rate=0.04633434643754076,\n",
       "              max_bin=None, max_cat_threshold=None, max_cat_to_onehot=None,\n",
       "              max_delta_step=None, max_depth=12, max_leaves=None,\n",
       "              min_child_weight=1, missing=nan, monotone_constraints=None,\n",
       "              n_estimators=50, n_jobs=None, num_parallel_tree=None,\n",
       "              predictor=None, ...)</pre></div></div></div></div></div></div></div>"
      ],
      "text/plain": [
       "MultiScaleClassifier()"
      ]
     },
     "execution_count": 29,
     "metadata": {},
     "output_type": "execute_result"
    }
   ],
   "source": [
    "\n",
    "param_space = {\n",
    "    'clf__objective': ['binary:logistic'],\n",
    "    'clf__max_depth': tune.randint(1, 20),\n",
    "    'clf__min_child_weight': tune.randint(1, 10),\n",
    "    'clf__subsample': tune.uniform(0.01, 1.0),\n",
    "    'clf__eta': tune.loguniform(1e-4, 1e-1),\n",
    "    'clf__learning_rate': (0.01, 1.0, 'log-uniform'),\n",
    "    'clf__n_estimators': [25, 50, 100],\n",
    "    # 'clf__max_depth': (0, 50),\n",
    "    # 'clf__max_delta_step': (0, 20),\n",
    "    # 'clf__reg_lambda': (1e-9, 1000, 'log-uniform'),\n",
    "    # 'clf__reg_alpha': (1e-9, 1.0, 'log-uniform'),\n",
    "    # 'clf__gamma': (1e-9, 0.5, 'log-uniform'),\n",
    "    # 'clf__scale_pos_weight': (1e-6, 500, 'log-uniform')\n",
    "}\n",
    "\n",
    "tuner = TuneSearchCV(\n",
    "    MultiScaleClassifier(),\n",
    "    HyperOptSearch.convert_search_space(param_space),\n",
    "    scoring='accuracy',\n",
    "    cv=StratifiedShuffleSplit(n_splits=2, test_size=8),\n",
    "    search_optimization='hyperopt',\n",
    "    n_jobs=-1,\n",
    "    refit=True,\n",
    "    n_trials=100,\n",
    "    verbose=1,\n",
    ")\n",
    "\n",
    "tuner.fit(X, y)\n",
    "\n",
    "clear_output()\n",
    "\n",
    "# create a model with best params\n",
    "model = MultiScaleClassifier().set_params(**tuner.best_params_)\n",
    "model"
   ]
  },
  {
   "cell_type": "code",
   "execution_count": 30,
   "metadata": {},
   "outputs": [
    {
     "name": "stdout",
     "output_type": "stream",
     "text": [
      "[CV] accuracy: 0.679 +/- 0.144\n"
     ]
    }
   ],
   "source": [
    "cv = StratifiedShuffleSplit(n_splits=100, test_size=8)\n",
    "\n",
    "cv_scores = cross_val_score(model, X, y, cv=cv, verbose=3, n_jobs=-1)\n",
    "\n",
    "clear_output(wait=True)\n",
    "print(f'[CV] accuracy: {cv_scores.mean():.3f} +/- {cv_scores.std():.3f}')"
   ]
  },
  {
   "cell_type": "code",
   "execution_count": null,
   "metadata": {},
   "outputs": [],
   "source": [
    "# Feature Importance\n",
    "\n",
    "permutation_cv = StratifiedShuffleSplit(n_splits=100, test_size=8)\n",
    "\n",
    "def do_permutation_importance(estimator, X, y, train, test, scoring='accuracy'):\n",
    "    \"\"\"Perform permutation importance analysis on a given estimator.\"\"\"\n",
    "    estimator.fit(X[train], y[train])\n",
    "    X_features_test = estimator.get_feature_extractor_head().transform(X[test])\n",
    "    results = permutation_importance(estimator.get_classification_head(),\n",
    "                                     X_features_test, y[test],\n",
    "                                     n_jobs=-1,\n",
    "                                     scoring=scoring)\n",
    "    return results['importances_mean']\n",
    "\n",
    "# run permutation importance in parallel\n",
    "importance_scores = Parallel(n_jobs=-1, verbose=2)(\n",
    "    delayed(do_permutation_importance)(model, X, y, train, test)\n",
    "    for train, test in permutation_cv.split(X,y)\n",
    ")\n",
    "\n",
    "# convert to dataframe and sort\n",
    "feature_names = model.fit(X, y).get_feature_names_out()\n",
    "importance_scores = pd.DataFrame(\n",
    "    data=np.stack(importance_scores, axis=0),\n",
    "    columns=feature_names).mean().sort_values(ascending=False).to_frame('importance')\n",
    "\n",
    "importance_scores[:20]  # top 20 features"
   ]
  }
 ],
 "metadata": {
  "kernelspec": {
   "display_name": "acnets",
   "language": "python",
   "name": "python3"
  },
  "language_info": {
   "codemirror_mode": {
    "name": "ipython",
    "version": 3
   },
   "file_extension": ".py",
   "mimetype": "text/x-python",
   "name": "python",
   "nbconvert_exporter": "python",
   "pygments_lexer": "ipython3",
   "version": "3.11.5"
  },
  "orig_nbformat": 4
 },
 "nbformat": 4,
 "nbformat_minor": 2
}
