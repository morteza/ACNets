{
 "cells": [
  {
   "cell_type": "code",
   "execution_count": 1,
   "metadata": {},
   "outputs": [],
   "source": [
    "%reload_ext autoreload\n",
    "%autoreload 2\n",
    "from src.acnets.pipeline import Parcellation\n",
    "from src.acnets.pipeline import TimeseriesAggregator, ConnectivityExtractor\n",
    "from src.acnets.pipeline import ConnectivityAggregator\n",
    "import pandas as pd\n",
    "import numpy as np"
   ]
  },
  {
   "cell_type": "code",
   "execution_count": 14,
   "metadata": {},
   "outputs": [
    {
     "data": {
      "text/plain": [
       "array(['cerebellum', 'cingulo-opercular', 'default', 'fronto-parietal',\n",
       "       'occipital', 'sensorimotor'], dtype=object)"
      ]
     },
     "execution_count": 14,
     "metadata": {},
     "output_type": "execute_result"
    }
   ],
   "source": [
    "bids_dir = 'data/julia2018'\n",
    "parcellation_cache_dir = 'data/julia2018/derivatives/resting_timeseries/'\n",
    "\n",
    "# parcellation\n",
    "parcellation = Parcellation(\n",
    "    atlas_name='dosenbach2010',\n",
    "    bids_dir=bids_dir,\n",
    "    cache_dir=parcellation_cache_dir)\n",
    "dataset = parcellation.fit_transform(None)\n",
    "\n",
    "# time-series aggregation\n",
    "ts_agg = TimeseriesAggregator(strategy='random_network')\n",
    "dataset = ts_agg.fit_transform(dataset)\n",
    "\n",
    "# connectivity extraction\n",
    "conn_extractor = ConnectivityExtractor(kind='correlation')\n",
    "dataset = conn_extractor.fit_transform(dataset)\n",
    "\n",
    "# connectivity aggregation\n",
    "conn_agg = ConnectivityAggregator(strategy=None)\n",
    "dataset = conn_agg.fit_transform(dataset)\n",
    "\n"
   ]
  }
 ],
 "metadata": {
  "kernelspec": {
   "display_name": "acnets",
   "language": "python",
   "name": "python3"
  },
  "language_info": {
   "codemirror_mode": {
    "name": "ipython",
    "version": 3
   },
   "file_extension": ".py",
   "mimetype": "text/x-python",
   "name": "python",
   "nbconvert_exporter": "python",
   "pygments_lexer": "ipython3",
   "version": "3.10.12"
  },
  "orig_nbformat": 4
 },
 "nbformat": 4,
 "nbformat_minor": 2
}
