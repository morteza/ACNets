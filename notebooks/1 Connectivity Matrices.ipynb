{
 "cells": [
  {
   "cell_type": "markdown",
   "metadata": {},
   "source": [
    "This notebook used resting-state time-series to calculate the subject-level connectivity matrix of the Cognitive Control network as identified in [@dosenbach2007]. The connectivity matrix, of shape $N_{\\text{subjects}} \\times N_{\\text{regions}} \\times N_{\\text{regions}}$, will be stored as an annotated NetCDF4 file in the following file: `data/julia2018_resting/connectivities.nc`."
   ]
  },
  {
   "cell_type": "code",
   "execution_count": 1,
   "metadata": {},
   "outputs": [],
   "source": [
    "import numpy as np\n",
    "import pandas as pd\n",
    "import xarray as xr\n",
    "from nilearn.connectome import ConnectivityMeasure"
   ]
  },
  {
   "cell_type": "code",
   "execution_count": 2,
   "metadata": {},
   "outputs": [],
   "source": [
    "DATASET = xr.open_dataset('data/julia2018_resting/timeseries.nc')\n",
    "TIMESERIES = DATASET['timeseries']"
   ]
  },
  {
   "cell_type": "code",
   "execution_count": 28,
   "metadata": {},
   "outputs": [
    {
     "name": "stdout",
     "output_type": "stream",
     "text": [
      "\n"
     ]
    }
   ],
   "source": [
    "\n",
    "def fit_connectivity(timeseries: np.ndarray, kind='correlation'):\n",
    "  \"\"\"Extract a connectivity matrix of a timeseries array.\n",
    "  \n",
    "  Receives a timeseries numpy array and extracts the subject-level connectivity matrix.\n",
    "  \n",
    "  Args:\n",
    "    timeseries: numpy array of shape (n_subjects, n_regions, n_timepoints)\n",
    "    kind: string, kind of connectivity measure to extract. Defaults to 'correlation'. See\n",
    "      nilearn.connectome.ConnectivityMeasure for more details.\n",
    "  \n",
    "  Returns:\n",
    "    connectivity: numpy array of shape (n_subjects, n_regions, n_regions)\n",
    "  \"\"\"\n",
    "  print()\n",
    "  \n",
    "  cm = ConnectivityMeasure(kind=kind)\n",
    "  \n",
    "  y = []\n",
    "  # transpose {feature <-> sample} and convert to a list of subjects\n",
    "  for sub_ts in timeseries:\n",
    "    sub_X = sub_ts.T\n",
    "    if not np.all(np.isnan(sub_X)):\n",
    "      sub_y = cm.fit_transform([sub_X])[0]\n",
    "    else:\n",
    "      sub_y = np.empty((sub_X.shape[1], sub_X.shape[1]))\n",
    "      sub_y[:] = np.nan\n",
    "      \n",
    "    y.append(sub_y)\n",
    " \n",
    "  return np.array(y)\n",
    "\n",
    "# fit connectivity model\n",
    "connectivities = fit_connectivity(TIMESERIES.values)\n",
    "\n",
    "# prepare and store the connectivity data\n",
    "DATASET['connectivity'] = xr.DataArray(connectivities, dims=['subject', 'region', 'region'])\n",
    "DATASET.attrs['description'] = 'Connectivity matrices extracted from resting timeseries.'"
   ]
  },
  {
   "cell_type": "code",
   "execution_count": 30,
   "metadata": {},
   "outputs": [],
   "source": [
    "# now store the dataset\n",
    "\n",
    "DATASET.to_netcdf('data/julia2018_resting/connectivities.nc', engine='netcdf4')"
   ]
  }
 ],
 "metadata": {
  "interpreter": {
   "hash": "34f04479ffaeb5c00adb9e28a92647dce776275bf5ee61de72266754f4451f1a"
  },
  "kernelspec": {
   "display_name": "Python 3.9.9 ('acnets')",
   "language": "python",
   "name": "python3"
  },
  "language_info": {
   "codemirror_mode": {
    "name": "ipython",
    "version": 3
   },
   "file_extension": ".py",
   "mimetype": "text/x-python",
   "name": "python",
   "nbconvert_exporter": "python",
   "pygments_lexer": "ipython3",
   "version": "3.9.10"
  },
  "orig_nbformat": 4
 },
 "nbformat": 4,
 "nbformat_minor": 2
}
