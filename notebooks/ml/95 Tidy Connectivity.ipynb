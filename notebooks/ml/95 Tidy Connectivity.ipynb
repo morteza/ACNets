{
 "cells": [
  {
   "cell_type": "markdown",
   "metadata": {},
   "source": [
    "This is a quick dirty code to convert connectivity matrices to a tidy tabular format that can be used in stat tools."
   ]
  },
  {
   "cell_type": "code",
   "execution_count": 4,
   "metadata": {},
   "outputs": [],
   "source": [
    "from src.acnets.pipeline import Parcellation, ConnectivityExtractor\n",
    "from pathlib import Path\n",
    "\n",
    "kind = 'tangent'\n",
    "\n",
    "p = Parcellation(\n",
    "    atlas_name='dosenbach2010',\n",
    "    bids_dir=Path('data/julia2018/'),\n",
    "    fmriprep_bids_space='MNI152NLin2009cAsym',\n",
    "    normalize=True\n",
    ")\n",
    "\n",
    "ce = ConnectivityExtractor(kind=kind)\n",
    "\n",
    "ce_ds = ce.fit_transform(p.fit_transform(X=None))\n",
    "\n",
    "df = ce_ds['connectivity'].to_dataframe().reset_index()\n",
    "\n",
    "networks_df = ce_ds['network'].to_dataframe().reset_index()\n",
    "\n",
    "df = df.merge(networks_df, left_on='region_src', right_on='region', how='left').rename(columns={'network': 'network_src'})\n",
    "df = df.merge(networks_df, left_on='region_dst', right_on='region', how='left').rename(columns={'network': 'network_dst'})\n",
    "\n",
    "df.drop(columns=['region_x', 'region_y'], inplace=True)\n",
    "df = df[['subject', 'network_src', 'network_dst', 'region_src', 'region_dst', 'connectivity']]\n",
    "\n",
    "df.to_csv('data/julia2018/derivatives/connectivity/dosenbach2010_{}.csv'.format(kind.replace(' ', '_')), index=False)"
   ]
  }
 ],
 "metadata": {
  "kernelspec": {
   "display_name": "acnets",
   "language": "python",
   "name": "python3"
  },
  "language_info": {
   "codemirror_mode": {
    "name": "ipython",
    "version": 3
   },
   "file_extension": ".py",
   "mimetype": "text/x-python",
   "name": "python",
   "nbconvert_exporter": "python",
   "pygments_lexer": "ipython3",
   "version": "3.11.7"
  }
 },
 "nbformat": 4,
 "nbformat_minor": 2
}
