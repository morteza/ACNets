{
 "cells": [
  {
   "cell_type": "markdown",
   "metadata": {},
   "source": [
    "# MultiScale Classifier\n",
    "\n",
    "Sections:\n",
    "\n",
    "1. Data\n",
    "2. Hyper-parameter space\n",
    "3. HPO\n",
    "4. Cross-validation scores\n"
   ]
  },
  {
   "cell_type": "markdown",
   "metadata": {},
   "source": [
    "## Setup"
   ]
  },
  {
   "cell_type": "code",
   "execution_count": 1,
   "metadata": {},
   "outputs": [],
   "source": [
    "%reload_ext autoreload\n",
    "%autoreload 2\n",
    "\n",
    "import numpy as np\n",
    "import pandas as pd\n",
    "import json\n",
    "import ray\n",
    "from IPython.display import clear_output\n",
    "import matplotlib.pyplot as plt\n",
    "import seaborn as sns\n",
    "from joblib import Parallel, delayed\n",
    "from ray import tune\n",
    "from ray.tune.search.hyperopt import HyperOptSearch\n",
    "from scipy import stats\n",
    "from sklearn.ensemble import RandomForestClassifier\n",
    "from sklearn.inspection import permutation_importance\n",
    "from sklearn.model_selection import train_test_split\n",
    "from sklearn.model_selection import StratifiedShuffleSplit, cross_val_score, StratifiedKFold\n",
    "from sklearn.preprocessing import LabelEncoder\n",
    "from sklearn.svm import LinearSVC\n",
    "from xgboost import XGBClassifier\n",
    "\n",
    "import skexplain\n",
    "from skexplain.common.importance_utils import to_skexplain_importance\n",
    "\n",
    "from src.acnets.pipeline import MultiScaleClassifier, Parcellation\n",
    "from functools import partial\n",
    "from ray import train"
   ]
  },
  {
   "cell_type": "code",
   "execution_count": 2,
   "metadata": {},
   "outputs": [],
   "source": [
    "N_RUNS = 100      # 10 independent train/test runs\n",
    "TEST_SIZE = .25  # proportion of test subjects out of 32 subjects"
   ]
  },
  {
   "cell_type": "markdown",
   "metadata": {},
   "source": [
    "## Prepare data"
   ]
  },
  {
   "cell_type": "code",
   "execution_count": 3,
   "metadata": {},
   "outputs": [
    {
     "name": "stdout",
     "output_type": "stream",
     "text": [
      "[DEBUG] label mapping: {'AVGP': 0, 'NVGP': 1}\n",
      "[DEBUG] overfit accuracy: 1.000\n"
     ]
    }
   ],
   "source": [
    "# Xy\n",
    "subjects = Parcellation(atlas_name='dosenbach2010',\n",
    "                        bids_dir='/Users/morteza/workspace/ACNets/data/julia2018/',\n",
    "                        cache_dir='/Users/morteza/workspace/ACNets/data/julia2018/derivatives/resting_timeseries/',\n",
    "                        ).fit_transform(None).coords['subject'].values\n",
    "X = subjects.reshape(-1,1)                                  # subjects ids, shape: (n_subjects, 1)\n",
    "\n",
    "y_encoder = LabelEncoder()\n",
    "y = y_encoder.fit_transform([s[:4] for s in subjects])      # labels (AVGP=1 or NVGP=1), shape: (n_subjects,)\n",
    "y_mapping = dict(zip(y_encoder.classes_, y_encoder.transform(y_encoder.classes_)))\n",
    "\n",
    "# DEBUG (report label mapping)\n",
    "print('[DEBUG] label mapping:', y_mapping)\n",
    "\n",
    "# DEBUG (expected to overfit, i.e., accuracy is 1)\n",
    "overfit_score = MultiScaleClassifier().fit(X, y).score(X, y)\n",
    "print(f'[DEBUG] overfit accuracy: {overfit_score:.3f}')"
   ]
  },
  {
   "cell_type": "markdown",
   "metadata": {},
   "source": [
    "## Hyper-parameter tuning"
   ]
  },
  {
   "cell_type": "markdown",
   "metadata": {},
   "source": [
    "### Parameter space"
   ]
  },
  {
   "cell_type": "code",
   "execution_count": 4,
   "metadata": {},
   "outputs": [],
   "source": [
    "param_space = {\n",
    "    # 'atlas': ['dosenbach2010', 'gordon2014_2mm', 'difumo_64_2mm'],\n",
    "    'atlas': tune.choice(['dosenbach2010']),\n",
    "    'kind': tune.choice(['partial correlation']),\n",
    "    'extract_h1_features': tune.grid_search([True]),\n",
    "    'extract_h2_features': tune.grid_search([True]),\n",
    "    'extract_h3_features': tune.grid_search([True]),\n",
    "    # 'clf__subsample': tune.choice([.5, .8, 1]),\n",
    "    'clf__n_estimators': tune.grid_search([100, 200, 500, 1000]),\n",
    "    'clf__max_depth': tune.grid_search([2, 4, 5, 8, 10, 20, 100]),\n",
    "    'clf__learning_rate': tune.grid_search([.01, .1, .3, .5, 1]),\n",
    "}\n"
   ]
  },
  {
   "cell_type": "code",
   "execution_count": 5,
   "metadata": {},
   "outputs": [],
   "source": [
    "# now we define the objective function\n",
    "\n",
    "def eval_multiscale_model(config, classifier, X, y, n_iter=10):\n",
    "\n",
    "    pipe = MultiScaleClassifier(classifier=classifier).set_params(**config)\n",
    "\n",
    "    for _ in range(n_iter):\n",
    "        # outer CV (for test set), and inner CV (for validation set)\n",
    "        X_train, X_test, y_train, y_test = train_test_split(X, y, test_size=TEST_SIZE, stratify=y)\n",
    "        inner_cv = StratifiedKFold(n_splits=8, shuffle=True)\n",
    "\n",
    "        # fit and score the validation set\n",
    "        val_score = cross_val_score(pipe, X_train, y_train, scoring='accuracy', cv=inner_cv).mean()\n",
    "\n",
    "        # test score (we only report this and do not use it during HPO)\n",
    "        test_score = pipe.fit(X_train, y_train).score(X_test, y_test)\n",
    "\n",
    "        train.report({'val_accuracy': val_score, 'test_score': test_score})"
   ]
  },
  {
   "cell_type": "markdown",
   "metadata": {},
   "source": [
    "### HPO"
   ]
  },
  {
   "cell_type": "code",
   "execution_count": 6,
   "metadata": {},
   "outputs": [
    {
     "data": {
      "text/html": [
       "<div class=\"tuneStatus\">\n",
       "  <div style=\"display: flex;flex-direction: row\">\n",
       "    <div style=\"display: flex;flex-direction: column;\">\n",
       "      <h3>Tune Status</h3>\n",
       "      <table>\n",
       "<tbody>\n",
       "<tr><td>Current time:</td><td>2024-03-03 23:08:44</td></tr>\n",
       "<tr><td>Running for: </td><td>00:05:49.51        </td></tr>\n",
       "<tr><td>Memory:      </td><td>9.5/16.0 GiB       </td></tr>\n",
       "</tbody>\n",
       "</table>\n",
       "    </div>\n",
       "    <div class=\"vDivider\"></div>\n",
       "    <div class=\"systemInfo\">\n",
       "      <h3>System Info</h3>\n",
       "      Using FIFO scheduling algorithm.<br>Logical resource usage: 12.0/12 CPUs, 0/0 GPUs\n",
       "    </div>\n",
       "    \n",
       "  </div>\n",
       "  <div class=\"hDivider\"></div>\n",
       "  <div class=\"trialStatus\">\n",
       "    <h3>Trial Status</h3>\n",
       "    <table>\n",
       "<thead>\n",
       "<tr><th>Trial name                       </th><th>status    </th><th>loc            </th><th>atlas        </th><th style=\"text-align: right;\">  clf__learning_rate</th><th style=\"text-align: right;\">  clf__max_depth</th><th style=\"text-align: right;\">  clf__n_estimators</th><th>extract_h1_features  </th><th>extract_h2_features  </th><th>extract_h3_features  </th><th>kind               </th><th style=\"text-align: right;\">  iter</th><th style=\"text-align: right;\">  total time (s)</th><th style=\"text-align: right;\">  val_accuracy</th><th style=\"text-align: right;\">  test_score</th></tr>\n",
       "</thead>\n",
       "<tbody>\n",
       "<tr><td>eval_multiscale_model_c9638_00012</td><td>RUNNING   </td><td>127.0.0.1:13345</td><td>dosenbach2010</td><td style=\"text-align: right;\">                0.3 </td><td style=\"text-align: right;\">               5</td><td style=\"text-align: right;\">                100</td><td>True                 </td><td>True                 </td><td>True                 </td><td>partial correlation</td><td style=\"text-align: right;\">     6</td><td style=\"text-align: right;\">        118.664 </td><td style=\"text-align: right;\">      0.458333</td><td style=\"text-align: right;\">       0.5  </td></tr>\n",
       "<tr><td>eval_multiscale_model_c9638_00013</td><td>RUNNING   </td><td>127.0.0.1:13342</td><td>dosenbach2010</td><td style=\"text-align: right;\">                0.5 </td><td style=\"text-align: right;\">               5</td><td style=\"text-align: right;\">                100</td><td>True                 </td><td>True                 </td><td>True                 </td><td>partial correlation</td><td style=\"text-align: right;\">     6</td><td style=\"text-align: right;\">        119.876 </td><td style=\"text-align: right;\">      0.5     </td><td style=\"text-align: right;\">       0.75 </td></tr>\n",
       "<tr><td>eval_multiscale_model_c9638_00014</td><td>RUNNING   </td><td>127.0.0.1:13339</td><td>dosenbach2010</td><td style=\"text-align: right;\">                1   </td><td style=\"text-align: right;\">               5</td><td style=\"text-align: right;\">                100</td><td>True                 </td><td>True                 </td><td>True                 </td><td>partial correlation</td><td style=\"text-align: right;\">     5</td><td style=\"text-align: right;\">        100.263 </td><td style=\"text-align: right;\">      0.333333</td><td style=\"text-align: right;\">       0.75 </td></tr>\n",
       "<tr><td>eval_multiscale_model_c9638_00015</td><td>RUNNING   </td><td>127.0.0.1:13340</td><td>dosenbach2010</td><td style=\"text-align: right;\">                0.01</td><td style=\"text-align: right;\">               8</td><td style=\"text-align: right;\">                100</td><td>True                 </td><td>True                 </td><td>True                 </td><td>partial correlation</td><td style=\"text-align: right;\">     5</td><td style=\"text-align: right;\">        103.918 </td><td style=\"text-align: right;\">      0.5     </td><td style=\"text-align: right;\">       0.375</td></tr>\n",
       "<tr><td>eval_multiscale_model_c9638_00016</td><td>RUNNING   </td><td>127.0.0.1:13344</td><td>dosenbach2010</td><td style=\"text-align: right;\">                0.1 </td><td style=\"text-align: right;\">               8</td><td style=\"text-align: right;\">                100</td><td>True                 </td><td>True                 </td><td>True                 </td><td>partial correlation</td><td style=\"text-align: right;\">     5</td><td style=\"text-align: right;\">        101.23  </td><td style=\"text-align: right;\">      0.666667</td><td style=\"text-align: right;\">       0.5  </td></tr>\n",
       "<tr><td>eval_multiscale_model_c9638_00017</td><td>RUNNING   </td><td>127.0.0.1:13341</td><td>dosenbach2010</td><td style=\"text-align: right;\">                0.3 </td><td style=\"text-align: right;\">               8</td><td style=\"text-align: right;\">                100</td><td>True                 </td><td>True                 </td><td>True                 </td><td>partial correlation</td><td style=\"text-align: right;\">     5</td><td style=\"text-align: right;\">        101.743 </td><td style=\"text-align: right;\">      0.416667</td><td style=\"text-align: right;\">       0.625</td></tr>\n",
       "<tr><td>eval_multiscale_model_c9638_00018</td><td>RUNNING   </td><td>127.0.0.1:13346</td><td>dosenbach2010</td><td style=\"text-align: right;\">                0.5 </td><td style=\"text-align: right;\">               8</td><td style=\"text-align: right;\">                100</td><td>True                 </td><td>True                 </td><td>True                 </td><td>partial correlation</td><td style=\"text-align: right;\">     5</td><td style=\"text-align: right;\">        102.143 </td><td style=\"text-align: right;\">      0.625   </td><td style=\"text-align: right;\">       0.25 </td></tr>\n",
       "<tr><td>eval_multiscale_model_c9638_00019</td><td>RUNNING   </td><td>127.0.0.1:13338</td><td>dosenbach2010</td><td style=\"text-align: right;\">                1   </td><td style=\"text-align: right;\">               8</td><td style=\"text-align: right;\">                100</td><td>True                 </td><td>True                 </td><td>True                 </td><td>partial correlation</td><td style=\"text-align: right;\">     5</td><td style=\"text-align: right;\">         99.9065</td><td style=\"text-align: right;\">      0.5     </td><td style=\"text-align: right;\">       0.5  </td></tr>\n",
       "<tr><td>eval_multiscale_model_c9638_00020</td><td>RUNNING   </td><td>127.0.0.1:13349</td><td>dosenbach2010</td><td style=\"text-align: right;\">                0.01</td><td style=\"text-align: right;\">              10</td><td style=\"text-align: right;\">                100</td><td>True                 </td><td>True                 </td><td>True                 </td><td>partial correlation</td><td style=\"text-align: right;\">     5</td><td style=\"text-align: right;\">        103.54  </td><td style=\"text-align: right;\">      0.291667</td><td style=\"text-align: right;\">       0.5  </td></tr>\n",
       "<tr><td>eval_multiscale_model_c9638_00021</td><td>RUNNING   </td><td>127.0.0.1:13348</td><td>dosenbach2010</td><td style=\"text-align: right;\">                0.1 </td><td style=\"text-align: right;\">              10</td><td style=\"text-align: right;\">                100</td><td>True                 </td><td>True                 </td><td>True                 </td><td>partial correlation</td><td style=\"text-align: right;\">     5</td><td style=\"text-align: right;\">        100.833 </td><td style=\"text-align: right;\">      0.5     </td><td style=\"text-align: right;\">       0.75 </td></tr>\n",
       "<tr><td>eval_multiscale_model_c9638_00022</td><td>RUNNING   </td><td>127.0.0.1:13343</td><td>dosenbach2010</td><td style=\"text-align: right;\">                0.3 </td><td style=\"text-align: right;\">              10</td><td style=\"text-align: right;\">                100</td><td>True                 </td><td>True                 </td><td>True                 </td><td>partial correlation</td><td style=\"text-align: right;\">     5</td><td style=\"text-align: right;\">        100.46  </td><td style=\"text-align: right;\">      0.333333</td><td style=\"text-align: right;\">       0.5  </td></tr>\n",
       "<tr><td>eval_multiscale_model_c9638_00029</td><td>RUNNING   </td><td>127.0.0.1:13347</td><td>dosenbach2010</td><td style=\"text-align: right;\">                1   </td><td style=\"text-align: right;\">              20</td><td style=\"text-align: right;\">                100</td><td>True                 </td><td>True                 </td><td>True                 </td><td>partial correlation</td><td style=\"text-align: right;\">     5</td><td style=\"text-align: right;\">        102.255 </td><td style=\"text-align: right;\">      0.5     </td><td style=\"text-align: right;\">       0.625</td></tr>\n",
       "<tr><td>eval_multiscale_model_c9638_00023</td><td>PENDING   </td><td>               </td><td>dosenbach2010</td><td style=\"text-align: right;\">                0.5 </td><td style=\"text-align: right;\">              10</td><td style=\"text-align: right;\">                100</td><td>True                 </td><td>True                 </td><td>True                 </td><td>partial correlation</td><td style=\"text-align: right;\">      </td><td style=\"text-align: right;\">                </td><td style=\"text-align: right;\">              </td><td style=\"text-align: right;\">            </td></tr>\n",
       "<tr><td>eval_multiscale_model_c9638_00024</td><td>PENDING   </td><td>               </td><td>dosenbach2010</td><td style=\"text-align: right;\">                1   </td><td style=\"text-align: right;\">              10</td><td style=\"text-align: right;\">                100</td><td>True                 </td><td>True                 </td><td>True                 </td><td>partial correlation</td><td style=\"text-align: right;\">      </td><td style=\"text-align: right;\">                </td><td style=\"text-align: right;\">              </td><td style=\"text-align: right;\">            </td></tr>\n",
       "<tr><td>eval_multiscale_model_c9638_00025</td><td>PENDING   </td><td>               </td><td>dosenbach2010</td><td style=\"text-align: right;\">                0.01</td><td style=\"text-align: right;\">              20</td><td style=\"text-align: right;\">                100</td><td>True                 </td><td>True                 </td><td>True                 </td><td>partial correlation</td><td style=\"text-align: right;\">      </td><td style=\"text-align: right;\">                </td><td style=\"text-align: right;\">              </td><td style=\"text-align: right;\">            </td></tr>\n",
       "<tr><td>eval_multiscale_model_c9638_00026</td><td>PENDING   </td><td>               </td><td>dosenbach2010</td><td style=\"text-align: right;\">                0.1 </td><td style=\"text-align: right;\">              20</td><td style=\"text-align: right;\">                100</td><td>True                 </td><td>True                 </td><td>True                 </td><td>partial correlation</td><td style=\"text-align: right;\">      </td><td style=\"text-align: right;\">                </td><td style=\"text-align: right;\">              </td><td style=\"text-align: right;\">            </td></tr>\n",
       "<tr><td>eval_multiscale_model_c9638_00027</td><td>PENDING   </td><td>               </td><td>dosenbach2010</td><td style=\"text-align: right;\">                0.3 </td><td style=\"text-align: right;\">              20</td><td style=\"text-align: right;\">                100</td><td>True                 </td><td>True                 </td><td>True                 </td><td>partial correlation</td><td style=\"text-align: right;\">      </td><td style=\"text-align: right;\">                </td><td style=\"text-align: right;\">              </td><td style=\"text-align: right;\">            </td></tr>\n",
       "<tr><td>eval_multiscale_model_c9638_00028</td><td>PENDING   </td><td>               </td><td>dosenbach2010</td><td style=\"text-align: right;\">                0.5 </td><td style=\"text-align: right;\">              20</td><td style=\"text-align: right;\">                100</td><td>True                 </td><td>True                 </td><td>True                 </td><td>partial correlation</td><td style=\"text-align: right;\">      </td><td style=\"text-align: right;\">                </td><td style=\"text-align: right;\">              </td><td style=\"text-align: right;\">            </td></tr>\n",
       "<tr><td>eval_multiscale_model_c9638_00030</td><td>PENDING   </td><td>               </td><td>dosenbach2010</td><td style=\"text-align: right;\">                0.01</td><td style=\"text-align: right;\">             100</td><td style=\"text-align: right;\">                100</td><td>True                 </td><td>True                 </td><td>True                 </td><td>partial correlation</td><td style=\"text-align: right;\">      </td><td style=\"text-align: right;\">                </td><td style=\"text-align: right;\">              </td><td style=\"text-align: right;\">            </td></tr>\n",
       "<tr><td>eval_multiscale_model_c9638_00031</td><td>PENDING   </td><td>               </td><td>dosenbach2010</td><td style=\"text-align: right;\">                0.1 </td><td style=\"text-align: right;\">             100</td><td style=\"text-align: right;\">                100</td><td>True                 </td><td>True                 </td><td>True                 </td><td>partial correlation</td><td style=\"text-align: right;\">      </td><td style=\"text-align: right;\">                </td><td style=\"text-align: right;\">              </td><td style=\"text-align: right;\">            </td></tr>\n",
       "<tr><td>eval_multiscale_model_c9638_00032</td><td>PENDING   </td><td>               </td><td>dosenbach2010</td><td style=\"text-align: right;\">                0.3 </td><td style=\"text-align: right;\">             100</td><td style=\"text-align: right;\">                100</td><td>True                 </td><td>True                 </td><td>True                 </td><td>partial correlation</td><td style=\"text-align: right;\">      </td><td style=\"text-align: right;\">                </td><td style=\"text-align: right;\">              </td><td style=\"text-align: right;\">            </td></tr>\n",
       "<tr><td>eval_multiscale_model_c9638_00033</td><td>PENDING   </td><td>               </td><td>dosenbach2010</td><td style=\"text-align: right;\">                0.5 </td><td style=\"text-align: right;\">             100</td><td style=\"text-align: right;\">                100</td><td>True                 </td><td>True                 </td><td>True                 </td><td>partial correlation</td><td style=\"text-align: right;\">      </td><td style=\"text-align: right;\">                </td><td style=\"text-align: right;\">              </td><td style=\"text-align: right;\">            </td></tr>\n",
       "<tr><td>eval_multiscale_model_c9638_00034</td><td>PENDING   </td><td>               </td><td>dosenbach2010</td><td style=\"text-align: right;\">                1   </td><td style=\"text-align: right;\">             100</td><td style=\"text-align: right;\">                100</td><td>True                 </td><td>True                 </td><td>True                 </td><td>partial correlation</td><td style=\"text-align: right;\">      </td><td style=\"text-align: right;\">                </td><td style=\"text-align: right;\">              </td><td style=\"text-align: right;\">            </td></tr>\n",
       "<tr><td>eval_multiscale_model_c9638_00035</td><td>PENDING   </td><td>               </td><td>dosenbach2010</td><td style=\"text-align: right;\">                0.01</td><td style=\"text-align: right;\">               2</td><td style=\"text-align: right;\">                200</td><td>True                 </td><td>True                 </td><td>True                 </td><td>partial correlation</td><td style=\"text-align: right;\">      </td><td style=\"text-align: right;\">                </td><td style=\"text-align: right;\">              </td><td style=\"text-align: right;\">            </td></tr>\n",
       "<tr><td>eval_multiscale_model_c9638_00036</td><td>PENDING   </td><td>               </td><td>dosenbach2010</td><td style=\"text-align: right;\">                0.1 </td><td style=\"text-align: right;\">               2</td><td style=\"text-align: right;\">                200</td><td>True                 </td><td>True                 </td><td>True                 </td><td>partial correlation</td><td style=\"text-align: right;\">      </td><td style=\"text-align: right;\">                </td><td style=\"text-align: right;\">              </td><td style=\"text-align: right;\">            </td></tr>\n",
       "<tr><td>eval_multiscale_model_c9638_00037</td><td>PENDING   </td><td>               </td><td>dosenbach2010</td><td style=\"text-align: right;\">                0.3 </td><td style=\"text-align: right;\">               2</td><td style=\"text-align: right;\">                200</td><td>True                 </td><td>True                 </td><td>True                 </td><td>partial correlation</td><td style=\"text-align: right;\">      </td><td style=\"text-align: right;\">                </td><td style=\"text-align: right;\">              </td><td style=\"text-align: right;\">            </td></tr>\n",
       "<tr><td>eval_multiscale_model_c9638_00038</td><td>PENDING   </td><td>               </td><td>dosenbach2010</td><td style=\"text-align: right;\">                0.5 </td><td style=\"text-align: right;\">               2</td><td style=\"text-align: right;\">                200</td><td>True                 </td><td>True                 </td><td>True                 </td><td>partial correlation</td><td style=\"text-align: right;\">      </td><td style=\"text-align: right;\">                </td><td style=\"text-align: right;\">              </td><td style=\"text-align: right;\">            </td></tr>\n",
       "<tr><td>eval_multiscale_model_c9638_00039</td><td>PENDING   </td><td>               </td><td>dosenbach2010</td><td style=\"text-align: right;\">                1   </td><td style=\"text-align: right;\">               2</td><td style=\"text-align: right;\">                200</td><td>True                 </td><td>True                 </td><td>True                 </td><td>partial correlation</td><td style=\"text-align: right;\">      </td><td style=\"text-align: right;\">                </td><td style=\"text-align: right;\">              </td><td style=\"text-align: right;\">            </td></tr>\n",
       "<tr><td>eval_multiscale_model_c9638_00000</td><td>TERMINATED</td><td>127.0.0.1:13338</td><td>dosenbach2010</td><td style=\"text-align: right;\">                0.01</td><td style=\"text-align: right;\">               2</td><td style=\"text-align: right;\">                100</td><td>True                 </td><td>True                 </td><td>True                 </td><td>partial correlation</td><td style=\"text-align: right;\">    10</td><td style=\"text-align: right;\">        205.673 </td><td style=\"text-align: right;\">      0.625   </td><td style=\"text-align: right;\">       0.375</td></tr>\n",
       "<tr><td>eval_multiscale_model_c9638_00001</td><td>TERMINATED</td><td>127.0.0.1:13339</td><td>dosenbach2010</td><td style=\"text-align: right;\">                0.1 </td><td style=\"text-align: right;\">               2</td><td style=\"text-align: right;\">                100</td><td>True                 </td><td>True                 </td><td>True                 </td><td>partial correlation</td><td style=\"text-align: right;\">    10</td><td style=\"text-align: right;\">        203.67  </td><td style=\"text-align: right;\">      0.5     </td><td style=\"text-align: right;\">       0.375</td></tr>\n",
       "<tr><td>eval_multiscale_model_c9638_00002</td><td>TERMINATED</td><td>127.0.0.1:13340</td><td>dosenbach2010</td><td style=\"text-align: right;\">                0.3 </td><td style=\"text-align: right;\">               2</td><td style=\"text-align: right;\">                100</td><td>True                 </td><td>True                 </td><td>True                 </td><td>partial correlation</td><td style=\"text-align: right;\">    10</td><td style=\"text-align: right;\">        204.394 </td><td style=\"text-align: right;\">      0.666667</td><td style=\"text-align: right;\">       0.5  </td></tr>\n",
       "<tr><td>eval_multiscale_model_c9638_00003</td><td>TERMINATED</td><td>127.0.0.1:13341</td><td>dosenbach2010</td><td style=\"text-align: right;\">                0.5 </td><td style=\"text-align: right;\">               2</td><td style=\"text-align: right;\">                100</td><td>True                 </td><td>True                 </td><td>True                 </td><td>partial correlation</td><td style=\"text-align: right;\">    10</td><td style=\"text-align: right;\">        204.824 </td><td style=\"text-align: right;\">      0.5     </td><td style=\"text-align: right;\">       0.625</td></tr>\n",
       "<tr><td>eval_multiscale_model_c9638_00004</td><td>TERMINATED</td><td>127.0.0.1:13342</td><td>dosenbach2010</td><td style=\"text-align: right;\">                1   </td><td style=\"text-align: right;\">               2</td><td style=\"text-align: right;\">                100</td><td>True                 </td><td>True                 </td><td>True                 </td><td>partial correlation</td><td style=\"text-align: right;\">    10</td><td style=\"text-align: right;\">        201.749 </td><td style=\"text-align: right;\">      0.375   </td><td style=\"text-align: right;\">       0.625</td></tr>\n",
       "<tr><td>eval_multiscale_model_c9638_00005</td><td>TERMINATED</td><td>127.0.0.1:13343</td><td>dosenbach2010</td><td style=\"text-align: right;\">                0.01</td><td style=\"text-align: right;\">               4</td><td style=\"text-align: right;\">                100</td><td>True                 </td><td>True                 </td><td>True                 </td><td>partial correlation</td><td style=\"text-align: right;\">    10</td><td style=\"text-align: right;\">        206.557 </td><td style=\"text-align: right;\">      0.666667</td><td style=\"text-align: right;\">       0.5  </td></tr>\n",
       "<tr><td>eval_multiscale_model_c9638_00006</td><td>TERMINATED</td><td>127.0.0.1:13344</td><td>dosenbach2010</td><td style=\"text-align: right;\">                0.1 </td><td style=\"text-align: right;\">               4</td><td style=\"text-align: right;\">                100</td><td>True                 </td><td>True                 </td><td>True                 </td><td>partial correlation</td><td style=\"text-align: right;\">    10</td><td style=\"text-align: right;\">        204.393 </td><td style=\"text-align: right;\">      0.708333</td><td style=\"text-align: right;\">       0.625</td></tr>\n",
       "<tr><td>eval_multiscale_model_c9638_00007</td><td>TERMINATED</td><td>127.0.0.1:13345</td><td>dosenbach2010</td><td style=\"text-align: right;\">                0.3 </td><td style=\"text-align: right;\">               4</td><td style=\"text-align: right;\">                100</td><td>True                 </td><td>True                 </td><td>True                 </td><td>partial correlation</td><td style=\"text-align: right;\">    10</td><td style=\"text-align: right;\">        201.505 </td><td style=\"text-align: right;\">      0.458333</td><td style=\"text-align: right;\">       0.625</td></tr>\n",
       "<tr><td>eval_multiscale_model_c9638_00008</td><td>TERMINATED</td><td>127.0.0.1:13346</td><td>dosenbach2010</td><td style=\"text-align: right;\">                0.5 </td><td style=\"text-align: right;\">               4</td><td style=\"text-align: right;\">                100</td><td>True                 </td><td>True                 </td><td>True                 </td><td>partial correlation</td><td style=\"text-align: right;\">    10</td><td style=\"text-align: right;\">        205.309 </td><td style=\"text-align: right;\">      0.583333</td><td style=\"text-align: right;\">       0.625</td></tr>\n",
       "<tr><td>eval_multiscale_model_c9638_00009</td><td>TERMINATED</td><td>127.0.0.1:13347</td><td>dosenbach2010</td><td style=\"text-align: right;\">                1   </td><td style=\"text-align: right;\">               4</td><td style=\"text-align: right;\">                100</td><td>True                 </td><td>True                 </td><td>True                 </td><td>partial correlation</td><td style=\"text-align: right;\">    10</td><td style=\"text-align: right;\">        206.567 </td><td style=\"text-align: right;\">      0.333333</td><td style=\"text-align: right;\">       0.75 </td></tr>\n",
       "<tr><td>eval_multiscale_model_c9638_00010</td><td>TERMINATED</td><td>127.0.0.1:13348</td><td>dosenbach2010</td><td style=\"text-align: right;\">                0.01</td><td style=\"text-align: right;\">               5</td><td style=\"text-align: right;\">                100</td><td>True                 </td><td>True                 </td><td>True                 </td><td>partial correlation</td><td style=\"text-align: right;\">    10</td><td style=\"text-align: right;\">        206.39  </td><td style=\"text-align: right;\">      0.666667</td><td style=\"text-align: right;\">       0.625</td></tr>\n",
       "<tr><td>eval_multiscale_model_c9638_00011</td><td>TERMINATED</td><td>127.0.0.1:13349</td><td>dosenbach2010</td><td style=\"text-align: right;\">                0.1 </td><td style=\"text-align: right;\">               5</td><td style=\"text-align: right;\">                100</td><td>True                 </td><td>True                 </td><td>True                 </td><td>partial correlation</td><td style=\"text-align: right;\">    10</td><td style=\"text-align: right;\">        206.11  </td><td style=\"text-align: right;\">      0.5     </td><td style=\"text-align: right;\">       0.625</td></tr>\n",
       "</tbody>\n",
       "</table>\n",
       "  </div>\n",
       "</div>\n",
       "<style>\n",
       ".tuneStatus {\n",
       "  color: var(--jp-ui-font-color1);\n",
       "}\n",
       ".tuneStatus .systemInfo {\n",
       "  display: flex;\n",
       "  flex-direction: column;\n",
       "}\n",
       ".tuneStatus td {\n",
       "  white-space: nowrap;\n",
       "}\n",
       ".tuneStatus .trialStatus {\n",
       "  display: flex;\n",
       "  flex-direction: column;\n",
       "}\n",
       ".tuneStatus h3 {\n",
       "  font-weight: bold;\n",
       "}\n",
       ".tuneStatus .hDivider {\n",
       "  border-bottom-width: var(--jp-border-width);\n",
       "  border-bottom-color: var(--jp-border-color0);\n",
       "  border-bottom-style: solid;\n",
       "}\n",
       ".tuneStatus .vDivider {\n",
       "  border-left-width: var(--jp-border-width);\n",
       "  border-left-color: var(--jp-border-color0);\n",
       "  border-left-style: solid;\n",
       "  margin: 0.5em 1em 0.5em 1em;\n",
       "}\n",
       "</style>\n"
      ],
      "text/plain": [
       "<IPython.core.display.HTML object>"
      ]
     },
     "metadata": {},
     "output_type": "display_data"
    },
    {
     "name": "stderr",
     "output_type": "stream",
     "text": [
      "2024-03-03 23:08:44,187\tWARNING tune.py:186 -- Stop signal received (e.g. via SIGINT/Ctrl+C), ending Ray Tune run. This will try to checkpoint the experiment state one last time. Press CTRL+C (or send SIGINT/SIGKILL/SIGTERM) to skip. \n",
      "2024-03-03 23:08:54,584\tINFO tune.py:1042 -- Total run time: 359.94 seconds (349.50 seconds for the tuning loop).\n",
      "2024-03-03 23:08:54,585\tWARNING tune.py:1057 -- Experiment has been interrupted, but the most recent state was saved.\n",
      "Resume experiment with: Tuner.restore(path=\"/Users/morteza/ray_results/eval_multiscale_model_2024-03-03_23-02-54\", trainable=...)\n",
      "2024-03-03 23:08:54,650\tWARNING experiment_analysis.py:193 -- Failed to fetch metrics for 16 trial(s):\n",
      "- eval_multiscale_model_c9638_00023: FileNotFoundError('Could not fetch metrics for eval_multiscale_model_c9638_00023: both result.json and progress.csv were not found at /Users/morteza/ray_results/eval_multiscale_model_2024-03-03_23-02-54/eval_multiscale_model_c9638_00023_23_atlas=dosenbach2010,clf__learning_rate=0.5000,clf__max_depth=10,clf__n_estimators=100,extract_2024-03-03_23-03-21')\n",
      "- eval_multiscale_model_c9638_00024: FileNotFoundError('Could not fetch metrics for eval_multiscale_model_c9638_00024: both result.json and progress.csv were not found at /Users/morteza/ray_results/eval_multiscale_model_2024-03-03_23-02-54/eval_multiscale_model_c9638_00024_24_atlas=dosenbach2010,clf__learning_rate=1,clf__max_depth=10,clf__n_estimators=100,extract_h1_f_2024-03-03_23-03-21')\n",
      "- eval_multiscale_model_c9638_00025: FileNotFoundError('Could not fetch metrics for eval_multiscale_model_c9638_00025: both result.json and progress.csv were not found at /Users/morteza/ray_results/eval_multiscale_model_2024-03-03_23-02-54/eval_multiscale_model_c9638_00025_25_atlas=dosenbach2010,clf__learning_rate=0.0100,clf__max_depth=20,clf__n_estimators=100,extract_2024-03-03_23-03-21')\n",
      "- eval_multiscale_model_c9638_00026: FileNotFoundError('Could not fetch metrics for eval_multiscale_model_c9638_00026: both result.json and progress.csv were not found at /Users/morteza/ray_results/eval_multiscale_model_2024-03-03_23-02-54/eval_multiscale_model_c9638_00026_26_atlas=dosenbach2010,clf__learning_rate=0.1000,clf__max_depth=20,clf__n_estimators=100,extract_2024-03-03_23-03-21')\n",
      "- eval_multiscale_model_c9638_00027: FileNotFoundError('Could not fetch metrics for eval_multiscale_model_c9638_00027: both result.json and progress.csv were not found at /Users/morteza/ray_results/eval_multiscale_model_2024-03-03_23-02-54/eval_multiscale_model_c9638_00027_27_atlas=dosenbach2010,clf__learning_rate=0.3000,clf__max_depth=20,clf__n_estimators=100,extract_2024-03-03_23-03-21')\n",
      "- eval_multiscale_model_c9638_00028: FileNotFoundError('Could not fetch metrics for eval_multiscale_model_c9638_00028: both result.json and progress.csv were not found at /Users/morteza/ray_results/eval_multiscale_model_2024-03-03_23-02-54/eval_multiscale_model_c9638_00028_28_atlas=dosenbach2010,clf__learning_rate=0.5000,clf__max_depth=20,clf__n_estimators=100,extract_2024-03-03_23-06-42')\n",
      "- eval_multiscale_model_c9638_00030: FileNotFoundError('Could not fetch metrics for eval_multiscale_model_c9638_00030: both result.json and progress.csv were not found at /Users/morteza/ray_results/eval_multiscale_model_2024-03-03_23-02-54/eval_multiscale_model_c9638_00030_30_atlas=dosenbach2010,clf__learning_rate=0.0100,clf__max_depth=100,clf__n_estimators=100,extrac_2024-03-03_23-06-45')\n",
      "- eval_multiscale_model_c9638_00031: FileNotFoundError('Could not fetch metrics for eval_multiscale_model_c9638_00031: both result.json and progress.csv were not found at /Users/morteza/ray_results/eval_multiscale_model_2024-03-03_23-02-54/eval_multiscale_model_c9638_00031_31_atlas=dosenbach2010,clf__learning_rate=0.1000,clf__max_depth=100,clf__n_estimators=100,extrac_2024-03-03_23-06-45')\n",
      "- eval_multiscale_model_c9638_00032: FileNotFoundError('Could not fetch metrics for eval_multiscale_model_c9638_00032: both result.json and progress.csv were not found at /Users/morteza/ray_results/eval_multiscale_model_2024-03-03_23-02-54/eval_multiscale_model_c9638_00032_32_atlas=dosenbach2010,clf__learning_rate=0.3000,clf__max_depth=100,clf__n_estimators=100,extrac_2024-03-03_23-06-45')\n",
      "- eval_multiscale_model_c9638_00033: FileNotFoundError('Could not fetch metrics for eval_multiscale_model_c9638_00033: both result.json and progress.csv were not found at /Users/morteza/ray_results/eval_multiscale_model_2024-03-03_23-02-54/eval_multiscale_model_c9638_00033_33_atlas=dosenbach2010,clf__learning_rate=0.5000,clf__max_depth=100,clf__n_estimators=100,extrac_2024-03-03_23-06-46')\n",
      "- eval_multiscale_model_c9638_00034: FileNotFoundError('Could not fetch metrics for eval_multiscale_model_c9638_00034: both result.json and progress.csv were not found at /Users/morteza/ray_results/eval_multiscale_model_2024-03-03_23-02-54/eval_multiscale_model_c9638_00034_34_atlas=dosenbach2010,clf__learning_rate=1,clf__max_depth=100,clf__n_estimators=100,extract_h1__2024-03-03_23-06-46')\n",
      "- eval_multiscale_model_c9638_00035: FileNotFoundError('Could not fetch metrics for eval_multiscale_model_c9638_00035: both result.json and progress.csv were not found at /Users/morteza/ray_results/eval_multiscale_model_2024-03-03_23-02-54/eval_multiscale_model_c9638_00035_35_atlas=dosenbach2010,clf__learning_rate=0.0100,clf__max_depth=2,clf__n_estimators=200,extract__2024-03-03_23-06-47')\n",
      "- eval_multiscale_model_c9638_00036: FileNotFoundError('Could not fetch metrics for eval_multiscale_model_c9638_00036: both result.json and progress.csv were not found at /Users/morteza/ray_results/eval_multiscale_model_2024-03-03_23-02-54/eval_multiscale_model_c9638_00036_36_atlas=dosenbach2010,clf__learning_rate=0.1000,clf__max_depth=2,clf__n_estimators=200,extract__2024-03-03_23-06-47')\n",
      "- eval_multiscale_model_c9638_00037: FileNotFoundError('Could not fetch metrics for eval_multiscale_model_c9638_00037: both result.json and progress.csv were not found at /Users/morteza/ray_results/eval_multiscale_model_2024-03-03_23-02-54/eval_multiscale_model_c9638_00037_37_atlas=dosenbach2010,clf__learning_rate=0.3000,clf__max_depth=2,clf__n_estimators=200,extract__2024-03-03_23-06-47')\n",
      "- eval_multiscale_model_c9638_00038: FileNotFoundError('Could not fetch metrics for eval_multiscale_model_c9638_00038: both result.json and progress.csv were not found at /Users/morteza/ray_results/eval_multiscale_model_2024-03-03_23-02-54/eval_multiscale_model_c9638_00038_38_atlas=dosenbach2010,clf__learning_rate=0.5000,clf__max_depth=2,clf__n_estimators=200,extract__2024-03-03_23-06-47')\n",
      "- eval_multiscale_model_c9638_00039: FileNotFoundError('Could not fetch metrics for eval_multiscale_model_c9638_00039: both result.json and progress.csv were not found at /Users/morteza/ray_results/eval_multiscale_model_2024-03-03_23-02-54/eval_multiscale_model_c9638_00039_39_atlas=dosenbach2010,clf__learning_rate=1,clf__max_depth=2,clf__n_estimators=200,extract_h1_fe_2024-03-03_23-06-47')\n"
     ]
    }
   ],
   "source": [
    "# prep the hyper-parameter space and init the objective function\n",
    "output_name = f'models/multiscale_classifier-XGBClassifier-hpo.json'\n",
    "\n",
    "clf = XGBClassifier(base_score=.5, objective='binary:logistic')\n",
    "objective_func = partial(eval_multiscale_model, classifier=clf, X=X, y=y)\n",
    "\n",
    "ray.shutdown(); ray.init()\n",
    "\n",
    "tuner = tune.Tuner(\n",
    "    objective_func,\n",
    "    param_space=param_space,\n",
    "    tune_config=tune.TuneConfig(\n",
    "        metric='val_accuracy',\n",
    "        mode='max'\n",
    "    )\n",
    ")\n",
    "\n",
    "tuner.fit()\n",
    "ray.shutdown()\n",
    "\n",
    "clear_output()\n",
    "best_result = tuner.get_results().get_best_result(scope='avg')\n",
    "best_score = best_result.metrics['val_accuracy']\n",
    "best_params = best_result.config\n",
    "\n",
    "# store the best hyper-parameters\n",
    "with open(output_name, 'w') as f:\n",
    "    best_params['classifier'] = 'XGBClassifier'\n",
    "    json.dump(best_params, f, indent=2)\n",
    "    del best_params['classifier']  # TEMP: remove the classifier name\n",
    "\n",
    "# report best score and best model\n",
    "print('[DEBUG] Best HPO validation score:', best_score)\n",
    "MultiScaleClassifier(classifier=clf).set_params(**best_params)"
   ]
  },
  {
   "cell_type": "markdown",
   "metadata": {},
   "source": [
    "## Cross-validation accuracy and CI"
   ]
  },
  {
   "cell_type": "code",
   "execution_count": null,
   "metadata": {},
   "outputs": [
    {
     "name": "stdout",
     "output_type": "stream",
     "text": [
      "Test accuracy (mean ± std): 0.711 ± 0.157\n",
      "ConfidenceInterval(low=0.68, high=0.74125)\n"
     ]
    }
   ],
   "source": [
    "clf = XGBClassifier(base_score=.5, objective='binary:logistic')\n",
    "tuned_pipeline = MultiScaleClassifier(classifier=clf).set_params(**best_params)\n",
    "\n",
    "cv_scores = cross_val_score(tuned_pipeline, X, y,\n",
    "                            cv=StratifiedShuffleSplit(n_splits=N_RUNS, test_size=TEST_SIZE),\n",
    "                            verbose=3, n_jobs=-1)\n",
    "\n",
    "# Calculate 95% confidence interval\n",
    "bootstrap_ci = stats.bootstrap(cv_scores.reshape(1,-1), np.mean)\n",
    "\n",
    "# Report\n",
    "clear_output(wait=True)\n",
    "print(f'Test accuracy (mean ± std): {cv_scores.mean():.3f} ± {cv_scores.std():.3f}')\n",
    "print(bootstrap_ci.confidence_interval)"
   ]
  }
 ],
 "metadata": {
  "kernelspec": {
   "display_name": "acnets",
   "language": "python",
   "name": "python3"
  },
  "language_info": {
   "codemirror_mode": {
    "name": "ipython",
    "version": 3
   },
   "file_extension": ".py",
   "mimetype": "text/x-python",
   "name": "python",
   "nbconvert_exporter": "python",
   "pygments_lexer": "ipython3",
   "version": "3.11.8"
  },
  "orig_nbformat": 4
 },
 "nbformat": 4,
 "nbformat_minor": 2
}
