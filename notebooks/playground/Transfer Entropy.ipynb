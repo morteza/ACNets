{
 "cells": [
  {
   "cell_type": "code",
   "execution_count": 87,
   "metadata": {},
   "outputs": [
    {
     "name": "stdout",
     "output_type": "stream",
     "text": [
      "Last updated: 2022-02-21T13:29:07.716468+01:00\n",
      "\n",
      "Python implementation: CPython\n",
      "Python version       : 3.9.10\n",
      "IPython version      : 8.0.1\n",
      "\n",
      "Compiler    : Clang 11.1.0 \n",
      "OS          : Darwin\n",
      "Release     : 21.3.0\n",
      "Machine     : x86_64\n",
      "Processor   : i386\n",
      "CPU cores   : 12\n",
      "Architecture: 64bit\n",
      "\n"
     ]
    }
   ],
   "source": [
    "# %pip install pyinform -Uq\n",
    "\n",
    "%reload_ext watermark\n",
    "%watermark\n",
    "\n",
    "import sys\n",
    "import numpy as np\n",
    "import pandas as pd\n",
    "import xarray as xr\n",
    "import matplotlib.pyplot as plt\n",
    "import sklearn\n",
    "from sklearn import preprocessing, model_selection, metrics\n",
    "\n",
    "from tqdm import tqdm\n",
    "\n",
    "import pyinform\n",
    "\n",
    "from python.acnets.datasets import load_connectivity"
   ]
  },
  {
   "cell_type": "code",
   "execution_count": 88,
   "metadata": {},
   "outputs": [],
   "source": [
    "DATASETS = dict.fromkeys([\n",
    "  'dosenbach2007',\n",
    "  'dosenbach2010',\n",
    "  # 'difumo_64_2',\n",
    "  # 'difumo_128_2',\n",
    "  # 'difumo_1024_2'\n",
    "  ], None)\n",
    "\n",
    "# load the datasets\n",
    "DATASETS = {\n",
    "  ds_name: xr.open_dataset(f'data/julia2018_resting/timeseries_{ds_name}.nc')\n",
    "  for ds_name in DATASETS.keys()}\n"
   ]
  },
  {
   "cell_type": "code",
   "execution_count": 91,
   "metadata": {},
   "outputs": [
    {
     "name": "stdout",
     "output_type": "stream",
     "text": [
      "skipping...\n"
     ]
    }
   ],
   "source": [
    "%%script echo skipping...\n",
    "# DEBUG /start\n",
    "# EXAMPLE:\n",
    "\n",
    "xx = np.array([\n",
    "  [0,1,2,1,1,0,0,0,0],\n",
    "  [150,300,150,150,0,0,0,0,0],\n",
    "  [-10,5,-10,-10,0,0,0,0,0],\n",
    "])\n",
    "\n",
    "# normalize\n",
    "xx = (xx - xx.mean(axis=1, keepdims=True)) / (xx.std(axis=1, keepdims=True) + sys.float_info.epsilon)\n",
    "\n",
    "# binarize\n",
    "xx, *_ = pyinform.utils.bin_series(xx, b=101)\n",
    "\n",
    "entropies = np.zeros((xx.shape[0], xx.shape[0]))\n",
    "\n",
    "for i, source in enumerate(xx):\n",
    "  for j, target in enumerate(xx):\n",
    "    te = pyinform.transfer_entropy(source, target, k=1)\n",
    "    entropies[i,j] = te\n",
    "    print(source, target, te)\n",
    "\n",
    "entropies\n",
    "\n",
    "# DEBUG /end"
   ]
  },
  {
   "cell_type": "code",
   "execution_count": 120,
   "metadata": {},
   "outputs": [
    {
     "name": "stderr",
     "output_type": "stream",
     "text": [
      "100%|██████████| 32/32 [00:06<00:00,  4.67it/s]\n"
     ]
    }
   ],
   "source": [
    "%reload_ext autoreload\n",
    "%autoreload 3\n",
    "\n",
    "X = [X_subj.values\n",
    "     for X_subj\n",
    "     in DATASETS['dosenbach2007']['timeseries'].transpose('subject', 'timestep', 'region')]\n",
    "\n",
    "from python.acnets.connectome import ExtraConnectivityMeasure\n",
    "\n",
    "X_te = ExtraConnectivityMeasure(kind='transfer_entropy').fit_transform(X)"
   ]
  }
 ],
 "metadata": {
  "interpreter": {
   "hash": "34f04479ffaeb5c00adb9e28a92647dce776275bf5ee61de72266754f4451f1a"
  },
  "kernelspec": {
   "display_name": "Python 3.9.10 ('acnets')",
   "language": "python",
   "name": "python3"
  },
  "language_info": {
   "codemirror_mode": {
    "name": "ipython",
    "version": 3
   },
   "file_extension": ".py",
   "mimetype": "text/x-python",
   "name": "python",
   "nbconvert_exporter": "python",
   "pygments_lexer": "ipython3",
   "version": "3.9.10"
  },
  "orig_nbformat": 4
 },
 "nbformat": 4,
 "nbformat_minor": 2
}
