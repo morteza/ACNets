{
 "cells": [
  {
   "cell_type": "markdown",
   "metadata": {},
   "source": [
    "# Nilearn connectivity features\n"
   ]
  },
  {
   "cell_type": "code",
   "execution_count": 1,
   "metadata": {},
   "outputs": [],
   "source": [
    "%reload_ext autoreload\n",
    "%autoreload 2\n",
    "\n",
    "import xarray as xr\n",
    "import pandas as pd\n",
    "from sklearn.pipeline import Pipeline\n",
    "from src.multimodal.preprocessing import TimeseriesAggregator, ConnectivityExtractor\n",
    "import statsmodels.formula.api as smf\n",
    "import statsmodels.api as sm"
   ]
  },
  {
   "cell_type": "code",
   "execution_count": 7,
   "metadata": {},
   "outputs": [
    {
     "name": "stdout",
     "output_type": "stream",
     "text": [
      "[correlation]\n",
      "3 features (out of 16) are significant: ['CON_SMN', 'FPN_SMN', 'VIS_DMN']\n",
      "[partial correlation]\n",
      "3 features (out of 16) are significant: ['CER_CON', 'CON_SMN', 'FPN_VIS']\n",
      "[tangent]\n",
      "2 features (out of 16) are significant: ['CON_SMN', 'FPN_SMN']\n",
      "[covariance]\n",
      "0 features (out of 16) are significant: []\n",
      "[precision]\n",
      "3 features (out of 16) are significant: ['CON_SMN', 'FPN_SMN', 'FPN_VIS']\n"
     ]
    }
   ],
   "source": [
    "\n",
    "atlas = 'dosenbach2010'\n",
    "connectivity_kinds = ['correlation', 'partial correlation', 'tangent', 'covariance', 'precision']\n",
    "\n",
    "\n",
    "all_features = []  # store all the connectivity measures in one dataframe\n",
    "\n",
    "for connectivity_kind in connectivity_kinds:\n",
    "    print(f'[{connectivity_kind}]')\n",
    "    preproc_pipe = Pipeline([\n",
    "        ('time_agg', TimeseriesAggregator(strategy='network')),\n",
    "        ('conn', ConnectivityExtractor(kind=connectivity_kind))\n",
    "    ])\n",
    "\n",
    "    with xr.open_dataset(f'data/Julia2018/timeseries_{atlas}.nc5') as ds:\n",
    "        ds.load()\n",
    "        ds = preproc_pipe.fit_transform(ds)\n",
    "\n",
    "    features = ds['connectivity'].to_dataframe().reset_index()\n",
    "\n",
    "    features['process'] = features.apply(lambda x: set(x[['network_src', 'network_dst']]), axis=1)\n",
    "    features = features.groupby('subject').apply(lambda x: x.drop_duplicates('process'), include_groups=False)\n",
    "    features = features[features['process'].map(len) == 2]\n",
    "    features['process'] = features['process'].map(lambda x: '_'.join(x))\n",
    "    features = features.drop(columns=['network_src', 'network_dst'])\n",
    "\n",
    "    features = features.reset_index(level=1, drop=True).reset_index()\n",
    "    features['label'] = features['subject'].map(lambda x: x[:4])\n",
    "\n",
    "\n",
    "    features = features.pivot(index=['subject', 'label'], columns='process', values='connectivity')\n",
    "    features = features.reset_index()\n",
    "    features.columns.name = ds.attrs['connectivity_kind']\n",
    "    \n",
    "    # ANOVA\n",
    "\n",
    "    significant_features = []\n",
    "    for feature in features.columns:\n",
    "        if feature in ['subject', 'label', 'spi']:\n",
    "            continue\n",
    "        model = smf.glm(f'label ~ {feature}', features, family=sm.families.Binomial()).fit()\n",
    "        res = model.summary2()\n",
    "        pvalue = res.tables[1]['P>|z|'][feature]\n",
    "        if pvalue < .05:\n",
    "            # display(res)\n",
    "            significant_features.append(feature)\n",
    "\n",
    "    print('{} features (out of {}) are significant: {}'.format(\n",
    "              len(significant_features),\n",
    "              len(features.columns) - 1,\n",
    "              significant_features))\n",
    "\n",
    "    features['spi'] = connectivity_kind.replace(' ', '_')\n",
    "    features.insert(2, 'spi', features.pop('spi'))   # move spi to the front\n",
    "\n",
    "    all_features.append(features)\n",
    "\n",
    "pd.concat(all_features).to_csv(f'data/Julia2018/spis_{atlas}_network_nilearn.csv', index=False)"
   ]
  }
 ],
 "metadata": {
  "kernelspec": {
   "display_name": "multimodal",
   "language": "python",
   "name": "python3"
  },
  "language_info": {
   "codemirror_mode": {
    "name": "ipython",
    "version": 3
   },
   "file_extension": ".py",
   "mimetype": "text/x-python",
   "name": "python",
   "nbconvert_exporter": "python",
   "pygments_lexer": "ipython3",
   "version": "3.12.3"
  }
 },
 "nbformat": 4,
 "nbformat_minor": 2
}
