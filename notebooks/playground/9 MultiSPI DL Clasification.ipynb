{
 "cells": [
  {
   "cell_type": "markdown",
   "metadata": {},
   "source": [
    "# SPI Classification\n",
    "\n",
    "This notebooks implements a simple deep learning classifier that receives all the pairwise interactions (SPIs) of a subject and predict their label (AVGP or NVGP).\n",
    "\n",
    "Two models are implemented:\n",
    "- single-SPI received one SPI and predicts the label\n",
    "- multi-SPI received all the SPIs at the same time and predicts the label\n"
   ]
  },
  {
   "cell_type": "code",
   "execution_count": 44,
   "metadata": {},
   "outputs": [],
   "source": [
    "%reload_ext autoreload\n",
    "%autoreload 2"
   ]
  },
  {
   "cell_type": "code",
   "execution_count": 45,
   "metadata": {},
   "outputs": [],
   "source": [
    "import os\n",
    "# os.environ['CUDA_LAUNCH_BLOCKING'] = '1'\n",
    "os.environ['KERAS_BACKEND'] = 'torch'\n",
    "\n",
    "import keras\n",
    "import numpy as np\n",
    "import pandas as pd\n",
    "from sklearn.preprocessing import OneHotEncoder, LabelEncoder\n",
    "from sklearn.preprocessing import MinMaxScaler\n",
    "from sklearn.model_selection import train_test_split\n",
    "from tqdm.auto import tqdm\n",
    "from src.multimodal.utils import ProgressBarCallback"
   ]
  },
  {
   "cell_type": "code",
   "execution_count": 46,
   "metadata": {},
   "outputs": [
    {
     "data": {
      "application/vnd.jupyter.widget-view+json": {
       "model_id": "36575c7121cf4c01834124f26f365530",
       "version_major": 2,
       "version_minor": 0
      },
      "text/plain": [
       "  0%|          | 0/1 [00:00<?, ?it/s]"
      ]
     },
     "metadata": {},
     "output_type": "display_data"
    }
   ],
   "source": [
    "# step1: load and prep data\n",
    "\n",
    "data = pd.read_csv('data/Julia2018/spis_dosenbach2010_network_nilearn.csv')\n",
    "na_mask = data.groupby('spi').apply(lambda x: x.isna().sum().sum(), include_groups=False) > 0\n",
    "na_features = na_mask[na_mask].index\n",
    "data = data.query('spi not in @na_features')  # remove missing values\n",
    "# TOP feature set using svm\n",
    "data = data.query('spi==\"partial_correlation\"')\n",
    "\n",
    "data = data.melt(id_vars=['subject', 'label', 'spi'], var_name='process', value_name='value')\n",
    "data = data.pivot(index=['subject', 'label'], columns=['spi', 'process'])\n",
    "data.columns = data.columns.droplevel(0)\n",
    "data.sort_index(axis=1, level=['spi', 'process'])\n",
    "\n",
    "# convert data to list of grouped data\n",
    "grouped_data = {}\n",
    "for name, group in tqdm(data.T.groupby('spi')):\n",
    "    group = group.T\n",
    "    group = group.droplevel(0, axis=1)\n",
    "    grouped_data[name] = group.values\n"
   ]
  },
  {
   "cell_type": "code",
   "execution_count": 47,
   "metadata": {},
   "outputs": [],
   "source": [
    "# Prepare labels (y)\n",
    "\n",
    "labels = data.index.get_level_values('label').values\n",
    "\n",
    "# y_encoder = OneHotEncoder()\n",
    "# y = y_encoder.fit_transform(labels.reshape(-1,1)).toarray()\n",
    "\n",
    "y_encoder = LabelEncoder()\n",
    "y = y_encoder.fit_transform(labels).reshape(-1,1)"
   ]
  },
  {
   "cell_type": "code",
   "execution_count": 48,
   "metadata": {},
   "outputs": [],
   "source": [
    "# Helper function to split grouped data\n",
    "\n",
    "def split_grouped_data(grouped_X, y, test_size=0.25, random_state=None):\n",
    "    \"\"\"Split SPI tables into train and test splits.\n",
    "\n",
    "    Args:\n",
    "        grouped_X (dict): Dictionary of SPI tables, one for each SPI.\n",
    "        y (np.ndarray): Labels (AVGP or NVGP).\n",
    "        test_size (float): Fraction of data to reserve for test set.\n",
    "        random_state (int): Random seed. None for no seed.\n",
    "    \"\"\"\n",
    "    train_idx, test_idx = train_test_split(\n",
    "        np.arange(y.shape[0]),\n",
    "        test_size=test_size,\n",
    "        stratify=y.reshape(-1),\n",
    "        random_state=random_state)\n",
    "    X_train = {k: v[train_idx] for k, v in grouped_X.items()}\n",
    "    X_test = {k: v[test_idx] for k, v in grouped_X.items()}\n",
    "    y_train = y[train_idx]\n",
    "    y_test = y[test_idx]\n",
    "    \n",
    "    return X_train, X_test, y_train, y_test\n",
    "\n",
    "# DEBUG\n",
    "# X_train, X_test, y_train, y_test = split_grouped_data(grouped_data, y)"
   ]
  },
  {
   "cell_type": "code",
   "execution_count": 99,
   "metadata": {},
   "outputs": [],
   "source": [
    "# Helper function to build single-input and multi-inputs models\n",
    "def build_multi_input_model(feature_names, feature_shape):\n",
    "    inputs = []\n",
    "    heads = []\n",
    "    for f in feature_names:\n",
    "        input_layer = keras.layers.Input(shape=feature_shape, name=f)\n",
    "        head = keras.Sequential([\n",
    "            # input_layer,\n",
    "            keras.layers.Dense(32, activation='relu'),\n",
    "            keras.layers.Dense(16, activation='relu'),\n",
    "            keras.layers.Dense(8, activation='relu'),\n",
    "            keras.layers.Dense(2, activation='softmax')\n",
    "        ], name=f'{f}_head')(input_layer)\n",
    "        inputs.append(input_layer)\n",
    "        heads.append(head)\n",
    "    # concat = keras.layers.concatenate(outputs)\n",
    "    # merger = keras.Sequential([\n",
    "    #     keras.layers.Dense(8, activation='relu'),\n",
    "    #     keras.layers.Dense(2, activation='softmax')\n",
    "    # ])(concat)\n",
    "\n",
    "    merger = keras.layers.average(heads)\n",
    "\n",
    "    model = keras.Model(\n",
    "        inputs=inputs,\n",
    "        outputs=merger\n",
    "    )\n",
    "\n",
    "    model.compile(\n",
    "        loss=keras.losses.SparseCategoricalCrossentropy(),\n",
    "        # optimizer=keras.optimizers.Adam(learning_rate=.01),\n",
    "        optimizer='sgd',\n",
    "        metrics=[\n",
    "            keras.metrics.SparseCategoricalAccuracy(name='accuracy'),\n",
    "        ],\n",
    "    )\n",
    "\n",
    "    return model\n",
    "\n",
    "# DEBUG\n",
    "# model = build_multi_input_model(list(grouped_data.keys()), (15,))\n",
    "# model.summary()"
   ]
  },
  {
   "cell_type": "code",
   "execution_count": 100,
   "metadata": {},
   "outputs": [
    {
     "data": {
      "application/vnd.jupyter.widget-view+json": {
       "model_id": "bd7695b901a64a8698cd945aa9501352",
       "version_major": 2,
       "version_minor": 0
      },
      "text/plain": [
       "  0%|          | 0/10000 [00:00<?, ?epoch/s]"
      ]
     },
     "metadata": {},
     "output_type": "display_data"
    },
    {
     "name": "stdout",
     "output_type": "stream",
     "text": [
      "{'normalize': True, 'n_inputs': 1, 'feature_shape': (15,)}\n",
      "run 001/010 - accuracy: 0.625\n",
      "run 002/010 - accuracy: 0.625\n",
      "run 003/010 - accuracy: 0.625\n",
      "run 004/010 - accuracy: 0.375\n",
      "run 005/010 - accuracy: 0.500\n",
      "run 006/010 - accuracy: 0.375\n",
      "run 007/010 - accuracy: 0.250\n",
      "run 008/010 - accuracy: 0.625\n",
      "run 009/010 - accuracy: 0.375\n",
      "run 010/010 - accuracy: 0.625\n",
      "mean accuracy: 0.500±0.137\n"
     ]
    }
   ],
   "source": [
    "# evaluate\n",
    "\n",
    "scores = []\n",
    "normalize = True\n",
    "n_runs = 10\n",
    "n_epochs = 10000\n",
    "\n",
    "reusable_pbar = tqdm(\n",
    "    total=n_epochs, unit='epoch',\n",
    "    dynamic_ncols=True, leave=False)\n",
    "\n",
    "feature_shape = grouped_data[list(grouped_data.keys())[0]].shape[1:]\n",
    "\n",
    "print({\n",
    "    'normalize': normalize,\n",
    "    'n_inputs': len(grouped_data.keys()),\n",
    "    'feature_shape': feature_shape,\n",
    "})\n",
    "\n",
    "for run in range(1, n_runs+1):\n",
    "\n",
    "    X_train, X_test, y_train, y_test = split_grouped_data(grouped_data, y)\n",
    "    model = build_multi_input_model(list(grouped_data.keys()), feature_shape)\n",
    "\n",
    "    # normalize data\n",
    "\n",
    "    if normalize:\n",
    "        scaler = MinMaxScaler(feature_range=(-1, 1))\n",
    "        for k in X_train.keys():\n",
    "            X_train[k] = scaler.fit_transform(X_train[k].T).T\n",
    "            X_test[k] = scaler.fit_transform(X_test[k].T).T\n",
    "\n",
    "    history = model.fit(\n",
    "        X_train, y_train,\n",
    "        epochs=n_epochs,\n",
    "        verbose=0, # type: ignore\n",
    "        shuffle=True,\n",
    "        callbacks=[\n",
    "            keras.callbacks.EarlyStopping(monitor='loss', patience=100),\n",
    "            keras.callbacks.CSVLogger('tmp/keras_logs/spi_v1_train.csv'),\n",
    "            ProgressBarCallback(\n",
    "                n_epochs=n_epochs,\n",
    "                n_runs=n_runs,\n",
    "                run_index=run, reusable_pbar=reusable_pbar),\n",
    "        ]\n",
    "    )\n",
    "    metrics = model.evaluate(\n",
    "        X_test, y_test,\n",
    "        return_dict=True,\n",
    "        verbose=0 # type: ignore\n",
    "    )\n",
    "\n",
    "    print(f'run {run:03}/{n_runs:03} - accuracy: {metrics[\"accuracy\"]:.3f}')\n",
    "\n",
    "    scores.append(metrics['accuracy'])\n",
    "\n",
    "print('mean accuracy: {:.3f}±{:.3f}'.format(np.mean(scores), np.std(scores)))"
   ]
  }
 ],
 "metadata": {
  "kernelspec": {
   "display_name": "multimodal",
   "language": "python",
   "name": "python3"
  },
  "language_info": {
   "codemirror_mode": {
    "name": "ipython",
    "version": 3
   },
   "file_extension": ".py",
   "mimetype": "text/x-python",
   "name": "python",
   "nbconvert_exporter": "python",
   "pygments_lexer": "ipython3",
   "version": "3.12.3"
  }
 },
 "nbformat": 4,
 "nbformat_minor": 2
}
