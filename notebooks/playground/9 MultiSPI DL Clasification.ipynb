{
 "cells": [
  {
   "cell_type": "markdown",
   "metadata": {},
   "source": [
    "# MultiSPI DL Classification\n",
    "\n",
    "This notebooks implements a simple deep learning classifier that receives all the SPIs of a subject and predict their label (AVGP or NVGP)."
   ]
  },
  {
   "cell_type": "code",
   "execution_count": null,
   "metadata": {},
   "outputs": [],
   "source": [
    "%reload_ext autoreload\n",
    "%autoreload 2"
   ]
  },
  {
   "cell_type": "code",
   "execution_count": null,
   "metadata": {},
   "outputs": [],
   "source": [
    "import os\n",
    "# os.environ['CUDA_LAUNCH_BLOCKING'] = '1'\n",
    "os.environ['KERAS_BACKEND'] = 'torch'\n",
    "\n",
    "import keras\n",
    "import numpy as np\n",
    "import pandas as pd\n",
    "from sklearn.preprocessing import OneHotEncoder, LabelEncoder\n",
    "from sklearn.model_selection import train_test_split"
   ]
  },
  {
   "cell_type": "code",
   "execution_count": null,
   "metadata": {},
   "outputs": [],
   "source": [
    "# load data\n",
    "\n",
    "data = pd.read_csv('data/Julia2018/spis_dosenbach2010_network_fast.csv')\n",
    "na_mask = data.groupby('spi').apply(lambda x: x.isna().sum().sum(), include_groups=False) > 0\n",
    "na_spis = na_mask[na_mask].index\n",
    "data = data.query('spi==\"phase_multitaper_max_fs-1_fmin-0_fmax-0-5\"')  # TOP featureset using svm\n",
    "data = data.query('spi not in @na_spis')\n",
    "data = data.pivot(index=['subject', 'label'], columns=['spi'])\n",
    "data.columns = ['_'.join(col) for col in data.columns.values]"
   ]
  },
  {
   "cell_type": "code",
   "execution_count": null,
   "metadata": {},
   "outputs": [],
   "source": [
    "\n",
    "X = data.values\n",
    "labels = data.index.get_level_values('label').values\n",
    "\n",
    "# y_encoder = OneHotEncoder()\n",
    "# y = y_encoder.fit_transform(labels.reshape(-1,1)).toarray()\n",
    "\n",
    "y_encoder = LabelEncoder()\n",
    "y = y_encoder.fit_transform(labels).reshape(-1,1)"
   ]
  },
  {
   "cell_type": "code",
   "execution_count": null,
   "metadata": {},
   "outputs": [],
   "source": [
    "class ProgressBar(keras.callbacks.Callback):\n",
    "    def __init__(self, n_epochs=None):\n",
    "        from tqdm.auto import tqdm\n",
    "        self.n_epochs = n_epochs\n",
    "        self.pbar = tqdm(total=n_epochs, unit='epoch', dynamic_ncols=True, leave=False)\n",
    "\n",
    "    def on_train_begin(self, logs=None):\n",
    "        self.pbar.reset()\n",
    "\n",
    "    def on_epoch_end(self, epoch, logs=None):\n",
    "        self.pbar.set_postfix(logs)\n",
    "        self.pbar.update(epoch - self.pbar.n + 1)\n",
    "\n",
    "    def on_train_end(self, logs=None):\n",
    "        self.pbar.close()\n",
    "\n",
    "\n",
    "# build model\n",
    "def build_model(): \n",
    "\n",
    "    model = keras.Sequential(\n",
    "        [\n",
    "            keras.layers.Input(shape=X.shape[1:]),\n",
    "            keras.layers.Dense(X.shape[1]*2, activation='relu'),\n",
    "            keras.layers.Dense(16, activation='relu'),\n",
    "            keras.layers.Dense(2, activation='softmax'),\n",
    "        ]\n",
    "    )\n",
    "\n",
    "    model.compile(\n",
    "        loss=keras.losses.SparseCategoricalCrossentropy(),\n",
    "        optimizer=keras.optimizers.Adam(learning_rate=.01),\n",
    "        metrics=[\n",
    "            keras.metrics.SparseCategoricalAccuracy(name='accuracy'),\n",
    "        ],\n",
    "    )\n",
    "\n",
    "    return model\n",
    "\n",
    "# evaluate model\n",
    "scores = []\n",
    "for run in range(1, 11):\n",
    "    X_train, X_test, y_train, y_test = train_test_split(X, y, test_size=0.25, stratify=y)\n",
    "\n",
    "    model = build_model()\n",
    "\n",
    "    model.fit(\n",
    "        X_train, y_train,\n",
    "        epochs=10000,\n",
    "        verbose=0,\n",
    "        shuffle=True,\n",
    "        callbacks=[\n",
    "            keras.callbacks.EarlyStopping(monitor='loss', patience=1000),\n",
    "            keras.callbacks.CSVLogger('tmp/keras_logs/spi_v1.csv'),\n",
    "            ProgressBar(n_epochs=10000)\n",
    "        ]\n",
    "    )\n",
    "    score = model.evaluate(X_test, y_test, return_dict=True, verbose=0)\n",
    "    scores.append(score['accuracy'])\n",
    "    # y_pred = model.predict(X_test)\n",
    "    # y_pred = y_encoder.inverse_transform(y_pred)\n",
    "    # y_test = y_encoder.inverse_transform(y_test)\n",
    "\n",
    "    print(f'test accuracy (run_{run:02}):', score['accuracy'])\n",
    "\n",
    "print('mean accuracy:', np.mean(scores))"
   ]
  }
 ],
 "metadata": {
  "kernelspec": {
   "display_name": "multimodal",
   "language": "python",
   "name": "python3"
  },
  "language_info": {
   "codemirror_mode": {
    "name": "ipython",
    "version": 3
   },
   "file_extension": ".py",
   "mimetype": "text/x-python",
   "name": "python",
   "nbconvert_exporter": "python",
   "pygments_lexer": "ipython3",
   "version": "3.12.3"
  }
 },
 "nbformat": 4,
 "nbformat_minor": 2
}
