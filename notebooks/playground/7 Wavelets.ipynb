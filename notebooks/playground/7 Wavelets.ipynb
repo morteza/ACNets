{
 "cells": [
  {
   "cell_type": "code",
   "execution_count": null,
   "metadata": {},
   "outputs": [],
   "source": [
    "%reload_ext autoreload\n",
    "%autoreload 2"
   ]
  },
  {
   "cell_type": "code",
   "execution_count": null,
   "metadata": {},
   "outputs": [],
   "source": [
    "from src.multimodal.data import LEMONDataModule, Julia2018DataModule\n",
    "import matplotlib.pyplot as plt\n",
    "import seaborn as sns"
   ]
  },
  {
   "cell_type": "code",
   "execution_count": null,
   "metadata": {},
   "outputs": [],
   "source": [
    "input_type = 'time_regions'\n",
    "\n",
    "pretrain_datamodule = LEMONDataModule(\n",
    "    atlas='dosenbach2010', kind='partial correlation',\n",
    "    aggregation_strategy=input_type, n_subjects=10)\n",
    "pretrain_datamodule.setup()\n",
    "\n",
    "finetune_datamodule = Julia2018DataModule(\n",
    "    atlas='dosenbach2010', kind='partial correlation',\n",
    "    aggregation_strategy=input_type)\n",
    "\n",
    "finetune_datamodule.setup()\n",
    "\n",
    "\n",
    "X1 = pretrain_datamodule.train[0][0][:, 10]\n",
    "X2 = finetune_datamodule.train[0][0][:, 10]\n",
    "\n",
    "# original ts\n",
    "# import matplotlib.pyplot as plt\n",
    "# import seaborn as sns\n",
    "# fig, ax = plt.subplots(figsize=(10, 5))\n",
    "# sns.lineplot(data=X1, ax=ax, label='LEMON', marker='o')\n",
    "# sns.lineplot(data=X2, ax=ax, label='Julia2018', marker='o')\n",
    "# plt.suptitle('Original timeseries of a single region')\n",
    "\n",
    "\n",
    "# wavelet\n",
    "import pywt\n",
    "import numpy as np\n",
    "# ts.transpose('subject', 'region', 'timepoint')\n",
    "\n",
    "levels_to_keep = 7,6\n",
    "\n",
    "W1 = pywt.wavedec(X1, wavelet='db1')[:levels_to_keep[0]]\n",
    "X1_recon = pywt.waverec(W1, wavelet='db1')\n",
    "\n",
    "# X2_padded = np.pad(X2, (0, X1.shape[0] - X2.shape[0]), mode='constant')\n",
    "W2 = pywt.wavedec(X2, wavelet='db1')[:levels_to_keep[1]]\n",
    "X2_recon = pywt.waverec(W2, wavelet='db1')\n",
    "\n",
    "fig, ax = plt.subplots(2, 2, figsize=(10, 5))\n",
    "\n",
    "sns.lineplot(data=X1, ax=ax[0][0], label='LEMON', color='darkgreen')\n",
    "sns.lineplot(data=X2, ax=ax[0][1], label='Julia2018')\n",
    "\n",
    "sns.lineplot(data=X1_recon, ax=ax[1][0], label='LEMON (reconstructed)', color='darkgreen')\n",
    "sns.lineplot(data=X2_recon, ax=ax[1][1], label='Julia2018 (reconstructed)')\n",
    "\n",
    "X1_recon.shape, X2_recon.shape\n",
    "\n",
    "for w1, w2 in zip(W1, W2):\n",
    "    print(w1.shape, w2.shape)"
   ]
  }
 ],
 "metadata": {
  "kernelspec": {
   "display_name": "acnets",
   "language": "python",
   "name": "python3"
  },
  "language_info": {
   "codemirror_mode": {
    "name": "ipython",
    "version": 3
   },
   "file_extension": ".py",
   "mimetype": "text/x-python",
   "name": "python",
   "nbconvert_exporter": "python",
   "pygments_lexer": "ipython3",
   "version": "3.12.2"
  }
 },
 "nbformat": 4,
 "nbformat_minor": 2
}
