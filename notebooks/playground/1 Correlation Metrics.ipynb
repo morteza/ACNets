{
 "cells": [
  {
   "cell_type": "markdown",
   "metadata": {},
   "source": [
    "# Deep Connectivity Playground\n",
    "\n",
    "We are interested in the following features:\n",
    "\n",
    "- H1: region-averaged time-series\n",
    "- H2: region-level connectivities (from H1, optional: triu-k1)\n",
    "- H3: network-averaged time-series (from H1)\n",
    "- H4: network connectivity (from H3, optional: triu-k1)\n",
    "- H5: networks connectivity (from H2, optional: triu-k0)\n",
    "\n",
    "> Note that we are not going to take the upper triangular part of the connectivity matrix and full matrices are used instead."
   ]
  },
  {
   "cell_type": "code",
   "execution_count": 1,
   "metadata": {},
   "outputs": [
    {
     "data": {
      "text/plain": [
       "array([[1.        , 0.07966579, 0.04749967, 0.06429644, 0.04867132,\n",
       "        0.04231555],\n",
       "       [0.07966579, 1.        , 0.07333924, 0.06946712, 0.0667898 ,\n",
       "        0.06237315],\n",
       "       [0.04749967, 0.07333924, 1.        , 0.07342815, 0.05147956,\n",
       "        0.05897628],\n",
       "       [0.06429644, 0.06946712, 0.07342815, 1.        , 0.0773289 ,\n",
       "        0.07729239],\n",
       "       [0.04867132, 0.0667898 , 0.05147956, 0.0773289 , 1.        ,\n",
       "        0.09406989],\n",
       "       [0.04231555, 0.06237315, 0.05897628, 0.07729239, 0.09406989,\n",
       "        1.        ]])"
      ]
     },
     "execution_count": 1,
     "metadata": {},
     "output_type": "execute_result"
    }
   ],
   "source": [
    "# calculate the cosine distance between all pairs of time series\n",
    "\n",
    "import numpy as np\n",
    "from scipy import spatial, linalg, stats\n",
    "\n",
    "n_timepoints = 652\n",
    "n_regions = 6\n",
    "timeseries = np.random.rand(n_regions, n_timepoints)\n",
    "\n",
    "dist = spatial.distance.pdist(timeseries, 'correlation')\n",
    "\n",
    "# NOTE np.isclose(1 - dist, pearson_corr[np.triu_indices(n_regions, k=1)])\n",
    "\n",
    "pearson_corr = np.corrcoef(timeseries)\n",
    "spearman_corr = stats.spearmanr(timeseries, axis=1).correlation\n",
    "pcorr = np.zeros_like(spearman_corr)\n",
    "\n",
    "corr_inv = linalg.inv(spearman_corr)\n",
    "for i in range(corr_inv.shape[0]):\n",
    "    for j in range(corr_inv.shape[1]):\n",
    "        if i != j:  # off-diagonal\n",
    "            pcorr[i, j] = -corr_inv[i, j] / np.sqrt(corr_inv[i, i] * corr_inv[j, j])\n",
    "\n",
    "pcorr[np.diag_indices_from(pcorr)] = 1.0  # set diagonal to 1\n",
    "\n",
    "def distance_matrix(data):\n",
    "    \"\"\"Compute the pairwise distance matrix of a dataset.\"\"\"\n",
    "    dist_matrix = np.sqrt(np.sum((data[:, np.newaxis, :] - data[np.newaxis, :, :]) ** 2, axis=-1))\n",
    "    return dist_matrix\n",
    "\n",
    "def double_centered(dist_matrix):\n",
    "    \"\"\"Apply double centering to a distance matrix.\"\"\"\n",
    "    row_means = np.mean(dist_matrix, axis=1, keepdims=True)\n",
    "    col_means = np.mean(dist_matrix, axis=0, keepdims=True)\n",
    "    grand_mean = np.mean(dist_matrix)\n",
    "    centered_matrix = dist_matrix - row_means - col_means + grand_mean\n",
    "    return centered_matrix\n",
    "\n",
    "def distance_covariance(X, Y):\n",
    "    \"\"\"Calculate distance covariance between two datasets.\"\"\"\n",
    "    dist_X = distance_matrix(X)\n",
    "    dist_Y = distance_matrix(Y)\n",
    "    A = double_centered(dist_X)\n",
    "    B = double_centered(dist_Y)\n",
    "    n = X.shape[0]\n",
    "    dCovXY = np.sqrt(np.sum(A * B) / (n * n))\n",
    "    return dCovXY\n",
    "\n",
    "def distance_correlation(X, Y):\n",
    "    \"\"\"Compute the distance correlation between two datasets.\"\"\"\n",
    "    dCovXY = distance_covariance(X, Y)\n",
    "    dVarX = distance_covariance(X, X)\n",
    "    dVarY = distance_covariance(Y, Y)\n",
    "    dCorXY = dCovXY / np.sqrt(dVarX * dVarY)\n",
    "    return dCorXY\n",
    "\n",
    "dcor = np.zeros((n_regions, n_regions))\n",
    "\n",
    "for i in range(n_regions):\n",
    "    for j in range(i, n_regions):  # No need to compute for j < i, matrix is symmetric\n",
    "        if i == j:\n",
    "            dcor[i, j] = 1.0\n",
    "        else:\n",
    "            _dcor = distance_correlation(timeseries[i, :].reshape(-1, 1),\n",
    "                                         timeseries[j, :].reshape(-1, 1))\n",
    "            dcor[i, j] = dcor[j, i] = _dcor\n",
    "dcor\n",
    "\n",
    "# NOTE decision is to use spearman/partial for regions,\n",
    "#      spearman/partial/distance-corr for networks"
   ]
  }
 ],
 "metadata": {
  "kernelspec": {
   "display_name": "acnets",
   "language": "python",
   "name": "python3"
  },
  "language_info": {
   "codemirror_mode": {
    "name": "ipython",
    "version": 3
   },
   "file_extension": ".py",
   "mimetype": "text/x-python",
   "name": "python",
   "nbconvert_exporter": "python",
   "pygments_lexer": "ipython3",
   "version": "3.12.2"
  }
 },
 "nbformat": 4,
 "nbformat_minor": 2
}
