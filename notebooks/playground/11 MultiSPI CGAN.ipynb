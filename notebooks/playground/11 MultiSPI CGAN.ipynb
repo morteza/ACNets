{
 "cells": [
  {
   "cell_type": "markdown",
   "metadata": {},
   "source": [
    "# SPI Classification using Conditional GAN (CGAN)\n"
   ]
  },
  {
   "cell_type": "code",
   "execution_count": 1,
   "metadata": {},
   "outputs": [],
   "source": [
    "%reload_ext autoreload\n",
    "%autoreload 2"
   ]
  },
  {
   "cell_type": "code",
   "execution_count": 3,
   "metadata": {},
   "outputs": [],
   "source": [
    "import os\n",
    "# os.environ['CUDA_LAUNCH_BLOCKING'] = '1'\n",
    "os.environ['CUDA_VISIBLE_DEVICES'] = '-1'  # disable GPU for testing\n",
    "os.environ['PYTORCH_ENABLE_MPS_FALLBACK'] = '1'\n",
    "os.environ['KERAS_BACKEND'] = 'torch'\n",
    "\n",
    "import keras\n",
    "from keras import ops\n",
    "import numpy as np\n",
    "import pandas as pd\n",
    "from sklearn.preprocessing import LabelEncoder\n",
    "from sklearn.model_selection import train_test_split\n",
    "from tqdm.auto import tqdm\n",
    "from src.multimodal.utils import ProgressBarCallback"
   ]
  },
  {
   "cell_type": "code",
   "execution_count": 4,
   "metadata": {},
   "outputs": [
    {
     "data": {
      "application/vnd.jupyter.widget-view+json": {
       "model_id": "15586510a94241c3949f9eca63ca1220",
       "version_major": 2,
       "version_minor": 0
      },
      "text/plain": [
       "  0%|          | 0/1 [00:00<?, ?it/s]"
      ]
     },
     "metadata": {},
     "output_type": "display_data"
    }
   ],
   "source": [
    "# step1: load and prep data\n",
    "\n",
    "data = pd.read_csv('data/Julia2018/spis_dosenbach2010_network_nilearn.csv')\n",
    "na_mask = data.groupby('spi').apply(lambda x: x.isna().sum().sum(), include_groups=False) > 0\n",
    "na_features = na_mask[na_mask].index\n",
    "data = data.query('spi not in @na_features')  # remove missing values\n",
    "# TOP feature set using svm\n",
    "data = data.query('spi==\"partial_correlation\"')\n",
    "\n",
    "data = data.melt(id_vars=['subject', 'label', 'spi'], var_name='process', value_name='value')\n",
    "data = data.pivot(index=['subject', 'label'], columns=['spi', 'process'])\n",
    "data.columns = data.columns.droplevel(0)\n",
    "data.sort_index(axis=1, level=['spi', 'process'])\n",
    "\n",
    "# convert data to list of grouped data\n",
    "grouped_data = {}\n",
    "for name, group in tqdm(data.T.groupby('spi')):\n",
    "    group = group.T\n",
    "    group = group.droplevel(0, axis=1)\n",
    "    grouped_data[name] = group.values\n"
   ]
  },
  {
   "cell_type": "code",
   "execution_count": 8,
   "metadata": {},
   "outputs": [
    {
     "data": {
      "text/plain": [
       "array(['AVGP', 'NVGP'], dtype=object)"
      ]
     },
     "execution_count": 8,
     "metadata": {},
     "output_type": "execute_result"
    }
   ],
   "source": [
    "# Prepare labels (y)\n",
    "\n",
    "labels = data.index.get_level_values('label').values\n",
    "\n",
    "y_encoder = LabelEncoder()\n",
    "y = y_encoder.fit_transform(labels)\n",
    "y_encoder.classes_"
   ]
  },
  {
   "cell_type": "code",
   "execution_count": 9,
   "metadata": {},
   "outputs": [],
   "source": [
    "# Helper function to split grouped data\n",
    "\n",
    "def split_grouped_data(grouped_X, y, test_size=0.25, random_state=None):\n",
    "    \"\"\"Split SPI tables into train and test splits.\n",
    "\n",
    "    Args:\n",
    "        grouped_X (dict): Dictionary of SPI tables, one for each SPI.\n",
    "        y (np.ndarray): Labels (AVGP or NVGP).\n",
    "        test_size (float): Fraction of data to reserve for test set.\n",
    "        random_state (int): Random seed. None for no seed.\n",
    "    \"\"\"\n",
    "    train_idx, test_idx = train_test_split(\n",
    "        np.arange(y.shape[0]),\n",
    "        test_size=test_size,\n",
    "        stratify=y,\n",
    "        random_state=random_state)\n",
    "    X_train = {k: v[train_idx] for k, v in grouped_X.items()}\n",
    "    X_test = {k: v[test_idx] for k, v in grouped_X.items()}\n",
    "    y_train = y[train_idx]\n",
    "    y_test = y[test_idx]\n",
    "    \n",
    "    return X_train, X_test, y_train, y_test\n",
    "\n",
    "# DEBUG\n",
    "# X_train, X_test, y_train, y_test = split_grouped_data(grouped_data, y)"
   ]
  },
  {
   "cell_type": "code",
   "execution_count": 10,
   "metadata": {},
   "outputs": [],
   "source": [
    "# Helper function to build models\n",
    "\n",
    "def build_model(feature_name, feature_dim=15, n_classes=2):\n",
    "\n",
    "    from src.multimodal.models.conditional_gan import ConditionalGAN\n",
    "    model = ConditionalGAN(input_dim=feature_dim, latent_dim=15,\n",
    "                 n_classes=n_classes,\n",
    "                 name=f'cgan_{feature_name}')\n",
    "    model.compile(\n",
    "        loss=keras.losses.CategoricalCrossentropy(from_logits=True),\n",
    "        d_optimizer=keras.optimizers.Adam(learning_rate=0.0003),\n",
    "        g_optimizer=keras.optimizers.Adam(learning_rate=0.0003)\n",
    "    )\n",
    "\n",
    "    return model\n",
    "\n",
    "# # DEBUG\n",
    "# model = build_model(list(grouped_data.keys())[0])\n",
    "# model.summary()"
   ]
  },
  {
   "cell_type": "code",
   "execution_count": 20,
   "metadata": {},
   "outputs": [
    {
     "data": {
      "application/vnd.jupyter.widget-view+json": {
       "model_id": "105dffd459df4d679f1e16375f74b1f3",
       "version_major": 2,
       "version_minor": 0
      },
      "text/plain": [
       "  0%|          | 0/1000 [00:00<?, ?epoch/s]"
      ]
     },
     "metadata": {},
     "output_type": "display_data"
    },
    {
     "name": "stdout",
     "output_type": "stream",
     "text": [
      "{'normalize': False, 'n_inputs': 1, 'feature_dim': 15, 'version': 'v1', 'n_classes': 2}\n",
      "{'accuracy': 0.0, 'd_loss': 0.0, 'g_loss': 0.0}\n",
      "run 001/001 - accuracy: 0.500\n",
      "mean accuracy: 0.0\n"
     ]
    }
   ],
   "source": [
    "# train and evaluate model\n",
    "\n",
    "scores = []\n",
    "\n",
    "# params\n",
    "normalize = False\n",
    "n_runs = 1\n",
    "n_epochs = 1000\n",
    "patience = 100\n",
    "version = 'v1'\n",
    "\n",
    "reusable_pbar = tqdm(\n",
    "    total=n_epochs, unit='epoch',\n",
    "    dynamic_ncols=True, leave=False)\n",
    "\n",
    "feature_names = list(grouped_data.keys())\n",
    "feature_name = feature_names[0]  # FIXME run over all features\n",
    "feature_dim = grouped_data[list(grouped_data.keys())[0]].shape[1]\n",
    "\n",
    "print({\n",
    "    'normalize': normalize,\n",
    "    'n_inputs': len(grouped_data.keys()),\n",
    "    'feature_dim': feature_dim,\n",
    "    'version': version,\n",
    "    'n_classes': y.max() + 1,\n",
    "})\n",
    "\n",
    "for run in range(1, n_runs+1):\n",
    "\n",
    "    X_train, X_test, y_train, y_test = split_grouped_data(grouped_data, y)\n",
    "    model = build_model(feature_name, feature_dim, n_classes=y.max() + 1)\n",
    "\n",
    "    history = model.fit(\n",
    "        X_train[feature_name], y_train,\n",
    "        epochs=n_epochs,\n",
    "        verbose=0, # type: ignore\n",
    "        shuffle=True,\n",
    "        callbacks=[\n",
    "            keras.callbacks.EarlyStopping(\n",
    "                monitor='g_loss', mode='min', patience=patience),\n",
    "            keras.callbacks.CSVLogger(f'tmp/keras_logs/{model.name}_{version}.csv'),\n",
    "            ProgressBarCallback(\n",
    "                n_epochs=n_epochs,\n",
    "                n_runs=n_runs,\n",
    "                run_index=run, reusable_pbar=reusable_pbar),\n",
    "        ]\n",
    "    )\n",
    "\n",
    "    metrics = model.evaluate(\n",
    "        X_test[feature_name], y_test,\n",
    "        return_dict=True,\n",
    "        verbose=0 # type: ignore\n",
    "    )\n",
    "    print(metrics)\n",
    "\n",
    "    X_real = X_test[feature_name]\n",
    "    X_fake = np.random.randn(X_real.shape[0], 15)\n",
    "    \n",
    "    y_real = np.ones((X_real.shape[0], 1))\n",
    "    y_fake = np.zeros((X_fake.shape[0], 1))\n",
    "\n",
    "    X_eval = ops.concatenate([X_real, X_fake], axis=0)\n",
    "    y_eval = ops.concatenate([y_real, y_fake], axis=0)\n",
    "\n",
    "    y_pred = model.predict(X_eval, verbose=0)\n",
    "    accuracy = ((y_pred > 0.5).astype(int) == y_eval.cpu().numpy()).astype(int).mean()\n",
    "\n",
    "    print(f'run {run:03}/{n_runs:03} - accuracy: {accuracy:.3f}')\n",
    "\n",
    "    scores.append(metrics['accuracy'])\n",
    "\n",
    "print('mean accuracy:', np.mean(scores))"
   ]
  }
 ],
 "metadata": {
  "kernelspec": {
   "display_name": "multimodal",
   "language": "python",
   "name": "python3"
  },
  "language_info": {
   "codemirror_mode": {
    "name": "ipython",
    "version": 3
   },
   "file_extension": ".py",
   "mimetype": "text/x-python",
   "name": "python",
   "nbconvert_exporter": "python",
   "pygments_lexer": "ipython3",
   "version": "3.12.3"
  }
 },
 "nbformat": 4,
 "nbformat_minor": 2
}
