{
 "cells": [
  {
   "cell_type": "markdown",
   "metadata": {},
   "source": [
    "# SPI Classification using GAN\n"
   ]
  },
  {
   "cell_type": "code",
   "execution_count": 1,
   "metadata": {},
   "outputs": [],
   "source": [
    "%reload_ext autoreload\n",
    "%autoreload 2"
   ]
  },
  {
   "cell_type": "code",
   "execution_count": 2,
   "metadata": {},
   "outputs": [],
   "source": [
    "import os\n",
    "# os.environ['CUDA_LAUNCH_BLOCKING'] = '1'\n",
    "os.environ['KERAS_BACKEND'] = 'torch'\n",
    "\n",
    "import keras\n",
    "import numpy as np\n",
    "import pandas as pd\n",
    "from sklearn.preprocessing import OneHotEncoder, LabelEncoder\n",
    "from sklearn.model_selection import train_test_split\n",
    "from tqdm.auto import tqdm\n",
    "from src.multimodal.utils import ProgressBarCallback"
   ]
  },
  {
   "cell_type": "code",
   "execution_count": 3,
   "metadata": {},
   "outputs": [
    {
     "data": {
      "application/vnd.jupyter.widget-view+json": {
       "model_id": "c31f0eeccdfd42a4b074786411ea3030",
       "version_major": 2,
       "version_minor": 0
      },
      "text/plain": [
       "  0%|          | 0/1 [00:00<?, ?it/s]"
      ]
     },
     "metadata": {},
     "output_type": "display_data"
    }
   ],
   "source": [
    "# load data\n",
    "\n",
    "data = pd.read_csv('data/Julia2018/spis_dosenbach2010_network_fast.csv')\n",
    "na_mask = data.groupby('spi').apply(lambda x: x.isna().sum().sum(), include_groups=False) > 0\n",
    "na_features = na_mask[na_mask].index\n",
    "data = data.query('spi not in @na_features')  # remove missing values\n",
    "# TOP feature set using svm\n",
    "data = data.query('spi==\"phase_multitaper_max_fs-1_fmin-0_fmax-0-5\"')\n",
    "data = data.pivot(index=['subject', 'label'], columns=['spi'])\n",
    "data = data.reorder_levels([1, 0], axis=1).sort_index(axis=1)\n",
    "\n",
    "# convert data to list of data for each spi\n",
    "grouped_data = {}\n",
    "for name, group in tqdm(data.T.groupby('spi')):\n",
    "    group = group.T\n",
    "    group = group.droplevel(0, axis=1)\n",
    "    grouped_data[name] = group.values"
   ]
  },
  {
   "cell_type": "code",
   "execution_count": 4,
   "metadata": {},
   "outputs": [],
   "source": [
    "# Prepare X and y\n",
    "\n",
    "X = data.values\n",
    "labels = data.index.get_level_values('label').values\n",
    "\n",
    "# y_encoder = OneHotEncoder()\n",
    "# y = y_encoder.fit_transform(labels.reshape(-1,1)).toarray()\n",
    "\n",
    "y_encoder = LabelEncoder()\n",
    "y = y_encoder.fit_transform(labels).reshape(-1,1)"
   ]
  },
  {
   "cell_type": "code",
   "execution_count": 5,
   "metadata": {},
   "outputs": [],
   "source": [
    "# Helper function to split grouped data\n",
    "\n",
    "def split_grouped_data(grouped_X, y, test_size=0.25, random_state=None):\n",
    "    \"\"\"Split SPI tables into train and test splits.\n",
    "\n",
    "    Args:\n",
    "        grouped_X (dict): Dictionary of SPI tables, one for each SPI.\n",
    "        y (np.ndarray): Labels (AVGP or NVGP).\n",
    "        test_size (float): Fraction of data to reserve for test set.\n",
    "        random_state (int): Random seed. None for no seed.\n",
    "    \"\"\"\n",
    "    train_idx, test_idx = train_test_split(\n",
    "        np.arange(y.shape[0]),\n",
    "        test_size=test_size,\n",
    "        stratify=y.reshape(-1),\n",
    "        random_state=random_state)\n",
    "    X_train = {k: v[train_idx] for k, v in grouped_X.items()}\n",
    "    X_test = {k: v[test_idx] for k, v in grouped_X.items()}\n",
    "    y_train = y[train_idx]\n",
    "    y_test = y[test_idx]\n",
    "    return X_train, X_test, y_train, y_test\n",
    "\n",
    "# DEBUG\n",
    "# X_train, X_test, y_train, y_test = split_grouped_data(grouped_data, y)"
   ]
  },
  {
   "cell_type": "code",
   "execution_count": 24,
   "metadata": {},
   "outputs": [],
   "source": [
    "# Helper function to build models\n",
    "\n",
    "def build_model(feature_names, input_dim=(15,)):\n",
    "\n",
    "    from src.multimodal.models.gan import GAN\n",
    "    gan = GAN(input_dim=input_dim, latent_dim=15)\n",
    "    gan.compile(\n",
    "        d_optimizer=keras.optimizers.Adam(learning_rate=0.0003),\n",
    "        g_optimizer=keras.optimizers.Adam(learning_rate=0.0003),\n",
    "        loss_fn=keras.losses.BinaryCrossentropy(from_logits=True),\n",
    "    )\n",
    "\n",
    "    return gan\n",
    "\n",
    "# DEBUG\n",
    "# model = build_model(grouped_data.keys())"
   ]
  },
  {
   "cell_type": "code",
   "execution_count": 26,
   "metadata": {},
   "outputs": [
    {
     "data": {
      "application/vnd.jupyter.widget-view+json": {
       "model_id": "670120d5826b44f395c02b6799763d92",
       "version_major": 2,
       "version_minor": 0
      },
      "text/plain": [
       "  0%|          | 0/10 [00:00<?, ?epoch/s]"
      ]
     },
     "metadata": {},
     "output_type": "display_data"
    }
   ],
   "source": [
    "\n",
    "# evaluate model\n",
    "scores = []\n",
    "multi_input = True\n",
    "n_runs = 1\n",
    "n_epochs = 10\n",
    "\n",
    "reusable_pbar = tqdm(\n",
    "    total=n_epochs, unit='epoch',\n",
    "    dynamic_ncols=True, leave=False)\n",
    "\n",
    "for run in range(1, n_runs+1):\n",
    "\n",
    "    X_train, X_test, y_train, y_test = split_grouped_data(grouped_data, y)\n",
    "    model = build_model(grouped_data.keys(), X.shape[1:])\n",
    "\n",
    "    history = model.fit(\n",
    "        X_train['phase_multitaper_max_fs-1_fmin-0_fmax-0-5'], y_train,\n",
    "        epochs=n_epochs,\n",
    "        verbose=0, # type: ignore\n",
    "        shuffle=True,\n",
    "        callbacks=[\n",
    "            keras.callbacks.EarlyStopping(\n",
    "                monitor='d_loss', mode='min', patience=n_epochs//10),\n",
    "            keras.callbacks.CSVLogger('tmp/keras_logs/spi_gan_v1_train.csv'),\n",
    "            ProgressBarCallback(\n",
    "                n_epochs=n_epochs,\n",
    "                n_runs=n_runs,\n",
    "                run_index=run, reusable_pbar=reusable_pbar),\n",
    "        ]\n",
    "    )\n",
    "\n",
    "    # score = model.evaluate(\n",
    "    #     X_test['phase_multitaper_max_fs-1_fmin-0_fmax-0-5'], y_test,\n",
    "    #     return_dict=True,\n",
    "    #     verbose=0 # type: ignore\n",
    "    # )\n",
    "\n",
    "    # print(f'run {run:03}/{n_runs:03} - accuracy: {score[\"accuracy\"]:.3f}')\n",
    "\n",
    "    # scores.append(score['accuracy'])\n",
    "\n",
    "# print('mean accuracy:', np.mean(scores))"
   ]
  }
 ],
 "metadata": {
  "kernelspec": {
   "display_name": "multimodal",
   "language": "python",
   "name": "python3"
  },
  "language_info": {
   "codemirror_mode": {
    "name": "ipython",
    "version": 3
   },
   "file_extension": ".py",
   "mimetype": "text/x-python",
   "name": "python",
   "nbconvert_exporter": "python",
   "pygments_lexer": "ipython3",
   "version": "3.12.3"
  }
 },
 "nbformat": 4,
 "nbformat_minor": 2
}
