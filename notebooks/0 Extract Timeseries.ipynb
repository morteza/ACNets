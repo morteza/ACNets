{
 "cells": [
  {
   "attachments": {},
   "cell_type": "markdown",
   "metadata": {},
   "source": [
    "# Data\n",
    "\n",
    "This notebook extracts time-series data from the following parcellation atlases and prepare them for further analysis:"
   ]
  },
  {
   "cell_type": "code",
   "execution_count": 35,
   "metadata": {},
   "outputs": [],
   "source": [
    "import pandas as pd\n",
    "import xarray as xr\n",
    "import numpy as np\n",
    "\n",
    "from src.acnets.pipeline.parcellation import Parcellation\n",
    "\n",
    "from pathlib import Path\n",
    "\n",
    "from tqdm.auto import tqdm"
   ]
  },
  {
   "cell_type": "code",
   "execution_count": 36,
   "metadata": {
    "tags": [
     "parameters"
    ]
   },
   "outputs": [],
   "source": [
    "BIDS_DIR = 'data/julia2018'\n",
    "PARCELLATION_CACHE_DIR = 'data/julia2018/derivatives/resting_timeseries/'"
   ]
  },
  {
   "cell_type": "code",
   "execution_count": 37,
   "metadata": {},
   "outputs": [
    {
     "data": {
      "application/vnd.jupyter.widget-view+json": {
       "model_id": "aa0add0776564cfb94304031d2f8c4c1",
       "version_major": 2,
       "version_minor": 0
      },
      "text/plain": [
       "  0%|          | 0/5 [00:00<?, ?it/s]"
      ]
     },
     "metadata": {},
     "output_type": "display_data"
    }
   ],
   "source": [
    "\n",
    "atlas_names = [\n",
    "    'dosenbach2010',\n",
    "    'gordon2014_2mm',\n",
    "    'difumo_64_2mm',\n",
    "    'seitzman2018',\n",
    "    'friedman2020',\n",
    "    # 'cort-maxprob-thr25-2mm'\n",
    "]\n",
    "\n",
    "for atlas in (pbar := tqdm(atlas_names)):\n",
    "    pbar.set_description(atlas)\n",
    "    p = Parcellation(atlas_name=atlas, bids_dir=BIDS_DIR, cache_dir=PARCELLATION_CACHE_DIR)\n",
    "    dataset = p.fit_transform(None)\n"
   ]
  }
 ],
 "metadata": {
  "kernelspec": {
   "display_name": "acnets",
   "language": "python",
   "name": "python3"
  },
  "language_info": {
   "codemirror_mode": {
    "name": "ipython",
    "version": 3
   },
   "file_extension": ".py",
   "mimetype": "text/x-python",
   "name": "python",
   "nbconvert_exporter": "python",
   "pygments_lexer": "ipython3",
   "version": "3.11.6"
  },
  "orig_nbformat": 4
 },
 "nbformat": 4,
 "nbformat_minor": 2
}
