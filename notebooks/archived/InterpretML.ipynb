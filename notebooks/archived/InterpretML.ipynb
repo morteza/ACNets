{
 "cells": [
  {
   "cell_type": "code",
   "execution_count": null,
   "metadata": {},
   "outputs": [],
   "source": [
    "%pip install interpret"
   ]
  },
  {
   "cell_type": "code",
   "execution_count": 41,
   "metadata": {},
   "outputs": [],
   "source": [
    "import interpret\n",
    "import numpy as np\n",
    "import pandas as pd\n",
    "\n",
    "from sklearn import model_selection\n",
    "from python.acnets.datasets import load_julia2018_connectivity\n",
    "\n",
    "X, y, feature_names = load_julia2018_connectivity(\n",
    "  parcellation='dosenbach2010',\n",
    "  kind='precision',\n",
    "  vectorize=True,\n",
    "  return_y=True,\n",
    "  return_feature_names=True)\n",
    "\n",
    "\n",
    "train, test = model_selection.train_test_split(\n",
    "  range(len(X)),\n",
    "  test_size=0.5,\n",
    "  shuffle=True,\n",
    "  stratify=y,\n",
    ")\n"
   ]
  },
  {
   "cell_type": "code",
   "execution_count": 42,
   "metadata": {},
   "outputs": [
    {
     "data": {
      "text/plain": [
       "ExplainableBoostingClassifier(feature_names=['temporal 82',\n",
       "                                             'precentral gyrus 52',\n",
       "                                             'precentral gyrus 51',\n",
       "                                             'parietal 65', 'frontal 32',\n",
       "                                             'post occipital 157',\n",
       "                                             'post occipital 159',\n",
       "                                             'occipital 142', 'SMA 43',\n",
       "                                             'occipital 133', 'occipital 147',\n",
       "                                             'dlPFC 24', 'parietal 54',\n",
       "                                             'parietal 50', 'parietal 69',\n",
       "                                             'frontal 45', 'temporal 123',\n",
       "                                             'post occipital 158', 'ACC 19',\n",
       "                                             'post occipital 154',\n",
       "                                             'inf cerebellum 1...\n",
       "                                             'continuous', 'continuous',\n",
       "                                             'continuous', 'continuous',\n",
       "                                             'continuous', 'continuous',\n",
       "                                             'continuous', 'continuous',\n",
       "                                             'continuous', 'continuous',\n",
       "                                             'continuous', 'continuous',\n",
       "                                             'continuous', 'continuous',\n",
       "                                             'continuous', 'continuous',\n",
       "                                             'continuous', 'continuous',\n",
       "                                             'continuous', 'continuous',\n",
       "                                             'continuous', 'continuous',\n",
       "                                             'continuous', 'continuous',\n",
       "                                             'continuous', 'continuous',\n",
       "                                             'continuous', 'continuous', ...])"
      ]
     },
     "execution_count": 42,
     "metadata": {},
     "output_type": "execute_result"
    }
   ],
   "source": [
    "ebm = interpret.glassbox.ExplainableBoostingClassifier(feature_names=feature_names)\n",
    "ebm.fit(X[train], y[train])"
   ]
  },
  {
   "cell_type": "code",
   "execution_count": 43,
   "metadata": {},
   "outputs": [
    {
     "data": {
      "text/html": [
       "<!-- http://127.0.0.1:7001/5090923088/ -->\n",
       "<iframe src=\"http://127.0.0.1:7001/5090923088/\" width=100% height=800 frameBorder=\"0\"></iframe>"
      ]
     },
     "metadata": {},
     "output_type": "display_data"
    }
   ],
   "source": [
    "from interpret import show\n",
    "\n",
    "ebm_global = ebm.explain_global()\n",
    "show(ebm_global)"
   ]
  }
 ],
 "metadata": {
  "interpreter": {
   "hash": "34f04479ffaeb5c00adb9e28a92647dce776275bf5ee61de72266754f4451f1a"
  },
  "kernelspec": {
   "display_name": "Python 3.9.10 ('acnets')",
   "language": "python",
   "name": "python3"
  },
  "language_info": {
   "codemirror_mode": {
    "name": "ipython",
    "version": 3
   },
   "file_extension": ".py",
   "mimetype": "text/x-python",
   "name": "python",
   "nbconvert_exporter": "python",
   "pygments_lexer": "ipython3",
   "version": "3.9.10"
  },
  "orig_nbformat": 4
 },
 "nbformat": 4,
 "nbformat_minor": 2
}
