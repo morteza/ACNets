{
 "cells": [
  {
   "cell_type": "markdown",
   "metadata": {},
   "source": [
    "This is just archived code that I don't want to delete yet. It's not used in the final notebook."
   ]
  },
  {
   "cell_type": "code",
   "execution_count": 1,
   "metadata": {},
   "outputs": [],
   "source": [
    "from ray import tune\n",
    "from xgboost import XGBClassifier\n",
    "from sklearn.ensemble import RandomForestClassifier\n",
    "from sklearn.svm import LinearSVC"
   ]
  },
  {
   "cell_type": "code",
   "execution_count": 2,
   "metadata": {},
   "outputs": [],
   "source": [
    "xgb_param_space = {\n",
    "    'clf': XGBClassifier(base_score=.5, objective='binary:logistic'),\n",
    "    # 'atlas': ['dosenbach2010', 'gordon2014_2mm', 'difumo_64_2mm'],\n",
    "    'atlas': tune.choice(['dosenbach2010']),\n",
    "    'kind': tune.choice(['partial correlation', 'precision', 'correlation', 'covariance']),\n",
    "    'extract_h1_features': tune.grid_search([True, False]),\n",
    "    'extract_h2_features': tune.grid_search([True, False]),\n",
    "    'extract_h3_features': tune.grid_search([True]),\n",
    "    # 'clf__subsample': tune.choice([.5, .8, 1]),\n",
    "    'clf__n_estimators': tune.grid_search([100, 200]),\n",
    "    'clf__max_depth': tune.grid_search([2, 4, 6, 8]),\n",
    "    'clf__learning_rate': tune.grid_search([.1, .3]),\n",
    "}\n",
    "\n",
    "rfc_param_space = {\n",
    "    'clf': RandomForestClassifier(),\n",
    "    # 'atlas': tune.choice(['dosenbach2010', 'gordon2014_2mm', 'difumo_64_2mm']),\n",
    "    'atlas': tune.choice(['dosenbach2010']),\n",
    "    'clf__n_estimators': tune.randint(100, 500),\n",
    "    'clf__max_depth': tune.randint(1, 8),\n",
    "    'clf__min_samples_split': tune.randint(2, 8),\n",
    "    'clf__min_samples_leaf': tune.randint(1, 5),\n",
    "    'clf__criterion': tune.choice(['gini', 'entropy']),\n",
    "    'clf__max_features': tune.choice([None, 'sqrt'])\n",
    "}\n",
    "\n",
    "svm_param_space = {\n",
    "    'clf': LinearSVC(max_iter=100000),\n",
    "    # 'atlas': tune.choice(['dosenbach2010', 'gordon2014_2mm', 'difumo_64_2mm']),\n",
    "    'atlas': tune.choice(['dosenbach2010']),\n",
    "    'clf__penalty': ['l1'],\n",
    "    'clf__dual': [False],\n",
    "    'clf__C': tune.choice([.01, .1, 1, 10, 100, 1000]),\n",
    "    # 'clf__kernel': ['linear','poly','rbf','sigmoid'],\n",
    "    # 'clf__gamma': tune.choice(['scale'])\n",
    "}\n"
   ]
  }
 ],
 "metadata": {
  "kernelspec": {
   "display_name": "acnets",
   "language": "python",
   "name": "python3"
  },
  "language_info": {
   "codemirror_mode": {
    "name": "ipython",
    "version": 3
   },
   "file_extension": ".py",
   "mimetype": "text/x-python",
   "name": "python",
   "nbconvert_exporter": "python",
   "pygments_lexer": "ipython3",
   "version": "3.11.6"
  }
 },
 "nbformat": 4,
 "nbformat_minor": 2
}
