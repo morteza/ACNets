{
 "cells": [
  {
   "cell_type": "markdown",
   "id": "59d2980d",
   "metadata": {},
   "source": [
    "This notebook is experimental and requires `autosklearn` docker image. Use the  following to run the codes.\n",
    "\n",
    "```\n",
    "docker build -t acnets .\n",
    "docker run -d acnets acnets:latest\n",
    "```"
   ]
  },
  {
   "cell_type": "code",
   "execution_count": 1,
   "id": "dd70db5a",
   "metadata": {},
   "outputs": [],
   "source": [
    "import numpy as np\n",
    "\n",
    "from pathlib import Path\n",
    "from autosklearn.experimental.askl2 import AutoSklearn2Classifier\n",
    "import sklearn.metrics\n",
    "\n",
    "# list(Path('.').glob('*'))"
   ]
  },
  {
   "cell_type": "code",
   "execution_count": 3,
   "id": "89cc89be",
   "metadata": {},
   "outputs": [],
   "source": [
    "automl = AutoSklearn2Classifier(\n",
    "  time_left_for_this_task=30,\n",
    "  # per_run_time_limit=1,\n",
    ")"
   ]
  },
  {
   "cell_type": "code",
   "execution_count": 4,
   "id": "025c06a7",
   "metadata": {},
   "outputs": [
    {
     "name": "stdout",
     "output_type": "stream",
     "text": [
      "Accuracy: 0.46875\n"
     ]
    }
   ],
   "source": [
    "X = np.random.random((32, 10))\n",
    "y = np.random.randint(2, size=(32,))\n",
    "\n",
    "automl.fit(X, y)\n",
    "y_pred = automl.predict(X)\n",
    "print('Accuracy:', sklearn.metrics.accuracy_score(y, y_pred))"
   ]
  },
  {
   "cell_type": "code",
   "execution_count": 5,
   "id": "04c7b6b9",
   "metadata": {},
   "outputs": [
    {
     "data": {
      "text/plain": [
       "AutoSklearn2Classifier(metric=accuracy, per_run_time_limit=3,\n",
       "                       time_left_for_this_task=30)"
      ]
     },
     "execution_count": 5,
     "metadata": {},
     "output_type": "execute_result"
    }
   ],
   "source": [
    "automl"
   ]
  }
 ],
 "metadata": {
  "kernelspec": {
   "display_name": "Python 3 (ipykernel)",
   "language": "python",
   "name": "python3"
  },
  "language_info": {
   "codemirror_mode": {
    "name": "ipython",
    "version": 3
   },
   "file_extension": ".py",
   "mimetype": "text/x-python",
   "name": "python",
   "nbconvert_exporter": "python",
   "pygments_lexer": "ipython3",
   "version": "3.8.10"
  }
 },
 "nbformat": 4,
 "nbformat_minor": 5
}
