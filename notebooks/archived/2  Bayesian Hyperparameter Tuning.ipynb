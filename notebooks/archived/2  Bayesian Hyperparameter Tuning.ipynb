{
 "cells": [
  {
   "cell_type": "markdown",
   "metadata": {},
   "source": [
    "\n",
    "## Requirements\n",
    "\n",
    "To run this notebook, you need to have the rapids packages installed:\n",
    "\n",
    "```bash\n",
    "mamba create -n rapids-22.04 \\\n",
    "    -c rapidsai -c nvidia -y \\\n",
    "    rapids=22.04 python=3.9 cudatoolkit=11.5 \\\n",
    "    jupyterlab ipykernel nilearn xarray netcdf4 seaborn shap \\\n",
    "    xarray netcdf4\n",
    "\n",
    "mamba activate rapids-22.04\n",
    "\n",
    "pip install \"ray[tune]\" tune-sklearn scikit-optimize\n",
    "```"
   ]
  },
  {
   "cell_type": "code",
   "execution_count": null,
   "metadata": {},
   "outputs": [],
   "source": [
    "import os\n",
    "from pathlib import Path\n",
    "\n",
    "from python.acnets.pipeline import ConnectivityPipeline, ConnectivityVectorizer\n",
    "from ray import tune\n",
    "from ray.tune.sklearn import TuneSearchCV\n",
    "from sklearn.decomposition import PCA\n",
    "from sklearn.feature_selection import SelectFromModel, VarianceThreshold\n",
    "from sklearn.pipeline import Pipeline\n",
    "from sklearn.preprocessing import LabelEncoder, StandardScaler\n",
    "from sklearn.svm import LinearSVC\n",
    "\n",
    "try:\n",
    "    from cuml import PCA, SVC, UMAP\n",
    "    from cuml.model_selection import GridSearchCV\n",
    "    os.environ['CUDA_VISIBLE_DEVICES'] = '0'\n",
    "except ImportError as e:\n",
    "    print('cuML not installed. Skipping GPU and falling back to scikit.')\n"
   ]
  },
  {
   "cell_type": "code",
   "execution_count": null,
   "metadata": {},
   "outputs": [],
   "source": [
    "#  WARNING: Ray Tune requires data paths to be absolute.\n",
    "BIDS_DIR = Path.home() / 'workspace/acnets/data/julia2018'\n",
    "CACHE_DIR = Path.home() / 'workspace/acnets/data/julia2018_resting'"
   ]
  },
  {
   "cell_type": "code",
   "execution_count": null,
   "metadata": {},
   "outputs": [],
   "source": [
    "# 1. DATA\n",
    "\n",
    "subjects = ConnectivityPipeline().transform('all').coords['subject'].values\n",
    "groups = [s[:4] for s in subjects]  # AVGP or NVGP\n",
    "\n",
    "X = subjects.reshape(-1, 1)\n",
    "\n",
    "y_encoder = LabelEncoder()\n",
    "y = y_encoder.fit_transform(groups)"
   ]
  },
  {
   "cell_type": "code",
   "execution_count": null,
   "metadata": {},
   "outputs": [],
   "source": [
    "pipe  = Pipeline([\n",
    "    ('connectivity', ConnectivityPipeline(bids_dir=BIDS_DIR, parcellation_cache_dir=CACHE_DIR)),\n",
    "    ('vectorize', ConnectivityVectorizer()),\n",
    "    ('scale', StandardScaler()),\n",
    "    ('zerovar', VarianceThreshold()),\n",
    "    ('select', SelectFromModel(LinearSVC(penalty='l1', dual=False, max_iter=10000))),\n",
    "    ('reduce', PCA()),\n",
    "    ('clf', LinearSVC(penalty='l1', dual=False, max_iter=10000))\n",
    "])"
   ]
  },
  {
   "cell_type": "code",
   "execution_count": null,
   "metadata": {},
   "outputs": [],
   "source": [
    "param_space = {\n",
    "    # 'scale': tune.choice([StandardScaler(), 'passthrough']),\n",
    "    # 'select': tune.choice([SelectFromModel(LinearSVC(penalty='l2')), 'passthrough']),\n",
    "    'clf__C': tune.loguniform(1e-2, 1e3),\n",
    "    'connectivity__atlas': tune.choice(['dosenbach2010']),#, 'gordon2014_2mm', 'difumo_64_2mm', 'seitzman2018'],\n",
    "    'connectivity__kind': tune.choice(['partial correlation', 'chatterjee', 'correlation', 'tangent']),\n",
    "}"
   ]
  },
  {
   "cell_type": "code",
   "execution_count": null,
   "metadata": {},
   "outputs": [],
   "source": [
    "# HPO: Bayesian Optimization\n",
    "\n",
    "opt = TuneSearchCV(\n",
    "    pipe,\n",
    "    param_space,\n",
    "    cv=4,\n",
    "    n_trials=10,\n",
    "    # early_stopping=True,\n",
    "    max_iters=2,\n",
    "    search_optimization='bayesian',\n",
    "    verbose=1,\n",
    "    scoring='accuracy',\n",
    "    use_gpu=True,\n",
    "    n_jobs=-1)\n",
    "\n",
    "opt.fit(X, y)\n",
    "\n",
    "print('best estimator:', opt.best_estimator_)\n"
   ]
  }
 ],
 "metadata": {
  "language_info": {
   "name": "python"
  },
  "orig_nbformat": 4
 },
 "nbformat": 4,
 "nbformat_minor": 2
}
