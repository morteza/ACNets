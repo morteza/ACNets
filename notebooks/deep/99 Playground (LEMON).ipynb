{
 "cells": [
  {
   "cell_type": "markdown",
   "metadata": {},
   "source": [
    "This notebook loads MPI LEMON MRI_Preprocessed_Derivatives data. We load the preprocessed data in MNI2mm space, parcellate into regions, and extract the time series for each regions."
   ]
  },
  {
   "cell_type": "code",
   "execution_count": 20,
   "metadata": {},
   "outputs": [],
   "source": [
    "%reload_ext autoreload\n",
    "%autoreload 2\n",
    "\n",
    "import seaborn as sns\n",
    "from src.acnets.deep.lemon_data import LEMONDataModule"
   ]
  },
  {
   "cell_type": "code",
   "execution_count": 49,
   "metadata": {
    "tags": [
     "parameters"
    ]
   },
   "outputs": [
    {
     "data": {
      "text/plain": [
       "{'train': 165, 'val': 28, 'test': 55}"
      ]
     },
     "execution_count": 49,
     "metadata": {},
     "output_type": "execute_result"
    }
   ],
   "source": [
    "datamodule = LEMONDataModule(n_subjects=220, normalize=True)\n",
    "datamodule.setup()\n",
    "\n",
    "dict(zip(('train', 'val', 'test'),\n",
    "         (len(datamodule.train), len(datamodule.val), len(datamodule.test))))\n",
    "# corrupted data: sub-010227, sub-010249\n",
    "\n",
    "# plot the first 10 regions of the last subject\n",
    "# sns.lineplot(data=datamodule.train[-1][0][:, :10], legend=False)\n",
    "\n",
    "# plot network connectivity matrix of the last subject\n",
    "# sns.heatmap(datamodule.train[-1][3], cmap='viridis', cbar=True, annot=True, fmt='.2f')"
   ]
  }
 ],
 "metadata": {
  "kernelspec": {
   "display_name": "acnets",
   "language": "python",
   "name": "python3"
  },
  "language_info": {
   "codemirror_mode": {
    "name": "ipython",
    "version": 3
   },
   "file_extension": ".py",
   "mimetype": "text/x-python",
   "name": "python",
   "nbconvert_exporter": "python",
   "pygments_lexer": "ipython3",
   "version": "3.11.7"
  }
 },
 "nbformat": 4,
 "nbformat_minor": 2
}
