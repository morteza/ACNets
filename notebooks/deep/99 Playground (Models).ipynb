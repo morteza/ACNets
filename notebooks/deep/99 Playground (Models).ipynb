{
 "cells": [
  {
   "cell_type": "code",
   "execution_count": null,
   "metadata": {},
   "outputs": [],
   "source": [
    "%reload_ext autoreload\n",
    "%autoreload 2\n",
    "\n",
    "from pytorch_lightning import seed_everything\n",
    "from src.acnets.deep import WaveletModel, MaskedModel\n",
    "from src.acnets.datasets import LEMONDataModule, Julia2018DataModule\n",
    "\n",
    "for n_embeddings in [4, 8, 16, 32, 64, 128, 256]:\n",
    "\n",
    "    seed_everything(42)\n",
    "    feature_type = 'time_networks'\n",
    "\n",
    "    pretrain_datamodule = LEMONDataModule(\n",
    "        atlas='dosenbach2010', kind='partial correlation',\n",
    "        aggregation_strategy=feature_type,\n",
    "        test_ratio=.1, val_ratio=.05,\n",
    "        segment_length=32,\n",
    "        n_subjects=215, batch_size=32, shuffle=True)\n",
    "    pretrain_datamodule.setup()\n",
    "\n",
    "    finetune_datamodule = Julia2018DataModule(\n",
    "        atlas='dosenbach2010', kind='partial correlation',\n",
    "        aggregation_strategy='time_networks',\n",
    "        segment_length=32,\n",
    "        test_ratio=.5, batch_size=32, shuffle=True)\n",
    "    finetune_datamodule.setup()\n",
    "\n",
    "    n_features = finetune_datamodule.train[0][0].shape[-1]\n",
    "\n",
    "    model = MaskedModel(n_features, n_embeddings)\n",
    "\n",
    "    trainer = model.fit(pretrain_datamodule, max_epochs=2, phase='pretrain')\n",
    "    tuner = model.fit(finetune_datamodule, max_epochs=2, phase='finetune')"
   ]
  }
 ],
 "metadata": {
  "kernelspec": {
   "display_name": "acnets",
   "language": "python",
   "name": "python3"
  },
  "language_info": {
   "codemirror_mode": {
    "name": "ipython",
    "version": 3
   },
   "file_extension": ".py",
   "mimetype": "text/x-python",
   "name": "python",
   "nbconvert_exporter": "python",
   "pygments_lexer": "ipython3",
   "version": "3.11.7"
  }
 },
 "nbformat": 4,
 "nbformat_minor": 2
}
