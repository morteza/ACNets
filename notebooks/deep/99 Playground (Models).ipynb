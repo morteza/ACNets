{
 "cells": [
  {
   "cell_type": "code",
   "execution_count": 1,
   "metadata": {},
   "outputs": [
    {
     "name": "stderr",
     "output_type": "stream",
     "text": [
      "GPU available: True (cuda), used: True\n",
      "TPU available: False, using: 0 TPU cores\n",
      "IPU available: False, using: 0 IPUs\n",
      "HPU available: False, using: 0 HPUs\n",
      "Missing logger folder: lightning_logs/S2SAE\n"
     ]
    },
    {
     "name": "stdout",
     "output_type": "stream",
     "text": [
      "ckpt_id: 2206f7\n"
     ]
    },
    {
     "name": "stderr",
     "output_type": "stream",
     "text": [
      "/home/morteza/miniforge3/envs/acnets/lib/python3.11/site-packages/pytorch_lightning/callbacks/model_checkpoint.py:639: Checkpoint directory /home/morteza/workspace/ACNets/checkpoints/S2SAE_2206f7 exists and is not empty.\n",
      "Restoring states from the checkpoint path at /home/morteza/workspace/ACNets/checkpoints/S2SAE_2206f7/last.ckpt\n",
      "LOCAL_RANK: 0 - CUDA_VISIBLE_DEVICES: [0]\n",
      "\n",
      "  | Name              | Type               | Params\n",
      "---------------------------------------------------------\n",
      "0 | accuracy          | MulticlassAccuracy | 0     \n",
      "1 | feature_extractor | Seq2SeqAE          | 540   \n",
      "2 | cls_head          | Classifier         | 36    \n",
      "---------------------------------------------------------\n",
      "576       Trainable params\n",
      "0         Non-trainable params\n",
      "576       Total params\n",
      "0.002     Total estimated model params size (MB)\n",
      "Restored all states from the checkpoint at /home/morteza/workspace/ACNets/checkpoints/S2SAE_2206f7/last.ckpt\n",
      "`Trainer.fit` stopped: `max_epochs=2500` reached.\n",
      "GPU available: True (cuda), used: True\n",
      "TPU available: False, using: 0 TPU cores\n",
      "IPU available: False, using: 0 IPUs\n",
      "HPU available: False, using: 0 HPUs\n",
      "LOCAL_RANK: 0 - CUDA_VISIBLE_DEVICES: [0]\n",
      "\n",
      "  | Name              | Type               | Params\n",
      "---------------------------------------------------------\n",
      "0 | accuracy          | MulticlassAccuracy | 0     \n",
      "1 | feature_extractor | Seq2SeqAE          | 540   \n",
      "2 | cls_head          | Classifier         | 36    \n",
      "---------------------------------------------------------\n",
      "0         Trainable params\n",
      "576       Non-trainable params\n",
      "576       Total params\n",
      "0.002     Total estimated model params size (MB)\n",
      "`Trainer.fit` stopped: `max_epochs=2500` reached.\n",
      "GPU available: True (cuda), used: True\n",
      "TPU available: False, using: 0 TPU cores\n",
      "IPU available: False, using: 0 IPUs\n",
      "HPU available: False, using: 0 HPUs\n"
     ]
    },
    {
     "name": "stdout",
     "output_type": "stream",
     "text": [
      "ckpt_id: 7d1ff2\n"
     ]
    },
    {
     "name": "stderr",
     "output_type": "stream",
     "text": [
      "/home/morteza/miniforge3/envs/acnets/lib/python3.11/site-packages/pytorch_lightning/callbacks/model_checkpoint.py:639: Checkpoint directory /home/morteza/workspace/ACNets/checkpoints/S2SAE_7d1ff2 exists and is not empty.\n",
      "Restoring states from the checkpoint path at /home/morteza/workspace/ACNets/checkpoints/S2SAE_7d1ff2/last.ckpt\n",
      "LOCAL_RANK: 0 - CUDA_VISIBLE_DEVICES: [0]\n",
      "\n",
      "  | Name              | Type               | Params\n",
      "---------------------------------------------------------\n",
      "0 | accuracy          | MulticlassAccuracy | 0     \n",
      "1 | feature_extractor | Seq2SeqAE          | 1.0 K \n",
      "2 | cls_head          | Classifier         | 118   \n",
      "---------------------------------------------------------\n",
      "1.1 K     Trainable params\n",
      "0         Non-trainable params\n",
      "1.1 K     Total params\n",
      "0.004     Total estimated model params size (MB)\n",
      "Restored all states from the checkpoint at /home/morteza/workspace/ACNets/checkpoints/S2SAE_7d1ff2/last.ckpt\n",
      "/home/morteza/miniforge3/envs/acnets/lib/python3.11/site-packages/pytorch_lightning/trainer/call.py:54: Detected KeyboardInterrupt, attempting graceful shutdown...\n",
      "GPU available: True (cuda), used: True\n",
      "TPU available: False, using: 0 TPU cores\n",
      "IPU available: False, using: 0 IPUs\n",
      "HPU available: False, using: 0 HPUs\n",
      "LOCAL_RANK: 0 - CUDA_VISIBLE_DEVICES: [0]\n",
      "\n",
      "  | Name              | Type               | Params\n",
      "---------------------------------------------------------\n",
      "0 | accuracy          | MulticlassAccuracy | 0     \n",
      "1 | feature_extractor | Seq2SeqAE          | 1.0 K \n",
      "2 | cls_head          | Classifier         | 118   \n",
      "---------------------------------------------------------\n",
      "1.0 K     Trainable params\n",
      "118       Non-trainable params\n",
      "1.1 K     Total params\n",
      "0.004     Total estimated model params size (MB)\n"
     ]
    }
   ],
   "source": [
    "%reload_ext autoreload\n",
    "%autoreload 2\n",
    "\n",
    "from pytorch_lightning import seed_everything\n",
    "from src.acnets.deep import WaveletModel, MaskedModel\n",
    "from src.acnets.datasets import LEMONDataModule, Julia2018DataModule\n",
    "\n",
    "seed_everything(42)\n",
    "\n",
    "lemon_datamodule = LEMONDataModule(\n",
    "    atlas='dosenbach2010', kind='partial correlation',\n",
    "    aggregation_strategy='time_networks',\n",
    "    test_ratio=.1, val_ratio=.05,\n",
    "    segment_length=32,\n",
    "    n_subjects=215, batch_size=32)\n",
    "lemon_datamodule.setup()\n",
    "\n",
    "julia2018_datamodule = Julia2018DataModule(\n",
    "    atlas='dosenbach2010', kind='partial correlation',\n",
    "    aggregation_strategy='time_networks',\n",
    "    segment_length=32,\n",
    "    test_ratio=.5, batch_size=32)\n",
    "julia2018_datamodule.setup()\n",
    "\n",
    "n_regions = julia2018_datamodule.train[0][0].shape[-1]\n",
    "\n",
    "for n_embeddings in [4, 8, 16, 32, 64, 128, 256]:\n",
    "    model = MaskedModel(n_regions, n_embeddings)\n",
    "\n",
    "    trainer = model.fit(lemon_datamodule, max_epochs=2500, phase='pretrain')\n",
    "    tuner = model.fit(julia2018_datamodule, max_epochs=2500, phase='finetune')"
   ]
  }
 ],
 "metadata": {
  "kernelspec": {
   "display_name": "acnets",
   "language": "python",
   "name": "python3"
  },
  "language_info": {
   "codemirror_mode": {
    "name": "ipython",
    "version": 3
   },
   "file_extension": ".py",
   "mimetype": "text/x-python",
   "name": "python",
   "nbconvert_exporter": "python",
   "pygments_lexer": "ipython3",
   "version": "3.11.7"
  }
 },
 "nbformat": 4,
 "nbformat_minor": 2
}
