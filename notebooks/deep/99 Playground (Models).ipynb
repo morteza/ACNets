{
 "cells": [
  {
   "cell_type": "code",
   "execution_count": null,
   "metadata": {},
   "outputs": [],
   "source": [
    "%reload_ext autoreload\n",
    "%autoreload 2\n",
    "\n",
    "from pytorch_lightning import seed_everything\n",
    "from src.acnets.deep import WaveletModel, MaskedModel\n",
    "from src.acnets.datasets import LEMONDataModule, Julia2018DataModule\n",
    "\n",
    "for n_embeddings in [32]:\n",
    "\n",
    "    seed_everything(42)\n",
    "    input_type = 'tconn_networks'\n",
    "\n",
    "    pretrain_datamodule = LEMONDataModule(\n",
    "        atlas='dosenbach2010', kind='partial correlation',\n",
    "        aggregation_strategy=input_type,\n",
    "        test_ratio=.1, val_ratio=.05,\n",
    "        segment_length=124,\n",
    "        n_subjects=215, batch_size=32, shuffle=True)\n",
    "    pretrain_datamodule.setup()\n",
    "\n",
    "    finetune_datamodule = Julia2018DataModule(\n",
    "        atlas='dosenbach2010', kind='partial correlation',\n",
    "        aggregation_strategy=input_type,\n",
    "        segment_length=124,\n",
    "        test_ratio=.25, batch_size=8, shuffle=True)\n",
    "    finetune_datamodule.setup()\n",
    "\n",
    "    n_features = finetune_datamodule.train[0][0].shape[-1]\n",
    "\n",
    "    model = MaskedModel(n_features * n_features,\n",
    "                        n_embeddings,\n",
    "                        input_type=input_type)\n",
    "\n",
    "    trainer = model.fit(pretrain_datamodule, max_epochs=100, phase='pretrain')\n",
    "    tuner = model.fit(finetune_datamodule, max_epochs=10000, phase='finetune')"
   ]
  }
 ],
 "metadata": {
  "kernelspec": {
   "display_name": "acnets",
   "language": "python",
   "name": "python3"
  },
  "language_info": {
   "codemirror_mode": {
    "name": "ipython",
    "version": 3
   },
   "file_extension": ".py",
   "mimetype": "text/x-python",
   "name": "python",
   "nbconvert_exporter": "python",
   "pygments_lexer": "ipython3",
   "version": "3.11.7"
  }
 },
 "nbformat": 4,
 "nbformat_minor": 2
}
