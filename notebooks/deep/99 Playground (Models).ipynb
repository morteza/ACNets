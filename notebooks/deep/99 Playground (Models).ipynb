{
 "cells": [
  {
   "cell_type": "code",
   "execution_count": null,
   "metadata": {},
   "outputs": [],
   "source": [
    "%reload_ext autoreload\n",
    "%autoreload 2\n",
    "\n",
    "from src.acnets.deep import WaveletModel, MaskedModel\n",
    "from src.acnets.datasets import LEMONDataModule, Julia2018DataModule\n",
    "\n",
    "\n",
    "lemon_datamodule = LEMONDataModule(\n",
    "    atlas='aal', kind='partial correlation',\n",
    "    aggregation_strategy='time_regions',\n",
    "    test_ratio=.1, val_ratio=.05,\n",
    "    n_subjects=203, batch_size=16)\n",
    "lemon_datamodule.setup()\n",
    "\n",
    "julia2018_datamodule = Julia2018DataModule(\n",
    "    atlas='dosenbach2010', kind='partial correlation',\n",
    "    aggregation_strategy='time_networks',\n",
    "    test_ratio=.25, batch_size=32)\n",
    "julia2018_datamodule.setup()\n",
    "\n",
    "n_regions = julia2018_datamodule.train[0][0].shape[1]\n",
    "# n_wavelets = 124\n",
    "n_embeddings = 8\n",
    "segment_length = 32\n",
    "\n",
    "model = MaskedModel(n_regions, n_embeddings, segment_length)\n",
    "\n",
    "# trainer = model.fit(lemon_datamodule, max_epochs=1000, phase='pretrain')\n",
    "tuner = model.fit(julia2018_datamodule, max_epochs=5000, phase='finetune')"
   ]
  }
 ],
 "metadata": {
  "kernelspec": {
   "display_name": "acnets",
   "language": "python",
   "name": "python3"
  },
  "language_info": {
   "codemirror_mode": {
    "name": "ipython",
    "version": 3
   },
   "file_extension": ".py",
   "mimetype": "text/x-python",
   "name": "python",
   "nbconvert_exporter": "python",
   "pygments_lexer": "ipython3",
   "version": "3.11.7"
  }
 },
 "nbformat": 4,
 "nbformat_minor": 2
}
