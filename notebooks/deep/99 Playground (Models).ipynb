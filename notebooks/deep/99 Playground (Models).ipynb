{
 "cells": [
  {
   "cell_type": "code",
   "execution_count": 3,
   "metadata": {},
   "outputs": [
    {
     "name": "stderr",
     "output_type": "stream",
     "text": [
      "GPU available: True (cuda), used: True\n",
      "TPU available: False, using: 0 TPU cores\n",
      "IPU available: False, using: 0 IPUs\n",
      "HPU available: False, using: 0 HPUs\n"
     ]
    },
    {
     "name": "stdout",
     "output_type": "stream",
     "text": [
      "KeysView(Data variables:\n",
      "    timeseries           (subject, timepoint, region) float64 0.191 ... -0.6446\n",
      "    age                  (subject) float64 ...\n",
      "    sex                  (subject) float64 ...\n",
      "    group                (subject) float64 ...\n",
      "    preprocessed_beh     (subject) float64 ...\n",
      "    preprocessed_rsfmri  (subject) float64 ...\n",
      "    preprocessed_tfmri   (subject) float64 ...\n",
      "    x                    (region) int64 ...\n",
      "    y                    (region) int64 ...\n",
      "    z                    (region) int64 ...\n",
      "    index                (region) int64 ...\n",
      "    network              (region) <U3 ...)\n"
     ]
    },
    {
     "name": "stderr",
     "output_type": "stream",
     "text": [
      "LOCAL_RANK: 0 - CUDA_VISIBLE_DEVICES: [0]\n"
     ]
    },
    {
     "name": "stdout",
     "output_type": "stream",
     "text": [
      "KeysView(Data variables:\n",
      "    timeseries           (subject, timepoint, region) float64 0.191 ... -0.6446\n",
      "    age                  (subject) float64 ...\n",
      "    sex                  (subject) float64 ...\n",
      "    group                (subject) float64 ...\n",
      "    preprocessed_beh     (subject) float64 ...\n",
      "    preprocessed_rsfmri  (subject) float64 ...\n",
      "    preprocessed_tfmri   (subject) float64 ...\n",
      "    x                    (region) int64 ...\n",
      "    y                    (region) int64 ...\n",
      "    z                    (region) int64 ...\n",
      "    index                (region) int64 ...\n",
      "    network              (region) <U3 ...)\n"
     ]
    },
    {
     "data": {
      "text/html": [
       "<pre style=\"white-space:pre;overflow-x:auto;line-height:normal;font-family:Menlo,'DejaVu Sans Mono',consolas,'Courier New',monospace\">┏━━━┳━━━━━━━━━━━━━━━━━━━┳━━━━━━━━━━━━━━━━━━━━┳━━━━━━━━┓\n",
       "┃<span style=\"color: #800080; text-decoration-color: #800080; font-weight: bold\">   </span>┃<span style=\"color: #800080; text-decoration-color: #800080; font-weight: bold\"> Name              </span>┃<span style=\"color: #800080; text-decoration-color: #800080; font-weight: bold\"> Type               </span>┃<span style=\"color: #800080; text-decoration-color: #800080; font-weight: bold\"> Params </span>┃\n",
       "┡━━━╇━━━━━━━━━━━━━━━━━━━╇━━━━━━━━━━━━━━━━━━━━╇━━━━━━━━┩\n",
       "│<span style=\"color: #7f7f7f; text-decoration-color: #7f7f7f\"> 0 </span>│ accuracy          │ MulticlassAccuracy │      0 │\n",
       "│<span style=\"color: #7f7f7f; text-decoration-color: #7f7f7f\"> 1 </span>│ feature_extractor │ Seq2SeqAE          │  1.0 K │\n",
       "│<span style=\"color: #7f7f7f; text-decoration-color: #7f7f7f\"> 2 </span>│ cls_head          │ Classifier         │    118 │\n",
       "└───┴───────────────────┴────────────────────┴────────┘\n",
       "</pre>\n"
      ],
      "text/plain": [
       "┏━━━┳━━━━━━━━━━━━━━━━━━━┳━━━━━━━━━━━━━━━━━━━━┳━━━━━━━━┓\n",
       "┃\u001b[1;35m \u001b[0m\u001b[1;35m \u001b[0m\u001b[1;35m \u001b[0m┃\u001b[1;35m \u001b[0m\u001b[1;35mName             \u001b[0m\u001b[1;35m \u001b[0m┃\u001b[1;35m \u001b[0m\u001b[1;35mType              \u001b[0m\u001b[1;35m \u001b[0m┃\u001b[1;35m \u001b[0m\u001b[1;35mParams\u001b[0m\u001b[1;35m \u001b[0m┃\n",
       "┡━━━╇━━━━━━━━━━━━━━━━━━━╇━━━━━━━━━━━━━━━━━━━━╇━━━━━━━━┩\n",
       "│\u001b[2m \u001b[0m\u001b[2m0\u001b[0m\u001b[2m \u001b[0m│ accuracy          │ MulticlassAccuracy │      0 │\n",
       "│\u001b[2m \u001b[0m\u001b[2m1\u001b[0m\u001b[2m \u001b[0m│ feature_extractor │ Seq2SeqAE          │  1.0 K │\n",
       "│\u001b[2m \u001b[0m\u001b[2m2\u001b[0m\u001b[2m \u001b[0m│ cls_head          │ Classifier         │    118 │\n",
       "└───┴───────────────────┴────────────────────┴────────┘\n"
      ]
     },
     "metadata": {},
     "output_type": "display_data"
    },
    {
     "data": {
      "text/html": [
       "<pre style=\"white-space:pre;overflow-x:auto;line-height:normal;font-family:Menlo,'DejaVu Sans Mono',consolas,'Courier New',monospace\"><span style=\"font-weight: bold\">Trainable params</span>: 1.1 K                                                                                            \n",
       "<span style=\"font-weight: bold\">Non-trainable params</span>: 0                                                                                            \n",
       "<span style=\"font-weight: bold\">Total params</span>: 1.1 K                                                                                                \n",
       "<span style=\"font-weight: bold\">Total estimated model params size (MB)</span>: 0                                                                          \n",
       "</pre>\n"
      ],
      "text/plain": [
       "\u001b[1mTrainable params\u001b[0m: 1.1 K                                                                                            \n",
       "\u001b[1mNon-trainable params\u001b[0m: 0                                                                                            \n",
       "\u001b[1mTotal params\u001b[0m: 1.1 K                                                                                                \n",
       "\u001b[1mTotal estimated model params size (MB)\u001b[0m: 0                                                                          \n"
      ]
     },
     "metadata": {},
     "output_type": "display_data"
    },
    {
     "data": {
      "application/vnd.jupyter.widget-view+json": {
       "model_id": "ee87136ad68d4cf3ae5b0d793d612039",
       "version_major": 2,
       "version_minor": 0
      },
      "text/plain": [
       "Output()"
      ]
     },
     "metadata": {},
     "output_type": "display_data"
    },
    {
     "name": "stderr",
     "output_type": "stream",
     "text": [
      "`Trainer.fit` stopped: `max_epochs=2` reached.\n"
     ]
    },
    {
     "data": {
      "text/html": [
       "<pre style=\"white-space:pre;overflow-x:auto;line-height:normal;font-family:Menlo,'DejaVu Sans Mono',consolas,'Courier New',monospace\"></pre>\n"
      ],
      "text/plain": []
     },
     "metadata": {},
     "output_type": "display_data"
    },
    {
     "data": {
      "text/html": [
       "<pre style=\"white-space:pre;overflow-x:auto;line-height:normal;font-family:Menlo,'DejaVu Sans Mono',consolas,'Courier New',monospace\">\n",
       "</pre>\n"
      ],
      "text/plain": [
       "\n"
      ]
     },
     "metadata": {},
     "output_type": "display_data"
    }
   ],
   "source": [
    "%reload_ext autoreload\n",
    "%autoreload 2\n",
    "\n",
    "from src.acnets.deep import WaveletModel, MaskedModel\n",
    "from src.acnets.datasets import LEMONDataModule, Julia2018DataModule\n",
    "\n",
    "\n",
    "lemon_datamodule = LEMONDataModule(\n",
    "    atlas='aal', kind='partial correlation',\n",
    "    aggregation_strategy='time_regions',\n",
    "    test_ratio=.1, val_ratio=.05,\n",
    "    n_subjects=203, batch_size=16)\n",
    "lemon_datamodule.setup()\n",
    "\n",
    "julia2018_datamodule = Julia2018DataModule(\n",
    "    atlas='dosenbach2010', kind='partial correlation',\n",
    "    aggregation_strategy='time_networks',\n",
    "    test_ratio=.25, batch_size=32)\n",
    "julia2018_datamodule.setup()\n",
    "\n",
    "n_regions = julia2018_datamodule.train[0][0].shape[1]\n",
    "# n_wavelets = 124\n",
    "n_embeddings = 8\n",
    "segment_length = 32\n",
    "\n",
    "model = MaskedModel(n_regions, n_embeddings, segment_length)\n",
    "\n",
    "# trainer = model.fit(lemon_datamodule, max_epochs=1000, phase='pretrain')\n",
    "tuner = model.fit(julia2018_datamodule, max_epochs=2, phase='finetune')"
   ]
  }
 ],
 "metadata": {
  "kernelspec": {
   "display_name": "acnets",
   "language": "python",
   "name": "python3"
  },
  "language_info": {
   "codemirror_mode": {
    "name": "ipython",
    "version": 3
   },
   "file_extension": ".py",
   "mimetype": "text/x-python",
   "name": "python",
   "nbconvert_exporter": "python",
   "pygments_lexer": "ipython3",
   "version": "3.11.7"
  }
 },
 "nbformat": 4,
 "nbformat_minor": 2
}
