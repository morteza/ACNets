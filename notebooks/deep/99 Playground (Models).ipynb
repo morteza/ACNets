{
 "cells": [
  {
   "cell_type": "code",
   "execution_count": 30,
   "metadata": {},
   "outputs": [
    {
     "name": "stderr",
     "output_type": "stream",
     "text": [
      "Seed set to 42\n",
      "GPU available: True (cuda), used: True\n",
      "TPU available: False, using: 0 TPU cores\n",
      "IPU available: False, using: 0 IPUs\n",
      "HPU available: False, using: 0 HPUs\n"
     ]
    },
    {
     "name": "stdout",
     "output_type": "stream",
     "text": [
      "ckpt_id: 628d68\n"
     ]
    },
    {
     "name": "stderr",
     "output_type": "stream",
     "text": [
      "/home/morteza/miniforge3/envs/acnets/lib/python3.11/site-packages/pytorch_lightning/callbacks/model_checkpoint.py:639: Checkpoint directory /home/morteza/workspace/ACNets/checkpoints/GAN_628d68 exists and is not empty.\n",
      "Restoring states from the checkpoint path at /home/morteza/workspace/ACNets/checkpoints/GAN_628d68/last.ckpt\n",
      "LOCAL_RANK: 0 - CUDA_VISIBLE_DEVICES: [0]\n",
      "\n",
      "  | Name          | Type          | Params\n",
      "------------------------------------------------\n",
      "0 | generator     | Generator     | 53.5 K\n",
      "1 | discriminator | Discriminator | 50.8 K\n",
      "------------------------------------------------\n",
      "104 K     Trainable params\n",
      "0         Non-trainable params\n",
      "104 K     Total params\n",
      "0.417     Total estimated model params size (MB)\n",
      "Restored all states from the checkpoint at /home/morteza/workspace/ACNets/checkpoints/GAN_628d68/last.ckpt\n",
      "`Trainer.fit` stopped: `max_epochs=10` reached.\n",
      "GPU available: True (cuda), used: True\n",
      "TPU available: False, using: 0 TPU cores\n",
      "IPU available: False, using: 0 IPUs\n",
      "HPU available: False, using: 0 HPUs\n",
      "LOCAL_RANK: 0 - CUDA_VISIBLE_DEVICES: [0]\n",
      "\n",
      "  | Name          | Type          | Params\n",
      "------------------------------------------------\n",
      "0 | generator     | Generator     | 53.5 K\n",
      "1 | discriminator | Discriminator | 50.8 K\n",
      "------------------------------------------------\n",
      "104 K     Trainable params\n",
      "0         Non-trainable params\n",
      "104 K     Total params\n",
      "0.417     Total estimated model params size (MB)\n",
      "`Trainer.fit` stopped: `max_epochs=10` reached.\n"
     ]
    }
   ],
   "source": [
    "%reload_ext autoreload\n",
    "%autoreload 2\n",
    "\n",
    "from pytorch_lightning import seed_everything\n",
    "from src.acnets.deep import WaveletModel, MaskedModel\n",
    "from src.acnets.datasets import LEMONDataModule, Julia2018DataModule\n",
    "from src.acnets.deep.gan import GAN\n",
    "\n",
    "for n_embeddings in [32]:\n",
    "\n",
    "    seed_everything(42)\n",
    "    input_type = 'cconn_networks'\n",
    "\n",
    "    pretrain_datamodule = LEMONDataModule(\n",
    "        atlas='dosenbach2010', kind='partial correlation',\n",
    "        aggregation_strategy=input_type,\n",
    "        test_ratio=.1, val_ratio=.05,\n",
    "        segment_length=124,\n",
    "        n_subjects=215, batch_size=31, shuffle=True)\n",
    "    pretrain_datamodule.setup()\n",
    "\n",
    "    finetune_datamodule = Julia2018DataModule(\n",
    "        atlas='dosenbach2010', kind='partial correlation',\n",
    "        aggregation_strategy=input_type,\n",
    "        segment_length=124,\n",
    "        test_ratio=.25, batch_size=8, shuffle=True)\n",
    "    finetune_datamodule.setup()\n",
    "\n",
    "    n_features = finetune_datamodule.train[0][0].shape[-1]\n",
    "\n",
    "    # model = MaskedModel(n_features * n_features, n_embeddings, input_type=input_type)\n",
    "    model = GAN(n_features * n_features, n_embeddings, n_classes=2)\n",
    "\n",
    "    trainer = model.fit(pretrain_datamodule, max_epochs=10000, phase='pretrain')\n",
    "    tuner = model.fit(finetune_datamodule, max_epochs=10000, phase='finetune')"
   ]
  }
 ],
 "metadata": {
  "kernelspec": {
   "display_name": "acnets",
   "language": "python",
   "name": "python3"
  },
  "language_info": {
   "codemirror_mode": {
    "name": "ipython",
    "version": 3
   },
   "file_extension": ".py",
   "mimetype": "text/x-python",
   "name": "python",
   "nbconvert_exporter": "python",
   "pygments_lexer": "ipython3",
   "version": "3.11.7"
  }
 },
 "nbformat": 4,
 "nbformat_minor": 2
}
