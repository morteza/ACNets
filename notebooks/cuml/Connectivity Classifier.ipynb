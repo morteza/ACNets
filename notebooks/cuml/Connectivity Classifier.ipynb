{
 "cells": [
  {
   "cell_type": "markdown",
   "metadata": {},
   "source": [
    "# Connectivity Classifier\n",
    "\n",
    "\n",
    "## Inputs\n",
    "\n",
    "Connectivity matrices\n",
    "\n",
    "## Outputs\n",
    "\n",
    "Participant's label, either AVGP or NVGP.\n",
    "\n",
    "## Requirements\n",
    "\n",
    "To run this notebook, you need to have the rapids packages installed:\n",
    "\n",
    "```bash\n",
    "mamba create -n rapids-22.04 \\\n",
    "    -c rapidsai -c nvidia -y \\\n",
    "    rapids=22.04 python=3.9 cudatoolkit=11.5 \\\n",
    "    jupyterlab ipykernel nilearn xarray netcdf4 seaborn\n",
    "\n",
    "mamba activate rapids-22.04\n",
    "\n",
    "pip install \"ray[tune]\" tune-sklearn scikit-optimize\n",
    "```"
   ]
  },
  {
   "cell_type": "code",
   "execution_count": 1,
   "metadata": {},
   "outputs": [],
   "source": [
    "import os\n",
    "from pathlib import Path\n",
    "\n",
    "import numpy as np\n",
    "import scipy.stats as st\n",
    "import seaborn as sns\n",
    "from cuml.model_selection import GridSearchCV\n",
    "from IPython.display import clear_output, display\n",
    "from python.acnets.pipeline import ConnectivityPipeline, ConnectivityVectorizer\n",
    "from ray import tune\n",
    "from ray.tune.sklearn import TuneSearchCV\n",
    "from sklearn.dummy import DummyClassifier\n",
    "from sklearn.feature_selection import SelectFromModel, VarianceThreshold\n",
    "from sklearn.model_selection import StratifiedShuffleSplit, cross_val_score\n",
    "from sklearn.pipeline import Pipeline\n",
    "from sklearn.preprocessing import LabelEncoder, StandardScaler\n",
    "\n",
    "from cuml import PCA, SVC, UMAP, LinearSVC\n",
    "\n",
    "os.environ['CUDA_VISIBLE_DEVICES'] = '0'\n"
   ]
  },
  {
   "cell_type": "code",
   "execution_count": 2,
   "metadata": {},
   "outputs": [],
   "source": [
    "# Parameters\n",
    "\n",
    "#  WARNING: Ray Tune requires data paths to be absolute.\n",
    "BIDS_DIR = Path.home() / 'workspace/acnets/data/julia2018'\n",
    "CACHE_DIR = Path.home() / 'workspace/acnets/data/julia2018_resting'"
   ]
  },
  {
   "cell_type": "code",
   "execution_count": 3,
   "metadata": {},
   "outputs": [],
   "source": [
    "subjects = ConnectivityPipeline().transform('all').coords['subject'].values\n",
    "groups = [s[:4] for s in subjects]  # AVGP or NVGP\n",
    "\n",
    "X = subjects.reshape(-1, 1)\n",
    "\n",
    "y_encoder = LabelEncoder()\n",
    "y = y_encoder.fit_transform(groups)"
   ]
  },
  {
   "cell_type": "code",
   "execution_count": 114,
   "metadata": {},
   "outputs": [
    {
     "data": {
      "text/plain": [
       "(0.66375,\n",
       " 0.1408622997824471,\n",
       " BootstrapResult(confidence_interval=ConfidenceInterval(low=0.6548597658937988, high=0.672375), standard_error=0.004426939565528785))"
      ]
     },
     "execution_count": 114,
     "metadata": {},
     "output_type": "execute_result"
    }
   ],
   "source": [
    "pipe  = Pipeline([\n",
    "    ('connectivity', ConnectivityPipeline(bids_dir=BIDS_DIR, parcellation_cache_dir=CACHE_DIR)),\n",
    "    ('vectorize', ConnectivityVectorizer()),\n",
    "    ('scale', 'passthrough'),\n",
    "    ('zerovar', 'passthrough'),\n",
    "    ('select', SelectFromModel(LinearSVC(penalty='l2'))),\n",
    "    ('reduce', 'passthrough'),\n",
    "    ('clf', LinearSVC(probability=True, penalty='l2'))\n",
    "])\n",
    "\n",
    "# DEBUG\n",
    "pipe.set_params(connectivity__kind='chatterjee')\n",
    "\n",
    "# pipe.fit(X, y).score(X, y)\n",
    "\n",
    "scores = cross_val_score(pipe, X, y,\n",
    "                         cv=StratifiedShuffleSplit(n_splits=1000, test_size=8),\n",
    "                         scoring='accuracy', n_jobs=-1)\n",
    "bootstrap_ci = st.bootstrap(scores.reshape(1,-1), np.mean)\n",
    "scores.mean(), scores.std(), bootstrap_ci"
   ]
  },
  {
   "cell_type": "code",
   "execution_count": null,
   "metadata": {},
   "outputs": [],
   "source": [
    "\n",
    "(0.700875,\n",
    " 0.14982025689138304,\n",
    " BootstrapResult(confidence_interval=ConfidenceInterval(low=0.691125, high=0.709625), standard_error=0.00469138130343869))"
   ]
  },
  {
   "cell_type": "code",
   "execution_count": 123,
   "metadata": {},
   "outputs": [],
   "source": [
    "param_space = {\n",
    "    # 'scale': tune.choice([StandardScaler(), 'passthrough']),\n",
    "    # 'select': tune.choice([SelectFromModel(LinearSVC(penalty='l2')), 'passthrough']),\n",
    "    'clf__C': tune.loguniform(1e-2, 1e3),\n",
    "    'connectivity__atlas': tune.grid_search(['dosenbach2010']),#, 'gordon2014_2mm', 'difumo_64_2mm', 'seitzman2018'],\n",
    "    'connectivity__kind': tune.grid_search(['partial correlation', 'chatterjee', 'correlation', 'tangent']),\n",
    "}\n",
    "\n",
    "opt = TuneSearchCV(\n",
    "    pipe,\n",
    "    param_space,\n",
    "    cv=4,\n",
    "    n_trials=100,\n",
    "    # early_stopping=True,\n",
    "    max_iters=2,\n",
    "    # search_optimization='bayesian',\n",
    "    verbose=1,\n",
    "    scoring='accuracy',\n",
    "    use_gpu=True,\n",
    "    n_jobs=-1)\n",
    "\n",
    "opt.fit(X, y)\n",
    "\n",
    "print('best estimator:', opt.best_estimator_)\n"
   ]
  },
  {
   "cell_type": "code",
   "execution_count": 118,
   "metadata": {},
   "outputs": [
    {
     "data": {
      "text/plain": [
       "(0.691875,\n",
       " 0.14930960911810065,\n",
       " BootstrapResult(confidence_interval=ConfidenceInterval(low=0.68225, high=0.70075), standard_error=0.004733749131881141))"
      ]
     },
     "execution_count": 118,
     "metadata": {},
     "output_type": "execute_result"
    }
   ],
   "source": [
    "\n",
    "\n",
    "cv = StratifiedShuffleSplit(n_splits=1000, test_size=0.25)\n",
    "\n",
    "model = opt.best_estimator_\n",
    "# model = pipe\n",
    "# model = DummyClassifier(strategy='stratified')\n",
    "\n",
    "scores = cross_val_score(model, X, y, cv=cv, scoring='accuracy', n_jobs=-1)\n",
    "\n",
    "bootstrap_ci = st.bootstrap(scores.reshape(1,-1), np.mean)\n",
    "\n",
    "scores.mean(), scores.std(), bootstrap_ci\n",
    "\n",
    "# sns.displot(scores)"
   ]
  },
  {
   "cell_type": "code",
   "execution_count": 67,
   "metadata": {},
   "outputs": [
    {
     "ename": "KeyboardInterrupt",
     "evalue": "",
     "output_type": "error",
     "traceback": [
      "\u001b[0;31m---------------------------------------------------------------------------\u001b[0m",
      "\u001b[0;31mKeyboardInterrupt\u001b[0m                         Traceback (most recent call last)",
      "\u001b[1;32m/home/morteza/workspace/acnets/notebooks/cuml/Connectivity Classifier.ipynb Cell 10'\u001b[0m in \u001b[0;36m<cell line: 4>\u001b[0;34m()\u001b[0m\n\u001b[1;32m      <a href='vscode-notebook-cell:/home/morteza/workspace/acnets/notebooks/cuml/Connectivity%20Classifier.ipynb#ch0000009?line=0'>1</a>\u001b[0m \u001b[39mfrom\u001b[39;00m \u001b[39msklearn\u001b[39;00m\u001b[39m.\u001b[39;00m\u001b[39mmodel_selection\u001b[39;00m \u001b[39mimport\u001b[39;00m learning_curve\n\u001b[1;32m      <a href='vscode-notebook-cell:/home/morteza/workspace/acnets/notebooks/cuml/Connectivity%20Classifier.ipynb#ch0000009?line=1'>2</a>\u001b[0m \u001b[39mimport\u001b[39;00m \u001b[39mpandas\u001b[39;00m \u001b[39mas\u001b[39;00m \u001b[39mpd\u001b[39;00m\n\u001b[0;32m----> <a href='vscode-notebook-cell:/home/morteza/workspace/acnets/notebooks/cuml/Connectivity%20Classifier.ipynb#ch0000009?line=3'>4</a>\u001b[0m train_sizes, train_scores, test_scores \u001b[39m=\u001b[39m learning_curve(model, X, y,\n\u001b[1;32m      <a href='vscode-notebook-cell:/home/morteza/workspace/acnets/notebooks/cuml/Connectivity%20Classifier.ipynb#ch0000009?line=4'>5</a>\u001b[0m                                                         cv\u001b[39m=\u001b[39;49mStratifiedShuffleSplit(n_splits\u001b[39m=\u001b[39;49m\u001b[39m1000\u001b[39;49m, test_size\u001b[39m=\u001b[39;49m\u001b[39m8\u001b[39;49m),\n\u001b[1;32m      <a href='vscode-notebook-cell:/home/morteza/workspace/acnets/notebooks/cuml/Connectivity%20Classifier.ipynb#ch0000009?line=5'>6</a>\u001b[0m                                                         scoring\u001b[39m=\u001b[39;49m\u001b[39m'\u001b[39;49m\u001b[39maccuracy\u001b[39;49m\u001b[39m'\u001b[39;49m,\n\u001b[1;32m      <a href='vscode-notebook-cell:/home/morteza/workspace/acnets/notebooks/cuml/Connectivity%20Classifier.ipynb#ch0000009?line=6'>7</a>\u001b[0m                                                         n_jobs\u001b[39m=\u001b[39;49m\u001b[39m-\u001b[39;49m\u001b[39m1\u001b[39;49m,\n\u001b[1;32m      <a href='vscode-notebook-cell:/home/morteza/workspace/acnets/notebooks/cuml/Connectivity%20Classifier.ipynb#ch0000009?line=7'>8</a>\u001b[0m                                                         shuffle\u001b[39m=\u001b[39;49m\u001b[39mTrue\u001b[39;49;00m,\n\u001b[1;32m      <a href='vscode-notebook-cell:/home/morteza/workspace/acnets/notebooks/cuml/Connectivity%20Classifier.ipynb#ch0000009?line=8'>9</a>\u001b[0m                                                         train_sizes\u001b[39m=\u001b[39;49mnp\u001b[39m.\u001b[39;49marray([\u001b[39m16\u001b[39;49m, \u001b[39m18\u001b[39;49m, \u001b[39m20\u001b[39;49m, \u001b[39m22\u001b[39;49m, \u001b[39m24\u001b[39;49m]))\n\u001b[1;32m     <a href='vscode-notebook-cell:/home/morteza/workspace/acnets/notebooks/cuml/Connectivity%20Classifier.ipynb#ch0000009?line=11'>12</a>\u001b[0m learning_curve_results \u001b[39m=\u001b[39m pd\u001b[39m.\u001b[39mDataFrame({\n\u001b[1;32m     <a href='vscode-notebook-cell:/home/morteza/workspace/acnets/notebooks/cuml/Connectivity%20Classifier.ipynb#ch0000009?line=12'>13</a>\u001b[0m     \u001b[39m'\u001b[39m\u001b[39mtrain_size\u001b[39m\u001b[39m'\u001b[39m: train_sizes,\n\u001b[1;32m     <a href='vscode-notebook-cell:/home/morteza/workspace/acnets/notebooks/cuml/Connectivity%20Classifier.ipynb#ch0000009?line=13'>14</a>\u001b[0m     \u001b[39m'\u001b[39m\u001b[39mmean_train_score\u001b[39m\u001b[39m'\u001b[39m: train_scores\u001b[39m.\u001b[39mmean(axis\u001b[39m=\u001b[39m\u001b[39m1\u001b[39m),\n\u001b[1;32m     <a href='vscode-notebook-cell:/home/morteza/workspace/acnets/notebooks/cuml/Connectivity%20Classifier.ipynb#ch0000009?line=14'>15</a>\u001b[0m     \u001b[39m'\u001b[39m\u001b[39mmean_test_score\u001b[39m\u001b[39m'\u001b[39m: test_scores\u001b[39m.\u001b[39mmean(axis\u001b[39m=\u001b[39m\u001b[39m1\u001b[39m)\n\u001b[1;32m     <a href='vscode-notebook-cell:/home/morteza/workspace/acnets/notebooks/cuml/Connectivity%20Classifier.ipynb#ch0000009?line=15'>16</a>\u001b[0m })\n\u001b[1;32m     <a href='vscode-notebook-cell:/home/morteza/workspace/acnets/notebooks/cuml/Connectivity%20Classifier.ipynb#ch0000009?line=17'>18</a>\u001b[0m learning_curve_results\n",
      "File \u001b[0;32m~/mambaforge/envs/rapids-22.04/lib/python3.9/site-packages/sklearn/model_selection/_validation.py:1559\u001b[0m, in \u001b[0;36mlearning_curve\u001b[0;34m(estimator, X, y, groups, train_sizes, cv, scoring, exploit_incremental_learning, n_jobs, pre_dispatch, verbose, shuffle, random_state, error_score, return_times, fit_params)\u001b[0m\n\u001b[1;32m   1556\u001b[0m     \u001b[39mfor\u001b[39;00m n_train_samples \u001b[39min\u001b[39;00m train_sizes_abs:\n\u001b[1;32m   1557\u001b[0m         train_test_proportions\u001b[39m.\u001b[39mappend((train[:n_train_samples], test))\n\u001b[0;32m-> 1559\u001b[0m results \u001b[39m=\u001b[39m parallel(\n\u001b[1;32m   1560\u001b[0m     delayed(_fit_and_score)(\n\u001b[1;32m   1561\u001b[0m         clone(estimator),\n\u001b[1;32m   1562\u001b[0m         X,\n\u001b[1;32m   1563\u001b[0m         y,\n\u001b[1;32m   1564\u001b[0m         scorer,\n\u001b[1;32m   1565\u001b[0m         train,\n\u001b[1;32m   1566\u001b[0m         test,\n\u001b[1;32m   1567\u001b[0m         verbose,\n\u001b[1;32m   1568\u001b[0m         parameters\u001b[39m=\u001b[39;49m\u001b[39mNone\u001b[39;49;00m,\n\u001b[1;32m   1569\u001b[0m         fit_params\u001b[39m=\u001b[39;49mfit_params,\n\u001b[1;32m   1570\u001b[0m         return_train_score\u001b[39m=\u001b[39;49m\u001b[39mTrue\u001b[39;49;00m,\n\u001b[1;32m   1571\u001b[0m         error_score\u001b[39m=\u001b[39;49merror_score,\n\u001b[1;32m   1572\u001b[0m         return_times\u001b[39m=\u001b[39;49mreturn_times,\n\u001b[1;32m   1573\u001b[0m     )\n\u001b[1;32m   1574\u001b[0m     \u001b[39mfor\u001b[39;49;00m train, test \u001b[39min\u001b[39;49;00m train_test_proportions\n\u001b[1;32m   1575\u001b[0m )\n\u001b[1;32m   1576\u001b[0m results \u001b[39m=\u001b[39m _aggregate_score_dicts(results)\n\u001b[1;32m   1577\u001b[0m train_scores \u001b[39m=\u001b[39m results[\u001b[39m\"\u001b[39m\u001b[39mtrain_scores\u001b[39m\u001b[39m\"\u001b[39m]\u001b[39m.\u001b[39mreshape(\u001b[39m-\u001b[39m\u001b[39m1\u001b[39m, n_unique_ticks)\u001b[39m.\u001b[39mT\n",
      "File \u001b[0;32m~/mambaforge/envs/rapids-22.04/lib/python3.9/site-packages/joblib/parallel.py:1056\u001b[0m, in \u001b[0;36mParallel.__call__\u001b[0;34m(self, iterable)\u001b[0m\n\u001b[1;32m   1053\u001b[0m     \u001b[39mself\u001b[39m\u001b[39m.\u001b[39m_iterating \u001b[39m=\u001b[39m \u001b[39mFalse\u001b[39;00m\n\u001b[1;32m   1055\u001b[0m \u001b[39mwith\u001b[39;00m \u001b[39mself\u001b[39m\u001b[39m.\u001b[39m_backend\u001b[39m.\u001b[39mretrieval_context():\n\u001b[0;32m-> 1056\u001b[0m     \u001b[39mself\u001b[39;49m\u001b[39m.\u001b[39;49mretrieve()\n\u001b[1;32m   1057\u001b[0m \u001b[39m# Make sure that we get a last message telling us we are done\u001b[39;00m\n\u001b[1;32m   1058\u001b[0m elapsed_time \u001b[39m=\u001b[39m time\u001b[39m.\u001b[39mtime() \u001b[39m-\u001b[39m \u001b[39mself\u001b[39m\u001b[39m.\u001b[39m_start_time\n",
      "File \u001b[0;32m~/mambaforge/envs/rapids-22.04/lib/python3.9/site-packages/joblib/parallel.py:935\u001b[0m, in \u001b[0;36mParallel.retrieve\u001b[0;34m(self)\u001b[0m\n\u001b[1;32m    933\u001b[0m \u001b[39mtry\u001b[39;00m:\n\u001b[1;32m    934\u001b[0m     \u001b[39mif\u001b[39;00m \u001b[39mgetattr\u001b[39m(\u001b[39mself\u001b[39m\u001b[39m.\u001b[39m_backend, \u001b[39m'\u001b[39m\u001b[39msupports_timeout\u001b[39m\u001b[39m'\u001b[39m, \u001b[39mFalse\u001b[39;00m):\n\u001b[0;32m--> 935\u001b[0m         \u001b[39mself\u001b[39m\u001b[39m.\u001b[39m_output\u001b[39m.\u001b[39mextend(job\u001b[39m.\u001b[39;49mget(timeout\u001b[39m=\u001b[39;49m\u001b[39mself\u001b[39;49m\u001b[39m.\u001b[39;49mtimeout))\n\u001b[1;32m    936\u001b[0m     \u001b[39melse\u001b[39;00m:\n\u001b[1;32m    937\u001b[0m         \u001b[39mself\u001b[39m\u001b[39m.\u001b[39m_output\u001b[39m.\u001b[39mextend(job\u001b[39m.\u001b[39mget())\n",
      "File \u001b[0;32m~/mambaforge/envs/rapids-22.04/lib/python3.9/site-packages/joblib/_parallel_backends.py:542\u001b[0m, in \u001b[0;36mLokyBackend.wrap_future_result\u001b[0;34m(future, timeout)\u001b[0m\n\u001b[1;32m    539\u001b[0m \u001b[39m\"\"\"Wrapper for Future.result to implement the same behaviour as\u001b[39;00m\n\u001b[1;32m    540\u001b[0m \u001b[39mAsyncResults.get from multiprocessing.\"\"\"\u001b[39;00m\n\u001b[1;32m    541\u001b[0m \u001b[39mtry\u001b[39;00m:\n\u001b[0;32m--> 542\u001b[0m     \u001b[39mreturn\u001b[39;00m future\u001b[39m.\u001b[39;49mresult(timeout\u001b[39m=\u001b[39;49mtimeout)\n\u001b[1;32m    543\u001b[0m \u001b[39mexcept\u001b[39;00m CfTimeoutError \u001b[39mas\u001b[39;00m e:\n\u001b[1;32m    544\u001b[0m     \u001b[39mraise\u001b[39;00m \u001b[39mTimeoutError\u001b[39;00m \u001b[39mfrom\u001b[39;00m \u001b[39me\u001b[39;00m\n",
      "File \u001b[0;32m~/mambaforge/envs/rapids-22.04/lib/python3.9/concurrent/futures/_base.py:441\u001b[0m, in \u001b[0;36mFuture.result\u001b[0;34m(self, timeout)\u001b[0m\n\u001b[1;32m    438\u001b[0m \u001b[39melif\u001b[39;00m \u001b[39mself\u001b[39m\u001b[39m.\u001b[39m_state \u001b[39m==\u001b[39m FINISHED:\n\u001b[1;32m    439\u001b[0m     \u001b[39mreturn\u001b[39;00m \u001b[39mself\u001b[39m\u001b[39m.\u001b[39m__get_result()\n\u001b[0;32m--> 441\u001b[0m \u001b[39mself\u001b[39;49m\u001b[39m.\u001b[39;49m_condition\u001b[39m.\u001b[39;49mwait(timeout)\n\u001b[1;32m    443\u001b[0m \u001b[39mif\u001b[39;00m \u001b[39mself\u001b[39m\u001b[39m.\u001b[39m_state \u001b[39min\u001b[39;00m [CANCELLED, CANCELLED_AND_NOTIFIED]:\n\u001b[1;32m    444\u001b[0m     \u001b[39mraise\u001b[39;00m CancelledError()\n",
      "File \u001b[0;32m~/mambaforge/envs/rapids-22.04/lib/python3.9/threading.py:312\u001b[0m, in \u001b[0;36mCondition.wait\u001b[0;34m(self, timeout)\u001b[0m\n\u001b[1;32m    310\u001b[0m \u001b[39mtry\u001b[39;00m:    \u001b[39m# restore state no matter what (e.g., KeyboardInterrupt)\u001b[39;00m\n\u001b[1;32m    311\u001b[0m     \u001b[39mif\u001b[39;00m timeout \u001b[39mis\u001b[39;00m \u001b[39mNone\u001b[39;00m:\n\u001b[0;32m--> 312\u001b[0m         waiter\u001b[39m.\u001b[39;49macquire()\n\u001b[1;32m    313\u001b[0m         gotit \u001b[39m=\u001b[39m \u001b[39mTrue\u001b[39;00m\n\u001b[1;32m    314\u001b[0m     \u001b[39melse\u001b[39;00m:\n",
      "\u001b[0;31mKeyboardInterrupt\u001b[0m: "
     ]
    }
   ],
   "source": [
    "from sklearn.model_selection import learning_curve\n",
    "import pandas as pd\n",
    "\n",
    "train_sizes, train_scores, test_scores = learning_curve(model, X, y,\n",
    "                                                        cv=StratifiedShuffleSplit(n_splits=10, test_size=8),\n",
    "                                                        scoring='accuracy',\n",
    "                                                        n_jobs=-1,\n",
    "                                                        shuffle=True,\n",
    "                                                        train_sizes=np.array([16, 18, 20, 22, 24]))\n",
    "\n",
    "\n",
    "learning_curve_results = pd.DataFrame({\n",
    "    'train_size': train_sizes,\n",
    "    'mean_train_score': train_scores.mean(axis=1),\n",
    "    'mean_test_score': test_scores.mean(axis=1)\n",
    "})\n",
    "\n",
    "learning_curve_results"
   ]
  }
 ],
 "metadata": {
  "kernelspec": {
   "display_name": "Python 3.9.13 ('rapids-22.04')",
   "language": "python",
   "name": "python3"
  },
  "language_info": {
   "codemirror_mode": {
    "name": "ipython",
    "version": 3
   },
   "file_extension": ".py",
   "mimetype": "text/x-python",
   "name": "python",
   "nbconvert_exporter": "python",
   "pygments_lexer": "ipython3",
   "version": "3.9.13"
  },
  "orig_nbformat": 4,
  "vscode": {
   "interpreter": {
    "hash": "b90e1415fa46b83736dab8d6cd3eae9f81d06d0b168159c38749f45c97010f6d"
   }
  }
 },
 "nbformat": 4,
 "nbformat_minor": 2
}
