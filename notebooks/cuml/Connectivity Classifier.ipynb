{
 "cells": [
  {
   "cell_type": "markdown",
   "metadata": {},
   "source": [
    "# Connectivity Classifier\n",
    "\n",
    "\n",
    "## Inputs\n",
    "\n",
    "Connectivity matrices\n",
    "\n",
    "## Outputs\n",
    "\n",
    "Participant's label, either AVGP or NVGP.\n",
    "\n",
    "## Requirements\n",
    "\n",
    "To run this notebook, you need to have the rapids packages installed:\n",
    "\n",
    "```\n",
    "mamba create -n rapids-22.04 -c rapidsai -c nvidia  \\\n",
    "    rapids=22.04 python=3.9 cudatoolkit=11.5 \\\n",
    "    jupyterlab nilearn xarray necdf4\n",
    "pip install ray[tune] tune-sklearn scikit-optimize\n",
    "```"
   ]
  },
  {
   "cell_type": "code",
   "execution_count": 12,
   "metadata": {},
   "outputs": [],
   "source": [
    "from cuml.model_selection import GridSearchCV\n",
    "\n",
    "import numpy as np\n",
    "\n",
    "from pathlib import Path\n",
    "from python.acnets.pipeline import ConnectivityPipeline, ConnectivityVectorizer\n",
    "\n",
    "from sklearn.pipeline import Pipeline\n",
    "from sklearn.preprocessing import LabelEncoder, StandardScaler\n",
    "from sklearn.model_selection import StratifiedShuffleSplit\n",
    "from sklearn.feature_selection import SelectFromModel\n",
    "\n",
    "from cuml import UMAP, SVC, LinearSVC\n",
    "\n",
    "from IPython.display import display, clear_output\n",
    "\n",
    "from ray.tune.sklearn import TuneSearchCV\n",
    "\n",
    "import os\n",
    "os.environ['CUDA_VISIBLE_DEVICES'] = '0'"
   ]
  },
  {
   "cell_type": "code",
   "execution_count": 13,
   "metadata": {},
   "outputs": [],
   "source": [
    "\n",
    "# Parameters\n",
    "\n",
    "#  WARNING: Ray Tune requires these params to be absolute paths.\n",
    "BIDS_DIR = Path.home() / 'workspace/acnets/data/julia2018'\n",
    "PARCELLATION_CACHE_DIR = Path.home() / 'workspace/acnets/data/julia2018_resting'"
   ]
  },
  {
   "cell_type": "code",
   "execution_count": 14,
   "metadata": {},
   "outputs": [],
   "source": [
    "subjects = ConnectivityPipeline().transform('all').coords['subject'].values\n",
    "groups = [s[:4] for s in subjects]  # AVGP or NVGP\n",
    "\n",
    "\n",
    "X = subjects.reshape(-1, 1)\n",
    "\n",
    "y_encoder = LabelEncoder()\n",
    "y = y_encoder.fit_transform(groups)"
   ]
  },
  {
   "cell_type": "code",
   "execution_count": 25,
   "metadata": {},
   "outputs": [
    {
     "data": {
      "text/plain": [
       "0.40625"
      ]
     },
     "execution_count": 25,
     "metadata": {},
     "output_type": "execute_result"
    }
   ],
   "source": [
    "pipe  = Pipeline([\n",
    "    ('connectivity', ConnectivityPipeline(agg_networks=True,\n",
    "                                          bids_dir=BIDS_DIR,\n",
    "                                          parcellation_cache_dir=PARCELLATION_CACHE_DIR)),\n",
    "    ('vectorize', ConnectivityVectorizer()),\n",
    "    ('scale', 'passthrough'),\n",
    "    ('zerovar', 'passthrough'),\n",
    "    ('select', 'passthrough'),\n",
    "    ('reduce', UMAP(n_neighbors=2)),\n",
    "    ('clf', LinearSVC(probability=True))\n",
    "])\n",
    "\n",
    "# DEBUG\n",
    "pipe.fit(X, y).score(X, y)"
   ]
  },
  {
   "cell_type": "code",
   "execution_count": 26,
   "metadata": {},
   "outputs": [],
   "source": [
    "param_space = {\n",
    "    'scale': [StandardScaler(), 'passthrough'],\n",
    "    'select': [SelectFromModel(LinearSVC()),\n",
    "               'passthrough'],\n",
    "    # 'reduce': ['passthrough', FastICA(n_components=5, max_iter=1000)],\n",
    "    'reduce__n_components': (2, 8, 'uniform'),\n",
    "    # 'zerovar': [VarianceThreshold(threshold=0.0), 'passthrough'],\n",
    "    # 'clf': [LinearSVC(C=.1, max_iter=100000), RandomForestClassifier(), SVC(kernel='linear', probability=True)],\n",
    "    # 'clf__kernel': ['linear', 'rbf'],\n",
    "    'clf__C': (1e-2, 1e3, 'log-uniform'),\n",
    "    # 'connectivity__atlas': ['dosenbach2010'],\n",
    "    'connectivity__kind': ['partial correlation', 'chatterjee', 'correlation'],\n",
    "    # 'connectivity__agg_networks': [True],\n",
    "}"
   ]
  },
  {
   "cell_type": "code",
   "execution_count": 27,
   "metadata": {},
   "outputs": [
    {
     "data": {
      "text/html": [
       "== Status ==<br>Current time: 2022-06-13 17:53:07 (running for 00:00:29.74)<br>Memory usage on this node: 25.0/62.7 GiB<br>Using FIFO scheduling algorithm.<br>Resources requested: 0/8 CPUs, 0/1 GPUs, 0.0/33.98 GiB heap, 0.0/16.99 GiB objects (0.0/1.0 accelerator_type:G)<br>Result logdir: /home/morteza/ray_results/_Trainable_2022-06-13_17-52-37<br>Number of trials: 10/10 (10 TERMINATED)<br><br>"
      ],
      "text/plain": [
       "<IPython.core.display.HTML object>"
      ]
     },
     "metadata": {},
     "output_type": "display_data"
    },
    {
     "name": "stderr",
     "output_type": "stream",
     "text": [
      "2022-06-13 17:53:07,251\tINFO tune.py:747 -- Total run time: 29.95 seconds (29.70 seconds for the tuning loop).\n"
     ]
    },
    {
     "name": "stdout",
     "output_type": "stream",
     "text": [
      "best estimator: Pipeline(steps=[('connectivity',\n",
      "                 ConnectivityPipeline(bids_dir=PosixPath('/home/morteza/workspace/acnets/data/julia2018'), kind='partial correlation', parcellation_cache_dir=PosixPath('/home/morteza/workspace/acnets/data/julia2018_resting'))),\n",
      "                ('vectorize', ConnectivityVectorizer()),\n",
      "                ('scale', StandardScaler()), ('zerovar', 'passthrough'),\n",
      "                ('select', 'passthrough'), ('reduce', UMAP()),\n",
      "                ('clf', LinearSVC())])\n"
     ]
    }
   ],
   "source": [
    "# Parameter Tuning + Model Fitting\n",
    "\n",
    "cv = StratifiedShuffleSplit(n_splits=10, test_size=0.25)\n",
    "\n",
    "opt = TuneSearchCV(\n",
    "    pipe,\n",
    "    param_space,\n",
    "    cv=cv,\n",
    "    n_trials=10,\n",
    "    # early_stopping=True,\n",
    "    # max_iters=10,\n",
    "    search_optimization='bayesian',\n",
    "    verbose=1,\n",
    "    scoring='accuracy',\n",
    "    use_gpu=True,\n",
    "    n_jobs=-1)\n",
    "\n",
    "opt.fit(X, y)\n",
    "\n",
    "print('best estimator:', opt.best_estimator_)\n"
   ]
  },
  {
   "cell_type": "code",
   "execution_count": 29,
   "metadata": {},
   "outputs": [
    {
     "data": {
      "text/plain": [
       "(0.5375, 0.12562344526401112)"
      ]
     },
     "execution_count": 29,
     "metadata": {},
     "output_type": "execute_result"
    }
   ],
   "source": [
    "from sklearn.model_selection import cross_val_score\n",
    "\n",
    "cv = StratifiedShuffleSplit(n_splits=10, test_size=0.25)\n",
    "\n",
    "scores = cross_val_score(opt.best_estimator_, X, y, cv=cv, scoring='accuracy')\n",
    "scores.mean(), scores.std()"
   ]
  },
  {
   "cell_type": "code",
   "execution_count": 30,
   "metadata": {},
   "outputs": [
    {
     "data": {
      "text/plain": [
       "{'params': [{'scale': 'passthrough',\n",
       "   'select': 'passthrough',\n",
       "   'reduce__n_components': 2,\n",
       "   'clf__C': 0.013361734828006523,\n",
       "   'connectivity__kind': 'chatterjee'},\n",
       "  {'scale': StandardScaler(),\n",
       "   'select': 'passthrough',\n",
       "   'reduce__n_components': 4,\n",
       "   'clf__C': 0.014967197778815907,\n",
       "   'connectivity__kind': 'correlation'},\n",
       "  {'scale': StandardScaler(),\n",
       "   'select': SelectFromModel(estimator=LinearSVC()),\n",
       "   'reduce__n_components': 6,\n",
       "   'clf__C': 130.2879611867519,\n",
       "   'connectivity__kind': 'partial correlation'},\n",
       "  {'scale': StandardScaler(),\n",
       "   'select': SelectFromModel(estimator=LinearSVC()),\n",
       "   'reduce__n_components': 4,\n",
       "   'clf__C': 0.011137517967898945,\n",
       "   'connectivity__kind': 'chatterjee'},\n",
       "  {'scale': StandardScaler(),\n",
       "   'select': SelectFromModel(estimator=LinearSVC()),\n",
       "   'reduce__n_components': 5,\n",
       "   'clf__C': 913.1330245412576,\n",
       "   'connectivity__kind': 'correlation'},\n",
       "  {'scale': 'passthrough',\n",
       "   'select': 'passthrough',\n",
       "   'reduce__n_components': 5,\n",
       "   'clf__C': 0.046439236209789764,\n",
       "   'connectivity__kind': 'correlation'},\n",
       "  {'scale': StandardScaler(),\n",
       "   'select': 'passthrough',\n",
       "   'reduce__n_components': 4,\n",
       "   'clf__C': 2.2257386949503326,\n",
       "   'connectivity__kind': 'chatterjee'},\n",
       "  {'scale': StandardScaler(),\n",
       "   'select': 'passthrough',\n",
       "   'reduce__n_components': 4,\n",
       "   'clf__C': 0.01210567247331123,\n",
       "   'connectivity__kind': 'partial correlation'},\n",
       "  {'scale': StandardScaler(),\n",
       "   'select': 'passthrough',\n",
       "   'reduce__n_components': 6,\n",
       "   'clf__C': 0.6490954386492971,\n",
       "   'connectivity__kind': 'partial correlation'},\n",
       "  {'scale': StandardScaler(),\n",
       "   'select': 'passthrough',\n",
       "   'reduce__n_components': 5,\n",
       "   'clf__C': 0.022502192238485527,\n",
       "   'connectivity__kind': 'partial correlation'}],\n",
       " 'split0_test_score': array([0.5  , 0.75 , 0.375, 0.625, 0.75 , 0.5  , 0.625, 0.625, 0.625,\n",
       "        0.5  ]),\n",
       " 'split1_test_score': array([0.625, 0.375, 0.625, 0.625, 0.5  , 0.375, 0.625, 0.375, 0.375,\n",
       "        0.625]),\n",
       " 'split2_test_score': array([0.625, 0.5  , 0.5  , 0.625, 0.5  , 0.375, 0.5  , 0.625, 0.625,\n",
       "        0.375]),\n",
       " 'split3_test_score': array([0.5  , 0.625, 0.625, 0.75 , 0.625, 0.625, 0.625, 0.625, 0.5  ,\n",
       "        0.5  ]),\n",
       " 'split4_test_score': array([0.375, 0.375, 0.5  , 0.5  , 0.5  , 0.625, 0.625, 0.5  , 0.625,\n",
       "        0.625]),\n",
       " 'split5_test_score': array([0.5  , 0.375, 0.375, 0.5  , 0.375, 0.5  , 0.375, 0.375, 0.5  ,\n",
       "        0.25 ]),\n",
       " 'split6_test_score': array([0.375, 0.75 , 0.375, 0.5  , 0.5  , 0.75 , 0.625, 0.625, 0.75 ,\n",
       "        0.375]),\n",
       " 'split7_test_score': array([0.75 , 0.5  , 0.375, 0.75 , 0.625, 0.625, 0.5  , 0.625, 0.875,\n",
       "        0.375]),\n",
       " 'split8_test_score': array([0.5  , 0.625, 0.625, 0.5  , 0.75 , 0.375, 0.75 , 0.5  , 0.5  ,\n",
       "        0.75 ]),\n",
       " 'split9_test_score': array([0.5  , 0.25 , 0.5  , 0.375, 0.75 , 0.375, 0.375, 0.5  , 0.875,\n",
       "        0.5  ]),\n",
       " 'mean_test_score': array([0.525 , 0.5125, 0.4875, 0.575 , 0.5875, 0.5125, 0.5625, 0.5375,\n",
       "        0.625 , 0.4875]),\n",
       " 'std_test_score': array([0.10897247, 0.1625    , 0.1038328 , 0.11456439, 0.12562345,\n",
       "        0.13050383, 0.11524431, 0.09762812, 0.15811388, 0.14197271]),\n",
       " 'rank_test_score': array([6, 7, 9, 3, 2, 7, 4, 5, 1, 9], dtype=int32),\n",
       " 'time_total_s': array([3.56795001, 1.93183517, 2.24149513, 3.68045568, 2.27767849,\n",
       "        1.93582773, 2.97850585, 1.99928093, 1.90416479, 1.91989398]),\n",
       " 'training_iteration': array([1, 1, 1, 1, 1, 1, 1, 1, 1, 1]),\n",
       " 'param_scale': masked_array(data=['passthrough', StandardScaler(), StandardScaler(),\n",
       "                    StandardScaler(), StandardScaler(), 'passthrough',\n",
       "                    StandardScaler(), StandardScaler(), StandardScaler(),\n",
       "                    StandardScaler()],\n",
       "              mask=[False, False, False, False, False, False, False, False,\n",
       "                    False, False],\n",
       "        fill_value='?',\n",
       "             dtype=object),\n",
       " 'param_select': masked_array(data=['passthrough', 'passthrough',\n",
       "                    SelectFromModel(estimator=LinearSVC()),\n",
       "                    SelectFromModel(estimator=LinearSVC()),\n",
       "                    SelectFromModel(estimator=LinearSVC()), 'passthrough',\n",
       "                    'passthrough', 'passthrough', 'passthrough',\n",
       "                    'passthrough'],\n",
       "              mask=[False, False, False, False, False, False, False, False,\n",
       "                    False, False],\n",
       "        fill_value='?',\n",
       "             dtype=object),\n",
       " 'param_reduce__n_components': masked_array(data=[2, 4, 6, 4, 5, 5, 4, 4, 6, 5],\n",
       "              mask=[False, False, False, False, False, False, False, False,\n",
       "                    False, False],\n",
       "        fill_value='?',\n",
       "             dtype=object),\n",
       " 'param_clf__C': masked_array(data=[0.013361734828006523, 0.014967197778815907,\n",
       "                    130.2879611867519, 0.011137517967898945,\n",
       "                    913.1330245412576, 0.046439236209789764,\n",
       "                    2.2257386949503326, 0.01210567247331123,\n",
       "                    0.6490954386492971, 0.022502192238485527],\n",
       "              mask=[False, False, False, False, False, False, False, False,\n",
       "                    False, False],\n",
       "        fill_value='?',\n",
       "             dtype=object),\n",
       " 'param_connectivity__kind': masked_array(data=['chatterjee', 'correlation', 'partial correlation',\n",
       "                    'chatterjee', 'correlation', 'correlation',\n",
       "                    'chatterjee', 'partial correlation',\n",
       "                    'partial correlation', 'partial correlation'],\n",
       "              mask=[False, False, False, False, False, False, False, False,\n",
       "                    False, False],\n",
       "        fill_value='?',\n",
       "             dtype=object)}"
      ]
     },
     "execution_count": 30,
     "metadata": {},
     "output_type": "execute_result"
    }
   ],
   "source": [
    "opt.cv_results_"
   ]
  }
 ],
 "metadata": {
  "kernelspec": {
   "display_name": "Python 3.9.13 ('rapids-22.04')",
   "language": "python",
   "name": "python3"
  },
  "language_info": {
   "codemirror_mode": {
    "name": "ipython",
    "version": 3
   },
   "file_extension": ".py",
   "mimetype": "text/x-python",
   "name": "python",
   "nbconvert_exporter": "python",
   "pygments_lexer": "ipython3",
   "version": "3.9.13"
  },
  "orig_nbformat": 4,
  "vscode": {
   "interpreter": {
    "hash": "b90e1415fa46b83736dab8d6cd3eae9f81d06d0b168159c38749f45c97010f6d"
   }
  }
 },
 "nbformat": 4,
 "nbformat_minor": 2
}
