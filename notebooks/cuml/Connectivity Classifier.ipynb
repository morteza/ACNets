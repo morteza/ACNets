{
 "cells": [
  {
   "cell_type": "markdown",
   "metadata": {},
   "source": [
    "# Connectivity Classifier\n",
    "\n",
    "\n",
    "## Inputs\n",
    "\n",
    "Connectivity matrices\n",
    "\n",
    "## Outputs\n",
    "\n",
    "Participant's label, either AVGP or NVGP.\n",
    "\n",
    "## Requirements\n",
    "\n",
    "To run this notebook, you need to have the rapids packages installed:\n",
    "\n",
    "```\n",
    "mamba create -n rapids-22.04 -c rapidsai -c nvidia  \\\n",
    "    rapids=22.04 python=3.9 cudatoolkit=11.5 \\\n",
    "    jupyterlab nilearn xarray necdf4\n",
    "pip install ray[tune] tune-sklearn scikit-optimize\n",
    "```"
   ]
  },
  {
   "cell_type": "code",
   "execution_count": 8,
   "metadata": {},
   "outputs": [],
   "source": [
    "from cuml.model_selection import GridSearchCV\n",
    "\n",
    "import numpy as np\n",
    "\n",
    "from pathlib import Path\n",
    "from python.acnets.pipeline import ConnectivityPipeline, ConnectivityVectorizer\n",
    "\n",
    "from sklearn.pipeline import Pipeline\n",
    "from sklearn.preprocessing import LabelEncoder\n",
    "from sklearn.model_selection import StratifiedShuffleSplit\n",
    "\n",
    "from cuml import UMAP, SVC\n",
    "\n",
    "from IPython.display import display, clear_output\n",
    "\n",
    "from ray.tune.sklearn import TuneSearchCV\n",
    "\n",
    "import os\n",
    "os.environ['CUDA_VISIBLE_DEVICES'] = '0'"
   ]
  },
  {
   "cell_type": "code",
   "execution_count": 9,
   "metadata": {},
   "outputs": [],
   "source": [
    "\n",
    "# Parameters\n",
    "\n",
    "#  WARNING: Ray Tune requires these params to be absolute paths.\n",
    "BIDS_DIR = Path.home() / 'workspace/acnets/data/julia2018'\n",
    "PARCELLATION_CACHE_DIR = Path.home() / 'workspace/acnets/data/julia2018_resting'"
   ]
  },
  {
   "cell_type": "code",
   "execution_count": 10,
   "metadata": {},
   "outputs": [],
   "source": [
    "subjects = ConnectivityPipeline().transform('all').coords['subject'].values\n",
    "groups = [s[:4] for s in subjects]  # AVGP or NVGP\n",
    "\n",
    "\n",
    "X = subjects.reshape(-1, 1)\n",
    "\n",
    "y_encoder = LabelEncoder()\n",
    "y = y_encoder.fit_transform(groups)"
   ]
  },
  {
   "cell_type": "code",
   "execution_count": 25,
   "metadata": {},
   "outputs": [
    {
     "data": {
      "text/plain": [
       "0.4375"
      ]
     },
     "execution_count": 25,
     "metadata": {},
     "output_type": "execute_result"
    }
   ],
   "source": [
    "pipe  = Pipeline([\n",
    "    ('connectivity', ConnectivityPipeline(agg_networks=True,\n",
    "                                          bids_dir=BIDS_DIR,\n",
    "                                          parcellation_cache_dir=PARCELLATION_CACHE_DIR)),\n",
    "    ('vectorize', ConnectivityVectorizer()),\n",
    "    ('scale', 'passthrough'),\n",
    "    ('zerovar', 'passthrough'),\n",
    "    ('select', 'passthrough'),\n",
    "    ('reduce', 'passthrough'),\n",
    "    ('clf', SVC(probability=True))\n",
    "])\n",
    "\n",
    "# DEBUG\n",
    "pipe.fit(X, y).score(X, y)"
   ]
  },
  {
   "cell_type": "code",
   "execution_count": 26,
   "metadata": {},
   "outputs": [],
   "source": [
    "param_space = {\n",
    "    # 'scale': [StandardScaler(), 'passthrough'],\n",
    "    # 'select': [SelectFromModel(SVC(kernel='linear')),\n",
    "    #            SelectFromModel(LinearSVC(C=.1, max_iter=100000)),\n",
    "    #            'passthrough'],\n",
    "    # 'reduce': ['passthrough', FastICA(n_components=5, max_iter=1000)],\n",
    "    'reduce': ['passthrough', UMAP(n_components=2, n_neighbors=2)],\n",
    "    # 'zerovar': [VarianceThreshold(threshold=0.0), 'passthrough'],\n",
    "    # 'clf': [LinearSVC(C=.1, max_iter=100000), RandomForestClassifier(), SVC(kernel='linear', probability=True)],\n",
    "    'clf__kernel': ['linear', 'rbf'],\n",
    "    'clf__C': (1e-2, 1e3, 'log-uniform'),\n",
    "    'clf__kernel': ['linear', 'rbf'],\n",
    "    'connectivity__atlas': ['dosenbach2010'],\n",
    "    'connectivity__kind': ['correlation', 'chatterjee'],\n",
    "    'connectivity__agg_networks': [True],\n",
    "}"
   ]
  },
  {
   "cell_type": "code",
   "execution_count": 27,
   "metadata": {},
   "outputs": [
    {
     "data": {
      "text/html": [
       "== Status ==<br>Current time: 2022-06-13 15:04:51 (running for 00:06:19.85)<br>Memory usage on this node: 24.9/62.7 GiB<br>Using FIFO scheduling algorithm.<br>Resources requested: 1.0/8 CPUs, 1.0/1 GPUs, 0.0/34.7 GiB heap, 0.0/17.35 GiB objects (0.0/1.0 accelerator_type:G)<br>Result logdir: /home/morteza/ray_results/_Trainable_2022-06-13_14-58-31<br>Number of trials: 4/100 (1 PENDING, 1 RUNNING, 2 TERMINATED)<br><br>"
      ],
      "text/plain": [
       "<IPython.core.display.HTML object>"
      ]
     },
     "metadata": {},
     "output_type": "display_data"
    }
   ],
   "source": [
    "# Parameter Tuning + Model Fitting\n",
    "\n",
    "cv = StratifiedShuffleSplit(n_splits=100, test_size=0.25)\n",
    "\n",
    "opt = TuneSearchCV(\n",
    "    pipe,\n",
    "    param_space,\n",
    "    cv=cv,\n",
    "    n_trials=100,\n",
    "    # early_stopping=True,\n",
    "    # max_iters=10,\n",
    "    search_optimization='bayesian',\n",
    "    verbose=1,\n",
    "    scoring='accuracy',\n",
    "    use_gpu=True,\n",
    "    # search_kwargs={'resources_per_trial': {'gpu':1}},\n",
    "    n_jobs=-1)\n",
    "\n",
    "# opt = GridSearchCV(pipe, param_grid, verbose=2, cv=cv, scoring='accuracy', n_jobs=-1)\n",
    "\n",
    "opt.fit(X, y)\n",
    "\n",
    "# clear_output()\n",
    "print('best estimator:', opt.best_estimator_)\n"
   ]
  }
 ],
 "metadata": {
  "kernelspec": {
   "display_name": "Python 3.9.13 ('rapids-22.04')",
   "language": "python",
   "name": "python3"
  },
  "language_info": {
   "codemirror_mode": {
    "name": "ipython",
    "version": 3
   },
   "file_extension": ".py",
   "mimetype": "text/x-python",
   "name": "python",
   "nbconvert_exporter": "python",
   "pygments_lexer": "ipython3",
   "version": "3.9.13"
  },
  "orig_nbformat": 4,
  "vscode": {
   "interpreter": {
    "hash": "b90e1415fa46b83736dab8d6cd3eae9f81d06d0b168159c38749f45c97010f6d"
   }
  }
 },
 "nbformat": 4,
 "nbformat_minor": 2
}
