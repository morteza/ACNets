{
 "cells": [
  {
   "cell_type": "markdown",
   "metadata": {},
   "source": [
    "# Connectivity Classifier\n",
    "\n",
    "\n",
    "## Inputs\n",
    "\n",
    "Connectivity matrices\n",
    "\n",
    "## Outputs\n",
    "\n",
    "Participant's label, either AVGP or NVGP.\n",
    "\n",
    "## Requirements\n",
    "\n",
    "To run this notebook, you need to have the rapids packages installed:\n",
    "\n",
    "```bash\n",
    "mamba create -n rapids-22.04 \\\n",
    "    -c rapidsai -c nvidia -y \\\n",
    "    rapids=22.04 python=3.9 cudatoolkit=11.5 \\\n",
    "    jupyterlab ipykernel nilearn xarray netcdf4 seaborn\n",
    "\n",
    "mamba activate rapids-22.04\n",
    "\n",
    "# [Optional] Bayesian HBO\n",
    "# pip install \"ray[tune]\" tune-sklearn scikit-optimize\n",
    "```"
   ]
  },
  {
   "cell_type": "code",
   "execution_count": 1,
   "metadata": {},
   "outputs": [
    {
     "name": "stdout",
     "output_type": "stream",
     "text": [
      "cuML not installed. Skipping GPU features.\n"
     ]
    }
   ],
   "source": [
    "%reload_ext autoreload\n",
    "%autoreload 3\n",
    "\n",
    "import os\n",
    "from pathlib import Path\n",
    "\n",
    "import matplotlib.pyplot as plt\n",
    "import numpy as np\n",
    "import pandas as pd\n",
    "import scipy.stats as st\n",
    "import seaborn as sns\n",
    "from python.acnets.pipeline import ConnectivityPipeline, ConnectivityVectorizer\n",
    "from ray import tune\n",
    "from ray.tune.sklearn import TuneSearchCV\n",
    "from sklearn.dummy import DummyClassifier\n",
    "from sklearn.feature_selection import SelectFromModel, VarianceThreshold\n",
    "from sklearn.model_selection import (GridSearchCV, StratifiedShuffleSplit,\n",
    "                                     cross_val_score)\n",
    "from sklearn.pipeline import Pipeline\n",
    "from sklearn.preprocessing import LabelEncoder, StandardScaler\n",
    "\n",
    "\n",
    "try:\n",
    "    from cuml import PCA, SVC, UMAP, LinearSVC\n",
    "    os.environ['CUDA_VISIBLE_DEVICES'] = '0'\n",
    "except ImportError:\n",
    "    print('cuML not installed. Skipping GPU features.')\n",
    "\n",
    "from sklearn.svm import LinearSVC"
   ]
  },
  {
   "cell_type": "code",
   "execution_count": 2,
   "metadata": {},
   "outputs": [],
   "source": [
    "# 0. PARAMETERS\n",
    "\n",
    "#  WARNING: Ray Tune requires data paths to be absolute.\n",
    "BIDS_DIR = Path.home() / 'workspace/acnets/data/julia2018'\n",
    "CACHE_DIR = Path.home() / 'workspace/acnets/data/julia2018_resting'"
   ]
  },
  {
   "cell_type": "code",
   "execution_count": 3,
   "metadata": {},
   "outputs": [],
   "source": [
    "# 1. DATA\n",
    "\n",
    "subjects = ConnectivityPipeline().transform('all').coords['subject'].values\n",
    "groups = [s[:4] for s in subjects]  # AVGP or NVGP\n",
    "\n",
    "X = subjects.reshape(-1, 1)\n",
    "\n",
    "y_encoder = LabelEncoder()\n",
    "y = y_encoder.fit_transform(groups)"
   ]
  },
  {
   "cell_type": "code",
   "execution_count": 4,
   "metadata": {},
   "outputs": [
    {
     "data": {
      "text/plain": [
       "(0.705625,\n",
       " 0.15806322904141873,\n",
       " BootstrapResult(confidence_interval=ConfidenceInterval(low=0.683125, high=0.72625), standard_error=0.010990422302674142))"
      ]
     },
     "execution_count": 4,
     "metadata": {},
     "output_type": "execute_result"
    }
   ],
   "source": [
    "# 2. PIPELINE\n",
    "\n",
    "from sklearn.decomposition import PCA\n",
    "\n",
    "pipe  = Pipeline([\n",
    "    ('connectivity', ConnectivityPipeline(bids_dir=BIDS_DIR, parcellation_cache_dir=CACHE_DIR)),\n",
    "    ('vectorize', ConnectivityVectorizer()),\n",
    "    ('scale', StandardScaler()),\n",
    "    ('zerovar', VarianceThreshold()),\n",
    "    ('select', SelectFromModel(LinearSVC(penalty='l1', dual=False, max_iter=10000))),\n",
    "    # ('reduce', PCA()),\n",
    "    ('clf', LinearSVC(penalty='l1', dual=False, max_iter=10000))\n",
    "])\n",
    "\n",
    "# DEBUG\n",
    "# pipe.fit(X, y).score(X, y)\n",
    "\n",
    "# DEBUG: test some good defaults\n",
    "pipe.set_params(connectivity__kind='partial correlation')\n",
    "\n",
    "scores = cross_val_score(pipe, X, y,\n",
    "                         cv=StratifiedShuffleSplit(n_splits=200, test_size=8),\n",
    "                         scoring='accuracy',\n",
    "                         n_jobs=-1)\n",
    "bootstrap_ci = st.bootstrap(scores.reshape(1,-1), np.mean)\n",
    "scores.mean(), scores.std(), bootstrap_ci"
   ]
  },
  {
   "cell_type": "code",
   "execution_count": null,
   "metadata": {},
   "outputs": [
    {
     "name": "stdout",
     "output_type": "stream",
     "text": [
      "skipping bayesian optimization...\n"
     ]
    }
   ],
   "source": [
    "%%script echo skipping bayesian optimization...\n",
    "\n",
    "# HPO: Bayesian Optimization\n",
    "\n",
    "param_space = {\n",
    "    # 'scale': tune.choice([StandardScaler(), 'passthrough']),\n",
    "    # 'select': tune.choice([SelectFromModel(LinearSVC(penalty='l2')), 'passthrough']),\n",
    "    'clf__C': tune.loguniform(1e-2, 1e3),\n",
    "    'connectivity__atlas': tune.choice(['dosenbach2010']),#, 'gordon2014_2mm', 'difumo_64_2mm', 'seitzman2018'],\n",
    "    'connectivity__kind': tune.choice(['partial correlation', 'chatterjee', 'correlation', 'tangent']),\n",
    "}\n",
    "\n",
    "opt = TuneSearchCV(\n",
    "    pipe,\n",
    "    param_space,\n",
    "    cv=4,\n",
    "    n_trials=10,\n",
    "    # early_stopping=True,\n",
    "    max_iters=2,\n",
    "    search_optimization='bayesian',\n",
    "    verbose=1,\n",
    "    scoring='accuracy',\n",
    "    use_gpu=True,\n",
    "    n_jobs=-1)\n",
    "\n",
    "opt.fit(X, y)\n",
    "\n",
    "print('best estimator:', opt.best_estimator_)\n"
   ]
  },
  {
   "cell_type": "code",
   "execution_count": null,
   "metadata": {},
   "outputs": [
    {
     "name": "stdout",
     "output_type": "stream",
     "text": [
      "Fitting 100 folds for each of 3 candidates, totalling 300 fits\n",
      "best estimator: Pipeline(steps=[('connectivity',\n",
      "                 ConnectivityPipeline(bids_dir=PosixPath('/Users/morteza/workspace/acnets/data/julia2018'), kind='partial correlation', parcellation_cache_dir=PosixPath('/Users/morteza/workspace/acnets/data/julia2018_resting'))),\n",
      "                ('vectorize', ConnectivityVectorizer()),\n",
      "                ('scale', StandardScaler()), ('zerovar', VarianceThreshold()),\n",
      "                ('select',\n",
      "                 SelectFromModel(estimator=LinearSVC(dual=False, max_iter=10000,\n",
      "                                                     penalty='l1'))),\n",
      "                ('clf', LinearSVC(dual=False, max_iter=10000, penalty='l1'))])\n"
     ]
    }
   ],
   "source": [
    "# HPO: Grid Search\n",
    "\n",
    "param_grid = {\n",
    "    # 'connectivity__atlas': ['gordon2014_2mm', 'dosenbach2010', 'difumo_64_2mm'],\n",
    "    'connectivity__atlas': ['dosenbach2010'],\n",
    "    'connectivity__kind': ['partial correlation', 'chatterjee', 'tangent'],\n",
    "}\n",
    "\n",
    "grid = GridSearchCV(\n",
    "    pipe,\n",
    "    param_grid,\n",
    "    cv=StratifiedShuffleSplit(n_splits=100, test_size=8),\n",
    "    verbose=1,\n",
    "    scoring='accuracy')\n",
    "\n",
    "grid.fit(X, y)\n",
    "\n",
    "print('best estimator:', grid.best_estimator_)\n"
   ]
  },
  {
   "cell_type": "code",
   "execution_count": null,
   "metadata": {},
   "outputs": [
    {
     "data": {
      "image/png": "[encoded data removed]",
      "text/plain": [
       "<Figure size 237.6x360 with 1 Axes>"
      ]
     },
     "metadata": {
      "needs_background": "light"
     },
     "output_type": "display_data"
    }
   ],
   "source": [
    "def _create_label(params):\n",
    "    return f'$\\\\bf{{{params[0]}}}$\\n{params[1]}'.replace('_', '\\\\_')\n",
    "\n",
    "\n",
    "def plot_scores(grid, X=None, y=None, plot_chance=True):\n",
    "\n",
    "    # prep data\n",
    "    scores = pd.DataFrame(grid.cv_results_)\n",
    "    scores['label'] = scores['params'].apply(lambda p: _create_label(list(p.values())))\n",
    "    split_score_cols = [c for c in scores.columns if 'split' in c]\n",
    "    scores['cv_test_score'] = scores[split_score_cols].apply(lambda x: list(x), axis=1)\n",
    "    scores = scores.explode('cv_test_score').reset_index(drop=True)\n",
    "    scores = scores.sort_values('rank_test_score', ascending=False)\n",
    "\n",
    "    _, ax = plt.subplots(figsize=(len(grid.cv_results_['params']) * 1.1, 5))\n",
    "\n",
    "    # score curve + CI\n",
    "    sns.lineplot(data=scores, x='label', y='cv_test_score', lw=3, sort=False, ax=ax)\n",
    "\n",
    "    # blue dots\n",
    "    sns.scatterplot(data=scores, x='label', y='mean_test_score', marker='o', s=100, ax=ax, label='_nolegend_')\n",
    "\n",
    "    if plot_chance:\n",
    "        # simulate chance\n",
    "        chance_scores = {}\n",
    "        for model_name in scores['label'].unique():\n",
    "            chance_model = DummyClassifier(strategy='stratified').fit(X, y)\n",
    "            _chance_scores = cross_val_score(chance_model, X, y, cv=grid.cv, scoring=grid.scoring)\n",
    "            chance_scores[model_name] = _chance_scores\n",
    "\n",
    "        chance_scores = pd.DataFrame(chance_scores)\n",
    "        chance_scores = chance_scores.melt(value_name=grid.scoring, var_name='label')\n",
    "\n",
    "        # plot chance\n",
    "        sns.lineplot(data=chance_scores, x='label', y=grid.scoring, lw=2, sort=False, ax=ax, color='red')\n",
    "\n",
    "    # legend\n",
    "    ax.legend(['average', '95% CI', 'chance'],\n",
    "                title_fontproperties={'weight': 'bold', 'size': 'x-large'},\n",
    "                prop={'size': 'x-large'}, loc='upper left',\n",
    "                title=f'{grid.cv.n_splits} $\\\\times$ {32 // grid.cv.test_size}-fold CV')\n",
    "\n",
    "    # tweaks\n",
    "    ax.set_xlabel('')\n",
    "    ax.set_ylabel(grid.scoring, fontsize='xx-large')\n",
    "    plt.xticks(rotation=45, ha='right', fontsize='x-large', rotation_mode='anchor')\n",
    "    plt.suptitle(f'classification {grid.scoring} (validation set)', fontsize='xx-large', y=.95)\n",
    "    plt.grid(axis='y')\n",
    "\n",
    "\n",
    "\n",
    "plot_scores(grid, X, y)\n",
    "plt.show()"
   ]
  },
  {
   "cell_type": "code",
   "execution_count": null,
   "metadata": {},
   "outputs": [
    {
     "name": "stderr",
     "output_type": "stream",
     "text": [
      "[Parallel(n_jobs=-1)]: Using backend LokyBackend with 12 concurrent workers.\n",
      "[Parallel(n_jobs=-1)]: Done  26 tasks      | elapsed:    6.6s\n",
      "[Parallel(n_jobs=-1)]: Done 100 out of 100 | elapsed:   17.9s finished\n"
     ]
    },
    {
     "data": {
      "image/png": "[encoded data removed]",
      "text/plain": [
       "<Figure size 576x360 with 1 Axes>"
      ]
     },
     "metadata": {
      "needs_background": "light"
     },
     "output_type": "display_data"
    }
   ],
   "source": [
    "from sklearn.model_selection import permutation_test_score\n",
    "\n",
    "_, perm_scores, pvalue = permutation_test_score(grid.best_estimator_, X, y,\n",
    "                                                scoring='accuracy',\n",
    "                                                n_permutations=100,\n",
    "                                                cv=4,\n",
    "                                                n_jobs=-1, verbose=1)\n",
    "\n",
    "cv_scores = cross_val_score(grid.best_estimator_, X, y,\n",
    "                            cv=StratifiedShuffleSplit(n_splits=100, test_size=8),\n",
    "                            scoring='accuracy', n_jobs=-1)\n",
    "\n",
    "\n",
    "# Now plot permuted scores along with the cross-validated scores\n",
    "\n",
    "_, ax = plt.subplots(figsize=(8,5))\n",
    "\n",
    "# permutation scores\n",
    "sns.histplot(perm_scores, kde=True, ax=ax, color='red', lw=0)\n",
    "ax.axvline(perm_scores.mean(), color='red', ls='--', label='_nolegend_')\n",
    "\n",
    "# observation scores\n",
    "sns.histplot(cv_scores, kde=True, ax=ax, color='darkblue', lw=0)\n",
    "ax.axvline(cv_scores.mean(), color='darkblue', ls='--', label='_nolegend_')\n",
    "\n",
    "# tweaks\n",
    "plt.xlabel('accuracy', fontsize='xx-large')\n",
    "plt.xticks(fontsize='x-large')\n",
    "\n",
    "plt.suptitle(f'Permutation testing (N={len(perm_scores)})', x = .34, y=.95, fontsize='xx-large')\n",
    "plt.legend(['permuted labels', 'observed scores'], loc='upper left', fontsize='x-large')\n",
    "\n",
    "plt.show()"
   ]
  },
  {
   "cell_type": "code",
   "execution_count": null,
   "metadata": {},
   "outputs": [
    {
     "data": {
      "application/vnd.jupyter.widget-view+json": {
       "model_id": "0fd266e09b894f4b9b63522537d8183c",
       "version_major": 2,
       "version_minor": 0
      },
      "text/plain": [
       "  0%|          | 0/100 [00:00<?, ?it/s]"
      ]
     },
     "metadata": {},
     "output_type": "display_data"
    }
   ],
   "source": [
    "from sklearn.inspection import permutation_importance\n",
    "from tqdm.auto import tqdm\n",
    "\n",
    "cv = StratifiedShuffleSplit(n_splits=100, test_size=8)\n",
    "\n",
    "model: Pipeline = grid.best_estimator_  # type: ignore\n",
    "\n",
    "model.set_params(connectivity__kind='tangent')\n",
    "\n",
    "X_conn = model[:2].transform(X)\n",
    "feature_names = model[:2].get_feature_names_out()\n",
    "\n",
    "importances = []\n",
    "\n",
    "for train, test in tqdm(cv.split(X,y), total=cv.get_n_splits(X,y)):\n",
    "    model.fit(X[train], y[train])\n",
    "\n",
    "    results = permutation_importance(model[2:], X_conn[test], y[test],\n",
    "                                     scoring=grid.scoring,\n",
    "                                     n_jobs=1)\n",
    "    importances.append(results.importances.T)\n",
    "\n",
    "\n",
    "importances = pd.DataFrame(np.vstack(importances), columns=feature_names)\n"
   ]
  },
  {
   "cell_type": "code",
   "execution_count": null,
   "metadata": {},
   "outputs": [],
   "source": [
    "importances"
   ]
  },
  {
   "cell_type": "code",
   "execution_count": null,
   "metadata": {},
   "outputs": [],
   "source": [
    "# PLOT FEATURE IMPORTANCE\n",
    "\n",
    "# sort by mean importance\n",
    "sorted_columns = importances.mean(axis=0).sort_values(ascending=False).index\n",
    "perm_imp_scores = importances[sorted_columns]\n",
    "\n",
    "_, ax = plt.subplots(1,1,figsize=(5,7))\n",
    "sns.barplot(data=perm_imp_scores,\n",
    "            orient='horizontal',\n",
    "            capsize=.3,\n",
    "            errwidth=2,\n",
    "            ax=ax)\n",
    "\n",
    "plt.xticks(fontsize='x-large')\n",
    "plt.yticks(fontsize='x-large')\n",
    "plt.show()"
   ]
  },
  {
   "cell_type": "markdown",
   "metadata": {},
   "source": [
    "## Appendix"
   ]
  },
  {
   "cell_type": "code",
   "execution_count": 47,
   "metadata": {},
   "outputs": [
    {
     "data": {
      "text/html": [
       "<div>\n",
       "<style scoped>\n",
       "    .dataframe tbody tr th:only-of-type {\n",
       "        vertical-align: middle;\n",
       "    }\n",
       "\n",
       "    .dataframe tbody tr th {\n",
       "        vertical-align: top;\n",
       "    }\n",
       "\n",
       "    .dataframe thead th {\n",
       "        text-align: right;\n",
       "    }\n",
       "</style>\n",
       "<table border=\"1\" class=\"dataframe\">\n",
       "  <thead>\n",
       "    <tr style=\"text-align: right;\">\n",
       "      <th></th>\n",
       "      <th>train_size</th>\n",
       "      <th>mean_train_score</th>\n",
       "      <th>mean_test_score</th>\n",
       "    </tr>\n",
       "  </thead>\n",
       "  <tbody>\n",
       "    <tr>\n",
       "      <th>0</th>\n",
       "      <td>16</td>\n",
       "      <td>0.968750</td>\n",
       "      <td>0.6500</td>\n",
       "    </tr>\n",
       "    <tr>\n",
       "      <th>1</th>\n",
       "      <td>18</td>\n",
       "      <td>0.972222</td>\n",
       "      <td>0.6875</td>\n",
       "    </tr>\n",
       "    <tr>\n",
       "      <th>2</th>\n",
       "      <td>20</td>\n",
       "      <td>0.965000</td>\n",
       "      <td>0.6500</td>\n",
       "    </tr>\n",
       "    <tr>\n",
       "      <th>3</th>\n",
       "      <td>22</td>\n",
       "      <td>0.972727</td>\n",
       "      <td>0.6875</td>\n",
       "    </tr>\n",
       "    <tr>\n",
       "      <th>4</th>\n",
       "      <td>24</td>\n",
       "      <td>0.950000</td>\n",
       "      <td>0.7500</td>\n",
       "    </tr>\n",
       "  </tbody>\n",
       "</table>\n",
       "</div>"
      ],
      "text/plain": [
       "   train_size  mean_train_score  mean_test_score\n",
       "0          16          0.968750           0.6500\n",
       "1          18          0.972222           0.6875\n",
       "2          20          0.965000           0.6500\n",
       "3          22          0.972727           0.6875\n",
       "4          24          0.950000           0.7500"
      ]
     },
     "execution_count": 47,
     "metadata": {},
     "output_type": "execute_result"
    }
   ],
   "source": [
    "# Learning Curve Analysis\n",
    "\n",
    "from sklearn.model_selection import learning_curve\n",
    "import pandas as pd\n",
    "\n",
    "train_sizes, train_scores, test_scores = learning_curve(grid.best_estimator_, X, y,\n",
    "                                                        cv=StratifiedShuffleSplit(n_splits=10, test_size=8),\n",
    "                                                        scoring='accuracy',\n",
    "                                                        n_jobs=-1,\n",
    "                                                        shuffle=True,\n",
    "                                                        train_sizes=np.array([16, 18, 20, 22, 24]))\n",
    "\n",
    "\n",
    "learning_curve_results = pd.DataFrame({\n",
    "    'train_size': train_sizes,\n",
    "    'mean_train_score': train_scores.mean(axis=1),\n",
    "    'mean_test_score': test_scores.mean(axis=1)\n",
    "})\n",
    "\n",
    "learning_curve_results"
   ]
  }
 ],
 "metadata": {
  "kernelspec": {
   "display_name": "Python 3.9.10 ('acnets')",
   "language": "python",
   "name": "python3"
  },
  "language_info": {
   "codemirror_mode": {
    "name": "ipython",
    "version": 3
   },
   "file_extension": ".py",
   "mimetype": "text/x-python",
   "name": "python",
   "nbconvert_exporter": "python",
   "pygments_lexer": "ipython3",
   "version": "3.9.13"
  },
  "orig_nbformat": 4,
  "vscode": {
   "interpreter": {
    "hash": "34f04479ffaeb5c00adb9e28a92647dce776275bf5ee61de72266754f4451f1a"
   }
  }
 },
 "nbformat": 4,
 "nbformat_minor": 2
}
