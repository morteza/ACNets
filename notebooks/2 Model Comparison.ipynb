{
 "cells": [
  {
   "attachments": {},
   "cell_type": "markdown",
   "metadata": {},
   "source": [
    "Here, we want to know the model with the best explanatory power, compared to the rest.\n",
    "\n",
    "## Requirements\n",
    "\n",
    "```bash\n",
    "\n",
    "mamba create -n acnets_bambi\n",
    "mamba activate acnets_bambi\n",
    "mamba install bambi ipykernel seaborn watermark\n",
    "```"
   ]
  },
  {
   "cell_type": "code",
   "execution_count": 1,
   "metadata": {},
   "outputs": [],
   "source": [
    "import bambi\n",
    "import arviz as az\n",
    "import xarray as xr\n",
    "import re\n",
    "import pandas as pd\n",
    "import matplotlib.pyplot as plt"
   ]
  },
  {
   "cell_type": "code",
   "execution_count": 2,
   "metadata": {},
   "outputs": [],
   "source": [
    "INPUT_MODEL_NAME = 'connectivities_classifier-SVML1_measure-accuracy_top-10_cv-100x4fold'\n",
    "OUTPUT_MODEL_NAME = f'{INPUT_MODEL_NAME}_bambi-1000draws'"
   ]
  },
  {
   "cell_type": "code",
   "execution_count": 3,
   "metadata": {},
   "outputs": [],
   "source": [
    "results = xr.open_dataset(f'models/{INPUT_MODEL_NAME}.nc').load()\n",
    "\n",
    "split_score_cols = [c for c in list(results.keys()) if re.match(r'split\\d+_test_score', c)]\n",
    "grid_cv_results = results[split_score_cols + ['rank_test_score', 'mean_test_score']].to_pandas()\n",
    "grid_cv_results.index.name = 'label'\n",
    "grid_cv_results = grid_cv_results.reset_index()\n",
    "\n",
    "scores = grid_cv_results\n",
    "# scores['label'] = scores['params'].apply(lambda p: _create_label(list(p.values())))\n",
    "split_score_cols = [c for c in scores.columns if 'split' in c]\n",
    "scores['score'] = scores[split_score_cols].apply(lambda x: list(x), axis=1)\n",
    "scores = scores.explode('score').reset_index(drop=True)\n",
    "scores = scores.sort_values('rank_test_score', ascending=False)\n",
    "scores['label'] = scores['label'].apply(lambda x: x.replace('partial correlation', 'partial_correlation'))\n",
    "\n",
    "scores[['atlas','connectivity_metric']] = scores['label'].apply(lambda x: x.split(' ')).apply(pd.Series)\n",
    "scores = scores[['atlas', 'connectivity_metric', 'score']]\n",
    "\n",
    "# proportion of correct predictions\n",
    "scores['score'] = scores['score'] * 100\n",
    "\n",
    "def cleanup_label(label):\n",
    "    label = label.replace('dosenbach2010', 'Dosenbach2010')\n",
    "    label = label.replace('gordon2014_2mm', 'Gordon2014')\n",
    "    label = label.replace('difumo_64_2mm', 'DiFuMo64')\n",
    "    label = label.replace(', ',' : ')\n",
    "    return label\n",
    "\n",
    "scores['connectivity_metric'] = scores['connectivity_metric'].apply(cleanup_label)\n",
    "scores['atlas'] = scores['atlas'].apply(cleanup_label)\n",
    "\n",
    "scores.columns = ['P', 'C', 'y']\n"
   ]
  },
  {
   "cell_type": "code",
   "execution_count": 4,
   "metadata": {},
   "outputs": [],
   "source": [
    "\n",
    "# metric_cats=['covariance', 'tangent', 'correlation', 'partial_correlation','precision']\n",
    "# atlas_cats=[\"DiFuMo64\", \"Dosenbach2010\", \"Gordon2014\"]\n",
    "# scores['atlas2'] = scores['atlas'].astype('category').cat.reorder_categories(atlas_cats)\n",
    "# scores['connectivity_metric2'] = scores['connectivity_metric'].astype('category').cat.reorder_categories(metric_cats)\n",
    "\n",
    "# scores['atlas2'] = scores['atlas2'].cat.as_ordered()\n",
    "# scores['connectivity_metric2'] = scores['connectivity_metric2'].cat.as_ordered()"
   ]
  },
  {
   "cell_type": "code",
   "execution_count": 5,
   "metadata": {},
   "outputs": [
    {
     "name": "stderr",
     "output_type": "stream",
     "text": [
      "/home/morteza/mambaforge/envs/acnets_bambi/lib/python3.10/site-packages/bambi/models.py:1009: UserWarning: Formattings other than 'plain' are currently not supported.\n",
      "  graphviz = pm.model_to_graphviz(model=self.backend.model, formatting=formatting)\n"
     ]
    },
    {
     "data": {},
     "execution_count": 5,
     "metadata": {},
     "output_type": "execute_result"
    }
   ],
   "source": [
    "model = bambi.Model('y ~ P * C', scores, family='gaussian', auto_scale=True)\n",
    "model.build()\n",
    "model.graph('plain_with_params', name='outputs/figures/bayesian_model', dpi=300, fmt='png')\n"
   ]
  },
  {
   "cell_type": "code",
   "execution_count": 6,
   "metadata": {},
   "outputs": [
    {
     "name": "stderr",
     "output_type": "stream",
     "text": [
      "Auto-assigning NUTS sampler...\n",
      "Initializing NUTS using adapt_diag...\n",
      "Multiprocess sampling (4 chains in 4 jobs)\n"
     ]
    },
    {
     "data": {
      "text/html": [
       "\n",
       "<style>\n",
       "    /* Turns off some styling */\n",
       "    progress {\n",
       "        /* gets rid of default border in Firefox and Opera. */\n",
       "        border: none;\n",
       "        /* Needs to be in here for Safari polyfill so background images work as expected. */\n",
       "        background-size: auto;\n",
       "    }\n",
       "    progress:not([value]), progress:not([value])::-webkit-progress-bar {\n",
       "        background: repeating-linear-gradient(45deg, #7e7e7e, #7e7e7e 10px, #5c5c5c 10px, #5c5c5c 20px);\n",
       "    }\n",
       "    .progress-bar-interrupted, .progress-bar-interrupted::-webkit-progress-bar {\n",
       "        background: #F44336;\n",
       "    }\n",
       "</style>\n"
      ],
      "text/plain": [
       "<IPython.core.display.HTML object>"
      ]
     },
     "metadata": {},
     "output_type": "display_data"
    },
    {
     "data": {
      "text/html": [
       "\n",
       "    <div>\n",
       "      <progress value='12000' class='' max='12000' style='width:300px; height:20px; vertical-align: middle;'></progress>\n",
       "    </div>\n",
       "    "
      ],
      "text/plain": [
       "<IPython.core.display.HTML object>"
      ]
     },
     "metadata": {},
     "output_type": "display_data"
    },
    {
     "name": "stderr",
     "output_type": "stream",
     "text": []
    },
    {
     "data": {
      "text/plain": [
       "'outputs/model_comparison/connectivities_classifier-SVML1_measure-accuracy_top-10_cv-100x4fold_bambi-1000draws_2.nc'"
      ]
     },
     "execution_count": 6,
     "metadata": {},
     "output_type": "execute_result"
    }
   ],
   "source": [
    "fitted = model.fit(tune=1000, draws=2000, init='adapt_diag')\n",
    "\n",
    "fitted.to_netcdf(f'outputs/model_comparison/{OUTPUT_MODEL_NAME}_2.nc')"
   ]
  },
  {
   "attachments": {},
   "cell_type": "markdown",
   "metadata": {},
   "source": [
    "## Part 2: Visualization"
   ]
  },
  {
   "cell_type": "code",
   "execution_count": null,
   "metadata": {},
   "outputs": [
    {
     "data": {},
     "execution_count": 7,
     "metadata": {},
     "output_type": "execute_result"
    }
   ],
   "source": [
    "fitted = az.data.inference_data.InferenceData.from_netcdf(f'outputs/model_comparison/{OUTPUT_MODEL_NAME}.nc')\n",
    "\n",
    "az.summary(fitted).sort_values('mean', ascending=False).to_csv(f'outputs/model_comparison/summary_{OUTPUT_MODEL_NAME}.csv')\n",
    "\n",
    "az.summary(fitted).sort_values('mean', ascending=False).to_markdown(f'outputs/model_comparison/summary_{OUTPUT_MODEL_NAME}.md')\n",
    "\n",
    "az.summary(fitted).sort_values('mean', ascending=False)\n",
    "# DEBUG plot using arviz\n",
    "# az.plot_trace(fitted, legend=True)\n",
    "# plt.tight_layout()\n",
    "# plt.show()"
   ]
  },
  {
   "cell_type": "code",
   "execution_count": null,
   "metadata": {},
   "outputs": [
    {
     "data": {
      "text/plain": [
       "<Figure size 900x900 with 3 Axes>"
      ]
     },
     "metadata": {},
     "output_type": "display_data"
    }
   ],
   "source": [
    "posteriors = []\n",
    "for v in fitted['posterior'].data_vars:\n",
    "    if 'sigma' in v or 'Intercept' in v:\n",
    "        continue\n",
    "    posterior = fitted['posterior'][v].to_dataframe().reset_index()\n",
    "    posterior['parameter'] = v\n",
    "    posterior['variable'] = posterior[f'{v}_dim'].apply(cleanup_label)\n",
    "    posterior['posterior'] = posterior[v]\n",
    "    posterior = posterior[['parameter', 'variable', 'posterior']].copy()\n",
    "    posteriors.append(posterior)\n",
    "\n",
    "\n",
    "posteriors = pd.concat(posteriors)\n",
    "\n",
    "import seaborn as sns\n",
    "sns.set('paper', 'ticks', font_scale=1.5, rc={\n",
    "    'xtick.bottom': True,\n",
    "    'ytick.left': True,\n",
    "    'axes.edgecolor': 'k',\n",
    "    'axes.linewidth': 1.25,\n",
    "    'axes.grid': True\n",
    "})\n",
    "\n",
    "def hdi_errorbar(**kwargs):\n",
    "    az.summary(fitted, fmt='wide').loc['atlas[difumo_64_2mm]']['hdi_3%']\n",
    "    print(kwargs)\n",
    "\n",
    "g = sns.catplot(data=posteriors,\n",
    "            y='variable',\n",
    "            x='posterior',\n",
    "            col='parameter',\n",
    "            sharey=False,\n",
    "            join=False,\n",
    "            sharex=True,\n",
    "            scale=1.2,\n",
    "            col_wrap=1,\n",
    "            color='k',\n",
    "            errorbar=('sd', 2), capsize=0,\n",
    "            kind='point',\n",
    "            height=3, aspect=3,\n",
    ")\n",
    "\n",
    "g.axes[0].yaxis.grid(True)\n",
    "g.axes[1].yaxis.grid(True)\n",
    "g.axes[2].yaxis.grid(True)\n",
    "\n",
    "# g.set_xticklabels(fontsize=10)\n",
    "# g.set_titles(template='{col_name}')\n",
    "\n",
    "g.axes[0].set_title(r'$P$ (atlas)', fontweight='bold')\n",
    "g.axes[1].set_title('$C$ (connectivity metric)', fontweight='bold')\n",
    "g.axes[2].set_title('$P:C$ (interaction between atlas and connectivity metric)', fontweight='bold')\n",
    "\n",
    "# , baseline = DiFuMo64)\n",
    "\n",
    "g.set_axis_labels(r'posterior (i.e., coefficient in $y \\sim P + C + P:C$)', '', fontsize=10)\n",
    "plt.tight_layout()\n",
    "plt.savefig(f'outputs/figures/model_comparison', dpi=300, bbox_inches='tight')\n",
    "plt.show()"
   ]
  },
  {
   "cell_type": "code",
   "execution_count": 9,
   "metadata": {},
   "outputs": [],
   "source": [
    "# posterior_predictive = model.predict(fitted, kind=\"pps\")\n",
    "# az.plot_ppc(fitted)\n"
   ]
  },
  {
   "cell_type": "code",
   "execution_count": 10,
   "metadata": {},
   "outputs": [
    {
     "name": "stdout",
     "output_type": "stream",
     "text": []
    }
   ],
   "source": [
    "%reload_ext watermark\n",
    "%watermark -n -u -v -iv -w"
   ]
  }
 ],
 "metadata": {
  "kernelspec": {
   "display_name": "Python 3.10.8 ('acnets_bambi')",
   "language": "python",
   "name": "python3"
  },
  "language_info": {
   "codemirror_mode": {
    "name": "ipython",
    "version": 3
   },
   "file_extension": ".py",
   "mimetype": "text/x-python",
   "name": "python",
   "nbconvert_exporter": "python",
   "pygments_lexer": "ipython3",
   "version": "3.10.8"
  },
  "orig_nbformat": 4,
  "vscode": {
   "interpreter": {
    "hash": "536da7d4a6b9d2fe9fe4f0792ffbb57f99932e5deb59b36d4207a973b82badad"
   }
  }
 },
 "nbformat": 4,
 "nbformat_minor": 2
}
