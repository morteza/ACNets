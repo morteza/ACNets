{
 "metadata": {
  "language_info": {
   "codemirror_mode": {
    "name": "ipython",
    "version": 3
   },
   "file_extension": ".py",
   "mimetype": "text/x-python",
   "name": "python",
   "nbconvert_exporter": "python",
   "pygments_lexer": "ipython3",
   "version": "3.8.6-final"
  },
  "orig_nbformat": 2,
  "kernelspec": {
   "name": "python3",
   "display_name": "Python 3"
  }
 },
 "nbformat": 4,
 "nbformat_minor": 2,
 "cells": [
  {
   "source": [
    "We are intersted in the following network metrics:\n",
    "- clustering degree\n",
    "- clustering coefficient\n",
    "- path length: average distance (shortest path) from each node to any other node.\n",
    "- small-world networks: charactrized by higher clustering coefficient and lower path length than random networks. Small-worldedness can be measured using the following metrics:\n",
    "    - $\\sigma = {{C / C_r} \\over {L / L_r}}$, where $r$ refers to a random network. A graph is commonly classified as small-world if $\\sigma>1$.\n",
    "    - $\\omega = L_r/L - C/C_l$, where $l$ refers to a lattice network and r refers to a random network. $\\omega$ ranges between -1 (lattice) and 1 (random). Values close to 0 means the graph features small-world characteristics.\n",
    "\n",
    "    - statistical significance of swn\n",
    "\n",
    "method: simulate C and L with regard to the probability of rewiring from low to high (regular to random). See figure 31.13 in Cohen (2014; p442)"
   ],
   "cell_type": "markdown",
   "metadata": {}
  },
  {
   "cell_type": "code",
   "execution_count": 1,
   "metadata": {},
   "outputs": [],
   "source": [
    "project_dir = '../..'"
   ]
  },
  {
   "cell_type": "code",
   "execution_count": 32,
   "metadata": {},
   "outputs": [],
   "source": [
    "import numpy as np\n",
    "import pandas as pd\n",
    "import matplotlib.pyplot as plt\n",
    "import seaborn as sns\n",
    "sns.set_style('ticks')\n",
    "\n",
    "import networkx as nx"
   ]
  },
  {
   "source": [
    "Let's first load the connectivity matrix and binarize it with a given threshold ($r$)."
   ],
   "cell_type": "markdown",
   "metadata": {}
  },
  {
   "cell_type": "code",
   "execution_count": 31,
   "metadata": {},
   "outputs": [
    {
     "output_type": "display_data",
     "data": {
      "text/plain": "<Figure size 288x288 with 1 Axes>",
      "image/svg+xml": "<?xml version=\"1.0\" encoding=\"utf-8\" standalone=\"no\"?>\n<!DOCTYPE svg PUBLIC \"-//W3C//DTD SVG 1.1//EN\"\n  \"http://www.w3.org/Graphics/SVG/1.1/DTD/svg11.dtd\">\n<!-- Created with matplotlib (https://matplotlib.org/) -->\n<svg height=\"258.747875pt\" version=\"1.1\" viewBox=\"0 0 255.68725 258.747875\" width=\"255.68725pt\" xmlns=\"http://www.w3.org/2000/svg\" xmlns:xlink=\"http://www.w3.org/1999/xlink\">\n <metadata>\n  <rdf:RDF xmlns:cc=\"http://creativecommons.org/ns#\" xmlns:dc=\"http://purl.org/dc/elements/1.1/\" xmlns:rdf=\"http://www.w3.org/1999/02/22-rdf-syntax-ns#\">\n   <cc:Work>\n    <dc:type rdf:resource=\"http://purl.org/dc/dcmitype/StillImage\"/>\n    <dc:date>2020-11-19T17:42:28.745892</dc:date>\n    <dc:format>image/svg+xml</dc:format>\n    <dc:creator>\n     <cc:Agent>\n      <dc:title>Matplotlib v3.3.3, https://matplotlib.org/</dc:title>\n     </cc:Agent>\n    </dc:creator>\n   </cc:Work>\n  </rdf:RDF>\n </metadata>\n <defs>\n  <style type=\"text/css\">*{stroke-linecap:butt;stroke-linejoin:round;}</style>\n </defs>\n <g id=\"figure_1\">\n  <g id=\"patch_1\">\n   <path d=\"M 0 258.747875 \nL 255.68725 258.747875 \nL 255.68725 0 \nL 0 0 \nz\n\" style=\"fill:#ffffff;\"/>\n  </g>\n  <g id=\"axes_1\">\n   <g id=\"patch_2\">\n    <path d=\"M 25.28725 246.747875 \nL 248.48725 246.747875 \nL 248.48725 23.547875 \nL 25.28725 23.547875 \nz\n\" style=\"fill:#ffffff;\"/>\n   </g>\n   <g clip-path=\"url(#pcead75cc1c)\">\n    <image height=\"224\" id=\"image68f06108c6\" transform=\"scale(1 -1)translate(0 -224)\" width=\"224\" x=\"25.28725\" xlink:href=\"data:image/png;base64,\niVBORw0KGgoAAAANSUhEUgAAAOAAAADgCAYAAAAaLWrhAAAEcUlEQVR4nO3dMW7dRhRA0chQkS0ke8nqsw3XKbyCwE3cCjAJeKLhvzPkOaUL++vLFw94GA7fvrz/8d9vwKX+/efvwz//8uLPAXwgQAgJEEIChJAAIfRef4D/62yr9Puff734k6xjxnfie/11Z9/VkbPvzwSEkAAhJEAICRBC2y5hLAV+NmPZwmuZgBASIIQECCEBQkiAEHrzQC61XTeyMzbxJiCEBAghAUJIgBASIIS2PQvKaxWbyqMt464b0zMmIIQECCEBQkiAEBIghGxBFza68dv1loCRzz36M66+NTUBISRACAkQQgKEkCXMhp6wbHkKExBCAoSQACEkQAgJEEKXXks44w2i7Gel419XvrDGtYSwOQFCSIAQEiCEBAghAUJIgBASIIQECCEBQkiAEHr7/u3rL58FnXVe8+jMnbOgz3Xl2dEZ/6/OPp+zoLA5AUJIgBASIIROryW8cili4dK7crGwq+JBYhMQQgKEkAAhJEAICRBCl15LyH2sclxs1tWBq1yZaQJCSIAQEiCEBAghAULIK6q5tZVeFHPEBISQACEkQAgJEEIChJAtKFsZPZdpCwqcEiCEBAghAUJIgBASIIQECCEBQkiAEBIghFxL+FCzrvd7shlXG5qAEBIghAQIIQFCSIAQ8kAuubu9Lnvkc5uAEBIghAQIIQFCSIAQut1Z0KON2krbtJGN3yqvheY6JiCEBAghAUJIgBDa9ijarseXVv98fN7IItAEhJAAISRACAkQQgKE0LZb0FW2iaPb2F23t3dz5ZFFD+TCJgQIIQFCSIAQEiCEtt2CrmJ0cza6HeVzVv9eTUAICRBCAoSQACEkQAjd7lrCGWa8enjG3z3r32RdJiCEBAghAUJIgBBa5iha8aDq6ELk1cuPWQ/1rv6+jCczASEkQAgJEEIChJAAIbTtUbQZb5qdsWVcfZPK2kxACAkQQgKEkAAhJEAILXMW9MyV5x5HN5irXHHnBS/3YQJCSIAQEiCEBAghAUJo27OgM1y51ZxxXaGt5v2ZgBASIIQECCEBQmjKUTRHo362yrE11mYCQkiAEBIghAQIIQFCaMoW9MnbzjOzXqzCvZmAEBIghAQIIQFCSIAQevv+7etlD+Su9HrpI8Xns+3kIxMQQgKEkAAhJEAICRBC276cZRU7bDtdebguExBCAoSQACEkQAi9F2+avZOVHrzdYSH0BCPtmIAQEiCEBAghAUJIgBCa8kDujC3bSm+rHWHzyGeYgBASIIQECCEBQkiAEBrago5u9nbdbF7J1pSPTEAICRBCAoSQACEkQAgtfy3h3baDd/t5rrT6C3hmMAEhJEAICRBCAoTQ8ksYnutogXK3KzBNQAgJEEIChJAAISRACE25lvBMcR3giJVerMIzmYAQEiCEBAghAUJIgBBa/izo6EbyCQ9xch8mIIQECCEBQkiAEBIghC49C7o62861HW207/Y7MwEhJEAICRBCAoTQ8kfRzlx5FI3XevLvzASEkAAhJEAICRBCAoTQD1WZF0iPzLa6AAAAAElFTkSuQmCC\" y=\"-22.747875\"/>\n   </g>\n   <g id=\"matplotlib.axis_1\">\n    <g id=\"xtick_1\">\n     <g id=\"line2d_1\">\n      <defs>\n       <path d=\"M 0 0 \nL 0 4.8 \n\" id=\"me9f7b938e1\" style=\"stroke:#262626;\"/>\n      </defs>\n      <g>\n       <use style=\"fill:#262626;stroke:#262626;\" x=\"28.148788\" xlink:href=\"#me9f7b938e1\" y=\"246.747875\"/>\n      </g>\n     </g>\n     <g id=\"line2d_2\">\n      <defs>\n       <path d=\"M 0 0 \nL 0 -4.8 \n\" id=\"mfe3d66695b\" style=\"stroke:#262626;\"/>\n      </defs>\n      <g>\n       <use style=\"fill:#262626;stroke:#262626;\" x=\"28.148788\" xlink:href=\"#mfe3d66695b\" y=\"23.547875\"/>\n      </g>\n     </g>\n     <g id=\"text_1\">\n      <!-- 0 -->\n      <g style=\"fill:#262626;\" transform=\"translate(25.701976 13.498875)scale(0.088 -0.088)\">\n       <defs>\n        <path d=\"M 4.15625 35.296875 \nQ 4.15625 48 6.765625 55.734375 \nQ 9.375 63.484375 14.515625 67.671875 \nQ 19.671875 71.875 27.484375 71.875 \nQ 33.25 71.875 37.59375 69.546875 \nQ 41.9375 67.234375 44.765625 62.859375 \nQ 47.609375 58.5 49.21875 52.21875 \nQ 50.828125 45.953125 50.828125 35.296875 \nQ 50.828125 22.703125 48.234375 14.96875 \nQ 45.65625 7.234375 40.5 3 \nQ 35.359375 -1.21875 27.484375 -1.21875 \nQ 17.140625 -1.21875 11.234375 6.203125 \nQ 4.15625 15.140625 4.15625 35.296875 \nz\nM 13.1875 35.296875 \nQ 13.1875 17.671875 17.3125 11.828125 \nQ 21.4375 6 27.484375 6 \nQ 33.546875 6 37.671875 11.859375 \nQ 41.796875 17.71875 41.796875 35.296875 \nQ 41.796875 52.984375 37.671875 58.78125 \nQ 33.546875 64.59375 27.390625 64.59375 \nQ 21.34375 64.59375 17.71875 59.46875 \nQ 13.1875 52.9375 13.1875 35.296875 \nz\n\" id=\"ArialMT-48\"/>\n       </defs>\n       <use xlink:href=\"#ArialMT-48\"/>\n      </g>\n     </g>\n    </g>\n    <g id=\"xtick_2\">\n     <g id=\"line2d_3\">\n      <g>\n       <use style=\"fill:#262626;stroke:#262626;\" x=\"56.764173\" xlink:href=\"#me9f7b938e1\" y=\"246.747875\"/>\n      </g>\n     </g>\n     <g id=\"line2d_4\">\n      <g>\n       <use style=\"fill:#262626;stroke:#262626;\" x=\"56.764173\" xlink:href=\"#mfe3d66695b\" y=\"23.547875\"/>\n      </g>\n     </g>\n     <g id=\"text_2\">\n      <!-- 5 -->\n      <g style=\"fill:#262626;\" transform=\"translate(54.317361 13.498875)scale(0.088 -0.088)\">\n       <defs>\n        <path d=\"M 4.15625 18.75 \nL 13.375 19.53125 \nQ 14.40625 12.796875 18.140625 9.390625 \nQ 21.875 6 27.15625 6 \nQ 33.5 6 37.890625 10.78125 \nQ 42.28125 15.578125 42.28125 23.484375 \nQ 42.28125 31 38.0625 35.34375 \nQ 33.84375 39.703125 27 39.703125 \nQ 22.75 39.703125 19.328125 37.765625 \nQ 15.921875 35.84375 13.96875 32.765625 \nL 5.71875 33.84375 \nL 12.640625 70.609375 \nL 48.25 70.609375 \nL 48.25 62.203125 \nL 19.671875 62.203125 \nL 15.828125 42.96875 \nQ 22.265625 47.46875 29.34375 47.46875 \nQ 38.71875 47.46875 45.15625 40.96875 \nQ 51.609375 34.46875 51.609375 24.265625 \nQ 51.609375 14.546875 45.953125 7.46875 \nQ 39.0625 -1.21875 27.15625 -1.21875 \nQ 17.390625 -1.21875 11.203125 4.25 \nQ 5.03125 9.71875 4.15625 18.75 \nz\n\" id=\"ArialMT-53\"/>\n       </defs>\n       <use xlink:href=\"#ArialMT-53\"/>\n      </g>\n     </g>\n    </g>\n    <g id=\"xtick_3\">\n     <g id=\"line2d_5\">\n      <g>\n       <use style=\"fill:#262626;stroke:#262626;\" x=\"85.379558\" xlink:href=\"#me9f7b938e1\" y=\"246.747875\"/>\n      </g>\n     </g>\n     <g id=\"line2d_6\">\n      <g>\n       <use style=\"fill:#262626;stroke:#262626;\" x=\"85.379558\" xlink:href=\"#mfe3d66695b\" y=\"23.547875\"/>\n      </g>\n     </g>\n     <g id=\"text_3\">\n      <!-- 10 -->\n      <g style=\"fill:#262626;\" transform=\"translate(80.485933 13.498875)scale(0.088 -0.088)\">\n       <defs>\n        <path d=\"M 37.25 0 \nL 28.46875 0 \nL 28.46875 56 \nQ 25.296875 52.984375 20.140625 49.953125 \nQ 14.984375 46.921875 10.890625 45.40625 \nL 10.890625 53.90625 \nQ 18.265625 57.375 23.78125 62.296875 \nQ 29.296875 67.234375 31.59375 71.875 \nL 37.25 71.875 \nz\n\" id=\"ArialMT-49\"/>\n       </defs>\n       <use xlink:href=\"#ArialMT-49\"/>\n       <use x=\"55.615234\" xlink:href=\"#ArialMT-48\"/>\n      </g>\n     </g>\n    </g>\n    <g id=\"xtick_4\">\n     <g id=\"line2d_7\">\n      <g>\n       <use style=\"fill:#262626;stroke:#262626;\" x=\"113.994942\" xlink:href=\"#me9f7b938e1\" y=\"246.747875\"/>\n      </g>\n     </g>\n     <g id=\"line2d_8\">\n      <g>\n       <use style=\"fill:#262626;stroke:#262626;\" x=\"113.994942\" xlink:href=\"#mfe3d66695b\" y=\"23.547875\"/>\n      </g>\n     </g>\n     <g id=\"text_4\">\n      <!-- 15 -->\n      <g style=\"fill:#262626;\" transform=\"translate(109.101317 13.498875)scale(0.088 -0.088)\">\n       <use xlink:href=\"#ArialMT-49\"/>\n       <use x=\"55.615234\" xlink:href=\"#ArialMT-53\"/>\n      </g>\n     </g>\n    </g>\n    <g id=\"xtick_5\">\n     <g id=\"line2d_9\">\n      <g>\n       <use style=\"fill:#262626;stroke:#262626;\" x=\"142.610327\" xlink:href=\"#me9f7b938e1\" y=\"246.747875\"/>\n      </g>\n     </g>\n     <g id=\"line2d_10\">\n      <g>\n       <use style=\"fill:#262626;stroke:#262626;\" x=\"142.610327\" xlink:href=\"#mfe3d66695b\" y=\"23.547875\"/>\n      </g>\n     </g>\n     <g id=\"text_5\">\n      <!-- 20 -->\n      <g style=\"fill:#262626;\" transform=\"translate(137.716702 13.498875)scale(0.088 -0.088)\">\n       <defs>\n        <path d=\"M 50.34375 8.453125 \nL 50.34375 0 \nL 3.03125 0 \nQ 2.9375 3.171875 4.046875 6.109375 \nQ 5.859375 10.9375 9.828125 15.625 \nQ 13.8125 20.3125 21.34375 26.46875 \nQ 33.015625 36.03125 37.109375 41.625 \nQ 41.21875 47.21875 41.21875 52.203125 \nQ 41.21875 57.421875 37.46875 61 \nQ 33.734375 64.59375 27.734375 64.59375 \nQ 21.390625 64.59375 17.578125 60.78125 \nQ 13.765625 56.984375 13.71875 50.25 \nL 4.6875 51.171875 \nQ 5.609375 61.28125 11.65625 66.578125 \nQ 17.71875 71.875 27.9375 71.875 \nQ 38.234375 71.875 44.234375 66.15625 \nQ 50.25 60.453125 50.25 52 \nQ 50.25 47.703125 48.484375 43.546875 \nQ 46.734375 39.40625 42.65625 34.8125 \nQ 38.578125 30.21875 29.109375 22.21875 \nQ 21.1875 15.578125 18.9375 13.203125 \nQ 16.703125 10.84375 15.234375 8.453125 \nz\n\" id=\"ArialMT-50\"/>\n       </defs>\n       <use xlink:href=\"#ArialMT-50\"/>\n       <use x=\"55.615234\" xlink:href=\"#ArialMT-48\"/>\n      </g>\n     </g>\n    </g>\n    <g id=\"xtick_6\">\n     <g id=\"line2d_11\">\n      <g>\n       <use style=\"fill:#262626;stroke:#262626;\" x=\"171.225712\" xlink:href=\"#me9f7b938e1\" y=\"246.747875\"/>\n      </g>\n     </g>\n     <g id=\"line2d_12\">\n      <g>\n       <use style=\"fill:#262626;stroke:#262626;\" x=\"171.225712\" xlink:href=\"#mfe3d66695b\" y=\"23.547875\"/>\n      </g>\n     </g>\n     <g id=\"text_6\">\n      <!-- 25 -->\n      <g style=\"fill:#262626;\" transform=\"translate(166.332087 13.498875)scale(0.088 -0.088)\">\n       <use xlink:href=\"#ArialMT-50\"/>\n       <use x=\"55.615234\" xlink:href=\"#ArialMT-53\"/>\n      </g>\n     </g>\n    </g>\n    <g id=\"xtick_7\">\n     <g id=\"line2d_13\">\n      <g>\n       <use style=\"fill:#262626;stroke:#262626;\" x=\"199.841096\" xlink:href=\"#me9f7b938e1\" y=\"246.747875\"/>\n      </g>\n     </g>\n     <g id=\"line2d_14\">\n      <g>\n       <use style=\"fill:#262626;stroke:#262626;\" x=\"199.841096\" xlink:href=\"#mfe3d66695b\" y=\"23.547875\"/>\n      </g>\n     </g>\n     <g id=\"text_7\">\n      <!-- 30 -->\n      <g style=\"fill:#262626;\" transform=\"translate(194.947471 13.498875)scale(0.088 -0.088)\">\n       <defs>\n        <path d=\"M 4.203125 18.890625 \nL 12.984375 20.0625 \nQ 14.5 12.59375 18.140625 9.296875 \nQ 21.78125 6 27 6 \nQ 33.203125 6 37.46875 10.296875 \nQ 41.75 14.59375 41.75 20.953125 \nQ 41.75 27 37.796875 30.921875 \nQ 33.84375 34.859375 27.734375 34.859375 \nQ 25.25 34.859375 21.53125 33.890625 \nL 22.515625 41.609375 \nQ 23.390625 41.5 23.921875 41.5 \nQ 29.546875 41.5 34.03125 44.421875 \nQ 38.53125 47.359375 38.53125 53.46875 \nQ 38.53125 58.296875 35.25 61.46875 \nQ 31.984375 64.65625 26.8125 64.65625 \nQ 21.6875 64.65625 18.265625 61.421875 \nQ 14.84375 58.203125 13.875 51.765625 \nL 5.078125 53.328125 \nQ 6.6875 62.15625 12.390625 67.015625 \nQ 18.109375 71.875 26.609375 71.875 \nQ 32.46875 71.875 37.390625 69.359375 \nQ 42.328125 66.84375 44.9375 62.5 \nQ 47.5625 58.15625 47.5625 53.265625 \nQ 47.5625 48.640625 45.0625 44.828125 \nQ 42.578125 41.015625 37.703125 38.765625 \nQ 44.046875 37.3125 47.5625 32.6875 \nQ 51.078125 28.078125 51.078125 21.140625 \nQ 51.078125 11.765625 44.234375 5.25 \nQ 37.40625 -1.265625 26.953125 -1.265625 \nQ 17.53125 -1.265625 11.296875 4.34375 \nQ 5.078125 9.96875 4.203125 18.890625 \nz\n\" id=\"ArialMT-51\"/>\n       </defs>\n       <use xlink:href=\"#ArialMT-51\"/>\n       <use x=\"55.615234\" xlink:href=\"#ArialMT-48\"/>\n      </g>\n     </g>\n    </g>\n    <g id=\"xtick_8\">\n     <g id=\"line2d_15\">\n      <g>\n       <use style=\"fill:#262626;stroke:#262626;\" x=\"228.456481\" xlink:href=\"#me9f7b938e1\" y=\"246.747875\"/>\n      </g>\n     </g>\n     <g id=\"line2d_16\">\n      <g>\n       <use style=\"fill:#262626;stroke:#262626;\" x=\"228.456481\" xlink:href=\"#mfe3d66695b\" y=\"23.547875\"/>\n      </g>\n     </g>\n     <g id=\"text_8\">\n      <!-- 35 -->\n      <g style=\"fill:#262626;\" transform=\"translate(223.562856 13.498875)scale(0.088 -0.088)\">\n       <use xlink:href=\"#ArialMT-51\"/>\n       <use x=\"55.615234\" xlink:href=\"#ArialMT-53\"/>\n      </g>\n     </g>\n    </g>\n   </g>\n   <g id=\"matplotlib.axis_2\">\n    <g id=\"ytick_1\">\n     <g id=\"line2d_17\">\n      <defs>\n       <path d=\"M 0 0 \nL -4.8 0 \n\" id=\"m36afa46d20\" style=\"stroke:#262626;\"/>\n      </defs>\n      <g>\n       <use style=\"fill:#262626;stroke:#262626;\" x=\"25.28725\" xlink:href=\"#m36afa46d20\" y=\"26.409413\"/>\n      </g>\n     </g>\n     <g id=\"text_9\">\n      <!-- 0 -->\n      <g style=\"fill:#262626;\" transform=\"translate(12.093625 29.558851)scale(0.088 -0.088)\">\n       <use xlink:href=\"#ArialMT-48\"/>\n      </g>\n     </g>\n    </g>\n    <g id=\"ytick_2\">\n     <g id=\"line2d_18\">\n      <g>\n       <use style=\"fill:#262626;stroke:#262626;\" x=\"25.28725\" xlink:href=\"#m36afa46d20\" y=\"55.024798\"/>\n      </g>\n     </g>\n     <g id=\"text_10\">\n      <!-- 5 -->\n      <g style=\"fill:#262626;\" transform=\"translate(12.093625 58.174236)scale(0.088 -0.088)\">\n       <use xlink:href=\"#ArialMT-53\"/>\n      </g>\n     </g>\n    </g>\n    <g id=\"ytick_3\">\n     <g id=\"line2d_19\">\n      <g>\n       <use style=\"fill:#262626;stroke:#262626;\" x=\"25.28725\" xlink:href=\"#m36afa46d20\" y=\"83.640183\"/>\n      </g>\n     </g>\n     <g id=\"text_11\">\n      <!-- 10 -->\n      <g style=\"fill:#262626;\" transform=\"translate(7.2 86.78962)scale(0.088 -0.088)\">\n       <use xlink:href=\"#ArialMT-49\"/>\n       <use x=\"55.615234\" xlink:href=\"#ArialMT-48\"/>\n      </g>\n     </g>\n    </g>\n    <g id=\"ytick_4\">\n     <g id=\"line2d_20\">\n      <g>\n       <use style=\"fill:#262626;stroke:#262626;\" x=\"25.28725\" xlink:href=\"#m36afa46d20\" y=\"112.255567\"/>\n      </g>\n     </g>\n     <g id=\"text_12\">\n      <!-- 15 -->\n      <g style=\"fill:#262626;\" transform=\"translate(7.2 115.405005)scale(0.088 -0.088)\">\n       <use xlink:href=\"#ArialMT-49\"/>\n       <use x=\"55.615234\" xlink:href=\"#ArialMT-53\"/>\n      </g>\n     </g>\n    </g>\n    <g id=\"ytick_5\">\n     <g id=\"line2d_21\">\n      <g>\n       <use style=\"fill:#262626;stroke:#262626;\" x=\"25.28725\" xlink:href=\"#m36afa46d20\" y=\"140.870952\"/>\n      </g>\n     </g>\n     <g id=\"text_13\">\n      <!-- 20 -->\n      <g style=\"fill:#262626;\" transform=\"translate(7.2 144.020389)scale(0.088 -0.088)\">\n       <use xlink:href=\"#ArialMT-50\"/>\n       <use x=\"55.615234\" xlink:href=\"#ArialMT-48\"/>\n      </g>\n     </g>\n    </g>\n    <g id=\"ytick_6\">\n     <g id=\"line2d_22\">\n      <g>\n       <use style=\"fill:#262626;stroke:#262626;\" x=\"25.28725\" xlink:href=\"#m36afa46d20\" y=\"169.486337\"/>\n      </g>\n     </g>\n     <g id=\"text_14\">\n      <!-- 25 -->\n      <g style=\"fill:#262626;\" transform=\"translate(7.2 172.635774)scale(0.088 -0.088)\">\n       <use xlink:href=\"#ArialMT-50\"/>\n       <use x=\"55.615234\" xlink:href=\"#ArialMT-53\"/>\n      </g>\n     </g>\n    </g>\n    <g id=\"ytick_7\">\n     <g id=\"line2d_23\">\n      <g>\n       <use style=\"fill:#262626;stroke:#262626;\" x=\"25.28725\" xlink:href=\"#m36afa46d20\" y=\"198.101721\"/>\n      </g>\n     </g>\n     <g id=\"text_15\">\n      <!-- 30 -->\n      <g style=\"fill:#262626;\" transform=\"translate(7.2 201.251159)scale(0.088 -0.088)\">\n       <use xlink:href=\"#ArialMT-51\"/>\n       <use x=\"55.615234\" xlink:href=\"#ArialMT-48\"/>\n      </g>\n     </g>\n    </g>\n    <g id=\"ytick_8\">\n     <g id=\"line2d_24\">\n      <g>\n       <use style=\"fill:#262626;stroke:#262626;\" x=\"25.28725\" xlink:href=\"#m36afa46d20\" y=\"226.717106\"/>\n      </g>\n     </g>\n     <g id=\"text_16\">\n      <!-- 35 -->\n      <g style=\"fill:#262626;\" transform=\"translate(7.2 229.866543)scale(0.088 -0.088)\">\n       <use xlink:href=\"#ArialMT-51\"/>\n       <use x=\"55.615234\" xlink:href=\"#ArialMT-53\"/>\n      </g>\n     </g>\n    </g>\n   </g>\n   <g id=\"patch_3\">\n    <path d=\"M 25.28725 246.747875 \nL 25.28725 23.547875 \n\" style=\"fill:none;stroke:#262626;stroke-linecap:square;stroke-linejoin:miter;\"/>\n   </g>\n   <g id=\"patch_4\">\n    <path d=\"M 248.48725 246.747875 \nL 248.48725 23.547875 \n\" style=\"fill:none;stroke:#262626;stroke-linecap:square;stroke-linejoin:miter;\"/>\n   </g>\n   <g id=\"patch_5\">\n    <path d=\"M 25.28725 246.747875 \nL 248.48725 246.747875 \n\" style=\"fill:none;stroke:#262626;stroke-linecap:square;stroke-linejoin:miter;\"/>\n   </g>\n   <g id=\"patch_6\">\n    <path d=\"M 25.28725 23.547875 \nL 248.48725 23.547875 \n\" style=\"fill:none;stroke:#262626;stroke-linecap:square;stroke-linejoin:miter;\"/>\n   </g>\n  </g>\n </g>\n <defs>\n  <clipPath id=\"pcead75cc1c\">\n   <rect height=\"223.2\" width=\"223.2\" x=\"25.28725\" y=\"23.547875\"/>\n  </clipPath>\n </defs>\n</svg>\n",
      "image/png": "[encoded data removed]"
     },
     "metadata": {}
    }
   ],
   "source": [
    "# params\n",
    "r = 0.2\n",
    "\n",
    "\n",
    "\n",
    "# data\n",
    "df = pd.read_csv(f'{project_dir}/outputs/julia2018_mean_resting_connectome.tsv',\n",
    "                 index_col=0, sep='\\t')\n",
    "\n",
    "# sns.heatmap(df)\n",
    "\n",
    "labels = df.columns.values.tolist()\n",
    "conn = df.values\n",
    "bin_conn = (conn>=r).astype('int')\n",
    "\n",
    "plt.matshow(bin_conn)\n",
    "plt.show()"
   ]
  },
  {
   "source": [
    "Now, we will calculate small-world property of this undirected graph."
   ],
   "cell_type": "markdown",
   "metadata": {}
  },
  {
   "cell_type": "code",
   "execution_count": 74,
   "metadata": {},
   "outputs": [
    {
     "output_type": "stream",
     "name": "stdout",
     "text": [
      "average clustering coefficient (C): 0.5260556694767222\naverage shortest path length (L): 2.5732574679943103\nSmall-world Sigma: 2.6675637527828178\nSmall-world Omega: -0.0993705636778619\n"
     ]
    }
   ],
   "source": [
    "G = nx.from_numpy_matrix(bin_conn)\n",
    "\n",
    "\n",
    "for g in [G.subgraph(c) for c in nx.connected_components(G) if len(c)>4]:\n",
    "    g = UG.subgraph(g)\n",
    "    C = nx.average_clustering(g)\n",
    "    L = nx.average_shortest_path_length(g)\n",
    "    sw_sigma = nx.smallworld.sigma(g) # must be > 1\n",
    "    sw_omega = nx.smallworld.omega(g) # must be close to 0\n",
    "    print(f'average clustering coefficient (C): {C}')\n",
    "    print(f'average shortest path length (L): {L}')\n",
    "    print(f'Small-world Sigma (>1): {sw_sigma}')\n",
    "    print(f'Small-world Omega (~0): {sw_omega}')\n",
    "\n",
    "# nx.draw_spring(G, node_size=400)"
   ]
  }
 ]
}