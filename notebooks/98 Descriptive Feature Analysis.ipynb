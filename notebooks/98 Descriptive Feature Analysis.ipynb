{
 "cells": [
  {
   "attachments": {},
   "cell_type": "markdown",
   "metadata": {},
   "source": [
    "# Data\n",
    "\n",
    "This notebook extracts time-series data from the following parcellation atlases and prepare them for further analysis:"
   ]
  },
  {
   "cell_type": "code",
   "execution_count": null,
   "metadata": {},
   "outputs": [],
   "source": [
    "import pandas as pd\n",
    "import xarray as xr\n",
    "import numpy as np\n",
    "import seaborn as sns\n",
    "import matplotlib.pyplot as plt\n",
    "\n",
    "from src.acnets.pipeline.parcellation import Parcellation\n",
    "\n",
    "from pathlib import Path\n",
    "\n",
    "from tqdm.auto import tqdm"
   ]
  },
  {
   "cell_type": "code",
   "execution_count": null,
   "metadata": {
    "tags": [
     "parameters"
    ]
   },
   "outputs": [],
   "source": [
    "BIDS_DIR = 'data/julia2018'\n",
    "PARCELLATION_CACHE_DIR = 'data/julia2018/derivatives/resting_timeseries/'"
   ]
  },
  {
   "cell_type": "code",
   "execution_count": null,
   "metadata": {},
   "outputs": [],
   "source": [
    "# data\n",
    "\n",
    "p = Parcellation(atlas_name='dosenbach2010', bids_dir=BIDS_DIR, cache_dir=PARCELLATION_CACHE_DIR)\n",
    "dataset = p.fit_transform(None)\n"
   ]
  },
  {
   "cell_type": "code",
   "execution_count": null,
   "metadata": {},
   "outputs": [],
   "source": [
    "# overall activity distributions across groups (AVGP vs NVGP)\n",
    "\n",
    "timeseries = dataset['timeseries'].to_dataframe().reset_index()\n",
    "\n",
    "# TODO normalize across subjects\n",
    "\n",
    "# h1 regions\n",
    "h1_regions = timeseries.groupby(['subject', 'region'])['timeseries'].agg(['mean','std']).reset_index()\n",
    "h1_regions['label'] = h1_regions['subject'].apply(lambda x: x[:4])\n",
    "h1_regions = h1_regions.melt(id_vars=['subject','label', 'region'], value_vars=['mean','std'])\n",
    "\n",
    "# for region in tqdm(h1_regions['region'].unique()):\n",
    "#     features_h1_region = h1_regions.query('region == @region')\n",
    "#     sns.displot(h1_regions,\n",
    "#                 x='value', hue='label', col='variable',\n",
    "#                 kind='kde', fill=True,\n",
    "#                 facet_kws=dict(sharex=False, sharey=False),\n",
    "#                 height=3)\n",
    "#     plt.suptitle(f'H1: {region}')\n",
    "#     plt.savefig(f'outputs/figures/h1_features/regions/{region}.png')\n",
    "#     plt.close()\n",
    "\n",
    "# h1 networks\n",
    "h1_networks = timeseries.groupby(['subject', 'network'])['timeseries'].agg(['mean','std']).reset_index()\n",
    "h1_networks['label'] = h1_networks['subject'].apply(lambda x: x[:4])\n",
    "h1_networks = h1_networks.melt(id_vars=['subject','label', 'network'], value_vars=['mean','std'])\n",
    "\n",
    "for network in tqdm(h1_networks['network'].unique()):\n",
    "    features_h1_region = h1_networks.query('network == @network')\n",
    "    sns.displot(h1_networks,\n",
    "                x='value', hue='label', col='variable',\n",
    "                kind='kde', fill=True,\n",
    "                facet_kws=dict(sharex=False, sharey=False),\n",
    "                height=3)\n",
    "    plt.suptitle(f'H1: {network}')\n",
    "    plt.savefig(f'outputs/figures/h1_features/networks/{network}.png')\n",
    "    plt.close()\n"
   ]
  }
 ],
 "metadata": {
  "kernelspec": {
   "display_name": "acnets",
   "language": "python",
   "name": "python3"
  },
  "language_info": {
   "codemirror_mode": {
    "name": "ipython",
    "version": 3
   },
   "file_extension": ".py",
   "mimetype": "text/x-python",
   "name": "python",
   "nbconvert_exporter": "python",
   "pygments_lexer": "ipython3",
   "version": "3.11.6"
  },
  "orig_nbformat": 4
 },
 "nbformat": 4,
 "nbformat_minor": 2
}
