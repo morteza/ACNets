{
 "metadata": {
  "language_info": {
   "codemirror_mode": {
    "name": "ipython",
    "version": 3
   },
   "file_extension": ".py",
   "mimetype": "text/x-python",
   "name": "python",
   "nbconvert_exporter": "python",
   "pygments_lexer": "ipython3",
   "version": "3.8.6-final"
  },
  "orig_nbformat": 2,
  "kernelspec": {
   "name": "python3",
   "display_name": "Python 3"
  }
 },
 "nbformat": 4,
 "nbformat_minor": 2,
 "cells": [
  {
   "cell_type": "code",
   "execution_count": 6,
   "metadata": {},
   "outputs": [],
   "source": [
    "from pathlib import Path\n",
    "import numpy as np\n",
    "import pandas as pd\n",
    "import matplotlib.pyplot as plt\n",
    "import seaborn as sns; sns.set()\n",
    "\n",
    "from nilearn.image import concat_imgs, mean_img\n",
    "from nilearn.plotting import plot_stat_map, plot_design_matrix, plot_contrast_matrix\n",
    "from nilearn.glm.first_level import FirstLevelModel\n",
    "from nilearn.reporting import get_clusters_table\n",
    "from nilearn.glm.thresholding import threshold_stats_img\n",
    "\n",
    "from bids import BIDSLayout"
   ]
  },
  {
   "cell_type": "code",
   "execution_count": 7,
   "metadata": {},
   "outputs": [],
   "source": [
    "# ACNets project folder (to access data and resources)\n",
    "project_dir = Path('.')"
   ]
  },
  {
   "cell_type": "code",
   "execution_count": 8,
   "metadata": {},
   "outputs": [
    {
     "output_type": "error",
     "ename": "BIDSValidationError",
     "evalue": "'dataset_description.json' is missing from project root. Every valid BIDS dataset must have this file.\nExample contents of 'dataset_description.json': \n{\"Name\": \"Example dataset\", \"BIDSVersion\": \"1.0.2\"}",
     "traceback": [
      "\u001b[0;31m---------------------------------------------------------------------------\u001b[0m",
      "\u001b[0;31mBIDSValidationError\u001b[0m                       Traceback (most recent call last)",
      "\u001b[0;32m<ipython-input-8-302b4b611b5d>\u001b[0m in \u001b[0;36m<module>\u001b[0;34m\u001b[0m\n\u001b[0;32m----> 1\u001b[0;31m \u001b[0mlayout\u001b[0m \u001b[0;34m=\u001b[0m \u001b[0mBIDSLayout\u001b[0m\u001b[0;34m(\u001b[0m\u001b[0mproject_dir\u001b[0m \u001b[0;34m/\u001b[0m \u001b[0;34m'data'\u001b[0m \u001b[0;34m/\u001b[0m \u001b[0;34m'julia2018'\u001b[0m\u001b[0;34m,\u001b[0m \u001b[0mderivatives\u001b[0m\u001b[0;34m=\u001b[0m\u001b[0;32mTrue\u001b[0m\u001b[0;34m)\u001b[0m\u001b[0;34m\u001b[0m\u001b[0;34m\u001b[0m\u001b[0m\n\u001b[0m\u001b[1;32m      2\u001b[0m \u001b[0;34m\u001b[0m\u001b[0m\n\u001b[1;32m      3\u001b[0m \u001b[0mtask\u001b[0m \u001b[0;34m=\u001b[0m \u001b[0;34m'attention'\u001b[0m\u001b[0;34m\u001b[0m\u001b[0;34m\u001b[0m\u001b[0m\n\u001b[1;32m      4\u001b[0m \u001b[0msessions\u001b[0m \u001b[0;34m=\u001b[0m \u001b[0;34m[\u001b[0m\u001b[0;34m'1'\u001b[0m\u001b[0;34m,\u001b[0m\u001b[0;34m'2'\u001b[0m\u001b[0;34m]\u001b[0m\u001b[0;34m\u001b[0m\u001b[0;34m\u001b[0m\u001b[0m\n\u001b[1;32m      5\u001b[0m \u001b[0;31m# subjects = ['NVGP01']\u001b[0m\u001b[0;34m\u001b[0m\u001b[0;34m\u001b[0m\u001b[0;34m\u001b[0m\u001b[0m\n",
      "\u001b[0;32m~/miniconda3/lib/python3.8/site-packages/bids/layout/layout.py\u001b[0m in \u001b[0;36m__init__\u001b[0;34m(self, root, validate, absolute_paths, derivatives, config, sources, regex_search, database_path, reset_database, indexer, **indexer_kwargs)\u001b[0m\n\u001b[1;32m    134\u001b[0m \u001b[0;34m\u001b[0m\u001b[0m\n\u001b[1;32m    135\u001b[0m         \u001b[0;31m# Validate that a valid BIDS project exists at root\u001b[0m\u001b[0;34m\u001b[0m\u001b[0;34m\u001b[0m\u001b[0;34m\u001b[0m\u001b[0m\n\u001b[0;32m--> 136\u001b[0;31m         \u001b[0mroot\u001b[0m\u001b[0;34m,\u001b[0m \u001b[0mdescription\u001b[0m \u001b[0;34m=\u001b[0m \u001b[0mvalidate_root\u001b[0m\u001b[0;34m(\u001b[0m\u001b[0mroot\u001b[0m\u001b[0;34m,\u001b[0m \u001b[0mvalidate\u001b[0m\u001b[0;34m)\u001b[0m\u001b[0;34m\u001b[0m\u001b[0;34m\u001b[0m\u001b[0m\n\u001b[0m\u001b[1;32m    137\u001b[0m \u001b[0;34m\u001b[0m\u001b[0m\n\u001b[1;32m    138\u001b[0m         \u001b[0mself\u001b[0m\u001b[0;34m.\u001b[0m\u001b[0mroot\u001b[0m \u001b[0;34m=\u001b[0m \u001b[0mroot\u001b[0m\u001b[0;34m\u001b[0m\u001b[0;34m\u001b[0m\u001b[0m\n",
      "\u001b[0;32m~/miniconda3/lib/python3.8/site-packages/bids/layout/validation.py\u001b[0m in \u001b[0;36mvalidate_root\u001b[0;34m(root, validate)\u001b[0m\n\u001b[1;32m     71\u001b[0m     \u001b[0;32mif\u001b[0m \u001b[0;32mnot\u001b[0m \u001b[0mos\u001b[0m\u001b[0;34m.\u001b[0m\u001b[0mpath\u001b[0m\u001b[0;34m.\u001b[0m\u001b[0mexists\u001b[0m\u001b[0;34m(\u001b[0m\u001b[0mtarget\u001b[0m\u001b[0;34m)\u001b[0m\u001b[0;34m:\u001b[0m\u001b[0;34m\u001b[0m\u001b[0;34m\u001b[0m\u001b[0m\n\u001b[1;32m     72\u001b[0m         \u001b[0;32mif\u001b[0m \u001b[0mvalidate\u001b[0m\u001b[0;34m:\u001b[0m\u001b[0;34m\u001b[0m\u001b[0;34m\u001b[0m\u001b[0m\n\u001b[0;32m---> 73\u001b[0;31m             raise BIDSValidationError(\n\u001b[0m\u001b[1;32m     74\u001b[0m                 \u001b[0;34m\"'dataset_description.json' is missing from project root.\"\u001b[0m\u001b[0;34m\u001b[0m\u001b[0;34m\u001b[0m\u001b[0m\n\u001b[1;32m     75\u001b[0m                 \u001b[0;34m\" Every valid BIDS dataset must have this file.\"\u001b[0m\u001b[0;34m\u001b[0m\u001b[0;34m\u001b[0m\u001b[0m\n",
      "\u001b[0;31mBIDSValidationError\u001b[0m: 'dataset_description.json' is missing from project root. Every valid BIDS dataset must have this file.\nExample contents of 'dataset_description.json': \n{\"Name\": \"Example dataset\", \"BIDSVersion\": \"1.0.2\"}"
     ]
    }
   ],
   "source": [
    "layout = BIDSLayout(project_dir / 'data/julia2018', derivatives=True)\n",
    "\n",
    "task = 'attention'\n",
    "sessions = ['1','2']\n",
    "# subjects = ['NVGP01']\n",
    "subjects = layout.get_subject()\n",
    "\n",
    "fmri_images = layout.get(task='attention', desc='preproc', suffix='bold', scope='derivatives',\n",
    "                         extension='nii.gz', return_type='filename')\n",
    "\n",
    "\n",
    "mask_images = layout.get(task='attention', desc='brain', suffix='mask', scope='derivatives',\n",
    "                         extension='nii.gz', return_type='filename')\n",
    "\n",
    "confounds_files = layout.get(task='attention', desc='confounds', suffix='timeseries',\n",
    "                             scope='derivatives', extension='tsv', return_type='filename')\n",
    "\n",
    "events = layout.get(task='attention', desc='preproc', suffix='events', scope='derivatives',\n",
    "                    extension='tsv', return_type='filename')\n",
    "\n",
    "confounds_cols = ['trans_x', 'trans_y', 'trans_z',\n",
    "                  'rot_x', 'rot_y', 'rot_z',\n",
    "                  'global_signal',\n",
    "                  'a_comp_cor_00', 'a_comp_cor_01']\n",
    "\n",
    "TR = layout.get_tr()\n"
   ]
  },
  {
   "cell_type": "code",
   "execution_count": null,
   "metadata": {},
   "outputs": [],
   "source": [
    "# %% load data\n",
    "fmri_image = concat_imgs(fmri_images)\n",
    "mean_image = mean_img(fmri_image)\n",
    "\n",
    "# apply Gaussian kernel of 8mm (foecker was 5mm) and band-pass filtering\n",
    "# run-specific intercept\n",
    "# convolve with canonical HRF\n",
    "# GLM predictor = target onset of different trial types\n",
    "# additional regressors = error, post-error, timeout, and outlier trials\n",
    "\n",
    "# combine both sessions as foecker2018 found no relevant differences acorss sessions.\n",
    "# analyze all trials (correct and incorrect)\n",
    "# foecker2018 also used SOA as regressor\n",
    "# Emiliano used 90-ROIs from Shirer for resting state https://findlab.stanford.edu/functional_ROIs.html\n",
    "# a more comperhensive atlas would be willard which contains 499 ROIs\n",
    "# Emiliano used filtering of ([0.008 0.09]) \n",
    "\n",
    "# planned contrasts:\n",
    "#   - invalid vs valid\n",
    "#   - left vs right ( * valid vs invalid)\n",
    "#   - interaction of cue vs target_position\n",
    "#   - distractors????\n",
    "\n",
    "events = pd.read_table(events)\n",
    "print(events)\n",
    "# TODO filter events\n"
   ]
  },
  {
   "cell_type": "code",
   "execution_count": null,
   "metadata": {},
   "outputs": [],
   "source": [
    "# fit GLM\n",
    "\n",
    "fmri_glm = FirstLevelModel(t_r=TR,\n",
    "                           noise_model='ar1',\n",
    "                           standardize=False,\n",
    "                           hrf_model='spm',\n",
    "                           drift_model='cosine',\n",
    "                           high_pass=.01)\n",
    "\n",
    "fmri_glm = fmri_glm.fit(fmri_images, events)\n"
   ]
  },
  {
   "cell_type": "code",
   "execution_count": null,
   "metadata": {},
   "outputs": [],
   "source": [
    "# plot design matrix\n",
    "# row=time, col=predictors\n",
    "design_matrix = fmri_glm.design_matrices_[0]\n",
    "\n",
    "plot_design_matrix(design_matrix)\n",
    "plt.show()\n",
    "\n",
    "plt.plot(design_matrix['cue'])\n",
    "plt.xlabel('scan')\n",
    "plt.title('Expected response')\n",
    "plt.show()"
   ]
  },
  {
   "cell_type": "code",
   "execution_count": null,
   "metadata": {},
   "outputs": [],
   "source": [
    "# calculate contrast matrix\n",
    "conditions = {\n",
    "    'valid': np.array([1., 0., 0., 0., 0., 0., 0., 0., 0., 0., 0., 0., 0., 0., 0., 0.]),\n",
    "    'invalid': np.array([0., 1., 0., 0., 0., 0., 0., 0., 0., 0., 0., 0., 0., 0., 0., 0.]),\n",
    "}\n",
    "\n",
    "valid_minus_invalid = conditions['valid'] - conditions['invalid']"
   ]
  },
  {
   "cell_type": "code",
   "execution_count": null,
   "metadata": {},
   "outputs": [],
   "source": [
    "# plot contrast matrix\n",
    "\n",
    "plot_contrast_matrix(valid_minus_invalid, design_matrix=design_matrix)"
   ]
  },
  {
   "cell_type": "code",
   "execution_count": null,
   "metadata": {},
   "outputs": [],
   "source": [
    "# effect size map, z map, and plot them\n",
    "eff_map = fmri_glm.compute_contrast(valid_minus_invalid, output_type='effect_size')\n",
    "\n",
    "z_map = fmri_glm.compute_contrast(valid_minus_invalid, output_type='z_score')\n",
    "\n",
    "plot_stat_map(z_map, bg_img=mean_img, threshold=3.0,\n",
    "              display_mode='z', cut_coords=3, black_bg=True,\n",
    "              title='Active minus Rest (Z>3)')\n",
    "plt.show()"
   ]
  },
  {
   "cell_type": "code",
   "execution_count": null,
   "metadata": {},
   "outputs": [],
   "source": [
    "# print clusters info and coordinates\n",
    "clean_map, threshold = threshold_stats_img(z_map, alpha=.05, height_control='fdr', cluster_threshold=10)\n",
    "\n",
    "table = get_clusters_table(z_map, stat_threshold=threshold, cluster_threshold=20)\n",
    "print(table)"
   ]
  }
 ]
}