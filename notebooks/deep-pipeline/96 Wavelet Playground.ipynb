{
 "cells": [
  {
   "cell_type": "code",
   "execution_count": null,
   "metadata": {},
   "outputs": [],
   "source": [
    "%reload_ext autoreload\n",
    "%autoreload 2\n",
    "\n",
    "from src.acnets.deep import LEMONDataModule, Julia2018DataModule\n",
    "import numpy as np\n",
    "import torch\n",
    "from torch import nn\n",
    "import torch.nn.functional  as F\n",
    "import pywt\n",
    "import matplotlib.pyplot as plt\n",
    "import seaborn as sns\n",
    "\n",
    "from src.acnets.deep.cvae import CVAE"
   ]
  },
  {
   "cell_type": "code",
   "execution_count": null,
   "metadata": {},
   "outputs": [],
   "source": [
    "datamodule = LEMONDataModule(n_subjects=8, test_ratio=None)\n",
    "# datamodule = Julia2018DataModule()\n",
    "datamodule.setup()\n",
    "batch = datamodule.train[:]"
   ]
  },
  {
   "cell_type": "code",
   "execution_count": null,
   "metadata": {},
   "outputs": [],
   "source": [
    "datamodule = LEMONDataModule(n_subjects=8, test_ratio=None)\n",
    "datamodule.setup()\n",
    "\n",
    "batch = datamodule.train[:]\n",
    "x_wavelets = batch[5] # -> shape: (subjects, wavelets, regions)\n",
    "\n",
    "n_channels = x_wavelets.shape[2]\n",
    "n_wavelets = 32\n",
    "n_embeddings = 16\n",
    "\n",
    "x = x_wavelets[:, :n_wavelets, :].transpose(1, 2)  # -> shape: (subjects, regions, wavelets)\n",
    "\n",
    "h, x_recon, loss = CVAE(n_channels, n_embeddings)(x)\n",
    "x.shape, h.shape, x_recon.shape, loss\n"
   ]
  },
  {
   "cell_type": "code",
   "execution_count": null,
   "metadata": {},
   "outputs": [],
   "source": [
    "%reload_ext autoreload\n",
    "%autoreload 2\n",
    "\n",
    "from src.acnets.deep import MultiHeadWaveletModel, LEMONDataModule, Julia2018DataModule\n",
    "\n",
    "lemon_datamodule = LEMONDataModule(\n",
    "    atlas='aal', kind='partial correlation',\n",
    "    test_ratio=.5, val_ratio=.5,\n",
    "    n_subjects=16, batch_size=201)\n",
    "lemon_datamodule.setup()\n",
    "\n",
    "julia2018_datamodule = Julia2018DataModule(\n",
    "    atlas='aal', kind='partial correlation',\n",
    "    test_ratio=.5, batch_size=16)\n",
    "julia2018_datamodule.setup()\n",
    "\n",
    "n_regions = lemon_datamodule.train[0][0].shape[1]\n",
    "n_wavelets = 124\n",
    "n_embeddings = 8\n",
    "segment_length = 32\n",
    "\n",
    "model = MultiHeadWaveletModel(n_regions, n_wavelets, n_embeddings, segment_length)\n",
    "\n",
    "trainer = model.fit(lemon_datamodule, max_epochs=300, with_classifier=False)\n",
    "tuner = model.fit(julia2018_datamodule, max_epochs=1000, with_classifier=True)"
   ]
  },
  {
   "cell_type": "code",
   "execution_count": null,
   "metadata": {},
   "outputs": [],
   "source": [
    "# Visualize embedding space\n",
    "\n",
    "from umap import UMAP\n",
    "from hdbscan import HDBSCAN\n",
    "import seaborn as sns\n",
    "import pandas as pd\n",
    "\n",
    "x_ft = torch.concat([\n",
    "    julia2018_datamodule.train[:][5],\n",
    "    julia2018_datamodule.test[:][5]\n",
    "], dim=0)\n",
    "\n",
    "y_ft = torch.concat([\n",
    "    julia2018_datamodule.train[:][6],\n",
    "    julia2018_datamodule.test[:][6]\n",
    "], dim=0)\n",
    "\n",
    "x_pt = lemon_datamodule.train[:][0][:, :n_wavelets, :]\n",
    "\n",
    "_, h_ft,_ = model.forward(x_ft.cuda())\n",
    "_, h_pt,_ = model.forward(x_pt.cuda())\n",
    "\n",
    "x_ft.shape, h_ft.shape\n",
    "\n",
    "# umap_model = UMAP(n_components=2, n_neighbors=2).fit(x_pt.reshape(x_pt.shape[0], -1))\n",
    "# x_ft_reduced = umap_model.transform(x_ft.reshape(x_ft.shape[0], -1))\n",
    "# x_pt_reduced = umap_model.transform(x_pt.reshape(x_pt.shape[0], -1))\n",
    "# sns.scatterplot(x=x_ft_reduced[:, 0], y=x_ft_reduced[:, 1], hue=y_ft)\n",
    "# sns.scatterplot(x=x_pt_reduced[:, 0], y=x_pt_reduced[:, 1], color='gray', alpha=.2)"
   ]
  }
 ],
 "metadata": {
  "kernelspec": {
   "display_name": "acnets",
   "language": "python",
   "name": "python3"
  },
  "language_info": {
   "codemirror_mode": {
    "name": "ipython",
    "version": 3
   },
   "file_extension": ".py",
   "mimetype": "text/x-python",
   "name": "python",
   "nbconvert_exporter": "python",
   "pygments_lexer": "ipython3",
   "version": "3.11.7"
  }
 },
 "nbformat": 4,
 "nbformat_minor": 2
}
