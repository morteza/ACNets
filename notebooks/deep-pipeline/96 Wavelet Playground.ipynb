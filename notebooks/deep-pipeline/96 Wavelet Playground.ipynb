{
 "cells": [
  {
   "cell_type": "code",
   "execution_count": 1,
   "metadata": {},
   "outputs": [],
   "source": [
    "%reload_ext autoreload\n",
    "%autoreload 2\n",
    "\n",
    "from src.acnets.deep.lemon_data import LEMONDataModule\n",
    "import numpy as np\n",
    "import torch\n",
    "from torch import nn\n",
    "import torch.nn.functional  as F\n",
    "import pywt\n",
    "import matplotlib.pyplot as plt\n",
    "import seaborn as sns\n",
    "\n",
    "from src.acnets.deep.cvae import CVAE"
   ]
  },
  {
   "cell_type": "code",
   "execution_count": 2,
   "metadata": {},
   "outputs": [
    {
     "data": {
      "text/plain": [
       "(torch.Size([8, 160, 32]),\n",
       " torch.Size([8, 16]),\n",
       " torch.Size([8, 160, 32]),\n",
       " tensor(3.6385, grad_fn=<AddBackward0>))"
      ]
     },
     "execution_count": 2,
     "metadata": {},
     "output_type": "execute_result"
    }
   ],
   "source": [
    "datamodule = LEMONDataModule(n_subjects=8, test_ratio=None)\n",
    "datamodule.setup()\n",
    "\n",
    "batch = datamodule.train[:]\n",
    "x_wavelets = batch[5] # -> shape: (subjects, wavelets, regions)\n",
    "\n",
    "n_channels = x_wavelets.shape[2]\n",
    "n_wavelets = 32\n",
    "n_embeddings = 16\n",
    "\n",
    "x = x_wavelets[:, :n_wavelets, :].transpose(1, 2)  # -> shape: (subjects, regions, wavelets)\n",
    "\n",
    "h, x_recon, loss = CVAE(n_channels, n_embeddings)(x)\n",
    "x.shape, h.shape, x_recon.shape, loss\n"
   ]
  },
  {
   "cell_type": "code",
   "execution_count": 3,
   "metadata": {},
   "outputs": [],
   "source": [
    "# # DEBUG PLOTS\n",
    "# plt.subplots(1, 2, figsize=(10, 3))\n",
    "# plt.subplot(1, 2, 1)\n",
    "# plt.title('original')\n",
    "# sns.heatmap(ts_regions[0].T, cmap='viridis')\n",
    "\n",
    "# # plot 100 wavelet coefficients of the first subject\n",
    "# plt.subplot(1, 2, 2)\n",
    "# plt.title('coefs')\n",
    "# sns.heatmap(wt_regions[0][:100,:].T, cmap='viridis', label='coefs')\n",
    "# plt.show()"
   ]
  }
 ],
 "metadata": {
  "kernelspec": {
   "display_name": "acnets",
   "language": "python",
   "name": "python3"
  },
  "language_info": {
   "codemirror_mode": {
    "name": "ipython",
    "version": 3
   },
   "file_extension": ".py",
   "mimetype": "text/x-python",
   "name": "python",
   "nbconvert_exporter": "python",
   "pygments_lexer": "ipython3",
   "version": "3.11.7"
  }
 },
 "nbformat": 4,
 "nbformat_minor": 2
}
