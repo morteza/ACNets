{
 "cells": [
  {
   "cell_type": "markdown",
   "metadata": {},
   "source": [
    "This notebook loads MPI LEMON MRI_Preprocessed_Derivatives data. We load the preprocessed data in MNI2mm space, parcellate into regions, and extract the time series for each regions."
   ]
  },
  {
   "cell_type": "code",
   "execution_count": 1,
   "metadata": {},
   "outputs": [],
   "source": [
    "%reload_ext autoreload\n",
    "%autoreload 2\n",
    "\n",
    "from pathlib import Path\n",
    "\n",
    "from src.acnets.parcellations.dosenbach import load_dosenbach2010_masker\n",
    "from joblib import Parallel, delayed"
   ]
  },
  {
   "cell_type": "code",
   "execution_count": 2,
   "metadata": {
    "tags": [
     "parameters"
    ]
   },
   "outputs": [],
   "source": [
    "DATASET_ROOT_PATH = Path('/mnt/Lifestream/MPI-LEMON/MRI_Preprocessed_Derivatives/')"
   ]
  },
  {
   "cell_type": "code",
   "execution_count": 3,
   "metadata": {},
   "outputs": [
    {
     "name": "stderr",
     "output_type": "stream",
     "text": [
      "[Parallel(n_jobs=-1)]: Using backend LokyBackend with 8 concurrent workers.\n",
      "[Parallel(n_jobs=-1)]: Done   4 out of  16 | elapsed:  2.9min remaining:  8.7min\n",
      "[Parallel(n_jobs=-1)]: Done   7 out of  16 | elapsed:  3.1min remaining:  3.9min\n",
      "[Parallel(n_jobs=-1)]: Done  10 out of  16 | elapsed:  5.2min remaining:  3.1min\n",
      "[Parallel(n_jobs=-1)]: Done  13 out of  16 | elapsed:  5.5min remaining:  1.3min\n",
      "[Parallel(n_jobs=-1)]: Done  16 out of  16 | elapsed:  5.5min finished\n"
     ]
    }
   ],
   "source": [
    "t2_mni2mm_files = sorted(DATASET_ROOT_PATH.glob('**/func/*MNI2mm.nii.gz'))\n",
    "\n",
    "# DEBUG\n",
    "subject_folders = DATASET_ROOT_PATH.glob('**/sub-*/')\n",
    "# subjects_without_fmri = (\n",
    "#     set(map(lambda x: x.stem, subject_folders)) - set(map(lambda x: x.parents[1].stem, t2_mni2mm_files))\n",
    "# )\n",
    "\n",
    "def extract_timeseries(t2_mni_file):\n",
    "    subject = t2_mni_file.parents[1].stem\n",
    "    atlas_masker, _ = load_dosenbach2010_masker()\n",
    "    ts = atlas_masker.fit_transform(t2_mni_file).T  # (n_regions, n_timepoints)\n",
    "    return subject, ts\n",
    "\n",
    "timeseries = Parallel(n_jobs=-1, verbose=8)(\n",
    "    delayed(extract_timeseries)(t2_mni_file)\n",
    "    for t2_mni_file in t2_mni2mm_files[:16])\n",
    "timeseries = dict(timeseries)\n"
   ]
  },
  {
   "cell_type": "code",
   "execution_count": 5,
   "metadata": {},
   "outputs": [],
   "source": [
    "import numpy as np\n",
    "import xarray as xr\n",
    "\n",
    "_, regions = load_dosenbach2010_masker()\n",
    "regions = regions.to_xarray().drop_vars('index')\n",
    "\n",
    "dataset = xr.Dataset()\n",
    "dataset.attrs['space'] = 'MNI2mm'\n",
    "dataset['timeseries'] = xr.DataArray(\n",
    "    np.stack(list(timeseries.values())),\n",
    "    dims=('subject', 'region', 'timepoint'),\n",
    "    coords={'subject': list(timeseries.keys())}\n",
    ")\n",
    "\n",
    "dataset = xr.merge([dataset, regions])\n",
    "\n",
    "# TODO normalize timeseries separately for each subject\n",
    "\n",
    "def normalize_timeseries(x: xr.DataArray):\n",
    "    \"\"\"Normalize the subject data to [-1, 1] range.\"\"\"\n",
    "    x_norm = (x - x.min(['subject'])) / (x.max(['subject']) - x.min(['subject']))\n",
    "    x_norm = x_norm * 2 - 1  # map 0 to -1, and 1 to 1\n",
    "    return x_norm\n",
    "\n",
    "dataset['timeseries'] = normalize_timeseries(dataset['timeseries'])\n",
    "\n",
    "dataset.to_netcdf('data/mpi-lemon/dosenbach2010_timeseries.nc')"
   ]
  }
 ],
 "metadata": {
  "kernelspec": {
   "display_name": "acnets",
   "language": "python",
   "name": "python3"
  },
  "language_info": {
   "codemirror_mode": {
    "name": "ipython",
    "version": 3
   },
   "file_extension": ".py",
   "mimetype": "text/x-python",
   "name": "python",
   "nbconvert_exporter": "python",
   "pygments_lexer": "ipython3",
   "version": "3.11.7"
  }
 },
 "nbformat": 4,
 "nbformat_minor": 2
}
