{
 "cells": [
  {
   "cell_type": "markdown",
   "metadata": {},
   "source": [
    "This notebook loads MPI LEMON MRI_Preprocessed_Derivatives data. We load the preprocessed data in MNI2mm space, parcellate into regions, and extract the time series for each regions."
   ]
  },
  {
   "cell_type": "code",
   "execution_count": null,
   "metadata": {},
   "outputs": [],
   "source": [
    "%reload_ext autoreload\n",
    "%autoreload 2\n",
    "\n",
    "from pathlib import Path\n",
    "from src.acnets.deep.lemon_data import LEMONDataModule\n"
   ]
  },
  {
   "cell_type": "code",
   "execution_count": null,
   "metadata": {
    "tags": [
     "parameters"
    ]
   },
   "outputs": [],
   "source": [
    "datamodule = LEMONDataModule(n_subjects=5)\n",
    "datamodule.setup()\n",
    "datamodule.train.cumulative_sizes"
   ]
  },
  {
   "cell_type": "code",
   "execution_count": null,
   "metadata": {},
   "outputs": [],
   "source": [
    "# DEBUG\n",
    "\n",
    "DATASET_ROOT_PATH = Path('/mnt/Lifestream/MPI-LEMON/MRI_Preprocessed_Derivatives/')\n",
    "\n",
    "t2_mni2mm_files = sorted(DATASET_ROOT_PATH.glob('**/func/*MNI2mm.nii.gz'))\n",
    "\n",
    "subject_folders = DATASET_ROOT_PATH.glob('**/sub-*/')\n",
    "# subjects_without_fmri = (\n",
    "#     set(map(lambda x: x.stem, subject_folders)) - set(map(lambda x: x.parents[1].stem, t2_mni2mm_files))\n",
    "# )"
   ]
  }
 ],
 "metadata": {
  "kernelspec": {
   "display_name": "acnets",
   "language": "python",
   "name": "python3"
  },
  "language_info": {
   "codemirror_mode": {
    "name": "ipython",
    "version": 3
   },
   "file_extension": ".py",
   "mimetype": "text/x-python",
   "name": "python",
   "nbconvert_exporter": "python",
   "pygments_lexer": "ipython3",
   "version": "3.11.7"
  }
 },
 "nbformat": 4,
 "nbformat_minor": 2
}
