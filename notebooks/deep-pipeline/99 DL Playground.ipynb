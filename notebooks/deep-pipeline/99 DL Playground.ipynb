{
 "cells": [
  {
   "cell_type": "markdown",
   "metadata": {},
   "source": [
    "# Deep Learning Playground\n",
    "\n",
    "We are interested in the following features:\n",
    "\n",
    "- H1: region-averaged time-series\n",
    "- H2: region-level connectivities (from H1, optional: triu-k1)\n",
    "- H3: network-averaged time-series (from H1)\n",
    "- H4: network connectivity (from H3, optional: triu-k1)\n",
    "- H5: networks connectivity (from H2, optional: triu-k0)\n",
    "\n",
    "> Note that we are not going to take the upper triangular part of the connectivity matrix and full matrices are used instead."
   ]
  },
  {
   "cell_type": "code",
   "execution_count": null,
   "metadata": {},
   "outputs": [],
   "source": [
    "%reload_ext autoreload\n",
    "%autoreload 2\n",
    "\n",
    "import torch\n",
    "import pytorch_lightning as pl\n",
    "from pytorch_lightning.callbacks import RichProgressBar\n",
    "\n",
    "from src.acnets.deep import ACNetsDataModule, MultiHeadModel"
   ]
  },
  {
   "cell_type": "code",
   "execution_count": null,
   "metadata": {},
   "outputs": [],
   "source": [
    "datamodule = ACNetsDataModule(atlas='dosenbach2010', kind='partial correlation', batch_size=8)\n",
    "datamodule.setup()\n",
    "\n",
    "n_regions = datamodule.train[0][0].shape[1]\n",
    "n_networks = datamodule.train[0][2].shape[1]\n",
    "model = MultiHeadModel(n_regions, n_networks, n_embeddings=8)\n",
    "\n",
    "# DEBUG\n",
    "trainer = pl.Trainer(accelerator='auto', max_epochs=1,\n",
    "                     log_every_n_steps=1, callbacks=[RichProgressBar()])\n",
    "\n",
    "trainer.fit(model, datamodule)\n",
    "trainer.test(model, datamodule=datamodule)"
   ]
  },
  {
   "cell_type": "code",
   "execution_count": null,
   "metadata": {},
   "outputs": [],
   "source": [
    "from ray.train.lightning import (\n",
    "    RayDDPStrategy,\n",
    "    RayLightningEnvironment,\n",
    "    RayTrainReportCallback,\n",
    "    prepare_trainer,\n",
    ")\n",
    "\n",
    "\n",
    "def train_func(config):\n",
    "    datamodule = ACNetsDataModule(atlas=config['atlas'],\n",
    "                                  kind=config['kind'],\n",
    "                                  batch_size=config['batch_size'])\n",
    "    datamodule.setup()\n",
    "\n",
    "    n_regions = datamodule.train[0][0].shape[1]\n",
    "    n_networks = datamodule.train[0][2].shape[1]\n",
    "    model = MultiHeadModel(n_regions, n_networks, n_embeddings=config['n_embeddings'])\n",
    "\n",
    "    trainer = pl.Trainer(\n",
    "        devices=\"auto\",\n",
    "        accelerator=\"auto\",\n",
    "        strategy=RayDDPStrategy(),\n",
    "        callbacks=[RayTrainReportCallback()],\n",
    "        plugins=[RayLightningEnvironment()],\n",
    "        enable_progress_bar=False,\n",
    "    )\n",
    "    trainer = prepare_trainer(trainer)\n",
    "    trainer.fit(model, datamodule=dm)"
   ]
  },
  {
   "cell_type": "code",
   "execution_count": null,
   "metadata": {},
   "outputs": [],
   "source": [
    "# DEBUG: Testing Simple Recurrent AutoEncoder\n",
    "\n",
    "import torch\n",
    "from torch import nn\n",
    "\n",
    "n_timesteps = 124\n",
    "n_networks = 6\n",
    "batch_size = 8\n",
    "hidden_size = 6\n",
    "\n",
    "x = torch.randn(batch_size, n_timesteps, n_networks)\n",
    "\n",
    "encoder = nn.LSTM(n_networks, hidden_size, batch_first=True)\n",
    "decoder = nn.LSTM(hidden_size, hidden_size, batch_first=True)\n",
    "\n",
    "_, (h_enc, c_enc) = encoder(x)\n",
    "x_dec = torch.randn(batch_size, n_timesteps, hidden_size)\n",
    "x_recon, _ = decoder(x_dec, (h_enc, c_enc))\n",
    "\n",
    "x.shape, x_recon.shape"
   ]
  },
  {
   "cell_type": "code",
   "execution_count": null,
   "metadata": {},
   "outputs": [],
   "source": [
    "atlases = [\n",
    "    'dosenbach2010',\n",
    "    'dosenbach2007',\n",
    "    'difumo_64_2mm',\n",
    "    'difumo_128_2mm',\n",
    "    'difumo_256_2mm',\n",
    "    'difumo_512_2mm',\n",
    "    'difumo_1024_2mm',\n",
    "    'gordon2014_2mm',\n",
    "    'cort-maxprob-thr25-2mm',\n",
    "    'seitzman2018',\n",
    "    'friedman2020',\n",
    "]\n",
    "\n",
    "kinds = [\n",
    "    'correlation',\n",
    "    'partial correlation',\n",
    "    'tangent',\n",
    "    'covariance',\n",
    "    'precisions'\n",
    "]"
   ]
  }
 ],
 "metadata": {
  "kernelspec": {
   "display_name": "acnets",
   "language": "python",
   "name": "python3"
  },
  "language_info": {
   "codemirror_mode": {
    "name": "ipython",
    "version": 3
   },
   "file_extension": ".py",
   "mimetype": "text/x-python",
   "name": "python",
   "nbconvert_exporter": "python",
   "pygments_lexer": "ipython3",
   "version": "3.11.7"
  }
 },
 "nbformat": 4,
 "nbformat_minor": 2
}
