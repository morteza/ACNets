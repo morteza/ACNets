{
 "cells": [
  {
   "cell_type": "markdown",
   "metadata": {},
   "source": [
    "# Deep Learning Playground\n",
    "\n",
    "We are interested in the following features:\n",
    "\n",
    "- H1: region-averaged time-series\n",
    "- H2: region-level connectivities (from H1, optional: triu-k1)\n",
    "- H3: network-averaged time-series (from H1)\n",
    "- H4: network connectivity (from H3, optional: triu-k1)\n",
    "- H5: networks connectivity (from H2, optional: triu-k0)\n",
    "\n",
    "> Note that we are not going to take the upper triangular part of the connectivity matrix and full matrices are used instead."
   ]
  },
  {
   "cell_type": "code",
   "execution_count": 5,
   "metadata": {},
   "outputs": [],
   "source": [
    "%reload_ext autoreload\n",
    "%autoreload 2\n",
    "\n",
    "import torch\n",
    "import pytorch_lightning as pl\n",
    "from pytorch_lightning.callbacks import RichProgressBar\n",
    "\n",
    "from src.acnets.deep import ACNetsDataModule, MultiHeadModel"
   ]
  },
  {
   "cell_type": "code",
   "execution_count": 6,
   "metadata": {},
   "outputs": [
    {
     "name": "stderr",
     "output_type": "stream",
     "text": [
      "GPU available: False, used: False\n",
      "TPU available: False, using: 0 TPU cores\n",
      "IPU available: False, using: 0 IPUs\n",
      "HPU available: False, using: 0 HPUs\n"
     ]
    },
    {
     "data": {
      "text/html": [
       "<pre style=\"white-space:pre;overflow-x:auto;line-height:normal;font-family:Menlo,'DejaVu Sans Mono',consolas,'Courier New',monospace\">┏━━━┳━━━━━━━━━━━━━━━━┳━━━━━━━━━━━━━━━━━━━━┳━━━━━━━━┓\n",
       "┃<span style=\"color: #800080; text-decoration-color: #800080; font-weight: bold\">   </span>┃<span style=\"color: #800080; text-decoration-color: #800080; font-weight: bold\"> Name           </span>┃<span style=\"color: #800080; text-decoration-color: #800080; font-weight: bold\"> Type               </span>┃<span style=\"color: #800080; text-decoration-color: #800080; font-weight: bold\"> Params </span>┃\n",
       "┡━━━╇━━━━━━━━━━━━━━━━╇━━━━━━━━━━━━━━━━━━━━╇━━━━━━━━┩\n",
       "│<span style=\"color: #7f7f7f; text-decoration-color: #7f7f7f\"> 0 </span>│ train_accuracy │ MulticlassAccuracy │      0 │\n",
       "│<span style=\"color: #7f7f7f; text-decoration-color: #7f7f7f\"> 1 </span>│ val_accuracy   │ MulticlassAccuracy │      0 │\n",
       "│<span style=\"color: #7f7f7f; text-decoration-color: #7f7f7f\"> 2 </span>│ x4_head        │ Sequential         │  1.7 K │\n",
       "│<span style=\"color: #7f7f7f; text-decoration-color: #7f7f7f\"> 3 </span>│ x5_head        │ Sequential         │  1.7 K │\n",
       "│<span style=\"color: #7f7f7f; text-decoration-color: #7f7f7f\"> 4 </span>│ cls_head       │ Sequential         │     46 │\n",
       "└───┴────────────────┴────────────────────┴────────┘\n",
       "</pre>\n"
      ],
      "text/plain": [
       "┏━━━┳━━━━━━━━━━━━━━━━┳━━━━━━━━━━━━━━━━━━━━┳━━━━━━━━┓\n",
       "┃\u001b[1;35m \u001b[0m\u001b[1;35m \u001b[0m\u001b[1;35m \u001b[0m┃\u001b[1;35m \u001b[0m\u001b[1;35mName          \u001b[0m\u001b[1;35m \u001b[0m┃\u001b[1;35m \u001b[0m\u001b[1;35mType              \u001b[0m\u001b[1;35m \u001b[0m┃\u001b[1;35m \u001b[0m\u001b[1;35mParams\u001b[0m\u001b[1;35m \u001b[0m┃\n",
       "┡━━━╇━━━━━━━━━━━━━━━━╇━━━━━━━━━━━━━━━━━━━━╇━━━━━━━━┩\n",
       "│\u001b[2m \u001b[0m\u001b[2m0\u001b[0m\u001b[2m \u001b[0m│ train_accuracy │ MulticlassAccuracy │      0 │\n",
       "│\u001b[2m \u001b[0m\u001b[2m1\u001b[0m\u001b[2m \u001b[0m│ val_accuracy   │ MulticlassAccuracy │      0 │\n",
       "│\u001b[2m \u001b[0m\u001b[2m2\u001b[0m\u001b[2m \u001b[0m│ x4_head        │ Sequential         │  1.7 K │\n",
       "│\u001b[2m \u001b[0m\u001b[2m3\u001b[0m\u001b[2m \u001b[0m│ x5_head        │ Sequential         │  1.7 K │\n",
       "│\u001b[2m \u001b[0m\u001b[2m4\u001b[0m\u001b[2m \u001b[0m│ cls_head       │ Sequential         │     46 │\n",
       "└───┴────────────────┴────────────────────┴────────┘\n"
      ]
     },
     "metadata": {},
     "output_type": "display_data"
    },
    {
     "data": {
      "text/html": [
       "<pre style=\"white-space:pre;overflow-x:auto;line-height:normal;font-family:Menlo,'DejaVu Sans Mono',consolas,'Courier New',monospace\"><span style=\"font-weight: bold\">Trainable params</span>: 3.4 K                                                                                            \n",
       "<span style=\"font-weight: bold\">Non-trainable params</span>: 0                                                                                            \n",
       "<span style=\"font-weight: bold\">Total params</span>: 3.4 K                                                                                                \n",
       "<span style=\"font-weight: bold\">Total estimated model params size (MB)</span>: 0                                                                          \n",
       "</pre>\n"
      ],
      "text/plain": [
       "\u001b[1mTrainable params\u001b[0m: 3.4 K                                                                                            \n",
       "\u001b[1mNon-trainable params\u001b[0m: 0                                                                                            \n",
       "\u001b[1mTotal params\u001b[0m: 3.4 K                                                                                                \n",
       "\u001b[1mTotal estimated model params size (MB)\u001b[0m: 0                                                                          \n"
      ]
     },
     "metadata": {},
     "output_type": "display_data"
    },
    {
     "data": {
      "application/vnd.jupyter.widget-view+json": {
       "model_id": "684d7e85537d44e397a1e5478055d7ba",
       "version_major": 2,
       "version_minor": 0
      },
      "text/plain": [
       "Output()"
      ]
     },
     "metadata": {},
     "output_type": "display_data"
    },
    {
     "name": "stderr",
     "output_type": "stream",
     "text": [
      "`Trainer.fit` stopped: `max_epochs=1` reached.\n"
     ]
    },
    {
     "data": {
      "text/html": [
       "<pre style=\"white-space:pre;overflow-x:auto;line-height:normal;font-family:Menlo,'DejaVu Sans Mono',consolas,'Courier New',monospace\"></pre>\n"
      ],
      "text/plain": []
     },
     "metadata": {},
     "output_type": "display_data"
    },
    {
     "data": {
      "text/html": [
       "<pre style=\"white-space:pre;overflow-x:auto;line-height:normal;font-family:Menlo,'DejaVu Sans Mono',consolas,'Courier New',monospace\">\n",
       "</pre>\n"
      ],
      "text/plain": [
       "\n"
      ]
     },
     "metadata": {},
     "output_type": "display_data"
    },
    {
     "data": {
      "application/vnd.jupyter.widget-view+json": {
       "model_id": "b7a2274a76594aa485ae339a1252a60b",
       "version_major": 2,
       "version_minor": 0
      },
      "text/plain": [
       "Output()"
      ]
     },
     "metadata": {},
     "output_type": "display_data"
    },
    {
     "data": {
      "text/html": [
       "<pre style=\"white-space:pre;overflow-x:auto;line-height:normal;font-family:Menlo,'DejaVu Sans Mono',consolas,'Courier New',monospace\">┏━━━━━━━━━━━━━━━━━━━━━━━━━━━┳━━━━━━━━━━━━━━━━━━━━━━━━━━━┓\n",
       "┃<span style=\"font-weight: bold\">        Test metric        </span>┃<span style=\"font-weight: bold\">       DataLoader 0        </span>┃\n",
       "┡━━━━━━━━━━━━━━━━━━━━━━━━━━━╇━━━━━━━━━━━━━━━━━━━━━━━━━━━┩\n",
       "│<span style=\"color: #008080; text-decoration-color: #008080\">       test/accuracy       </span>│<span style=\"color: #800080; text-decoration-color: #800080\">            0.5            </span>│\n",
       "│<span style=\"color: #008080; text-decoration-color: #008080\">   test/dropout_accuracy   </span>│<span style=\"color: #800080; text-decoration-color: #800080\">            0.5            </span>│\n",
       "│<span style=\"color: #008080; text-decoration-color: #008080\">       test/loss_cls       </span>│<span style=\"color: #800080; text-decoration-color: #800080\">    0.6940850019454956     </span>│\n",
       "└───────────────────────────┴───────────────────────────┘\n",
       "</pre>\n"
      ],
      "text/plain": [
       "┏━━━━━━━━━━━━━━━━━━━━━━━━━━━┳━━━━━━━━━━━━━━━━━━━━━━━━━━━┓\n",
       "┃\u001b[1m \u001b[0m\u001b[1m       Test metric       \u001b[0m\u001b[1m \u001b[0m┃\u001b[1m \u001b[0m\u001b[1m      DataLoader 0       \u001b[0m\u001b[1m \u001b[0m┃\n",
       "┡━━━━━━━━━━━━━━━━━━━━━━━━━━━╇━━━━━━━━━━━━━━━━━━━━━━━━━━━┩\n",
       "│\u001b[36m \u001b[0m\u001b[36m      test/accuracy      \u001b[0m\u001b[36m \u001b[0m│\u001b[35m \u001b[0m\u001b[35m           0.5           \u001b[0m\u001b[35m \u001b[0m│\n",
       "│\u001b[36m \u001b[0m\u001b[36m  test/dropout_accuracy  \u001b[0m\u001b[36m \u001b[0m│\u001b[35m \u001b[0m\u001b[35m           0.5           \u001b[0m\u001b[35m \u001b[0m│\n",
       "│\u001b[36m \u001b[0m\u001b[36m      test/loss_cls      \u001b[0m\u001b[36m \u001b[0m│\u001b[35m \u001b[0m\u001b[35m   0.6940850019454956    \u001b[0m\u001b[35m \u001b[0m│\n",
       "└───────────────────────────┴───────────────────────────┘\n"
      ]
     },
     "metadata": {},
     "output_type": "display_data"
    },
    {
     "data": {
      "text/html": [
       "<pre style=\"white-space:pre;overflow-x:auto;line-height:normal;font-family:Menlo,'DejaVu Sans Mono',consolas,'Courier New',monospace\"></pre>\n"
      ],
      "text/plain": []
     },
     "metadata": {},
     "output_type": "display_data"
    },
    {
     "data": {
      "text/html": [
       "<pre style=\"white-space:pre;overflow-x:auto;line-height:normal;font-family:Menlo,'DejaVu Sans Mono',consolas,'Courier New',monospace\">\n",
       "</pre>\n"
      ],
      "text/plain": [
       "\n"
      ]
     },
     "metadata": {},
     "output_type": "display_data"
    },
    {
     "data": {
      "text/plain": [
       "[{'test/loss_cls': 0.6940850019454956,\n",
       "  'test/accuracy': 0.5,\n",
       "  'test/dropout_accuracy': 0.5}]"
      ]
     },
     "execution_count": 6,
     "metadata": {},
     "output_type": "execute_result"
    }
   ],
   "source": [
    "datamodule = ACNetsDataModule(atlas='dosenbach2010', kind='partial correlation', batch_size=8)\n",
    "datamodule.setup()\n",
    "\n",
    "n_regions = datamodule.train[0][0].shape[1]\n",
    "n_networks = datamodule.train[0][2].shape[1]\n",
    "model = MultiHeadModel(n_regions, n_networks, n_embeddings=8)\n",
    "\n",
    "# DEBUG\n",
    "trainer = pl.Trainer(accelerator='auto', max_epochs=1,\n",
    "                     log_every_n_steps=1, callbacks=[RichProgressBar()])\n",
    "\n",
    "trainer.fit(model, datamodule)\n",
    "trainer.test(model, datamodule=datamodule)"
   ]
  },
  {
   "cell_type": "code",
   "execution_count": 28,
   "metadata": {},
   "outputs": [
    {
     "data": {
      "text/html": [
       "<div class=\"tuneStatus\">\n",
       "  <div style=\"display: flex;flex-direction: row\">\n",
       "    <div style=\"display: flex;flex-direction: column;\">\n",
       "      <h3>Tune Status</h3>\n",
       "      <table>\n",
       "<tbody>\n",
       "<tr><td>Current time:</td><td>2024-01-07 19:05:04</td></tr>\n",
       "<tr><td>Running for: </td><td>00:01:39.16        </td></tr>\n",
       "<tr><td>Memory:      </td><td>5.5/16.0 GiB       </td></tr>\n",
       "</tbody>\n",
       "</table>\n",
       "    </div>\n",
       "    <div class=\"vDivider\"></div>\n",
       "    <div class=\"systemInfo\">\n",
       "      <h3>System Info</h3>\n",
       "      Using FIFO scheduling algorithm.<br>Logical resource usage: 3.0/12 CPUs, 0/0 GPUs\n",
       "    </div>\n",
       "    \n",
       "  </div>\n",
       "  <div class=\"hDivider\"></div>\n",
       "  <div class=\"trialStatus\">\n",
       "    <h3>Trial Status</h3>\n",
       "    <table>\n",
       "<thead>\n",
       "<tr><th>Trial name              </th><th>status    </th><th>loc           </th><th>train_loop_config/at\n",
       "las              </th><th style=\"text-align: right;\">   train_loop_config/ba\n",
       "tch_size</th><th>train_loop_config/ki\n",
       "nd                    </th><th style=\"text-align: right;\">  train_loop_config/n_\n",
       "embeddings</th><th style=\"text-align: right;\">  iter</th><th style=\"text-align: right;\">  total time (s)</th><th style=\"text-align: right;\">  train/loss_cls</th><th style=\"text-align: right;\">  train/loss_recon</th><th style=\"text-align: right;\">  train/loss</th></tr>\n",
       "</thead>\n",
       "<tbody>\n",
       "<tr><td>TorchTrainer_0d7c6_00000</td><td>TERMINATED</td><td>127.0.0.1:3290</td><td>dosenbach2010</td><td style=\"text-align: right;\">32</td><td>partial correlation</td><td style=\"text-align: right;\">8</td><td style=\"text-align: right;\">     1</td><td style=\"text-align: right;\">         57.8792</td><td style=\"text-align: right;\">        0.686403</td><td style=\"text-align: right;\">          0.200263</td><td style=\"text-align: right;\">    0.886666</td></tr>\n",
       "</tbody>\n",
       "</table>\n",
       "  </div>\n",
       "</div>\n",
       "<style>\n",
       ".tuneStatus {\n",
       "  color: var(--jp-ui-font-color1);\n",
       "}\n",
       ".tuneStatus .systemInfo {\n",
       "  display: flex;\n",
       "  flex-direction: column;\n",
       "}\n",
       ".tuneStatus td {\n",
       "  white-space: nowrap;\n",
       "}\n",
       ".tuneStatus .trialStatus {\n",
       "  display: flex;\n",
       "  flex-direction: column;\n",
       "}\n",
       ".tuneStatus h3 {\n",
       "  font-weight: bold;\n",
       "}\n",
       ".tuneStatus .hDivider {\n",
       "  border-bottom-width: var(--jp-border-width);\n",
       "  border-bottom-color: var(--jp-border-color0);\n",
       "  border-bottom-style: solid;\n",
       "}\n",
       ".tuneStatus .vDivider {\n",
       "  border-left-width: var(--jp-border-width);\n",
       "  border-left-color: var(--jp-border-color0);\n",
       "  border-left-style: solid;\n",
       "  margin: 0.5em 1em 0.5em 1em;\n",
       "}\n",
       "</style>\n"
      ],
      "text/plain": [
       "<IPython.core.display.HTML object>"
      ]
     },
     "metadata": {},
     "output_type": "display_data"
    },
    {
     "name": "stderr",
     "output_type": "stream",
     "text": [
      "\u001b[36m(TorchTrainer pid=3290)\u001b[0m Starting distributed worker processes: ['3298 (127.0.0.1)', '3299 (127.0.0.1)']\n",
      "\u001b[36m(RayTrainWorker pid=3298)\u001b[0m Setting up process group for: env:// [rank=0, world_size=2]\n",
      "\u001b[36m(RayTrainWorker pid=3298)\u001b[0m [W ProcessGroupGloo.cpp:725] Warning: Unable to resolve hostname to a (local) address. Using the loopback address as fallback. Manually set the network interface to bind to with GLOO_SOCKET_IFNAME. (function operator())\n",
      "\u001b[36m(RayTrainWorker pid=3298)\u001b[0m GPU available: False, used: False\n",
      "\u001b[36m(RayTrainWorker pid=3298)\u001b[0m TPU available: False, using: 0 TPU cores\n",
      "\u001b[36m(RayTrainWorker pid=3298)\u001b[0m IPU available: False, using: 0 IPUs\n",
      "\u001b[36m(RayTrainWorker pid=3298)\u001b[0m HPU available: False, using: 0 HPUs\n",
      "\u001b[36m(RayTrainWorker pid=3299)\u001b[0m Missing logger folder: /Users/morteza/ray_results/acnets_multihead/TorchTrainer_0d7c6_00000_0_atlas=dosenbach2010,batch_size=32,kind=partial_correlation,n_embeddings=8_2024-01-07_19-03-25/lightning_logs\n",
      "\u001b[36m(RayTrainWorker pid=3298)\u001b[0m \n",
      "\u001b[36m(RayTrainWorker pid=3298)\u001b[0m   | Name           | Type               | Params\n",
      "\u001b[36m(RayTrainWorker pid=3298)\u001b[0m ------------------------------------------------------\n",
      "\u001b[36m(RayTrainWorker pid=3298)\u001b[0m 0 | train_accuracy | MulticlassAccuracy | 0     \n",
      "\u001b[36m(RayTrainWorker pid=3298)\u001b[0m 1 | val_accuracy   | MulticlassAccuracy | 0     \n",
      "\u001b[36m(RayTrainWorker pid=3298)\u001b[0m 2 | x4_head        | Sequential         | 1.7 K \n",
      "\u001b[36m(RayTrainWorker pid=3298)\u001b[0m 3 | x5_head        | Sequential         | 1.7 K \n",
      "\u001b[36m(RayTrainWorker pid=3298)\u001b[0m 4 | cls_head       | Sequential         | 46    \n",
      "\u001b[36m(RayTrainWorker pid=3298)\u001b[0m ------------------------------------------------------\n",
      "\u001b[36m(RayTrainWorker pid=3298)\u001b[0m 3.4 K     Trainable params\n",
      "\u001b[36m(RayTrainWorker pid=3298)\u001b[0m 0         Non-trainable params\n",
      "\u001b[36m(RayTrainWorker pid=3298)\u001b[0m 3.4 K     Total params\n",
      "\u001b[36m(RayTrainWorker pid=3298)\u001b[0m 0.013     Total estimated model params size (MB)\n",
      "\u001b[36m(RayTrainWorker pid=3298)\u001b[0m /Users/morteza/micromamba/envs/acnets/lib/python3.11/site-packages/pytorch_lightning/trainer/connectors/logger_connector/result.py:433: It is recommended to use `self.log('val/loss_cls', ..., sync_dist=True)` when logging on epoch level in distributed setting to accumulate the metric across devices.\n",
      "\u001b[36m(RayTrainWorker pid=3298)\u001b[0m /Users/morteza/micromamba/envs/acnets/lib/python3.11/site-packages/pytorch_lightning/trainer/connectors/logger_connector/result.py:433: It is recommended to use `self.log('val/accuracy', ..., sync_dist=True)` when logging on epoch level in distributed setting to accumulate the metric across devices.\n",
      "\u001b[36m(RayTrainWorker pid=3298)\u001b[0m /Users/morteza/micromamba/envs/acnets/lib/python3.11/site-packages/pytorch_lightning/trainer/connectors/logger_connector/result.py:433: It is recommended to use `self.log('val/dropout_accuracy', ..., sync_dist=True)` when logging on epoch level in distributed setting to accumulate the metric across devices.\n",
      "\u001b[36m(RayTrainWorker pid=3299)\u001b[0m [W ProcessGroupGloo.cpp:725] Warning: Unable to resolve hostname to a (local) address. Using the loopback address as fallback. Manually set the network interface to bind to with GLOO_SOCKET_IFNAME. (function operator())\n",
      "\u001b[36m(RayTrainWorker pid=3298)\u001b[0m Missing logger folder: /Users/morteza/ray_results/acnets_multihead/TorchTrainer_0d7c6_00000_0_atlas=dosenbach2010,batch_size=32,kind=partial_correlation,n_embeddings=8_2024-01-07_19-03-25/lightning_logs\n",
      "\u001b[36m(RayTrainWorker pid=3298)\u001b[0m /Users/morteza/micromamba/envs/acnets/lib/python3.11/site-packages/pytorch_lightning/loops/fit_loop.py:293: The number of training batches (1) is smaller than the logging interval Trainer(log_every_n_steps=50). Set a lower value for log_every_n_steps if you want to see logs for the training epoch.\n",
      "\u001b[36m(RayTrainWorker pid=3298)\u001b[0m Checkpoint successfully created at: Checkpoint(filesystem=local, path=/Users/morteza/ray_results/acnets_multihead/TorchTrainer_0d7c6_00000_0_atlas=dosenbach2010,batch_size=32,kind=partial_correlation,n_embeddings=8_2024-01-07_19-03-25/checkpoint_000000)\n",
      "\u001b[36m(RayTrainWorker pid=3298)\u001b[0m `Trainer.fit` stopped: `max_epochs=1` reached.\n",
      "\u001b[36m(RayTrainWorker pid=3298)\u001b[0m /Users/morteza/micromamba/envs/acnets/lib/python3.11/site-packages/pytorch_lightning/trainer/connectors/data_connector.py:232: Using `DistributedSampler` with the dataloaders. During `trainer.test()`, it is recommended to use `Trainer(devices=1, num_nodes=1)` to ensure each sample/batch gets evaluated exactly once. Otherwise, multi-device settings use `DistributedSampler` that replicates some samples to make sure all devices have same batch size in case of uneven inputs.\n",
      "\u001b[36m(RayTrainWorker pid=3299)\u001b[0m Checkpoint successfully created at: Checkpoint(filesystem=local, path=/Users/morteza/ray_results/acnets_multihead/TorchTrainer_0d7c6_00000_0_atlas=dosenbach2010,batch_size=32,kind=partial_correlation,n_embeddings=8_2024-01-07_19-03-25/checkpoint_000000)\n",
      "\u001b[36m(RayTrainWorker pid=3298)\u001b[0m /Users/morteza/micromamba/envs/acnets/lib/python3.11/site-packages/pytorch_lightning/trainer/connectors/logger_connector/result.py:433: It is recommended to use `self.log('test/loss_cls', ..., sync_dist=True)` when logging on epoch level in distributed setting to accumulate the metric across devices.\n",
      "\u001b[36m(RayTrainWorker pid=3298)\u001b[0m /Users/morteza/micromamba/envs/acnets/lib/python3.11/site-packages/pytorch_lightning/trainer/connectors/logger_connector/result.py:433: It is recommended to use `self.log('test/accuracy', ..., sync_dist=True)` when logging on epoch level in distributed setting to accumulate the metric across devices.\n",
      "\u001b[36m(RayTrainWorker pid=3298)\u001b[0m /Users/morteza/micromamba/envs/acnets/lib/python3.11/site-packages/pytorch_lightning/trainer/connectors/logger_connector/result.py:433: It is recommended to use `self.log('test/dropout_accuracy', ..., sync_dist=True)` when logging on epoch level in distributed setting to accumulate the metric across devices.\n"
     ]
    },
    {
     "name": "stdout",
     "output_type": "stream",
     "text": [
      "\u001b[36m(RayTrainWorker pid=3298)\u001b[0m ┏━━━━━━━━━━━━━━━━━━━━━━━━━━━┳━━━━━━━━━━━━━━━━━━━━━━━━━━━┓\n",
      "\u001b[36m(RayTrainWorker pid=3298)\u001b[0m ┃\u001b[1m \u001b[0m\u001b[1m       Test metric       \u001b[0m\u001b[1m \u001b[0m┃\u001b[1m \u001b[0m\u001b[1m      DataLoader 0       \u001b[0m\u001b[1m \u001b[0m┃\n",
      "\u001b[36m(RayTrainWorker pid=3298)\u001b[0m ┡━━━━━━━━━━━━━━━━━━━━━━━━━━━╇━━━━━━━━━━━━━━━━━━━━━━━━━━━┩\n",
      "\u001b[36m(RayTrainWorker pid=3298)\u001b[0m │\u001b[36m \u001b[0m\u001b[36m      test/accuracy      \u001b[0m\u001b[36m \u001b[0m│\u001b[35m \u001b[0m\u001b[35m          0.25           \u001b[0m\u001b[35m \u001b[0m│\n",
      "\u001b[36m(RayTrainWorker pid=3298)\u001b[0m │\u001b[36m \u001b[0m\u001b[36m  test/dropout_accuracy  \u001b[0m\u001b[36m \u001b[0m│\u001b[35m \u001b[0m\u001b[35m          0.25           \u001b[0m\u001b[35m \u001b[0m│\n",
      "\u001b[36m(RayTrainWorker pid=3298)\u001b[0m │\u001b[36m \u001b[0m\u001b[36m      test/loss_cls      \u001b[0m\u001b[36m \u001b[0m│\u001b[35m \u001b[0m\u001b[35m   0.7183140516281128    \u001b[0m\u001b[35m \u001b[0m│\n",
      "\u001b[36m(RayTrainWorker pid=3298)\u001b[0m └───────────────────────────┴───────────────────────────┘\n"
     ]
    },
    {
     "name": "stderr",
     "output_type": "stream",
     "text": [
      "2024-01-07 19:05:04,530\tINFO tune.py:1047 -- Total run time: 99.19 seconds (99.16 seconds for the tuning loop).\n"
     ]
    },
    {
     "data": {
      "text/plain": [
       "Result(\n",
       "  metrics={'train/loss_cls': 0.6864034533500671, 'train/loss_recon': 0.20026294887065887, 'train/loss': 0.8866664171218872, 'train/accuracy': 0.5833333134651184, 'val/loss_cls': 0.7183140516281128, 'val/accuracy': 0.25, 'val/dropout_accuracy': 0.25, 'epoch': 0, 'step': 1},\n",
       "  path='/Users/morteza/ray_results/acnets_multihead/TorchTrainer_0d7c6_00000_0_atlas=dosenbach2010,batch_size=32,kind=partial_correlation,n_embeddings=8_2024-01-07_19-03-25',\n",
       "  filesystem='local',\n",
       "  checkpoint=Checkpoint(filesystem=local, path=/Users/morteza/ray_results/acnets_multihead/TorchTrainer_0d7c6_00000_0_atlas=dosenbach2010,batch_size=32,kind=partial_correlation,n_embeddings=8_2024-01-07_19-03-25/checkpoint_000000)\n",
       ")"
      ]
     },
     "execution_count": 28,
     "metadata": {},
     "output_type": "execute_result"
    }
   ],
   "source": [
    "from ray.train.lightning import (\n",
    "    RayDDPStrategy,\n",
    "    RayLightningEnvironment,\n",
    "    RayTrainReportCallback,\n",
    "    prepare_trainer,\n",
    ")\n",
    "from ray import tune\n",
    "from ray.train.torch import TorchTrainer\n",
    "from ray.train import RunConfig, ScalingConfig, CheckpointConfig\n",
    "\n",
    "def train_func(config):\n",
    "    datamodule = ACNetsDataModule(atlas=config['atlas'],\n",
    "                                  kind=config['kind'],\n",
    "                                  batch_size=config['batch_size'])\n",
    "    datamodule.setup()\n",
    "\n",
    "    n_regions = datamodule.train[0][0].shape[1]\n",
    "    n_networks = datamodule.train[0][2].shape[1]\n",
    "    model = MultiHeadModel(n_regions, n_networks, n_embeddings=config['n_embeddings'])\n",
    "\n",
    "    trainer = pl.Trainer(\n",
    "        strategy=RayDDPStrategy(),\n",
    "        callbacks=[RayTrainReportCallback()],\n",
    "        plugins=[RayLightningEnvironment()],\n",
    "        enable_progress_bar=False,\n",
    "        max_epochs=config['max_epochs'],\n",
    "        log_every_n_steps=1\n",
    "    )\n",
    "    trainer = prepare_trainer(trainer)\n",
    "    trainer.fit(model, datamodule=datamodule)\n",
    "    trainer.test(model, datamodule=datamodule)\n",
    "\n",
    "TorchTrainer(\n",
    "    train_func,\n",
    "    train_loop_config={\n",
    "        'batch_size': tune.choice([32]),\n",
    "        'atlas': tune.choice(['dosenbach2010']),\n",
    "        'kind': tune.choice(['partial correlation']),\n",
    "        'n_embeddings': tune.choice([8]),\n",
    "        'max_epochs': 1,\n",
    "    },\n",
    "    run_config=RunConfig(\n",
    "        name='acnets_multihead',\n",
    "        storage_path='~/ray_results',\n",
    "        checkpoint_config=CheckpointConfig(\n",
    "            num_to_keep=1,\n",
    "            checkpoint_score_attribute='val/accuracy',\n",
    "            checkpoint_score_order='max',\n",
    "        )\n",
    "    ),\n",
    "    scaling_config=ScalingConfig(num_workers=2, use_gpu=False)\n",
    ").fit()"
   ]
  },
  {
   "cell_type": "code",
   "execution_count": null,
   "metadata": {},
   "outputs": [],
   "source": [
    "atlases = [\n",
    "    'dosenbach2010',\n",
    "    'dosenbach2007',\n",
    "    'difumo_64_2mm',\n",
    "    'difumo_128_2mm',\n",
    "    'difumo_256_2mm',\n",
    "    'difumo_512_2mm',\n",
    "    'difumo_1024_2mm',\n",
    "    'gordon2014_2mm',\n",
    "    'cort-maxprob-thr25-2mm',\n",
    "    'seitzman2018',\n",
    "    'friedman2020',\n",
    "]\n",
    "\n",
    "kinds = [\n",
    "    'correlation',\n",
    "    'partial correlation',\n",
    "    'tangent',\n",
    "    'covariance',\n",
    "    'precisions'\n",
    "]"
   ]
  }
 ],
 "metadata": {
  "kernelspec": {
   "display_name": "acnets",
   "language": "python",
   "name": "python3"
  },
  "language_info": {
   "codemirror_mode": {
    "name": "ipython",
    "version": 3
   },
   "file_extension": ".py",
   "mimetype": "text/x-python",
   "name": "python",
   "nbconvert_exporter": "python",
   "pygments_lexer": "ipython3",
   "version": "3.11.7"
  }
 },
 "nbformat": 4,
 "nbformat_minor": 2
}
