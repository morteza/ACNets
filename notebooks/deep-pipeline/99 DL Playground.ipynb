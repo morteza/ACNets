{
 "cells": [
  {
   "cell_type": "markdown",
   "metadata": {},
   "source": [
    "# Deep Learning Playground\n",
    "\n",
    "We are interested in the following features:\n",
    "\n",
    "- H1: region-averaged time-series\n",
    "- H2: region-level connectivities (from H1, optional: triu-k1)\n",
    "- H3: network-averaged time-series (from H1)\n",
    "- H4: network connectivity (from H3, optional: triu-k1)\n",
    "- H5: networks connectivity (from H2, optional: triu-k0)\n",
    "\n",
    "> Note that we are not going to take the upper triangular part of the connectivity matrix and full matrices are used instead."
   ]
  },
  {
   "cell_type": "code",
   "execution_count": null,
   "metadata": {},
   "outputs": [],
   "source": [
    "%reload_ext autoreload\n",
    "%autoreload 2\n",
    "\n",
    "import torch\n",
    "import pytorch_lightning as pl\n",
    "from src.acnets.deep import ACNetsDataModule, MultiHeadModel"
   ]
  },
  {
   "cell_type": "code",
   "execution_count": null,
   "metadata": {},
   "outputs": [],
   "source": [
    "atlases = [\n",
    "    'dosenbach2010',\n",
    "    'dosenbach2007',\n",
    "    'difumo_64_2mm',\n",
    "    'difumo_128_2mm',\n",
    "    'difumo_256_2mm',\n",
    "    'difumo_512_2mm',\n",
    "    'difumo_1024_2mm',\n",
    "    'gordon2014_2mm',\n",
    "    'cort-maxprob-thr25-2mm',\n",
    "    'seitzman2018',\n",
    "    'friedman2020',\n",
    "]\n",
    "\n",
    "kinds = [\n",
    "    'correlation',\n",
    "    'partial correlation',\n",
    "    'tangent',\n",
    "    'covariance',\n",
    "    'precisions'\n",
    "]"
   ]
  },
  {
   "cell_type": "code",
   "execution_count": null,
   "metadata": {},
   "outputs": [],
   "source": [
    "\n",
    "datamodule = ACNetsDataModule(atlas='dosenbach2010', kind='partial correlation')\n",
    "datamodule.prepare_data()\n",
    "\n",
    "model = MultiHeadModel(124, 160, 6)\n",
    "\n",
    "trainer = pl.Trainer(accelerator='cpu', max_epochs=100, log_every_n_steps=1)\n",
    "\n",
    "trainer.fit(model, datamodule)\n",
    "# for d in datamodule.train_dataloader().dataset:\n",
    "#     print('grp', datamodule.y_encoder.inverse_transform([d[5].item()]).item())"
   ]
  }
 ],
 "metadata": {
  "kernelspec": {
   "display_name": "acnets",
   "language": "python",
   "name": "python3"
  },
  "language_info": {
   "codemirror_mode": {
    "name": "ipython",
    "version": 3
   },
   "file_extension": ".py",
   "mimetype": "text/x-python",
   "name": "python",
   "nbconvert_exporter": "python",
   "pygments_lexer": "ipython3",
   "version": "3.11.7"
  }
 },
 "nbformat": 4,
 "nbformat_minor": 2
}
