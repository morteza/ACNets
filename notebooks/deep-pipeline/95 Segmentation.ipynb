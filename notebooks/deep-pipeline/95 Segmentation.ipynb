{
 "cells": [
  {
   "cell_type": "markdown",
   "metadata": {},
   "source": [
    "I have two timeseries of shape `(n_samples, n_timepoints, n_features)` where number of time points differ between the two timeseries. What I want to do is to segment timeseries into `(n_samples * n_segments, segment_length, n_features)` where `n_segments * segment_length = n_timepoints`. I want to do this in a way that the segments are aligned between the two timeseries."
   ]
  },
  {
   "cell_type": "code",
   "execution_count": 32,
   "metadata": {},
   "outputs": [],
   "source": [
    "import torch"
   ]
  },
  {
   "cell_type": "code",
   "execution_count": 49,
   "metadata": {},
   "outputs": [
    {
     "data": {
      "text/plain": [
       "(torch.Size([8, 124, 160]),\n",
       " torch.Size([32, 31, 160]),\n",
       " torch.Size([8, 652, 160]),\n",
       " torch.Size([168, 31, 160]))"
      ]
     },
     "execution_count": 49,
     "metadata": {},
     "output_type": "execute_result"
    }
   ],
   "source": [
    "n_samples = 8\n",
    "n_features = 160\n",
    "segment_length = 31\n",
    "\n",
    "n_timepoints_1 = 124\n",
    "n_timepoints_2 = 652\n",
    "\n",
    "x1 = torch.randn(n_samples, n_timepoints_1, n_features)\n",
    "x2 = torch.randn(n_samples, n_timepoints_2, n_features)\n",
    "\n",
    "x1_segments = x1.unfold(1, segment_length, segment_length)\n",
    "x2_segments = x2.unfold(1, segment_length, segment_length)\n",
    "\n",
    "x1_segments = x1_segments.reshape(-1, segment_length, n_features)\n",
    "x2_segments = x2_segments.reshape(-1, segment_length, n_features)\n",
    "\n",
    "x1.shape, x1_segments.shape, x2.shape, x2_segments.shape"
   ]
  }
 ],
 "metadata": {
  "kernelspec": {
   "display_name": "acnets",
   "language": "python",
   "name": "python3"
  },
  "language_info": {
   "codemirror_mode": {
    "name": "ipython",
    "version": 3
   },
   "file_extension": ".py",
   "mimetype": "text/x-python",
   "name": "python",
   "nbconvert_exporter": "python",
   "pygments_lexer": "ipython3",
   "version": "3.11.7"
  }
 },
 "nbformat": 4,
 "nbformat_minor": 2
}
