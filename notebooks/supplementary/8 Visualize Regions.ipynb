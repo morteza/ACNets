{
 "cells": [
  {
   "cell_type": "code",
   "execution_count": 1,
   "metadata": {},
   "outputs": [],
   "source": [
    "%reload_ext autoreload\n",
    "%autoreload 3\n",
    "\n",
    "import matplotlib.pyplot as plt\n",
    "from nilearn import datasets, image, plotting\n",
    "\n",
    "import pandas as  pd\n",
    "import matplotlib.pyplot as plt\n",
    "import numpy as np\n",
    "from nilearn import datasets, image, plotting\n",
    "from nilearn.datasets import load_mni152_template\n",
    "from nilearn.maskers.nifti_spheres_masker import _apply_mask_and_get_affinity\n",
    "from nilearn.masking import intersect_masks\n",
    "from src.acnets.parcellations.dosenbach import load_dosenbach2010_masker\n",
    "from src.acnets.parcellations.friedman import load_fiedman2020_masker\n",
    "from src.acnets.parcellations.gordon import \\\n",
    "    fetch_atlas as fetch_gordon2014_atlas\n",
    "from src.acnets.parcellations import seitzman\n",
    "from tqdm.auto import tqdm\n",
    "\n",
    "tqdm.pandas()"
   ]
  },
  {
   "cell_type": "code",
   "execution_count": 2,
   "metadata": {},
   "outputs": [],
   "source": [
    "# load MNI152 template\n",
    "mni152 = load_mni152_template(resolution=2)\n",
    "# nib.save(mni152, \"mni152_2mm.nii.gz\")\n",
    "\n",
    "# load dosenbach2010\n",
    "dosenbach2010_masker, dosenbach2010_labels = load_dosenbach2010_masker()\n",
    "# dosenbach2010_labels['network_index'] = dosenbach2010_labels.groupby('network').ngroup()\n",
    "\n",
    "from nilearn import image\n",
    "\n",
    "# create mni152 boolean mask\n",
    "mni152_data = mni152.get_fdata()[..., np.newaxis]\n",
    "mni152_data = np.where(mni152_data > 0.0001, 1, 0).astype(\"int32\")\n",
    "mni152_mask = image.new_img_like(mni152, mni152_data)"
   ]
  },
  {
   "cell_type": "code",
   "execution_count": 3,
   "metadata": {},
   "outputs": [],
   "source": [
    "gordon2014_atlas = fetch_gordon2014_atlas()\n",
    "\n",
    "\n",
    "# # DEBUG\n",
    "# plotting.plot_surf_roi(fsaverage['pial_left'], _surf, title='Gordon2014', colorbar=True)\n",
    "# plt.show()\n",
    "\n",
    "\n",
    "# gordon_labels = gordon2014_atlas.labels.reset_index()\n",
    "# gordon_labels['network_index'] = gordon_labels['network'].astype('category').cat.codes + 1\n",
    "\n",
    "# gordon_network_names = gordon_labels.network.astype('category').cat.categories.to_list()\n",
    "\n",
    "# def get_network_index(region_index):\n",
    "#     net_index = 0.0\n",
    "#     if region_index > 0:\n",
    "#         net_index = gordon_labels[['network_index']].values[int(region_index)-1,0]\n",
    "#         net_index = net_index.astype('float')\n",
    "\n",
    "#     return net_index\n",
    "\n",
    "# gordon_network_maps = image.load_img(gordon2014_atlas.maps).get_fdata()\n",
    "# gordon_network_maps = np.vectorize(get_network_index)(gordon_network_maps)\n",
    "# gordon_network_maps = image.new_img_like(gordon2014_atlas.maps, gordon_network_maps)\n",
    "# gordon_network_maps = image.resample_to_img(gordon_network_maps, mni152)"
   ]
  },
  {
   "cell_type": "code",
   "execution_count": 4,
   "metadata": {},
   "outputs": [
    {
     "data": {
      "application/vnd.jupyter.widget-view+json": {
       "model_id": "fb02391e8416488e9c0265a53304dff2",
       "version_major": 2,
       "version_minor": 0
      },
      "text/plain": [
       "  0%|          | 0/6 [00:00<?, ?it/s]"
      ]
     },
     "metadata": {},
     "output_type": "display_data"
    }
   ],
   "source": [
    "\n",
    "\n",
    "def create_network_img(regions):\n",
    "    seeds = regions[['x','y','z']].values\n",
    "    region_names = regions.index.to_list()\n",
    "    X, A = _apply_mask_and_get_affinity(seeds, mni152_mask, radius=5, allow_overlap=False)\n",
    "    A = A.toarray().sum(axis=0).reshape(mni152_mask.shape)\n",
    "\n",
    "    # for i in np.arange(A.shape[0]):\n",
    "    #     A[i,:] = np.where(A[i,:] > 0, i, 0)\n",
    "\n",
    "    img = image.new_img_like(mni152, A)\n",
    "    return img\n",
    "\n",
    "dosenbach_network_images = dosenbach2010_labels.groupby('network').progress_apply(create_network_img)"
   ]
  },
  {
   "cell_type": "code",
   "execution_count": 5,
   "metadata": {},
   "outputs": [
    {
     "data": {
      "text/plain": [
       "(99, 117, 95, 1, 6)"
      ]
     },
     "execution_count": 5,
     "metadata": {},
     "output_type": "execute_result"
    }
   ],
   "source": [
    "import nibabel as nib\n",
    "\n",
    "networks_img = nib.concat_images(dosenbach_network_images.to_list())\n",
    "nib.save(networks_img, 'dosenbach2010.nii.gz')\n",
    "networks_img.shape"
   ]
  },
  {
   "cell_type": "code",
   "execution_count": 6,
   "metadata": {},
   "outputs": [
    {
     "ename": "AttributeError",
     "evalue": "'GiftiImage' object has no attribute '_data_cache'",
     "output_type": "error",
     "traceback": [
      "\u001b[0;31m---------------------------------------------------------------------------\u001b[0m",
      "\u001b[0;31mAttributeError\u001b[0m                            Traceback (most recent call last)",
      "Cell \u001b[0;32mIn[6], line 3\u001b[0m\n\u001b[1;32m      1\u001b[0m fsaverage \u001b[39m=\u001b[39m datasets\u001b[39m.\u001b[39mfetch_surf_fsaverage(mesh\u001b[39m=\u001b[39m\u001b[39m'\u001b[39m\u001b[39mfsaverage7\u001b[39m\u001b[39m'\u001b[39m)\n\u001b[0;32m----> 3\u001b[0m suit \u001b[39m=\u001b[39m image\u001b[39m.\u001b[39;49mload_img(\u001b[39m'\u001b[39;49m\u001b[39m/home/morteza/workspace/acnets/atl-Anatom_dseg.label.gii\u001b[39;49m\u001b[39m'\u001b[39;49m)\n\u001b[1;32m      4\u001b[0m suit\n",
      "File \u001b[0;32m~/micromamba/envs/acnets/lib/python3.10/site-packages/nilearn/image/image.py:1275\u001b[0m, in \u001b[0;36mload_img\u001b[0;34m(img, wildcards, dtype)\u001b[0m\n\u001b[1;32m   1239\u001b[0m \u001b[39mdef\u001b[39;00m \u001b[39mload_img\u001b[39m(img, wildcards\u001b[39m=\u001b[39m\u001b[39mTrue\u001b[39;00m, dtype\u001b[39m=\u001b[39m\u001b[39mNone\u001b[39;00m):\n\u001b[1;32m   1240\u001b[0m \u001b[39m    \u001b[39m\u001b[39m\"\"\"Load a Niimg-like object from filenames or list of filenames.\u001b[39;00m\n\u001b[1;32m   1241\u001b[0m \n\u001b[1;32m   1242\u001b[0m \u001b[39m    .. versionadded:: 0.2.5\u001b[39;00m\n\u001b[0;32m   (...)\u001b[0m\n\u001b[1;32m   1273\u001b[0m \n\u001b[1;32m   1274\u001b[0m \u001b[39m    \"\"\"\u001b[39;00m\n\u001b[0;32m-> 1275\u001b[0m     \u001b[39mreturn\u001b[39;00m check_niimg(img, wildcards\u001b[39m=\u001b[39;49mwildcards, dtype\u001b[39m=\u001b[39;49mdtype)\n",
      "File \u001b[0;32m~/micromamba/envs/acnets/lib/python3.10/site-packages/nilearn/_utils/niimg_conversions.py:286\u001b[0m, in \u001b[0;36mcheck_niimg\u001b[0;34m(niimg, ensure_ndim, atleast_4d, dtype, return_iterator, wildcards)\u001b[0m\n\u001b[1;32m    283\u001b[0m     \u001b[39mreturn\u001b[39;00m concat_niimgs(niimg, ensure_ndim\u001b[39m=\u001b[39mensure_ndim, dtype\u001b[39m=\u001b[39mdtype)\n\u001b[1;32m    285\u001b[0m \u001b[39m# Otherwise, it should be a filename or a SpatialImage, we load it\u001b[39;00m\n\u001b[0;32m--> 286\u001b[0m niimg \u001b[39m=\u001b[39m load_niimg(niimg, dtype\u001b[39m=\u001b[39;49mdtype)\n\u001b[1;32m    288\u001b[0m \u001b[39mif\u001b[39;00m ensure_ndim \u001b[39m==\u001b[39m \u001b[39m3\u001b[39m \u001b[39mand\u001b[39;00m \u001b[39mlen\u001b[39m(niimg\u001b[39m.\u001b[39mshape) \u001b[39m==\u001b[39m \u001b[39m4\u001b[39m \u001b[39mand\u001b[39;00m niimg\u001b[39m.\u001b[39mshape[\u001b[39m3\u001b[39m] \u001b[39m==\u001b[39m \u001b[39m1\u001b[39m:\n\u001b[1;32m    289\u001b[0m     \u001b[39m# \"squeeze\" the image.\u001b[39;00m\n\u001b[1;32m    290\u001b[0m     data \u001b[39m=\u001b[39m _safe_get_data(niimg)\n",
      "File \u001b[0;32m~/micromamba/envs/acnets/lib/python3.10/site-packages/nilearn/_utils/niimg.py:137\u001b[0m, in \u001b[0;36mload_niimg\u001b[0;34m(niimg, dtype)\u001b[0m\n\u001b[1;32m    132\u001b[0m \u001b[39melif\u001b[39;00m \u001b[39mnot\u001b[39;00m \u001b[39misinstance\u001b[39m(niimg, nibabel\u001b[39m.\u001b[39mspatialimages\u001b[39m.\u001b[39mSpatialImage):\n\u001b[1;32m    133\u001b[0m     \u001b[39mraise\u001b[39;00m \u001b[39mTypeError\u001b[39;00m(\u001b[39m\"\u001b[39m\u001b[39mData given cannot be loaded because it is\u001b[39m\u001b[39m\"\u001b[39m\n\u001b[1;32m    134\u001b[0m                     \u001b[39m\"\u001b[39m\u001b[39m not compatible with nibabel format:\u001b[39m\u001b[39m\\n\u001b[39;00m\u001b[39m\"\u001b[39m\n\u001b[1;32m    135\u001b[0m                     \u001b[39m+\u001b[39m _repr_niimgs(niimg, shorten\u001b[39m=\u001b[39m\u001b[39mTrue\u001b[39;00m))\n\u001b[0;32m--> 137\u001b[0m dtype \u001b[39m=\u001b[39m _get_target_dtype(_get_data(niimg)\u001b[39m.\u001b[39mdtype, dtype)\n\u001b[1;32m    139\u001b[0m \u001b[39mif\u001b[39;00m dtype \u001b[39mis\u001b[39;00m \u001b[39mnot\u001b[39;00m \u001b[39mNone\u001b[39;00m:\n\u001b[1;32m    140\u001b[0m     \u001b[39m# Copyheader and set dtype in header if header exists\u001b[39;00m\n\u001b[1;32m    141\u001b[0m     \u001b[39mif\u001b[39;00m niimg\u001b[39m.\u001b[39mheader \u001b[39mis\u001b[39;00m \u001b[39mnot\u001b[39;00m \u001b[39mNone\u001b[39;00m:\n",
      "File \u001b[0;32m~/micromamba/envs/acnets/lib/python3.10/site-packages/nilearn/_utils/niimg.py:24\u001b[0m, in \u001b[0;36m_get_data\u001b[0;34m(img)\u001b[0m\n\u001b[1;32m     20\u001b[0m \u001b[39mdef\u001b[39;00m \u001b[39m_get_data\u001b[39m(img):\n\u001b[1;32m     21\u001b[0m     \u001b[39m# copy-pasted from https://github.com/nipy/nibabel/blob/de44a105c1267b07ef9e28f6c35b31f851d5a005/nibabel/dataobj_images.py#L204\u001b[39;00m\n\u001b[1;32m     22\u001b[0m     \u001b[39m# get_data is removed from nibabel because:\u001b[39;00m\n\u001b[1;32m     23\u001b[0m     \u001b[39m# see https://github.com/nipy/nibabel/wiki/BIAP8\u001b[39;00m\n\u001b[0;32m---> 24\u001b[0m     \u001b[39mif\u001b[39;00m img\u001b[39m.\u001b[39;49m_data_cache \u001b[39mis\u001b[39;00m \u001b[39mnot\u001b[39;00m \u001b[39mNone\u001b[39;00m:\n\u001b[1;32m     25\u001b[0m         \u001b[39mreturn\u001b[39;00m img\u001b[39m.\u001b[39m_data_cache\n\u001b[1;32m     26\u001b[0m     data \u001b[39m=\u001b[39m np\u001b[39m.\u001b[39masanyarray(img\u001b[39m.\u001b[39m_dataobj)\n",
      "\u001b[0;31mAttributeError\u001b[0m: 'GiftiImage' object has no attribute '_data_cache'"
     ]
    }
   ],
   "source": [
    "\n",
    "fsaverage = datasets.fetch_surf_fsaverage(mesh='fsaverage7')\n",
    "\n",
    "suit = image.load_img('/home/morteza/workspace/acnets/atl-Anatom_dseg.label.gii')\n",
    "suit"
   ]
  },
  {
   "cell_type": "code",
   "execution_count": null,
   "metadata": {},
   "outputs": [],
   "source": [
    "from nilearn.surface import vol_to_surf\n",
    "\n",
    "# nki = datasets.fetch_surf_nki_enhanced()\n",
    "\n",
    "surf_mesh = fsaverage.pial_left\n",
    "\n",
    "mni152_surf = vol_to_surf(mni152, fsaverage['pial_left'], radius=1)\n",
    "# dosenbach2010_surf = vol_to_surf(networks_img, surf_mesh, interpolation='nearest', radius=5)\n"
   ]
  },
  {
   "cell_type": "code",
   "execution_count": null,
   "metadata": {},
   "outputs": [],
   "source": [
    "\n",
    "# # DEBUG\n",
    "display = plotting.plot_surf_roi(suit, mni152_surf,\n",
    "                       title=f'Dosenbach2010 - Sensorimotor',\n",
    "                       bg_map=fsaverage.sulc_left, bg_on_data=False,\n",
    "                       alpha=.5,\n",
    "                       engine='matplotlib', \n",
    "                       colorbar=True,\n",
    "                       # continuous colormap: viridis, plasma, inferno, magma, cividis\n",
    "                       cmap='magma',\n",
    "                       view='lateral')\n",
    "\n",
    "# cbar.set_ticklabels(region_names)\n",
    "\n",
    "plt.show()\n",
    "# 'anterior', 'posterior', 'medial', 'lateral', 'dorsal', 'ventral'"
   ]
  }
 ],
 "metadata": {
  "kernelspec": {
   "display_name": "acnets",
   "language": "python",
   "name": "python3"
  },
  "language_info": {
   "codemirror_mode": {
    "name": "ipython",
    "version": 3
   },
   "file_extension": ".py",
   "mimetype": "text/x-python",
   "name": "python",
   "nbconvert_exporter": "python",
   "pygments_lexer": "ipython3",
   "version": "3.10.10"
  },
  "orig_nbformat": 4
 },
 "nbformat": 4,
 "nbformat_minor": 2
}
