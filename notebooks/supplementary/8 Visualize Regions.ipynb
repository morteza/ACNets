{
 "cells": [
  {
   "cell_type": "code",
   "execution_count": null,
   "metadata": {},
   "outputs": [],
   "source": [
    "%reload_ext autoreload\n",
    "%autoreload 3\n",
    "\n",
    "import matplotlib.pyplot as plt\n",
    "from nilearn import datasets, image, plotting\n",
    "\n",
    "import pandas as  pd\n",
    "import matplotlib.pyplot as plt\n",
    "import numpy as np\n",
    "from nilearn import datasets, image, plotting\n",
    "from nilearn.datasets import load_mni152_template\n",
    "from nilearn.maskers.nifti_spheres_masker import _apply_mask_and_get_affinity\n",
    "from nilearn.masking import intersect_masks\n",
    "from src.acnets.parcellations.dosenbach import load_dosenbach2010_masker\n",
    "from src.acnets.parcellations.friedman import load_fiedman2020_masker\n",
    "from src.acnets.parcellations.gordon import \\\n",
    "    fetch_atlas as fetch_gordon2014_atlas\n",
    "from src.acnets.parcellations import seitzman\n",
    "from tqdm.auto import tqdm\n",
    "\n",
    "tqdm.pandas()"
   ]
  }
 ],
 "metadata": {
  "language_info": {
   "name": "python"
  },
  "orig_nbformat": 4
 },
 "nbformat": 4,
 "nbformat_minor": 2
}
