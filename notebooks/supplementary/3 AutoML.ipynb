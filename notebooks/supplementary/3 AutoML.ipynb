{
 "cells": [
  {
   "cell_type": "code",
   "execution_count": null,
   "metadata": {},
   "outputs": [],
   "source": [
    "%pip install nilearn xarray seaborn tqdm pygal netcdf4 pynisher"
   ]
  },
  {
   "cell_type": "code",
   "execution_count": 3,
   "metadata": {},
   "outputs": [],
   "source": [
    "%reload_ext autoreload\n",
    "%autoreload 3\n",
    "\n",
    "from src.acnets.pipeline import Parcellation, NetworkAggregator\n",
    "from src.acnets.pipeline import ConnectivityExtractor, ConnectivityVectorizer\n",
    "\n",
    "from sklearn.preprocessing import FunctionTransformer\n",
    "from sklearn.pipeline import make_pipeline, Pipeline\n",
    "from sklearn.svm import SVC, LinearSVC\n",
    "from sklearn.ensemble import RandomForestClassifier\n",
    "from sklearn.feature_selection import SelectFromModel, VarianceThreshold\n",
    "from sklearn.model_selection import  GridSearchCV, StratifiedShuffleSplit, permutation_test_score\n",
    "import pandas as pd\n",
    "import numpy as np\n",
    "import pygal as pg\n",
    "import xarray as xr\n",
    "\n",
    "import seaborn as sns\n",
    "import matplotlib.pyplot as plt"
   ]
  },
  {
   "cell_type": "code",
   "execution_count": 4,
   "metadata": {},
   "outputs": [],
   "source": [
    "def extract_network_connectivity(X=None,\n",
    "          atlas='gordon2014_2mm',\n",
    "          connectivity='correlation',\n",
    "          aggregate_networks=True):\n",
    "\n",
    "    p = Parcellation(atlas)\n",
    "    n = NetworkAggregator(p.labels_)\n",
    "    c = ConnectivityExtractor(connectivity)\n",
    "\n",
    "    if aggregate_networks:\n",
    "        conn = make_pipeline(p, n, c).fit_transform(X)\n",
    "        nodes = n.networks_.to_list()\n",
    "    else:\n",
    "        conn = make_pipeline(p, c).fit_transform(X)\n",
    "        nodes = p.labels_.index.to_list()\n",
    "\n",
    "\n",
    "    conn = xr.DataArray(\n",
    "        conn,\n",
    "        coords={'subject': p.dataset_['subject'],\n",
    "                'node': nodes},\n",
    "        dims=['subject', 'node', 'node'],\n",
    "        name='connectivity')\n",
    "\n",
    "    if X is not None:\n",
    "        conn = conn.sel(dict(subject=X.reshape(-1).tolist()))\n",
    "\n",
    "    return conn\n"
   ]
  },
  {
   "cell_type": "code",
   "execution_count": 5,
   "metadata": {},
   "outputs": [],
   "source": [
    "\n",
    "\n",
    "def plot_grid_search_results(grid, score_name='accuracy'):\n",
    "    sns.set_style('ticks')\n",
    "    sns.despine()\n",
    "\n",
    "    results = grid.cv_results_\n",
    "    n_splits = grid.cv.get_n_splits()\n",
    "\n",
    "    param_names = []\n",
    "    for param in results['param_connectivity__kw_args']:\n",
    "        atlas = param['atlas'].replace('_','\\_')\n",
    "        connectivity = param['connectivity']\n",
    "        feature = 'network' if param['aggregate_networks'] else 'region' \n",
    "        param_names.append(f'$\\\\bf{{{atlas}}}$\\n{connectivity} ({feature})')\n",
    "\n",
    "    cv_scores = []\n",
    "    for i in range(n_splits):\n",
    "        scores = results[f'split{i}_test_score']\n",
    "        cv_scores.extend(list(zip(param_names, scores)))\n",
    "\n",
    "    test_results  = pd.DataFrame(cv_scores, columns=['parcellation', score_name])\n",
    "    test_results['mean_score'] = test_results.groupby('parcellation').transform(np.mean)\n",
    "    test_results.sort_values('mean_score', ascending=False, inplace=True)\n",
    "    # DEBUG print(test_results.groupby('parcellation').min())\n",
    "\n",
    "    _, ax = plt.subplots(figsize=(len(param_names) * 1.1, 5))\n",
    "    sns.lineplot(data=test_results.iloc[::-1], x='parcellation', y=score_name, lw=3, sort=False, ax=ax)\n",
    "    sns.scatterplot(data=test_results.iloc[::-1], x='parcellation', y='mean_score', marker='o', s=100,ax=ax)\n",
    "    ax.axhline(.5, linestyle='--', color='red')\n",
    "    lgd = ax.legend(['average', '95% CI', '_average', 'chance'],\n",
    "                    title_fontproperties={'weight':'bold', 'size':'x-large'},\n",
    "                    prop={'size':'xx-large'},\n",
    "                    title=f'{n_splits} $\\\\times$ 5-fold CV')\n",
    "    ax.get_legend()._legend_box.align = 'left'\n",
    "    ax.set_xlabel('')\n",
    "    ax.set_ylabel('accuracy', fontsize='xx-large')\n",
    "    plt.xticks(rotation=45, ha='right', fontsize='x-large', rotation_mode='anchor')\n",
    "    plt.suptitle('$\\\\bf{SVM}$ classification accuracy (validation set)', fontsize='xx-large', y=.95)\n",
    "    plt.grid(axis='y')\n",
    "\n",
    "    # table = plt.table(cellText=[['s','s2','s3','s4','s5'],['s','s2','s','s','s']],\n",
    "    #                   rowLabels=['atlas','connectivity'],\n",
    "    #                   rowColours=['lightgreen','gray'],\n",
    "    #                 #   colLabels=['1','2'],\n",
    "    #                 colLoc=['center','center'],\n",
    "    #                   loc='bottom')\n",
    "\n",
    "    plt.show()\n",
    "\n",
    "# plot_grid_search_results(grid)"
   ]
  },
  {
   "cell_type": "code",
   "execution_count": 6,
   "metadata": {},
   "outputs": [],
   "source": [
    "pipe  = Pipeline([\n",
    "    ('connectivity', FunctionTransformer(extract_network_connectivity)),\n",
    "    ('vectorize', ConnectivityVectorizer()),\n",
    "    # ('select', SelectFromModel(SVC(kernel='linear'))),\n",
    "    # ('select', SelectFromModel(LinearSVC(C=5, max_iter=100000))),\n",
    "    ('zv', VarianceThreshold(threshold=0)),\n",
    "    # ('svm', SVC(kernel='linear', probability=True))\n",
    "    ('svm', LinearSVC(C=.1, max_iter=100000))\n",
    "    # ('rfc', RandomForestClassifier())\n",
    "])\n",
    "\n",
    "\n",
    "params = {\n",
    "    'connectivity__kw_args': [\n",
    "        \n",
    "        # dict(atlas='gordon2014_2mm', connectivity='correlation', aggregate_networks=False),\n",
    "        # dict(atlas='gordon2014_2mm', connectivity='tangent', aggregate_networks=False),\n",
    "        # dict(atlas='gordon2014_2mm', connectivity='partial correlation', aggregate_networks=False),\n",
    "\n",
    "        dict(atlas='gordon2014_2mm', connectivity='correlation', aggregate_networks=True),\n",
    "        # dict(atlas='gordon2014_2mm', connectivity='tangent', aggregate_networks=True),\n",
    "        # dict(atlas='gordon2014_2mm', connectivity='precision', aggregate_networks=True),\n",
    "        # dict(atlas='gordon2014_2mm', connectivity='partial correlation', aggregate_networks=True),\n",
    "        # dict(atlas='gordon2014_2mm', connectivity='chatterjee', aggregate_networks=True),\n",
    "\n",
    "        # dict(atlas='dosenbach2010', connectivity='correlation', aggregate_networks=False),\n",
    "        # dict(atlas='dosenbach2010', connectivity='tangent', aggregate_networks=False),\n",
    "        # dict(atlas='dosenbach2010', connectivity='partial correlation', aggregate_networks=False),\n",
    "\n",
    "        dict(atlas='dosenbach2010', connectivity='correlation', aggregate_networks=True),\n",
    "        # dict(atlas='dosenbach2010', connectivity='tangent', aggregate_networks=True),\n",
    "        # dict(atlas='dosenbach2010', connectivity='precision', aggregate_networks=True),\n",
    "        # dict(atlas='dosenbach2010', connectivity='partial correlation', aggregate_networks=True),\n",
    "        # dict(atlas='dosenbach2010', connectivity='chatterjee', aggregate_networks=True),\n",
    "\n",
    "        # dict(atlas='difumo_64_2mm', connectivity='correlation', aggregate_networks=True),\n",
    "        # dict(atlas='difumo_64_2mm', connectivity='tangent', aggregate_networks=True),\n",
    "        # dict(atlas='difumo_64_2mm', connectivity='precision', aggregate_networks=True),\n",
    "        # dict(atlas='difumo_64_2mm', connectivity='partial correlation', aggregate_networks=True),\n",
    "        # dict(atlas='difumo_64_2mm', connectivity='chatterjee', aggregate_networks=True)\n",
    "\n",
    "    ],\n",
    "    # 'select__estimator__C': [0.1, .3, .5, 1, 3, 5],\n",
    "    # 'svm__C': [0.1, .3, .5, 1, 3, 5],\n",
    "    # 'svm__kernel': ['linear', 'rbf'],\n",
    "}"
   ]
  },
  {
   "cell_type": "code",
   "execution_count": 7,
   "metadata": {},
   "outputs": [],
   "source": [
    "subjects = extract_network_connectivity().coords['subject'].values\n",
    "y = np.array([s[:4] for s in subjects])\n",
    "X = subjects.reshape(-1, 1)"
   ]
  },
  {
   "cell_type": "code",
   "execution_count": 9,
   "metadata": {},
   "outputs": [
    {
     "name": "stdout",
     "output_type": "stream",
     "text": [
      "Fitting 5 folds for each of 2 candidates, totalling 10 fits\n"
     ]
    },
    {
     "name": "stderr",
     "output_type": "stream",
     "text": [
      "/usr/local/lib/python3.8/dist-packages/autosklearn/metalearning/metalearning/meta_base.py:68: FutureWarning: The frame.append method is deprecated and will be removed from pandas in a future version. Use pandas.concat instead.\n",
      "  self.metafeatures = self.metafeatures.append(metafeatures)\n",
      "/usr/local/lib/python3.8/dist-packages/autosklearn/metalearning/metalearning/meta_base.py:72: FutureWarning: The frame.append method is deprecated and will be removed from pandas in a future version. Use pandas.concat instead.\n",
      "  self.algorithm_runs[metric].append(runs)\n"
     ]
    },
    {
     "name": "stdout",
     "output_type": "stream",
     "text": [
      "[CV] END connectivity__kw_args={'atlas': 'gordon2014_2mm', 'connectivity': 'correlation', 'aggregate_networks': True}; total time= 1.0min\n"
     ]
    },
    {
     "name": "stderr",
     "output_type": "stream",
     "text": [
      "/usr/local/lib/python3.8/dist-packages/autosklearn/metalearning/metalearning/meta_base.py:68: FutureWarning: The frame.append method is deprecated and will be removed from pandas in a future version. Use pandas.concat instead.\n",
      "  self.metafeatures = self.metafeatures.append(metafeatures)\n",
      "/usr/local/lib/python3.8/dist-packages/autosklearn/metalearning/metalearning/meta_base.py:72: FutureWarning: The frame.append method is deprecated and will be removed from pandas in a future version. Use pandas.concat instead.\n",
      "  self.algorithm_runs[metric].append(runs)\n"
     ]
    },
    {
     "name": "stdout",
     "output_type": "stream",
     "text": [
      "[WARNING] [2022-03-17 00:16:20,438:Client-EnsembleBuilder] No models better than random - using Dummy loss!Number of models besides current dummy model: 1. Number of dummy models: 1\n",
      "[CV] END connectivity__kw_args={'atlas': 'gordon2014_2mm', 'connectivity': 'correlation', 'aggregate_networks': True}; total time= 1.1min\n"
     ]
    },
    {
     "name": "stderr",
     "output_type": "stream",
     "text": [
      "/usr/local/lib/python3.8/dist-packages/autosklearn/metalearning/metalearning/meta_base.py:68: FutureWarning: The frame.append method is deprecated and will be removed from pandas in a future version. Use pandas.concat instead.\n",
      "  self.metafeatures = self.metafeatures.append(metafeatures)\n",
      "/usr/local/lib/python3.8/dist-packages/autosklearn/metalearning/metalearning/meta_base.py:72: FutureWarning: The frame.append method is deprecated and will be removed from pandas in a future version. Use pandas.concat instead.\n",
      "  self.algorithm_runs[metric].append(runs)\n"
     ]
    },
    {
     "name": "stdout",
     "output_type": "stream",
     "text": [
      "[WARNING] [2022-03-17 00:17:23,051:Client-EnsembleBuilder] No models better than random - using Dummy loss!Number of models besides current dummy model: 1. Number of dummy models: 1\n",
      "[WARNING] [2022-03-17 00:17:24,559:Client-EnsembleBuilder] No models better than random - using Dummy loss!Number of models besides current dummy model: 2. Number of dummy models: 1\n",
      "[WARNING] [2022-03-17 00:17:26,444:Client-EnsembleBuilder] No models better than random - using Dummy loss!Number of models besides current dummy model: 3. Number of dummy models: 1\n",
      "[WARNING] [2022-03-17 00:17:27,545:Client-EnsembleBuilder] No models better than random - using Dummy loss!Number of models besides current dummy model: 3. Number of dummy models: 1\n",
      "[WARNING] [2022-03-17 00:17:29,831:Client-EnsembleBuilder] No models better than random - using Dummy loss!Number of models besides current dummy model: 4. Number of dummy models: 1\n",
      "[WARNING] [2022-03-17 00:17:31,882:Client-EnsembleBuilder] No models better than random - using Dummy loss!Number of models besides current dummy model: 5. Number of dummy models: 1\n",
      "[WARNING] [2022-03-17 00:17:33,959:Client-EnsembleBuilder] No models better than random - using Dummy loss!Number of models besides current dummy model: 6. Number of dummy models: 1\n",
      "[WARNING] [2022-03-17 00:17:35,096:Client-EnsembleBuilder] No models better than random - using Dummy loss!Number of models besides current dummy model: 7. Number of dummy models: 1\n",
      "[WARNING] [2022-03-17 00:17:36,172:Client-EnsembleBuilder] No models better than random - using Dummy loss!Number of models besides current dummy model: 7. Number of dummy models: 1\n",
      "[WARNING] [2022-03-17 00:17:38,200:Client-EnsembleBuilder] No models better than random - using Dummy loss!Number of models besides current dummy model: 8. Number of dummy models: 1\n",
      "[WARNING] [2022-03-17 00:17:39,434:Client-EnsembleBuilder] No models better than random - using Dummy loss!Number of models besides current dummy model: 9. Number of dummy models: 1\n",
      "[WARNING] [2022-03-17 00:17:40,599:Client-EnsembleBuilder] No models better than random - using Dummy loss!Number of models besides current dummy model: 10. Number of dummy models: 1\n",
      "[WARNING] [2022-03-17 00:17:42,629:Client-EnsembleBuilder] No models better than random - using Dummy loss!Number of models besides current dummy model: 11. Number of dummy models: 1\n",
      "[WARNING] [2022-03-17 00:17:44,059:Client-EnsembleBuilder] No models better than random - using Dummy loss!Number of models besides current dummy model: 12. Number of dummy models: 1\n",
      "[WARNING] [2022-03-17 00:17:45,002:Client-EnsembleBuilder] No models better than random - using Dummy loss!Number of models besides current dummy model: 13. Number of dummy models: 1\n",
      "[WARNING] [2022-03-17 00:17:46,113:Client-EnsembleBuilder] No models better than random - using Dummy loss!Number of models besides current dummy model: 14. Number of dummy models: 1\n",
      "[WARNING] [2022-03-17 00:17:47,197:Client-EnsembleBuilder] No models better than random - using Dummy loss!Number of models besides current dummy model: 15. Number of dummy models: 1\n",
      "[WARNING] [2022-03-17 00:17:48,550:Client-EnsembleBuilder] No models better than random - using Dummy loss!Number of models besides current dummy model: 16. Number of dummy models: 1\n",
      "[WARNING] [2022-03-17 00:17:49,676:Client-EnsembleBuilder] No models better than random - using Dummy loss!Number of models besides current dummy model: 17. Number of dummy models: 1\n",
      "[WARNING] [2022-03-17 00:17:50,694:Client-EnsembleBuilder] No models better than random - using Dummy loss!Number of models besides current dummy model: 18. Number of dummy models: 1\n",
      "[WARNING] [2022-03-17 00:17:52,461:Client-EnsembleBuilder] No models better than random - using Dummy loss!Number of models besides current dummy model: 19. Number of dummy models: 1\n",
      "[WARNING] [2022-03-17 00:17:59,574:Client-EnsembleBuilder] No models better than random - using Dummy loss!Number of models besides current dummy model: 19. Number of dummy models: 1\n",
      "[WARNING] [2022-03-17 00:18:00,750:Client-EnsembleBuilder] No models better than random - using Dummy loss!Number of models besides current dummy model: 20. Number of dummy models: 1\n",
      "[WARNING] [2022-03-17 00:18:01,838:Client-EnsembleBuilder] No models better than random - using Dummy loss!Number of models besides current dummy model: 21. Number of dummy models: 1\n",
      "[WARNING] [2022-03-17 00:18:08,950:Client-EnsembleBuilder] No models better than random - using Dummy loss!Number of models besides current dummy model: 21. Number of dummy models: 1\n",
      "[CV] END connectivity__kw_args={'atlas': 'gordon2014_2mm', 'connectivity': 'correlation', 'aggregate_networks': True}; total time= 1.0min\n"
     ]
    },
    {
     "name": "stderr",
     "output_type": "stream",
     "text": [
      "/usr/local/lib/python3.8/dist-packages/autosklearn/metalearning/metalearning/meta_base.py:68: FutureWarning: The frame.append method is deprecated and will be removed from pandas in a future version. Use pandas.concat instead.\n",
      "  self.metafeatures = self.metafeatures.append(metafeatures)\n",
      "/usr/local/lib/python3.8/dist-packages/autosklearn/metalearning/metalearning/meta_base.py:72: FutureWarning: The frame.append method is deprecated and will be removed from pandas in a future version. Use pandas.concat instead.\n",
      "  self.algorithm_runs[metric].append(runs)\n"
     ]
    },
    {
     "name": "stdout",
     "output_type": "stream",
     "text": [
      "[CV] END connectivity__kw_args={'atlas': 'gordon2014_2mm', 'connectivity': 'correlation', 'aggregate_networks': True}; total time= 1.1min\n"
     ]
    },
    {
     "name": "stderr",
     "output_type": "stream",
     "text": [
      "/usr/local/lib/python3.8/dist-packages/autosklearn/metalearning/metalearning/meta_base.py:68: FutureWarning: The frame.append method is deprecated and will be removed from pandas in a future version. Use pandas.concat instead.\n",
      "  self.metafeatures = self.metafeatures.append(metafeatures)\n",
      "/usr/local/lib/python3.8/dist-packages/autosklearn/metalearning/metalearning/meta_base.py:72: FutureWarning: The frame.append method is deprecated and will be removed from pandas in a future version. Use pandas.concat instead.\n",
      "  self.algorithm_runs[metric].append(runs)\n"
     ]
    },
    {
     "name": "stdout",
     "output_type": "stream",
     "text": [
      "[CV] END connectivity__kw_args={'atlas': 'gordon2014_2mm', 'connectivity': 'correlation', 'aggregate_networks': True}; total time= 1.0min\n"
     ]
    },
    {
     "name": "stderr",
     "output_type": "stream",
     "text": [
      "/usr/local/lib/python3.8/dist-packages/autosklearn/metalearning/metalearning/meta_base.py:68: FutureWarning: The frame.append method is deprecated and will be removed from pandas in a future version. Use pandas.concat instead.\n",
      "  self.metafeatures = self.metafeatures.append(metafeatures)\n",
      "/usr/local/lib/python3.8/dist-packages/autosklearn/metalearning/metalearning/meta_base.py:72: FutureWarning: The frame.append method is deprecated and will be removed from pandas in a future version. Use pandas.concat instead.\n",
      "  self.algorithm_runs[metric].append(runs)\n"
     ]
    },
    {
     "name": "stdout",
     "output_type": "stream",
     "text": [
      "[CV] END connectivity__kw_args={'atlas': 'dosenbach2010', 'connectivity': 'correlation', 'aggregate_networks': True}; total time=  57.8s\n"
     ]
    },
    {
     "name": "stderr",
     "output_type": "stream",
     "text": [
      "/usr/local/lib/python3.8/dist-packages/autosklearn/metalearning/metalearning/meta_base.py:68: FutureWarning: The frame.append method is deprecated and will be removed from pandas in a future version. Use pandas.concat instead.\n",
      "  self.metafeatures = self.metafeatures.append(metafeatures)\n",
      "/usr/local/lib/python3.8/dist-packages/autosklearn/metalearning/metalearning/meta_base.py:72: FutureWarning: The frame.append method is deprecated and will be removed from pandas in a future version. Use pandas.concat instead.\n",
      "  self.algorithm_runs[metric].append(runs)\n"
     ]
    },
    {
     "name": "stdout",
     "output_type": "stream",
     "text": [
      "[CV] END connectivity__kw_args={'atlas': 'dosenbach2010', 'connectivity': 'correlation', 'aggregate_networks': True}; total time= 2.3min\n"
     ]
    },
    {
     "name": "stderr",
     "output_type": "stream",
     "text": [
      "/usr/local/lib/python3.8/dist-packages/autosklearn/metalearning/metalearning/meta_base.py:68: FutureWarning: The frame.append method is deprecated and will be removed from pandas in a future version. Use pandas.concat instead.\n",
      "  self.metafeatures = self.metafeatures.append(metafeatures)\n",
      "/usr/local/lib/python3.8/dist-packages/autosklearn/metalearning/metalearning/meta_base.py:72: FutureWarning: The frame.append method is deprecated and will be removed from pandas in a future version. Use pandas.concat instead.\n",
      "  self.algorithm_runs[metric].append(runs)\n"
     ]
    },
    {
     "name": "stdout",
     "output_type": "stream",
     "text": [
      "[WARNING] [2022-03-17 00:23:48,872:Client-EnsembleBuilder] No models better than random - using Dummy loss!Number of models besides current dummy model: 1. Number of dummy models: 1\n",
      "[WARNING] [2022-03-17 00:23:51,325:Client-EnsembleBuilder] No models better than random - using Dummy loss!Number of models besides current dummy model: 2. Number of dummy models: 1\n",
      "[WARNING] [2022-03-17 00:23:52,881:Client-EnsembleBuilder] No models better than random - using Dummy loss!Number of models besides current dummy model: 3. Number of dummy models: 1\n",
      "[CV] END connectivity__kw_args={'atlas': 'dosenbach2010', 'connectivity': 'correlation', 'aggregate_networks': True}; total time=  53.8s\n"
     ]
    },
    {
     "name": "stderr",
     "output_type": "stream",
     "text": [
      "/usr/local/lib/python3.8/dist-packages/autosklearn/metalearning/metalearning/meta_base.py:68: FutureWarning: The frame.append method is deprecated and will be removed from pandas in a future version. Use pandas.concat instead.\n",
      "  self.metafeatures = self.metafeatures.append(metafeatures)\n",
      "/usr/local/lib/python3.8/dist-packages/autosklearn/metalearning/metalearning/meta_base.py:72: FutureWarning: The frame.append method is deprecated and will be removed from pandas in a future version. Use pandas.concat instead.\n",
      "  self.algorithm_runs[metric].append(runs)\n"
     ]
    },
    {
     "name": "stdout",
     "output_type": "stream",
     "text": [
      "[CV] END connectivity__kw_args={'atlas': 'dosenbach2010', 'connectivity': 'correlation', 'aggregate_networks': True}; total time=  56.4s\n"
     ]
    },
    {
     "name": "stderr",
     "output_type": "stream",
     "text": [
      "/usr/local/lib/python3.8/dist-packages/autosklearn/metalearning/metalearning/meta_base.py:68: FutureWarning: The frame.append method is deprecated and will be removed from pandas in a future version. Use pandas.concat instead.\n",
      "  self.metafeatures = self.metafeatures.append(metafeatures)\n",
      "/usr/local/lib/python3.8/dist-packages/autosklearn/metalearning/metalearning/meta_base.py:72: FutureWarning: The frame.append method is deprecated and will be removed from pandas in a future version. Use pandas.concat instead.\n",
      "  self.algorithm_runs[metric].append(runs)\n"
     ]
    },
    {
     "name": "stdout",
     "output_type": "stream",
     "text": [
      "[CV] END connectivity__kw_args={'atlas': 'dosenbach2010', 'connectivity': 'correlation', 'aggregate_networks': True}; total time= 1.1min\n"
     ]
    },
    {
     "name": "stderr",
     "output_type": "stream",
     "text": [
      "/usr/local/lib/python3.8/dist-packages/autosklearn/metalearning/metalearning/meta_base.py:68: FutureWarning: The frame.append method is deprecated and will be removed from pandas in a future version. Use pandas.concat instead.\n",
      "  self.metafeatures = self.metafeatures.append(metafeatures)\n",
      "/usr/local/lib/python3.8/dist-packages/autosklearn/metalearning/metalearning/meta_base.py:72: FutureWarning: The frame.append method is deprecated and will be removed from pandas in a future version. Use pandas.concat instead.\n",
      "  self.algorithm_runs[metric].append(runs)\n",
      "/tmp/ipykernel_817/3740570630.py:29: UserWarning: The handle <matplotlib.collections.PathCollection object at 0x7f99463729d0> has a label of '_average' which cannot be automatically added to the legend.\n",
      "  lgd = ax.legend(['average', '95% CI', '_average', 'chance'],\n"
     ]
    },
    {
     "data": {
      "text/plain": [
       "<Figure size 432x288 with 0 Axes>"
      ]
     },
     "metadata": {},
     "output_type": "display_data"
    },
    {
     "data": {
      "image/png": "[encoded data removed]",
      "text/plain": [
       "<Figure size 158.4x360 with 1 Axes>"
      ]
     },
     "metadata": {},
     "output_type": "display_data"
    }
   ],
   "source": [
    "try:\n",
    "    from autosklearn.classification import AutoSklearnClassifier\n",
    "\n",
    "    subjects = extract_network_connectivity().coords['subject'].values\n",
    "    y = np.array([s[:4] for s in subjects])\n",
    "    X = subjects.reshape(-1, 1)\n",
    "\n",
    "    train, test = StratifiedShuffleSplit(n_splits=1, test_size=0.2).split(X, y).__next__()\n",
    "\n",
    "    # pipeline\n",
    "    automl_pipe  = Pipeline([\n",
    "    ('connectivity', FunctionTransformer(\n",
    "        extract_network_connectivity,\n",
    "        kw_args=dict(atlas='dosenbach2010',\n",
    "                     connectivity='correlation',\n",
    "                     aggregate_networks=True))),\n",
    "    ('vectorize', ConnectivityVectorizer()),\n",
    "    ('automl', AutoSklearnClassifier(time_left_for_this_task=60))\n",
    "    ], verbose=0)\n",
    "\n",
    "    # perform pipeline on all parcellations\n",
    "    cv = StratifiedShuffleSplit(n_splits=5, test_size=0.2)\n",
    "    automl_grid = GridSearchCV(automl_pipe, params, verbose=3, cv=cv, scoring='accuracy')\n",
    "    automl_grid.fit(X, y)\n",
    "    plot_grid_search_results(automl_grid)\n",
    "\n",
    "except Exception as e:\n",
    "    print(e)"
   ]
  }
 ],
 "metadata": {
  "kernelspec": {
   "display_name": "Python 3 (ipykernel)",
   "language": "python",
   "name": "python3"
  },
  "language_info": {
   "codemirror_mode": {
    "name": "ipython",
    "version": 3
   },
   "file_extension": ".py",
   "mimetype": "text/x-python",
   "name": "python",
   "nbconvert_exporter": "python",
   "pygments_lexer": "ipython3",
   "version": "3.8.10"
  },
  "orig_nbformat": 4
 },
 "nbformat": 4,
 "nbformat_minor": 2
}
