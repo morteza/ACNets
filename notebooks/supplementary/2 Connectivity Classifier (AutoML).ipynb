{
 "cells": [
  {
   "cell_type": "markdown",
   "metadata": {},
   "source": [
    "To prepare the required environment using conda/mamba, run the following commands:\n",
    "\n",
    "```bash\n",
    "# create the environment\n",
    "mamba create -n autokeras python=3.10\n",
    "mamba activate autokeras\n",
    "\n",
    "# install conda requirements\n",
    "mamba install python xarray dask netCDF4 bottleneck scikit-learn tqdm seaborn matplotlib\n",
    "\n",
    "# install pip requirements\n",
    "pip install nilearn autokeras -U\n",
    "```"
   ]
  },
  {
   "cell_type": "code",
   "execution_count": 1,
   "metadata": {},
   "outputs": [
    {
     "name": "stderr",
     "output_type": "stream",
     "text": [
      "2022-06-20 09:57:03.555695: W tensorflow/stream_executor/platform/default/dso_loader.cc:64] Could not load dynamic library 'libcudart.so.11.0'; dlerror: libcudart.so.11.0: cannot open shared object file: No such file or directory\n",
      "2022-06-20 09:57:03.555712: I tensorflow/stream_executor/cuda/cudart_stub.cc:29] Ignore above cudart dlerror if you do not have a GPU set up on your machine.\n"
     ]
    }
   ],
   "source": [
    "import autokeras as ak\n",
    "import matplotlib.pyplot as plt\n",
    "import numpy as np\n",
    "import pandas as pd\n",
    "import seaborn as sns\n",
    "import tensorflow as tf\n",
    "from IPython.display import clear_output\n",
    "from src.acnets.pipeline import ConnectivityPipeline, ConnectivityVectorizer\n",
    "from sklearn.dummy import DummyClassifier\n",
    "from sklearn.metrics import accuracy_score\n",
    "from sklearn.model_selection import StratifiedShuffleSplit\n",
    "from sklearn.pipeline import Pipeline\n",
    "from tqdm import tqdm\n",
    "\n",
    "from sklearn.preprocessing import LabelEncoder\n"
   ]
  },
  {
   "cell_type": "code",
   "execution_count": 2,
   "metadata": {},
   "outputs": [],
   "source": [
    "# PARAMETERS\n",
    "\n",
    "TMP_DIR = 'tmp/autokeras'\n",
    "\n",
    "ATLAS = 'dosenbach2010'\n",
    "KIND = 'partial correlation'\n",
    "AGGREGATE_NETWORKS=True"
   ]
  },
  {
   "cell_type": "code",
   "execution_count": 3,
   "metadata": {},
   "outputs": [],
   "source": [
    "# 0. DATA\n",
    "\n",
    "\n",
    "subjects = ConnectivityPipeline().transform(None).coords['subject'].values\n",
    "groups = np.array([s[:4] for s in subjects])\n",
    "\n",
    "X = subjects.reshape(-1, 1)\n",
    "\n",
    "y_encoder = LabelEncoder()\n",
    "y = y_encoder.fit_transform(groups)\n",
    "\n",
    "\n",
    "prep_pipe  = Pipeline([\n",
    "    ('connectivity', ConnectivityPipeline(ATLAS, KIND, AGGREGATE_NETWORKS)),\n",
    "    ('vectorize', ConnectivityVectorizer()),\n",
    "])\n",
    "\n",
    "X = prep_pipe.fit_transform(X, y)\n",
    "feature_names: np.ndarray = prep_pipe.get_feature_names_out()"
   ]
  },
  {
   "cell_type": "code",
   "execution_count": 4,
   "metadata": {},
   "outputs": [
    {
     "name": "stdout",
     "output_type": "stream",
     "text": [
      "val_scores: [0.5, 0.625, 0.75, 0.5, 0.625, 0.5, 0.5, 0.5, 0.625, 0.625, 0.375, 0.625, 0.75, 0.5, 0.625, 0.875, 0.875, 0.5, 0.375, 0.75]\n"
     ]
    }
   ],
   "source": [
    "# 1. MODEL\n",
    "\n",
    "cv = StratifiedShuffleSplit(n_splits=20, test_size=8)\n",
    "\n",
    "val_scores = []\n",
    "chance_scores = []\n",
    "\n",
    "chance_model = DummyClassifier(strategy='stratified')\n",
    "\n",
    "for train, test in tqdm(cv.split(X, y), total=cv.get_n_splits(X, y)):\n",
    "\n",
    "    project_name = f'{TMP_DIR}/{ATLAS}_{KIND}_{np.random.randint(10000)}'\n",
    "\n",
    "    auto_model = ak.AutoModel(\n",
    "        inputs=ak.StructuredDataInput(\n",
    "            column_names=feature_names.tolist(),\n",
    "            column_types={feat: 'numerical' for feat in feature_names},\n",
    "            name=f'{ATLAS}_{KIND}'),\n",
    "        outputs=ak.ClassificationHead(metrics=['accuracy'],\n",
    "                                      loss=tf.keras.losses.BinaryCrossentropy()),\n",
    "        project_name=project_name,\n",
    "        tuner='bayesian',\n",
    "        overwrite=True,\n",
    "        max_trials=5,\n",
    "        objective='val_accuracy'\n",
    "    )\n",
    "\n",
    "    history = auto_model.fit(\n",
    "        X[train], y[train],\n",
    "        # validation_data=(X[test], y[test]),\n",
    "        callbacks=[\n",
    "            tf.keras.callbacks.EarlyStopping('val_loss', patience=10, restore_best_weights=True)],\n",
    "        epochs=100,\n",
    "        batch_size=8,\n",
    "        verbose=0)\n",
    "\n",
    "    # y_pred = auto_model.predict(X[test])\n",
    "    # score = accuracy_score(y[test], y_pred)\n",
    "    loss, val_score = auto_model.evaluate(X[test], y[test], batch_size=8)\n",
    "    val_scores.append(val_score)\n",
    "\n",
    "    chance_score = chance_model.fit(X[train], y[train]).score(X[test], y[test])\n",
    "    chance_scores.append(chance_score)\n",
    "\n",
    "    clear_output()\n",
    "    print(f'val_score, chance_score: {val_score}, {chance_score}')\n",
    "\n",
    "clear_output()\n",
    "\n",
    "print('val_scores:', val_scores)"
   ]
  },
  {
   "cell_type": "code",
   "execution_count": 7,
   "metadata": {},
   "outputs": [
    {
     "name": "stdout",
     "output_type": "stream",
     "text": [
      "cross-validated val_accuracy: 0.6\n",
      "cross-validated chance_accuracy: 0.48125\n"
     ]
    },
    {
     "data": {
      "image/png": "[encoded data removed]",
      "text/plain": [
       "<Figure size 432x360 with 1 Axes>"
      ]
     },
     "metadata": {
      "needs_background": "light"
     },
     "output_type": "display_data"
    }
   ],
   "source": [
    "# REPORT\n",
    "\n",
    "scores = pd.DataFrame({\n",
    "    'chance': chance_scores,\n",
    "    'automl': val_scores\n",
    "}).melt(var_name='model', value_name='accuracy')\n",
    "\n",
    "print('cross-validated val_accuracy:', np.mean(val_scores))\n",
    "print('cross-validated chance_accuracy:', np.mean(chance_scores))\n",
    "\n",
    "sns.displot(data=scores, hue='model', x='accuracy', kde=True)\n",
    "\n",
    "plt.show()"
   ]
  },
  {
   "cell_type": "code",
   "execution_count": 8,
   "metadata": {},
   "outputs": [
    {
     "name": "stdout",
     "output_type": "stream",
     "text": [
      "Model: \"model\"\n",
      "_________________________________________________________________\n",
      " Layer (type)                Output Shape              Param #   \n",
      "=================================================================\n",
      " input_1 (InputLayer)        [(None, 21)]              0         \n",
      "                                                                 \n",
      " multi_category_encoding (Mu  (None, 21)               0         \n",
      " ltiCategoryEncoding)                                            \n",
      "                                                                 \n",
      " normalization (Normalizatio  (None, 21)               43        \n",
      " n)                                                              \n",
      "                                                                 \n",
      " dense (Dense)               (None, 1024)              22528     \n",
      "                                                                 \n",
      " re_lu (ReLU)                (None, 1024)              0         \n",
      "                                                                 \n",
      " dense_1 (Dense)             (None, 16)                16400     \n",
      "                                                                 \n",
      " re_lu_1 (ReLU)              (None, 16)                0         \n",
      "                                                                 \n",
      " dense_2 (Dense)             (None, 32)                544       \n",
      "                                                                 \n",
      " re_lu_2 (ReLU)              (None, 32)                0         \n",
      "                                                                 \n",
      " dropout (Dropout)           (None, 32)                0         \n",
      "                                                                 \n",
      " dense_3 (Dense)             (None, 1)                 33        \n",
      "                                                                 \n",
      " classification_head_1 (Acti  (None, 1)                0         \n",
      " vation)                                                         \n",
      "                                                                 \n",
      "=================================================================\n",
      "Total params: 39,548\n",
      "Trainable params: 39,505\n",
      "Non-trainable params: 43\n",
      "_________________________________________________________________\n",
      "one of the fitted model: None\n"
     ]
    }
   ],
   "source": [
    "#  DEBUG\n",
    "print('one of the fitted model:', auto_model.export_model().summary())"
   ]
  }
 ],
 "metadata": {
  "kernelspec": {
   "display_name": "Python 3.10.4 ('autokeras')",
   "language": "python",
   "name": "python3"
  },
  "language_info": {
   "codemirror_mode": {
    "name": "ipython",
    "version": 3
   },
   "file_extension": ".py",
   "mimetype": "text/x-python",
   "name": "python",
   "nbconvert_exporter": "python",
   "pygments_lexer": "ipython3",
   "version": "3.10.4"
  },
  "orig_nbformat": 4,
  "vscode": {
   "interpreter": {
    "hash": "41779447130906ff776ccc0c5b207b61616fe3aebcd94e9fe070553f8e47e035"
   }
  }
 },
 "nbformat": 4,
 "nbformat_minor": 2
}
