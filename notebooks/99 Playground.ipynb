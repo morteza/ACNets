{
 "cells": [
  {
   "cell_type": "code",
   "execution_count": 18,
   "metadata": {},
   "outputs": [
    {
     "data": {
      "text/plain": [
       "(torch.Size([32, 124, 160]), torch.Size([32, 124, 160]))"
      ]
     },
     "execution_count": 18,
     "metadata": {},
     "output_type": "execute_result"
    }
   ],
   "source": [
    "%reload_ext autoreload\n",
    "%autoreload 2\n",
    "\n",
    "import torch\n",
    "import torch.nn as nn\n",
    "from src.acnets.deep.mvae import MaskedVAE, Decoder, Encoder\n",
    "from src.acnets.deep.seq2seq import Seq2SeqAE\n",
    "\n",
    "batch_size = 32\n",
    "n_features = 160\n",
    "sequence_length = 124\n",
    "embedding_dim = 8\n",
    "\n",
    "x = torch.randn(batch_size, sequence_length, n_features)\n",
    "\n",
    "m = Seq2SeqAE(n_features, embedding_dim)\n",
    "m(x)[1].shape, x.shape\n"
   ]
  }
 ],
 "metadata": {
  "kernelspec": {
   "display_name": "acnets",
   "language": "python",
   "name": "python3"
  },
  "language_info": {
   "codemirror_mode": {
    "name": "ipython",
    "version": 3
   },
   "file_extension": ".py",
   "mimetype": "text/x-python",
   "name": "python",
   "nbconvert_exporter": "python",
   "pygments_lexer": "ipython3",
   "version": "3.1.0"
  }
 },
 "nbformat": 4,
 "nbformat_minor": 2
}
