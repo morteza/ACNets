{
 "cells": [
  {
   "cell_type": "code",
   "execution_count": null,
   "metadata": {},
   "outputs": [],
   "source": [
    "%reload_ext autoreload\n",
    "%autoreload 2\n",
    "\n",
    "import pandas as pd\n",
    "\n",
    "from src.acnets.pipeline import Parcellation, ConnectivityExtractor, ConnectivityAggregator\n",
    "from sklearn.preprocessing import LabelEncoder\n",
    "from typing_extensions import deprecated\n"
   ]
  },
  {
   "cell_type": "code",
   "execution_count": null,
   "metadata": {},
   "outputs": [],
   "source": [
    "# Xy\n",
    "subjects = Parcellation(atlas_name='difumo_64_2mm').fit_transform(None).coords['subject'].values\n",
    "X = subjects.reshape(-1,1)                                  # subjects ids, shape: (n_subjects, 1)\n",
    "\n",
    "y_encoder = LabelEncoder()\n",
    "y = y_encoder.fit_transform([s[:4] for s in subjects])      # labels (AVGP=1 or NVGP=1), shape: (n_subjects,)\n"
   ]
  },
  {
   "cell_type": "code",
   "execution_count": null,
   "metadata": {},
   "outputs": [],
   "source": [
    "import numpy as np\n",
    "\n",
    "p = Parcellation('dosenbach2010')\n",
    "p_res = p.fit_transform(X)\n",
    "\n",
    "c = ConnectivityExtractor('correlation')\n",
    "c_res = c.fit_transform(p_res)\n",
    "\n",
    "a = ConnectivityAggregator('network')\n",
    "a_res = a.fit_transform(c_res)\n",
    "a_res"
   ]
  },
  {
   "cell_type": "code",
   "execution_count": null,
   "metadata": {},
   "outputs": [],
   "source": [
    "# Flatten connectivity matrix\n",
    "\n",
    "@deprecated('Use full connectivity matrix instead')\n",
    "def flatten(ds, mask_k=0):\n",
    "\n",
    "    ds = ds.copy()\n",
    "    import numpy as np\n",
    "    node_type = ds['connectivity'].dims[-1][:-4]\n",
    "    c = ds['connectivity'].values\n",
    "    c[..., *np.tril_indices(c.shape[1], k=mask_k)] = np.nan\n",
    "    ds['connectivity'].values = c\n",
    "    c = ds['connectivity'].to_dataframe().dropna().reset_index().rename(columns={\n",
    "        'connectivity': 'partial correlation'})\n",
    "    c['connectivity'] = c[f'{node_type}_src'] + ' - ' + c[f'{node_type}_dst']\n",
    "    c = c.pivot(index='subject', columns='connectivity', values='partial correlation')\n",
    "    return c"
   ]
  }
 ],
 "metadata": {
  "kernelspec": {
   "display_name": "acnets",
   "language": "python",
   "name": "python3"
  },
  "language_info": {
   "codemirror_mode": {
    "name": "ipython",
    "version": 3
   },
   "file_extension": ".py",
   "mimetype": "text/x-python",
   "name": "python",
   "nbconvert_exporter": "python",
   "pygments_lexer": "ipython3",
   "version": "3.11.7"
  }
 },
 "nbformat": 4,
 "nbformat_minor": 2
}
