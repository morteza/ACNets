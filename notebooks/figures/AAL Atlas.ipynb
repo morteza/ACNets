{
 "cells": [
  {
   "cell_type": "code",
   "execution_count": 1,
   "metadata": {},
   "outputs": [
    {
     "name": "stdout",
     "output_type": "stream",
     "text": [
      "\n",
      "Dataset created in /home/morteza/nilearn_data/aal_SPM12\n",
      "\n",
      "Downloading data from https://www.gin.cnrs.fr/AAL_files/aal_for_SPM12.tar.gz ...\n"
     ]
    },
    {
     "name": "stderr",
     "output_type": "stream",
     "text": [
      " ...done. (9 seconds, 0 min)\n",
      "Extracting data from /home/morteza/nilearn_data/aal_SPM12/a4f2a6316ec7f29f771edef840308edf/aal_for_SPM12.tar.gz..... done.\n"
     ]
    }
   ],
   "source": [
    "from nilearn import datasets\n",
    "\n",
    "aal = datasets.fetch_atlas_aal()"
   ]
  },
  {
   "cell_type": "code",
   "execution_count": 3,
   "metadata": {},
   "outputs": [
    {
     "data": {
      "text/plain": [
       "['Precentral_L',\n",
       " 'Precentral_R',\n",
       " 'Frontal_Sup_L',\n",
       " 'Frontal_Sup_R',\n",
       " 'Frontal_Sup_Orb_L',\n",
       " 'Frontal_Sup_Orb_R',\n",
       " 'Frontal_Mid_L',\n",
       " 'Frontal_Mid_R',\n",
       " 'Frontal_Mid_Orb_L',\n",
       " 'Frontal_Mid_Orb_R',\n",
       " 'Frontal_Inf_Oper_L',\n",
       " 'Frontal_Inf_Oper_R',\n",
       " 'Frontal_Inf_Tri_L',\n",
       " 'Frontal_Inf_Tri_R',\n",
       " 'Frontal_Inf_Orb_L',\n",
       " 'Frontal_Inf_Orb_R',\n",
       " 'Rolandic_Oper_L',\n",
       " 'Rolandic_Oper_R',\n",
       " 'Supp_Motor_Area_L',\n",
       " 'Supp_Motor_Area_R',\n",
       " 'Olfactory_L',\n",
       " 'Olfactory_R',\n",
       " 'Frontal_Sup_Medial_L',\n",
       " 'Frontal_Sup_Medial_R',\n",
       " 'Frontal_Med_Orb_L',\n",
       " 'Frontal_Med_Orb_R',\n",
       " 'Rectus_L',\n",
       " 'Rectus_R',\n",
       " 'Insula_L',\n",
       " 'Insula_R',\n",
       " 'Cingulum_Ant_L',\n",
       " 'Cingulum_Ant_R',\n",
       " 'Cingulum_Mid_L',\n",
       " 'Cingulum_Mid_R',\n",
       " 'Cingulum_Post_L',\n",
       " 'Cingulum_Post_R',\n",
       " 'Hippocampus_L',\n",
       " 'Hippocampus_R',\n",
       " 'ParaHippocampal_L',\n",
       " 'ParaHippocampal_R',\n",
       " 'Amygdala_L',\n",
       " 'Amygdala_R',\n",
       " 'Calcarine_L',\n",
       " 'Calcarine_R',\n",
       " 'Cuneus_L',\n",
       " 'Cuneus_R',\n",
       " 'Lingual_L',\n",
       " 'Lingual_R',\n",
       " 'Occipital_Sup_L',\n",
       " 'Occipital_Sup_R',\n",
       " 'Occipital_Mid_L',\n",
       " 'Occipital_Mid_R',\n",
       " 'Occipital_Inf_L',\n",
       " 'Occipital_Inf_R',\n",
       " 'Fusiform_L',\n",
       " 'Fusiform_R',\n",
       " 'Postcentral_L',\n",
       " 'Postcentral_R',\n",
       " 'Parietal_Sup_L',\n",
       " 'Parietal_Sup_R',\n",
       " 'Parietal_Inf_L',\n",
       " 'Parietal_Inf_R',\n",
       " 'SupraMarginal_L',\n",
       " 'SupraMarginal_R',\n",
       " 'Angular_L',\n",
       " 'Angular_R',\n",
       " 'Precuneus_L',\n",
       " 'Precuneus_R',\n",
       " 'Paracentral_Lobule_L',\n",
       " 'Paracentral_Lobule_R',\n",
       " 'Caudate_L',\n",
       " 'Caudate_R',\n",
       " 'Putamen_L',\n",
       " 'Putamen_R',\n",
       " 'Pallidum_L',\n",
       " 'Pallidum_R',\n",
       " 'Thalamus_L',\n",
       " 'Thalamus_R',\n",
       " 'Heschl_L',\n",
       " 'Heschl_R',\n",
       " 'Temporal_Sup_L',\n",
       " 'Temporal_Sup_R',\n",
       " 'Temporal_Pole_Sup_L',\n",
       " 'Temporal_Pole_Sup_R',\n",
       " 'Temporal_Mid_L',\n",
       " 'Temporal_Mid_R',\n",
       " 'Temporal_Pole_Mid_L',\n",
       " 'Temporal_Pole_Mid_R',\n",
       " 'Temporal_Inf_L',\n",
       " 'Temporal_Inf_R',\n",
       " 'Cerebelum_Crus1_L',\n",
       " 'Cerebelum_Crus1_R',\n",
       " 'Cerebelum_Crus2_L',\n",
       " 'Cerebelum_Crus2_R',\n",
       " 'Cerebelum_3_L',\n",
       " 'Cerebelum_3_R',\n",
       " 'Cerebelum_4_5_L',\n",
       " 'Cerebelum_4_5_R',\n",
       " 'Cerebelum_6_L',\n",
       " 'Cerebelum_6_R',\n",
       " 'Cerebelum_7b_L',\n",
       " 'Cerebelum_7b_R',\n",
       " 'Cerebelum_8_L',\n",
       " 'Cerebelum_8_R',\n",
       " 'Cerebelum_9_L',\n",
       " 'Cerebelum_9_R',\n",
       " 'Cerebelum_10_L',\n",
       " 'Cerebelum_10_R',\n",
       " 'Vermis_1_2',\n",
       " 'Vermis_3',\n",
       " 'Vermis_4_5',\n",
       " 'Vermis_6',\n",
       " 'Vermis_7',\n",
       " 'Vermis_8',\n",
       " 'Vermis_9',\n",
       " 'Vermis_10']"
      ]
     },
     "execution_count": 3,
     "metadata": {},
     "output_type": "execute_result"
    }
   ],
   "source": [
    "aal['labels']"
   ]
  }
 ],
 "metadata": {
  "kernelspec": {
   "display_name": "acnets",
   "language": "python",
   "name": "python3"
  },
  "language_info": {
   "codemirror_mode": {
    "name": "ipython",
    "version": 3
   },
   "file_extension": ".py",
   "mimetype": "text/x-python",
   "name": "python",
   "nbconvert_exporter": "python",
   "pygments_lexer": "ipython3",
   "version": "3.10.12"
  },
  "orig_nbformat": 4
 },
 "nbformat": 4,
 "nbformat_minor": 2
}
