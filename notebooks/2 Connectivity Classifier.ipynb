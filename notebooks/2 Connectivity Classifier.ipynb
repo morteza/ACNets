{
 "cells": [
  {
   "cell_type": "markdown",
   "metadata": {},
   "source": [
    "This notebook aims to fit a binary classifier that predicts participant's group, AVGP or NVGP, using Cognitive Control network connectivity matrices.\n"
   ]
  },
  {
   "cell_type": "code",
   "execution_count": 1,
   "metadata": {},
   "outputs": [],
   "source": [
    "\n",
    "import numpy as np\n",
    "import xarray as xr\n",
    "import pandas as pd\n",
    "\n",
    "from IPython.display import clear_output\n",
    "import matplotlib.pyplot as plt\n",
    "import seaborn as sns; sns.set()\n",
    "import plotly.express as px\n",
    "\n",
    "from sklearn import preprocessing, model_selection, metrics, ensemble, multioutput\n",
    "from sklearn import decomposition, cross_decomposition, feature_selection\n",
    "from sklearn.pipeline import Pipeline\n",
    "# from xgboost import XGBClassifier  # incompatible with umap's scipy\n",
    "\n",
    "sns.set(style='dark')\n",
    "\n",
    "from umap import UMAP"
   ]
  },
  {
   "cell_type": "code",
   "execution_count": 2,
   "metadata": {},
   "outputs": [],
   "source": [
    "# 1. load the connectivity dataset\n",
    "DATASET = xr.open_dataset('data/julia2018_resting/connectivities.nc').load()"
   ]
  },
  {
   "cell_type": "code",
   "execution_count": 3,
   "metadata": {},
   "outputs": [],
   "source": [
    "# 1. input (connectivities)\n",
    "X = np.array(\n",
    "  [subj_conn[np.triu_indices_from(subj_conn, k=1)] \n",
    "   for subj_conn in DATASET['connectivity'].values]\n",
    "  )\n",
    "\n",
    "# 2. classifier output (AVGP or NVGP)\n",
    "y_encoder = preprocessing.LabelEncoder()\n",
    "y = y_encoder.fit_transform(DATASET['group'])\n",
    "\n",
    "# 3. behavioral outputs (inverse efficiency scores in millis)\n",
    "y_beh = DATASET['inverse_efficiency_score_ms'].values\n",
    "\n",
    "# 4. remove subjects with missing connectivity and behavioral data\n",
    "valid_subjects_mask = ~np.isnan(y_beh)\n",
    "X = X[valid_subjects_mask]\n",
    "y = y[valid_subjects_mask]\n",
    "y_beh = y_beh[valid_subjects_mask]\n",
    "\n",
    "# 4. Feature extraction\n",
    "# X_thresholds = np.median(X, axis=1) + np.std(X, axis=1)\n",
    "# X_binarized = np.where(np.abs(X) < X_thresholds.reshape(-1,1), 0., 1.)\n",
    "# X_reduced = UMAP(n_neighbors=15, n_components=2).fit_transform(X)"
   ]
  },
  {
   "cell_type": "code",
   "execution_count": 55,
   "metadata": {},
   "outputs": [
    {
     "data": {
      "application/vnd.plotly.v1+json": {
       "config": {
        "plotlyServerURL": "https://plot.ly"
       },
       "data": [
        {
         "hovertemplate": "group=AVGP<br>dim1=%{x}<br>dim2=%{y}<br>dim3=%{z}<extra></extra>",
         "legendgroup": "AVGP",
         "marker": {
          "color": "#636efa",
          "symbol": "circle"
         },
         "mode": "markers",
         "name": "AVGP",
         "scene": "scene",
         "showlegend": true,
         "type": "scatter3d",
         "x": [
          2.695768117904663,
          3.6466293334960938,
          2.432806968688965,
          3.4245402812957764,
          3.4882972240448,
          2.512160539627075,
          2.3078196048736572,
          2.893897294998169,
          3.3836333751678467,
          2.4213364124298096,
          3.9996871948242188,
          3.2251296043395996,
          3.6881773471832275,
          2.8444387912750244,
          3.261601686477661,
          2.527540445327759
         ],
         "y": [
          12.779206275939941,
          13.696699142456055,
          12.999260902404785,
          13.223444938659668,
          14.152849197387695,
          13.539934158325195,
          12.980069160461426,
          14.07933521270752,
          14.252705574035645,
          13.832389831542969,
          12.778037071228027,
          13.503862380981445,
          12.57131290435791,
          13.894527435302734,
          12.775781631469727,
          13.309856414794922
         ],
         "z": [
          3.791353940963745,
          3.5287439823150635,
          2.2841169834136963,
          3.8970651626586914,
          3.9325881004333496,
          2.430457353591919,
          3.032177448272705,
          2.6047301292419434,
          3.1851625442504883,
          3.124441385269165,
          3.0123157501220703,
          2.9065511226654053,
          3.8471336364746094,
          3.6089680194854736,
          3.409236192703247,
          3.5278077125549316
         ]
        },
        {
         "hovertemplate": "group=NVGP<br>dim1=%{x}<br>dim2=%{y}<br>dim3=%{z}<extra></extra>",
         "legendgroup": "NVGP",
         "marker": {
          "color": "#EF553B",
          "symbol": "circle"
         },
         "mode": "markers",
         "name": "NVGP",
         "scene": "scene",
         "showlegend": true,
         "type": "scatter3d",
         "x": [
          4.583857536315918,
          3.8219106197357178,
          4.2613844871521,
          4.227177619934082,
          3.135197877883911,
          3.0525128841400146,
          3.7395076751708984,
          3.735520124435425,
          4.417636394500732,
          4.468552112579346,
          4.362300395965576,
          4.673426628112793,
          3.8233776092529297,
          4.175095081329346,
          4.999536514282227,
          3.0994322299957275
         ],
         "y": [
          11.975836753845215,
          12.889699935913086,
          12.362611770629883,
          12.646963119506836,
          13.045721054077148,
          12.510382652282715,
          13.850975036621094,
          12.076382637023926,
          12.52629566192627,
          12.87037181854248,
          13.651659965515137,
          12.553520202636719,
          12.033976554870605,
          13.57597541809082,
          12.621390342712402,
          12.46725845336914
         ],
         "z": [
          2.813807725906372,
          1.8960869312286377,
          2.4146060943603516,
          1.9615422487258911,
          2.1515047550201416,
          2.741318941116333,
          2.515314817428589,
          3.2549679279327393,
          3.115694522857666,
          3.458623170852661,
          2.6585090160369873,
          2.1566429138183594,
          2.544947862625122,
          3.277162551879883,
          2.4741082191467285,
          2.1744003295898438
         ]
        }
       ],
       "layout": {
        "legend": {
         "title": {
          "text": "group"
         },
         "tracegroupgap": 0
        },
        "scene": {
         "domain": {
          "x": [
           0,
           1
          ],
          "y": [
           0,
           1
          ]
         },
         "xaxis": {
          "title": {
           "text": "dim1"
          }
         },
         "yaxis": {
          "title": {
           "text": "dim2"
          }
         },
         "zaxis": {
          "title": {
           "text": "dim3"
          }
         }
        },
        "template": {
         "data": {
          "bar": [
           {
            "error_x": {
             "color": "#2a3f5f"
            },
            "error_y": {
             "color": "#2a3f5f"
            },
            "marker": {
             "line": {
              "color": "#E5ECF6",
              "width": 0.5
             },
             "pattern": {
              "fillmode": "overlay",
              "size": 10,
              "solidity": 0.2
             }
            },
            "type": "bar"
           }
          ],
          "barpolar": [
           {
            "marker": {
             "line": {
              "color": "#E5ECF6",
              "width": 0.5
             },
             "pattern": {
              "fillmode": "overlay",
              "size": 10,
              "solidity": 0.2
             }
            },
            "type": "barpolar"
           }
          ],
          "carpet": [
           {
            "aaxis": {
             "endlinecolor": "#2a3f5f",
             "gridcolor": "white",
             "linecolor": "white",
             "minorgridcolor": "white",
             "startlinecolor": "#2a3f5f"
            },
            "baxis": {
             "endlinecolor": "#2a3f5f",
             "gridcolor": "white",
             "linecolor": "white",
             "minorgridcolor": "white",
             "startlinecolor": "#2a3f5f"
            },
            "type": "carpet"
           }
          ],
          "choropleth": [
           {
            "colorbar": {
             "outlinewidth": 0,
             "ticks": ""
            },
            "type": "choropleth"
           }
          ],
          "contour": [
           {
            "colorbar": {
             "outlinewidth": 0,
             "ticks": ""
            },
            "colorscale": [
             [
              0,
              "#0d0887"
             ],
             [
              0.1111111111111111,
              "#46039f"
             ],
             [
              0.2222222222222222,
              "#7201a8"
             ],
             [
              0.3333333333333333,
              "#9c179e"
             ],
             [
              0.4444444444444444,
              "#bd3786"
             ],
             [
              0.5555555555555556,
              "#d8576b"
             ],
             [
              0.6666666666666666,
              "#ed7953"
             ],
             [
              0.7777777777777778,
              "#fb9f3a"
             ],
             [
              0.8888888888888888,
              "#fdca26"
             ],
             [
              1,
              "#f0f921"
             ]
            ],
            "type": "contour"
           }
          ],
          "contourcarpet": [
           {
            "colorbar": {
             "outlinewidth": 0,
             "ticks": ""
            },
            "type": "contourcarpet"
           }
          ],
          "heatmap": [
           {
            "colorbar": {
             "outlinewidth": 0,
             "ticks": ""
            },
            "colorscale": [
             [
              0,
              "#0d0887"
             ],
             [
              0.1111111111111111,
              "#46039f"
             ],
             [
              0.2222222222222222,
              "#7201a8"
             ],
             [
              0.3333333333333333,
              "#9c179e"
             ],
             [
              0.4444444444444444,
              "#bd3786"
             ],
             [
              0.5555555555555556,
              "#d8576b"
             ],
             [
              0.6666666666666666,
              "#ed7953"
             ],
             [
              0.7777777777777778,
              "#fb9f3a"
             ],
             [
              0.8888888888888888,
              "#fdca26"
             ],
             [
              1,
              "#f0f921"
             ]
            ],
            "type": "heatmap"
           }
          ],
          "heatmapgl": [
           {
            "colorbar": {
             "outlinewidth": 0,
             "ticks": ""
            },
            "colorscale": [
             [
              0,
              "#0d0887"
             ],
             [
              0.1111111111111111,
              "#46039f"
             ],
             [
              0.2222222222222222,
              "#7201a8"
             ],
             [
              0.3333333333333333,
              "#9c179e"
             ],
             [
              0.4444444444444444,
              "#bd3786"
             ],
             [
              0.5555555555555556,
              "#d8576b"
             ],
             [
              0.6666666666666666,
              "#ed7953"
             ],
             [
              0.7777777777777778,
              "#fb9f3a"
             ],
             [
              0.8888888888888888,
              "#fdca26"
             ],
             [
              1,
              "#f0f921"
             ]
            ],
            "type": "heatmapgl"
           }
          ],
          "histogram": [
           {
            "marker": {
             "pattern": {
              "fillmode": "overlay",
              "size": 10,
              "solidity": 0.2
             }
            },
            "type": "histogram"
           }
          ],
          "histogram2d": [
           {
            "colorbar": {
             "outlinewidth": 0,
             "ticks": ""
            },
            "colorscale": [
             [
              0,
              "#0d0887"
             ],
             [
              0.1111111111111111,
              "#46039f"
             ],
             [
              0.2222222222222222,
              "#7201a8"
             ],
             [
              0.3333333333333333,
              "#9c179e"
             ],
             [
              0.4444444444444444,
              "#bd3786"
             ],
             [
              0.5555555555555556,
              "#d8576b"
             ],
             [
              0.6666666666666666,
              "#ed7953"
             ],
             [
              0.7777777777777778,
              "#fb9f3a"
             ],
             [
              0.8888888888888888,
              "#fdca26"
             ],
             [
              1,
              "#f0f921"
             ]
            ],
            "type": "histogram2d"
           }
          ],
          "histogram2dcontour": [
           {
            "colorbar": {
             "outlinewidth": 0,
             "ticks": ""
            },
            "colorscale": [
             [
              0,
              "#0d0887"
             ],
             [
              0.1111111111111111,
              "#46039f"
             ],
             [
              0.2222222222222222,
              "#7201a8"
             ],
             [
              0.3333333333333333,
              "#9c179e"
             ],
             [
              0.4444444444444444,
              "#bd3786"
             ],
             [
              0.5555555555555556,
              "#d8576b"
             ],
             [
              0.6666666666666666,
              "#ed7953"
             ],
             [
              0.7777777777777778,
              "#fb9f3a"
             ],
             [
              0.8888888888888888,
              "#fdca26"
             ],
             [
              1,
              "#f0f921"
             ]
            ],
            "type": "histogram2dcontour"
           }
          ],
          "mesh3d": [
           {
            "colorbar": {
             "outlinewidth": 0,
             "ticks": ""
            },
            "type": "mesh3d"
           }
          ],
          "parcoords": [
           {
            "line": {
             "colorbar": {
              "outlinewidth": 0,
              "ticks": ""
             }
            },
            "type": "parcoords"
           }
          ],
          "pie": [
           {
            "automargin": true,
            "type": "pie"
           }
          ],
          "scatter": [
           {
            "marker": {
             "colorbar": {
              "outlinewidth": 0,
              "ticks": ""
             }
            },
            "type": "scatter"
           }
          ],
          "scatter3d": [
           {
            "line": {
             "colorbar": {
              "outlinewidth": 0,
              "ticks": ""
             }
            },
            "marker": {
             "colorbar": {
              "outlinewidth": 0,
              "ticks": ""
             }
            },
            "type": "scatter3d"
           }
          ],
          "scattercarpet": [
           {
            "marker": {
             "colorbar": {
              "outlinewidth": 0,
              "ticks": ""
             }
            },
            "type": "scattercarpet"
           }
          ],
          "scattergeo": [
           {
            "marker": {
             "colorbar": {
              "outlinewidth": 0,
              "ticks": ""
             }
            },
            "type": "scattergeo"
           }
          ],
          "scattergl": [
           {
            "marker": {
             "colorbar": {
              "outlinewidth": 0,
              "ticks": ""
             }
            },
            "type": "scattergl"
           }
          ],
          "scattermapbox": [
           {
            "marker": {
             "colorbar": {
              "outlinewidth": 0,
              "ticks": ""
             }
            },
            "type": "scattermapbox"
           }
          ],
          "scatterpolar": [
           {
            "marker": {
             "colorbar": {
              "outlinewidth": 0,
              "ticks": ""
             }
            },
            "type": "scatterpolar"
           }
          ],
          "scatterpolargl": [
           {
            "marker": {
             "colorbar": {
              "outlinewidth": 0,
              "ticks": ""
             }
            },
            "type": "scatterpolargl"
           }
          ],
          "scatterternary": [
           {
            "marker": {
             "colorbar": {
              "outlinewidth": 0,
              "ticks": ""
             }
            },
            "type": "scatterternary"
           }
          ],
          "surface": [
           {
            "colorbar": {
             "outlinewidth": 0,
             "ticks": ""
            },
            "colorscale": [
             [
              0,
              "#0d0887"
             ],
             [
              0.1111111111111111,
              "#46039f"
             ],
             [
              0.2222222222222222,
              "#7201a8"
             ],
             [
              0.3333333333333333,
              "#9c179e"
             ],
             [
              0.4444444444444444,
              "#bd3786"
             ],
             [
              0.5555555555555556,
              "#d8576b"
             ],
             [
              0.6666666666666666,
              "#ed7953"
             ],
             [
              0.7777777777777778,
              "#fb9f3a"
             ],
             [
              0.8888888888888888,
              "#fdca26"
             ],
             [
              1,
              "#f0f921"
             ]
            ],
            "type": "surface"
           }
          ],
          "table": [
           {
            "cells": {
             "fill": {
              "color": "#EBF0F8"
             },
             "line": {
              "color": "white"
             }
            },
            "header": {
             "fill": {
              "color": "#C8D4E3"
             },
             "line": {
              "color": "white"
             }
            },
            "type": "table"
           }
          ]
         },
         "layout": {
          "annotationdefaults": {
           "arrowcolor": "#2a3f5f",
           "arrowhead": 0,
           "arrowwidth": 1
          },
          "autotypenumbers": "strict",
          "coloraxis": {
           "colorbar": {
            "outlinewidth": 0,
            "ticks": ""
           }
          },
          "colorscale": {
           "diverging": [
            [
             0,
             "#8e0152"
            ],
            [
             0.1,
             "#c51b7d"
            ],
            [
             0.2,
             "#de77ae"
            ],
            [
             0.3,
             "#f1b6da"
            ],
            [
             0.4,
             "#fde0ef"
            ],
            [
             0.5,
             "#f7f7f7"
            ],
            [
             0.6,
             "#e6f5d0"
            ],
            [
             0.7,
             "#b8e186"
            ],
            [
             0.8,
             "#7fbc41"
            ],
            [
             0.9,
             "#4d9221"
            ],
            [
             1,
             "#276419"
            ]
           ],
           "sequential": [
            [
             0,
             "#0d0887"
            ],
            [
             0.1111111111111111,
             "#46039f"
            ],
            [
             0.2222222222222222,
             "#7201a8"
            ],
            [
             0.3333333333333333,
             "#9c179e"
            ],
            [
             0.4444444444444444,
             "#bd3786"
            ],
            [
             0.5555555555555556,
             "#d8576b"
            ],
            [
             0.6666666666666666,
             "#ed7953"
            ],
            [
             0.7777777777777778,
             "#fb9f3a"
            ],
            [
             0.8888888888888888,
             "#fdca26"
            ],
            [
             1,
             "#f0f921"
            ]
           ],
           "sequentialminus": [
            [
             0,
             "#0d0887"
            ],
            [
             0.1111111111111111,
             "#46039f"
            ],
            [
             0.2222222222222222,
             "#7201a8"
            ],
            [
             0.3333333333333333,
             "#9c179e"
            ],
            [
             0.4444444444444444,
             "#bd3786"
            ],
            [
             0.5555555555555556,
             "#d8576b"
            ],
            [
             0.6666666666666666,
             "#ed7953"
            ],
            [
             0.7777777777777778,
             "#fb9f3a"
            ],
            [
             0.8888888888888888,
             "#fdca26"
            ],
            [
             1,
             "#f0f921"
            ]
           ]
          },
          "colorway": [
           "#636efa",
           "#EF553B",
           "#00cc96",
           "#ab63fa",
           "#FFA15A",
           "#19d3f3",
           "#FF6692",
           "#B6E880",
           "#FF97FF",
           "#FECB52"
          ],
          "font": {
           "color": "#2a3f5f"
          },
          "geo": {
           "bgcolor": "white",
           "lakecolor": "white",
           "landcolor": "#E5ECF6",
           "showlakes": true,
           "showland": true,
           "subunitcolor": "white"
          },
          "hoverlabel": {
           "align": "left"
          },
          "hovermode": "closest",
          "mapbox": {
           "style": "light"
          },
          "paper_bgcolor": "white",
          "plot_bgcolor": "#E5ECF6",
          "polar": {
           "angularaxis": {
            "gridcolor": "white",
            "linecolor": "white",
            "ticks": ""
           },
           "bgcolor": "#E5ECF6",
           "radialaxis": {
            "gridcolor": "white",
            "linecolor": "white",
            "ticks": ""
           }
          },
          "scene": {
           "xaxis": {
            "backgroundcolor": "#E5ECF6",
            "gridcolor": "white",
            "gridwidth": 2,
            "linecolor": "white",
            "showbackground": true,
            "ticks": "",
            "zerolinecolor": "white"
           },
           "yaxis": {
            "backgroundcolor": "#E5ECF6",
            "gridcolor": "white",
            "gridwidth": 2,
            "linecolor": "white",
            "showbackground": true,
            "ticks": "",
            "zerolinecolor": "white"
           },
           "zaxis": {
            "backgroundcolor": "#E5ECF6",
            "gridcolor": "white",
            "gridwidth": 2,
            "linecolor": "white",
            "showbackground": true,
            "ticks": "",
            "zerolinecolor": "white"
           }
          },
          "shapedefaults": {
           "line": {
            "color": "#2a3f5f"
           }
          },
          "ternary": {
           "aaxis": {
            "gridcolor": "white",
            "linecolor": "white",
            "ticks": ""
           },
           "baxis": {
            "gridcolor": "white",
            "linecolor": "white",
            "ticks": ""
           },
           "bgcolor": "#E5ECF6",
           "caxis": {
            "gridcolor": "white",
            "linecolor": "white",
            "ticks": ""
           }
          },
          "title": {
           "x": 0.05
          },
          "xaxis": {
           "automargin": true,
           "gridcolor": "white",
           "linecolor": "white",
           "ticks": "",
           "title": {
            "standoff": 15
           },
           "zerolinecolor": "white",
           "zerolinewidth": 2
          },
          "yaxis": {
           "automargin": true,
           "gridcolor": "white",
           "linecolor": "white",
           "ticks": "",
           "title": {
            "standoff": 15
           },
           "zerolinecolor": "white",
           "zerolinewidth": 2
          }
         }
        },
        "title": {
         "text": "UMAP embedding of the upper triangle connectivity matrices.Points represent subjects."
        }
       }
      }
     },
     "metadata": {},
     "output_type": "display_data"
    }
   ],
   "source": [
    "# DEBUG: plot dimensionality-reduced inputs, colored by outputs\n",
    "\n",
    "X_reduced = feature_selection.SelectKBest(k=10).fit_transform(X, y)\n",
    "X_reduced = UMAP(n_neighbors=15, n_components=3).fit_transform(X_reduced, y_beh)\n",
    "X_reduced = pd.DataFrame(X_reduced, columns=['dim1','dim2','dim3'])\n",
    "X_reduced['group'] = y_encoder.inverse_transform(y)\n",
    "\n",
    "fig = px.scatter_3d(\n",
    "  X_reduced,\n",
    "  x='dim1', y='dim2', z='dim3', color='group',\n",
    "  title='UMAP embedding of the upper triangle connectivity matrices.'\n",
    "        'Points represent subjects.')\n",
    "\n",
    "fig.show()\n"
   ]
  },
  {
   "cell_type": "code",
   "execution_count": 40,
   "metadata": {},
   "outputs": [],
   "source": [
    "# 3. test/train split\n",
    "X_train, X_test, y_train, y_test, y_beh_train, y_beh_test = model_selection.train_test_split(\n",
    "  X, y, y_beh,\n",
    "  test_size=0.2, shuffle=True, stratify=y,\n",
    "  # random_state=42,\n",
    "  )"
   ]
  },
  {
   "cell_type": "code",
   "execution_count": null,
   "metadata": {},
   "outputs": [],
   "source": [
    "# custom model\n",
    "from sklearn.base import BaseEstimator, ClassifierMixin\n",
    "\n",
    "class MixedReducerModel(ClassifierMixin):\n",
    "    def __init__(self, select_k=10, n_neighbors=15, n_components=3):\n",
    "        self.selector = feature_selection.SelectKBest(k=select_k)\n",
    "        self.reducer = UMAP(n_neighbors=n_neighbors, n_components=n_components) \n",
    "        self.model = ensemble.GradientBoostingClassifier()  \n",
    "    def fit(self, X, y):\n",
    "        print(y)\n",
    "        _y_beh = y[:,0]  #  behavioral\n",
    "        _y = y[:,1]      # classification output\n",
    "        X_selected = self.selector.fit_transform(X, _y)\n",
    "        X_reduced = self.reducer.fit_transform(X_selected, _y_beh)\n",
    "        self.model.fit(X_reduced, _y)\n",
    "        return self\n",
    "    def transform(self, X):\n",
    "        X_selected = self.selector.transform(X)\n",
    "        X_reduced = self.reducer.transform(X_selected)\n",
    "        y = self.model.predict(X_reduced)\n",
    "        return y\n",
    "    def predict(self, X):\n",
    "        X_selected = self.selector.transform(X)\n",
    "        X_reduced = self.reducer.transform(X_selected)\n",
    "        y = self.model.predict(X_reduced)\n",
    "        return y\n",
    "\n",
    "# DEBUG\n",
    "# pipeline.fit(X_train, np.vstack([y_beh_train, y_train]).T)\n",
    "# score = pipeline.score(X_test, y_test)\n"
   ]
  },
  {
   "cell_type": "code",
   "execution_count": 90,
   "metadata": {},
   "outputs": [
    {
     "name": "stdout",
     "output_type": "stream",
     "text": [
      "Test set score (accuracy): 0.25\n"
     ]
    }
   ],
   "source": [
    "model = ensemble.GradientBoostingClassifier()\n",
    "# model = multioutput.MultiOutputClassifier(ensemble.GradientBoostingClassifier())\n",
    "\n",
    "\n",
    "pipeline = Pipeline([\n",
    "    ('zerovar', feature_selection.VarianceThreshold()),\n",
    "    # ('select', feature_selection.SelectKBest()),\n",
    "    # ('standard_scaler', preprocessing.StandardScaler()), \n",
    "    # DEBUG ('model', MixedReducerModel()),\n",
    "    ('reducer', UMAP(n_components=3)), \n",
    "    # ('reducer', decomposition.PCA()),\n",
    "    # ('reducer', cross_decomposition.PLSCanonical()),    \n",
    "    ('model', model)\n",
    "], verbose=True)\n",
    "\n",
    "\n",
    "param_grid = {\n",
    "    'zerovar__threshold': [0],\n",
    "    # 'select__k': np.linspace(1, X.shape[1], 10, dtype='int'),\n",
    "    # 'select__k': [1, 10, 100],\n",
    "    # 'reducer__n_neighbors': [1, 2, 3, 4, 5, 10],  # UMAP\n",
    "    # 'reducer__n_components': [2,3,5],  # UMAP\n",
    "    # 'reducer__n_components': range(1,21),  # PCA\n",
    "    # 'model__n_estimators': [10, 100, 1000],  # XGBClassifier, GradientBoostingClassifier\n",
    "    # 'model__estimator__n_estimators': [10, 100],  # MultiOutputClassifier\n",
    "}\n",
    "\n",
    "grid = model_selection.GridSearchCV(\n",
    "    pipeline, param_grid, cv=5,\n",
    "    scoring='roc_auc',\n",
    "    # scoring=['accuracy', 'roc_auc', 'f1', 'precision', 'recall'], refit='accuracy',\n",
    "    n_jobs=1, verbose=3\n",
    ")\n",
    "\n",
    "grid.fit(X_train, y_train)\n",
    "score = grid.score(X_test, y_test)\n",
    "\n",
    "# report scores\n",
    "clear_output(wait=True)\n",
    "\n",
    "print(f'Test set score (roc_auc): {score:.2f}')"
   ]
  },
  {
   "cell_type": "code",
   "execution_count": 91,
   "metadata": {},
   "outputs": [
    {
     "data": {
      "image/png": "[encoded data removed]",
      "text/plain": [
       "<Figure size 864x432 with 4 Axes>"
      ]
     },
     "metadata": {},
     "output_type": "display_data"
    }
   ],
   "source": [
    "# plot confusion matrix\n",
    "fig, axes = plt.subplots(1, 2, figsize=(12, 6))\n",
    "\n",
    "# train set\n",
    "metrics.ConfusionMatrixDisplay.from_estimator(\n",
    "  grid,\n",
    "  X_train, y_train,\n",
    "  normalize='all',\n",
    "  display_labels=y_encoder.classes_,\n",
    "  ax=axes[0],\n",
    "  )\n",
    "\n",
    "# test set\n",
    "metrics.ConfusionMatrixDisplay.from_estimator(\n",
    "  grid,\n",
    "  X_test, y_test,\n",
    "  normalize='all',\n",
    "  display_labels=y_encoder.classes_,\n",
    "  ax=axes[1],\n",
    "  )\n",
    "\n",
    "# set titles\n",
    "axes[0].set(title=f'train ({len(y_train)} subjects)')\n",
    "axes[1].set(title=f'test ({len(y_test)} subjects)')\n",
    "\n",
    "plt.show()"
   ]
  },
  {
   "cell_type": "code",
   "execution_count": null,
   "metadata": {},
   "outputs": [],
   "source": [
    "%reload_ext watermark\n",
    "%watermark -iv -co -ituhmv"
   ]
  }
 ],
 "metadata": {
  "interpreter": {
   "hash": "34f04479ffaeb5c00adb9e28a92647dce776275bf5ee61de72266754f4451f1a"
  },
  "kernelspec": {
   "display_name": "Python 3.9.9 ('acnets')",
   "language": "python",
   "name": "python3"
  },
  "language_info": {
   "codemirror_mode": {
    "name": "ipython",
    "version": 3
   },
   "file_extension": ".py",
   "mimetype": "text/x-python",
   "name": "python",
   "nbconvert_exporter": "python",
   "pygments_lexer": "ipython3",
   "version": "3.9.10"
  },
  "orig_nbformat": 4
 },
 "nbformat": 4,
 "nbformat_minor": 2
}
