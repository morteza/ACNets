{
 "cells": [
  {
   "cell_type": "markdown",
   "metadata": {},
   "source": [
    "Resting-state preprocessing results in five kinds of individual-level functional connectivity matrices, $W\\text{s}$, each of size $32\\times39\\times39$, where $W_{ijk}$ is the connectivity between the time-series of nodes $j$ and $k$ in the control network of the subject $i$.\n",
    "\n",
    "The connectivity matrices are symmetric, so we only need to keep the upper triangular part of the matrix. This results in a (32, 741) matrix, where each columns is a connectivity measure between two nodes."
   ]
  },
  {
   "cell_type": "code",
   "execution_count": null,
   "metadata": {},
   "outputs": [],
   "source": [
    "\n",
    "import numpy as np\n",
    "import xarray as xr\n",
    "import pandas as pd\n",
    "\n",
    "from IPython.display import clear_output\n",
    "import matplotlib.pyplot as plt\n",
    "import seaborn as sns; sns.set()\n",
    "import plotly.express as px\n",
    "\n",
    "from sklearn import preprocessing, model_selection, metrics, ensemble, multioutput\n",
    "from sklearn import decomposition, cross_decomposition, feature_selection\n",
    "from sklearn.pipeline import Pipeline\n",
    "# from xgboost import XGBClassifier  # incompatible with umap's scipy\n",
    "\n",
    "sns.set(style='dark')\n",
    "\n",
    "from umap import UMAP\n",
    "\n",
    "# Technical reproducibility\n",
    "%reload_ext watermark\n",
    "%watermark -iv -co -ituhmv"
   ]
  },
  {
   "cell_type": "code",
   "execution_count": null,
   "metadata": {},
   "outputs": [],
   "source": [
    "# 1. load the connectivity dataset\n",
    "DATASET = xr.open_dataset('data/julia2018_resting/connectivities.nc').load()\n",
    "\n",
    "# 1. input (connectivities)\n",
    "X = np.array(\n",
    "  [subj_conn[np.triu_indices_from(subj_conn, k=1)] \n",
    "   for subj_conn in DATASET['connectivity'].values]\n",
    "  )\n",
    "\n",
    "# 2. classifier output (AVGP or NVGP)\n",
    "y_encoder = preprocessing.LabelEncoder()\n",
    "y = y_encoder.fit_transform(DATASET['group'])\n",
    "\n",
    "# 3. behavioral outputs (inverse efficiency scores in millis)\n",
    "y_beh = DATASET['inverse_efficiency_score_ms'].values\n",
    "\n",
    "# 4. remove subjects with missing connectivity and behavioral data\n",
    "valid_subjects_mask = ~np.isnan(y_beh)\n",
    "X = X[valid_subjects_mask]\n",
    "y = y[valid_subjects_mask]\n",
    "y_beh = y_beh[valid_subjects_mask]\n",
    "\n",
    "subjects = DATASET['subject'][valid_subjects_mask]\n",
    "# 4. Feature extraction\n",
    "# X_thresholds = np.median(X, axis=1) + np.std(X, axis=1)\n",
    "# X_binarized = np.where(np.abs(X) < X_thresholds.reshape(-1,1), 0., 1.)\n",
    "# X_reduced = UMAP(n_neighbors=15, n_components=2).fit_transform(X)"
   ]
  },
  {
   "cell_type": "code",
   "execution_count": null,
   "metadata": {},
   "outputs": [],
   "source": [
    "g = sns.displot(\n",
    "  data = DATASET[['group','inverse_efficiency_score_ms']].to_dataframe(),\n",
    "  x='inverse_efficiency_score_ms', hue='group',\n",
    "  binwidth=200,\n",
    "  kde=True,rug=True,\n",
    ")\n",
    "\n",
    "g.set(title='Inverse efficiency score (200 milliseconds bins)',\n",
    "      xlabel='Inverse efficiency score (ms)',)\n",
    "plt.show()"
   ]
  },
  {
   "cell_type": "code",
   "execution_count": null,
   "metadata": {},
   "outputs": [],
   "source": [
    "# DEBUG: plot dimensionality-reduced inputs, colored by outputs\n",
    "\n",
    "# 1. select\n",
    "X_reduced = X\n",
    "# X_reduced = feature_selection.SelectKBest(\n",
    "  # feature_selection.f_regression, k=10).fit_transform(X, y_beh)\n",
    "\n",
    "# 2. reduce\n",
    "# X_reduced = UMAP(n_neighbors=3, n_components=3).fit_transform(X_reduced, y_beh)\n",
    "# X_reduced = decomposition.PCA(n_components=3).fit_transform(X_reduced)\n",
    "X_reduced = feature_selection.SelectKBest(feature_selection.f_classif, k=10).fit_transform(X_reduced, y)\n",
    "X_reduced, _ = cross_decomposition.PLSRegression(n_components=3).fit_transform(X_reduced, y_beh)\n",
    "\n",
    "# 3. plot\n",
    "plotting_data = pd.DataFrame(X_reduced, columns=['dim1','dim2','dim3'])\n",
    "plotting_data['group'] = y_encoder.inverse_transform(y)\n",
    "plotting_data['subject'] = subjects\n",
    "\n",
    "fig = px.scatter_3d(\n",
    "  plotting_data,\n",
    "  x='dim1', y='dim2', z='dim3', color='group', hover_name='subject',\n",
    "  title='UMAP embedding of the upper triangle connectivity matrices.'\n",
    "        'Points represent subjects.')\n",
    "\n",
    "fig.show()"
   ]
  }
 ],
 "metadata": {
  "language_info": {
   "name": "python"
  },
  "orig_nbformat": 4
 },
 "nbformat": 4,
 "nbformat_minor": 2
}
