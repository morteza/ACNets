{
 "cells": [
  {
   "cell_type": "markdown",
   "metadata": {},
   "source": [
    "# Connectivity Classifier\n",
    "\n",
    "Steps:\n",
    "1. Load the data\n",
    "2. Fit a SVM + HPO\n",
    "3. Permutation testing\n",
    "4. Permutation Importance\n",
    "5. SHAP\n",
    "\n",
    "## Inputs\n",
    "\n",
    "Connectivity matrices\n",
    "\n",
    "## Outputs\n",
    "\n",
    "Participant's label, either AVGP or NVGP.\n",
    "\n",
    "## Requirements\n",
    "\n",
    "To run this notebook, you need to have the rapids packages installed:\n",
    "\n",
    "```bash\n",
    "mamba create -n rapids-22.04 \\\n",
    "    -c rapidsai -c nvidia -y \\\n",
    "    rapids=22.04 python=3.9 cudatoolkit=11.5 \\\n",
    "    jupyterlab ipykernel nilearn xarray netcdf4 seaborn\n",
    "\n",
    "mamba activate rapids-22.04\n",
    "\n",
    "# [Optional] Bayesian HBO\n",
    "# pip install \"ray[tune]\" tune-sklearn scikit-optimize\n",
    "```"
   ]
  },
  {
   "cell_type": "code",
   "execution_count": 12,
   "metadata": {},
   "outputs": [],
   "source": [
    "# SETUP\n",
    "\n",
    "%reload_ext autoreload\n",
    "%autoreload 3\n",
    "\n",
    "import os\n",
    "from pathlib import Path\n",
    "\n",
    "import matplotlib.pyplot as plt\n",
    "import numpy as np\n",
    "import pandas as pd\n",
    "import scipy.stats as st\n",
    "import seaborn as sns\n",
    "from python.acnets.pipeline import ConnectivityPipeline, ConnectivityVectorizer\n",
    "from ray import tune\n",
    "from ray.tune.sklearn import TuneSearchCV\n",
    "from sklearn.dummy import DummyClassifier\n",
    "from sklearn.feature_selection import SelectFromModel, VarianceThreshold\n",
    "from sklearn.model_selection import (GridSearchCV, StratifiedShuffleSplit,\n",
    "                                     cross_val_score)\n",
    "from sklearn.pipeline import Pipeline\n",
    "from sklearn.preprocessing import LabelEncoder, StandardScaler\n",
    "from sklearn.svm import LinearSVC\n",
    "\n",
    "try:\n",
    "    from cuml import PCA, SVC, UMAP\n",
    "    from cuml.model_selection import GridSearchCV\n",
    "    os.environ['CUDA_VISIBLE_DEVICES'] = '0'\n",
    "except ImportError as e:\n",
    "    print('cuML not installed. Skipping GPU and falling back to scikit.')\n",
    "\n"
   ]
  },
  {
   "cell_type": "code",
   "execution_count": 13,
   "metadata": {},
   "outputs": [],
   "source": [
    "# 0. PARAMETERS\n",
    "\n",
    "#  WARNING: Ray Tune requires data paths to be absolute.\n",
    "BIDS_DIR = Path.home() / 'workspace/acnets/data/julia2018'\n",
    "CACHE_DIR = Path.home() / 'workspace/acnets/data/julia2018_resting'"
   ]
  },
  {
   "cell_type": "code",
   "execution_count": 14,
   "metadata": {},
   "outputs": [],
   "source": [
    "# 1. DATA\n",
    "\n",
    "subjects = ConnectivityPipeline().transform('all').coords['subject'].values\n",
    "groups = [s[:4] for s in subjects]  # AVGP or NVGP\n",
    "\n",
    "X = subjects.reshape(-1, 1)\n",
    "\n",
    "y_encoder = LabelEncoder()\n",
    "y = y_encoder.fit_transform(groups)"
   ]
  },
  {
   "cell_type": "code",
   "execution_count": 20,
   "metadata": {},
   "outputs": [
    {
     "data": {
      "text/plain": [
       "(0.725,\n",
       " 0.15103807466993213,\n",
       " BootstrapResult(confidence_interval=ConfidenceInterval(low=0.65, high=0.78125), standard_error=0.03376421552888337))"
      ]
     },
     "execution_count": 20,
     "metadata": {},
     "output_type": "execute_result"
    }
   ],
   "source": [
    "# 2. PIPELINE\n",
    "\n",
    "from sklearn.decomposition import PCA\n",
    "from sklearn.ensemble import RandomForestClassifier\n",
    "\n",
    "pipe  = Pipeline([\n",
    "    ('connectivity', ConnectivityPipeline(bids_dir=BIDS_DIR, parcellation_cache_dir=CACHE_DIR)),\n",
    "    ('vectorize', ConnectivityVectorizer()),\n",
    "    ('scale', StandardScaler()),\n",
    "    ('zerovar', VarianceThreshold()),\n",
    "    ('select', SelectFromModel(LinearSVC(penalty='l1', dual=False, max_iter=10000))),\n",
    "    # ('reduce', PCA()),\n",
    "    ('clf', LinearSVC(penalty='l1', dual=False, max_iter=10000))\n",
    "    # ('clf', RandomForestClassifier())\n",
    "])\n",
    "\n",
    "# DEBUG\n",
    "# pipe.fit(X, y).score(X, y)\n",
    "\n",
    "# DEBUG: test some good defaults\n",
    "pipe.set_params(connectivity__kind='partial correlation')\n",
    "\n",
    "scores = cross_val_score(pipe, X, y,\n",
    "                         cv=StratifiedShuffleSplit(n_splits=20, test_size=8),\n",
    "                         scoring='accuracy',\n",
    "                         n_jobs=-1)\n",
    "bootstrap_ci = st.bootstrap(scores.reshape(1,-1), np.mean)\n",
    "scores.mean(), scores.std(), bootstrap_ci"
   ]
  },
  {
   "cell_type": "code",
   "execution_count": 17,
   "metadata": {},
   "outputs": [
    {
     "name": "stdout",
     "output_type": "stream",
     "text": [
      "skipping bayesian optimization...\n"
     ]
    }
   ],
   "source": [
    "# HPO: Bayesian Optimization\n",
    "\n",
    "%%script echo skipping bayesian optimization...\n",
    "\n",
    "\n",
    "param_space = {\n",
    "    # 'scale': tune.choice([StandardScaler(), 'passthrough']),\n",
    "    # 'select': tune.choice([SelectFromModel(LinearSVC(penalty='l2')), 'passthrough']),\n",
    "    'clf__C': tune.loguniform(1e-2, 1e3),\n",
    "    'connectivity__atlas': tune.choice(['dosenbach2010']),#, 'gordon2014_2mm', 'difumo_64_2mm', 'seitzman2018'],\n",
    "    'connectivity__kind': tune.choice(['partial correlation', 'chatterjee', 'correlation', 'tangent']),\n",
    "}\n",
    "\n",
    "opt = TuneSearchCV(\n",
    "    pipe,\n",
    "    param_space,\n",
    "    cv=4,\n",
    "    n_trials=10,\n",
    "    # early_stopping=True,\n",
    "    max_iters=2,\n",
    "    search_optimization='bayesian',\n",
    "    verbose=1,\n",
    "    scoring='accuracy',\n",
    "    use_gpu=True,\n",
    "    n_jobs=-1)\n",
    "\n",
    "opt.fit(X, y)\n",
    "\n",
    "print('best estimator:', opt.best_estimator_)\n"
   ]
  },
  {
   "cell_type": "code",
   "execution_count": 23,
   "metadata": {},
   "outputs": [
    {
     "name": "stdout",
     "output_type": "stream",
     "text": [
      "Fitting 20 folds for each of 9 candidates, totalling 180 fits\n",
      "\n",
      "Dataset created in /home/morteza/nilearn_data/difumo_atlases\n",
      "\n",
      "Downloading data from https://osf.io/pqu9r/download ...\n"
     ]
    },
    {
     "name": "stderr",
     "output_type": "stream",
     "text": [
      " ...done. (2 seconds, 0 min)\n",
      "Extracting data from /home/morteza/nilearn_data/difumo_atlases/0fd53859aa9fed124e741c85ec45c705/download..... done.\n"
     ]
    },
    {
     "name": "stdout",
     "output_type": "stream",
     "text": [
      "Downloading data from https://osf.io/4k9bf/download ...\n"
     ]
    },
    {
     "name": "stderr",
     "output_type": "stream",
     "text": [
      " ...done. (2 seconds, 0 min)\n"
     ]
    },
    {
     "name": "stdout",
     "output_type": "stream",
     "text": [
      "best estimator: Pipeline(steps=[('connectivity',\n",
      "                 ConnectivityPipeline(bids_dir=PosixPath('/home/morteza/workspace/acnets/data/julia2018'), kind='partial correlation', parcellation_cache_dir=PosixPath('/home/morteza/workspace/acnets/data/julia2018_resting'))),\n",
      "                ('vectorize', ConnectivityVectorizer()),\n",
      "                ('scale', StandardScaler()), ('zerovar', VarianceThreshold()),\n",
      "                ('select',\n",
      "                 SelectFromModel(estimator=LinearSVC(dual=False, max_iter=10000,\n",
      "                                                     penalty='l1'))),\n",
      "                ('clf', LinearSVC(dual=False, max_iter=10000, penalty='l1'))])\n"
     ]
    },
    {
     "name": "stderr",
     "output_type": "stream",
     "text": [
      "/home/morteza/mambaforge/envs/rapids-22.04/lib/python3.9/site-packages/sklearn/model_selection/_validation.py:378: FitFailedWarning: \n",
      "60 fits failed out of a total of 180.\n",
      "The score on these train-test partitions for these parameters will be set to nan.\n",
      "If these failures are not expected, you can try to debug them by setting error_score='raise'.\n",
      "\n",
      "Below are more details about the failures:\n",
      "--------------------------------------------------------------------------------\n",
      "60 fits failed with the following error:\n",
      "Traceback (most recent call last):\n",
      "  File \"/home/morteza/mambaforge/envs/rapids-22.04/lib/python3.9/site-packages/sklearn/model_selection/_validation.py\", line 686, in _fit_and_score\n",
      "    estimator.fit(X_train, y_train, **fit_params)\n",
      "  File \"/home/morteza/mambaforge/envs/rapids-22.04/lib/python3.9/site-packages/sklearn/pipeline.py\", line 378, in fit\n",
      "    Xt = self._fit(X, y, **fit_params_steps)\n",
      "  File \"/home/morteza/mambaforge/envs/rapids-22.04/lib/python3.9/site-packages/sklearn/pipeline.py\", line 336, in _fit\n",
      "    X, fitted_transformer = fit_transform_one_cached(\n",
      "  File \"/home/morteza/mambaforge/envs/rapids-22.04/lib/python3.9/site-packages/joblib/memory.py\", line 349, in __call__\n",
      "    return self.func(*args, **kwargs)\n",
      "  File \"/home/morteza/mambaforge/envs/rapids-22.04/lib/python3.9/site-packages/sklearn/pipeline.py\", line 870, in _fit_transform_one\n",
      "    res = transformer.fit_transform(X, y, **fit_params)\n",
      "  File \"/home/morteza/mambaforge/envs/rapids-22.04/lib/python3.9/site-packages/sklearn/base.py\", line 870, in fit_transform\n",
      "    return self.fit(X, y, **fit_params).transform(X)\n",
      "  File \"/home/morteza/workspace/acnets/python/acnets/pipeline/connectivity_pipeline.py\", line 33, in transform\n",
      "    p = Parcellation(self.atlas,\n",
      "  File \"/home/morteza/workspace/acnets/python/acnets/pipeline/parcellation.py\", line 54, in __init__\n",
      "    self.masker_, self.labels_ = self._load_masker(self.atlas_name, None)\n",
      "  File \"/home/morteza/workspace/acnets/python/acnets/parcellations/gordon.py\", line 54, in load_masker\n",
      "    atlas = fetch_atlas(atlas_version_name, resolution_mm)\n",
      "  File \"/home/morteza/workspace/acnets/python/acnets/parcellations/gordon.py\", line 29, in fetch_atlas\n",
      "    labels = pd.read_csv(data_dir / 'Parcels.csv')\n",
      "  File \"/home/morteza/mambaforge/envs/rapids-22.04/lib/python3.9/site-packages/pandas/util/_decorators.py\", line 311, in wrapper\n",
      "    return func(*args, **kwargs)\n",
      "  File \"/home/morteza/mambaforge/envs/rapids-22.04/lib/python3.9/site-packages/pandas/io/parsers/readers.py\", line 586, in read_csv\n",
      "    return _read(filepath_or_buffer, kwds)\n",
      "  File \"/home/morteza/mambaforge/envs/rapids-22.04/lib/python3.9/site-packages/pandas/io/parsers/readers.py\", line 482, in _read\n",
      "    parser = TextFileReader(filepath_or_buffer, **kwds)\n",
      "  File \"/home/morteza/mambaforge/envs/rapids-22.04/lib/python3.9/site-packages/pandas/io/parsers/readers.py\", line 811, in __init__\n",
      "    self._engine = self._make_engine(self.engine)\n",
      "  File \"/home/morteza/mambaforge/envs/rapids-22.04/lib/python3.9/site-packages/pandas/io/parsers/readers.py\", line 1040, in _make_engine\n",
      "    return mapping[engine](self.f, **self.options)  # type: ignore[call-arg]\n",
      "  File \"/home/morteza/mambaforge/envs/rapids-22.04/lib/python3.9/site-packages/pandas/io/parsers/c_parser_wrapper.py\", line 51, in __init__\n",
      "    self._open_handles(src, kwds)\n",
      "  File \"/home/morteza/mambaforge/envs/rapids-22.04/lib/python3.9/site-packages/pandas/io/parsers/base_parser.py\", line 222, in _open_handles\n",
      "    self.handles = get_handle(\n",
      "  File \"/home/morteza/mambaforge/envs/rapids-22.04/lib/python3.9/site-packages/pandas/io/common.py\", line 702, in get_handle\n",
      "    handle = open(\n",
      "FileNotFoundError: [Errno 2] No such file or directory: 'data/gordon2014/Parcels.csv'\n",
      "\n",
      "  warnings.warn(some_fits_failed_message, FitFailedWarning)\n",
      "/home/morteza/mambaforge/envs/rapids-22.04/lib/python3.9/site-packages/sklearn/model_selection/_search.py:953: UserWarning: One or more of the test scores are non-finite: [    nan     nan     nan 0.71875 0.63125 0.66875 0.5125  0.58125 0.48125]\n",
      "  warnings.warn(\n"
     ]
    }
   ],
   "source": [
    "# HPO: Grid Search\n",
    "\n",
    "param_grid = {\n",
    "    'connectivity__atlas': ['gordon2014_2mm', 'dosenbach2010', 'difumo_64_2mm'],\n",
    "    # 'connectivity__atlas': ['dosenbach2010'],\n",
    "    'connectivity__kind': ['partial correlation', 'chatterjee', 'tangent'],\n",
    "    # 'connectivity__kind': ['partial correlation', 'tangent'],\n",
    "}\n",
    "\n",
    "grid = GridSearchCV(\n",
    "    pipe,\n",
    "    param_grid,\n",
    "    cv=StratifiedShuffleSplit(n_splits=20, test_size=8),\n",
    "    verbose=1,\n",
    "    scoring='accuracy')\n",
    "\n",
    "grid.fit(X, y)\n",
    "\n",
    "print('best estimator:', grid.best_estimator_)\n"
   ]
  },
  {
   "cell_type": "code",
   "execution_count": 24,
   "metadata": {},
   "outputs": [
    {
     "data": {
      "image/png": "[encoded data removed]",
      "text/plain": [
       "<Figure size 712.8x360 with 1 Axes>"
      ]
     },
     "metadata": {
      "needs_background": "light"
     },
     "output_type": "display_data"
    }
   ],
   "source": [
    "# PLOT ACCURACY AGAINST CHANCE\n",
    "\n",
    "def _create_label(params):\n",
    "    return f'$\\\\bf{{{params[0]}}}$\\n{params[1]}'.replace('_', '\\\\_')\n",
    "\n",
    "\n",
    "def plot_scores(grid, X=None, y=None, plot_chance=True):\n",
    "\n",
    "    # prep data\n",
    "    scores = pd.DataFrame(grid.cv_results_)\n",
    "    scores['label'] = scores['params'].apply(lambda p: _create_label(list(p.values())))\n",
    "    split_score_cols = [c for c in scores.columns if 'split' in c]\n",
    "    scores['cv_test_score'] = scores[split_score_cols].apply(lambda x: list(x), axis=1)\n",
    "    scores = scores.explode('cv_test_score').reset_index(drop=True)\n",
    "    scores = scores.sort_values('rank_test_score', ascending=False)\n",
    "\n",
    "    _, ax = plt.subplots(figsize=(len(grid.cv_results_['params']) * 1.1, 5))\n",
    "\n",
    "    # score curve + CI\n",
    "    sns.lineplot(data=scores, x='label', y='cv_test_score', lw=3, sort=False, ax=ax)\n",
    "\n",
    "    # blue dots\n",
    "    sns.scatterplot(data=scores, x='label', y='mean_test_score', marker='o', s=100, ax=ax, label='_nolegend_')\n",
    "\n",
    "    if plot_chance:\n",
    "        # simulate chance\n",
    "        chance_scores = {}\n",
    "        for model_name in scores['label'].unique():\n",
    "            chance_model = DummyClassifier(strategy='stratified').fit(X, y)\n",
    "            _chance_scores = cross_val_score(chance_model, X, y, cv=grid.cv, scoring=grid.scoring)\n",
    "            chance_scores[model_name] = _chance_scores\n",
    "\n",
    "        chance_scores = pd.DataFrame(chance_scores)\n",
    "        chance_scores = chance_scores.melt(value_name=grid.scoring, var_name='label')\n",
    "\n",
    "        # plot chance\n",
    "        sns.lineplot(data=chance_scores, x='label', y=grid.scoring, lw=2, sort=False, ax=ax, color='red')\n",
    "\n",
    "    # legend\n",
    "    ax.legend(['average', '95% CI', 'chance'],\n",
    "                title_fontproperties={'weight': 'bold', 'size': 'x-large'},\n",
    "                prop={'size': 'x-large'}, loc='upper left',\n",
    "                title=f'{grid.cv.n_splits} $\\\\times$ {32 // grid.cv.test_size}-fold CV')\n",
    "\n",
    "    # tweaks\n",
    "    ax.set_xlabel('')\n",
    "    ax.set_ylabel(grid.scoring, fontsize='xx-large')\n",
    "    plt.xticks(rotation=45, ha='right', fontsize='x-large', rotation_mode='anchor')\n",
    "    plt.suptitle(f'classification {grid.scoring} (validation set)', fontsize='xx-large', y=.95)\n",
    "    plt.grid(axis='y')\n",
    "\n",
    "\n",
    "\n",
    "plot_scores(grid, X, y)\n",
    "plt.show()"
   ]
  },
  {
   "cell_type": "code",
   "execution_count": 25,
   "metadata": {},
   "outputs": [
    {
     "name": "stderr",
     "output_type": "stream",
     "text": [
      "[Parallel(n_jobs=-1)]: Using backend LokyBackend with 8 concurrent workers.\n",
      "[Parallel(n_jobs=-1)]: Done  34 tasks      | elapsed:    5.8s\n",
      "[Parallel(n_jobs=-1)]: Done 100 out of 100 | elapsed:   15.0s finished\n"
     ]
    },
    {
     "data": {
      "image/png": "[encoded data removed]",
      "text/plain": [
       "<Figure size 576x360 with 1 Axes>"
      ]
     },
     "metadata": {
      "needs_background": "light"
     },
     "output_type": "display_data"
    }
   ],
   "source": [
    "# PERMUTATION TESTING (SHUFFLE Y)\n",
    "\n",
    "from sklearn.model_selection import permutation_test_score\n",
    "\n",
    "_, perm_scores, pvalue = permutation_test_score(grid.best_estimator_, X, y,\n",
    "                                                scoring='accuracy',\n",
    "                                                n_permutations=100,\n",
    "                                                cv=4,\n",
    "                                                n_jobs=-1, verbose=1)\n",
    "\n",
    "cv_scores = cross_val_score(grid.best_estimator_, X, y,\n",
    "                            cv=StratifiedShuffleSplit(n_splits=100, test_size=8),\n",
    "                            scoring='accuracy', n_jobs=-1)\n",
    "\n",
    "\n",
    "# Now plot permuted scores along with the cross-validated scores\n",
    "\n",
    "_, ax = plt.subplots(figsize=(8,5))\n",
    "\n",
    "# permutation scores\n",
    "sns.histplot(perm_scores, kde=True, ax=ax, color='red', lw=0)\n",
    "ax.axvline(perm_scores.mean(), color='red', ls='--', label='_nolegend_')\n",
    "\n",
    "# observation scores\n",
    "sns.histplot(cv_scores, kde=True, ax=ax, color='darkblue', lw=0)\n",
    "ax.axvline(cv_scores.mean(), color='darkblue', ls='--', label='_nolegend_')\n",
    "\n",
    "# tweaks\n",
    "plt.xlabel('accuracy', fontsize='xx-large')\n",
    "plt.xticks(fontsize='x-large')\n",
    "\n",
    "plt.suptitle(f'Permutation testing (N={len(perm_scores)})', x = .34, y=.95, fontsize='xx-large')\n",
    "plt.legend(['permuted labels', 'observed scores'], loc='upper left', fontsize='x-large')\n",
    "\n",
    "plt.show()"
   ]
  },
  {
   "cell_type": "code",
   "execution_count": 26,
   "metadata": {},
   "outputs": [
    {
     "data": {
      "application/vnd.jupyter.widget-view+json": {
       "model_id": "e17031eaebf64c7f9dfefefdc374da07",
       "version_major": 2,
       "version_minor": 0
      },
      "text/plain": [
       "  0%|          | 0/100 [00:00<?, ?it/s]"
      ]
     },
     "metadata": {},
     "output_type": "display_data"
    }
   ],
   "source": [
    "# FEATURE IMPORTANCE (SHUFFLE X)\n",
    "\n",
    "from sklearn.inspection import permutation_importance\n",
    "from tqdm.auto import tqdm\n",
    "\n",
    "cv = StratifiedShuffleSplit(n_splits=100, test_size=8)\n",
    "\n",
    "model: Pipeline = grid.best_estimator_  # type: ignore\n",
    "\n",
    "# DEBUG model.set_params(connectivity__kind='tangent')\n",
    "\n",
    "X_conn = model[:2].transform(X)\n",
    "feature_names = model[:2].get_feature_names_out()\n",
    "\n",
    "importances = []\n",
    "\n",
    "for train, test in tqdm(cv.split(X,y), total=cv.get_n_splits(X,y)):\n",
    "    model.fit(X[train], y[train])\n",
    "\n",
    "    results = permutation_importance(model[2:], X_conn[test], y[test],\n",
    "                                     scoring=grid.scoring,\n",
    "                                     n_jobs=1)\n",
    "    importances.append(results.importances.T)\n",
    "\n",
    "\n",
    "importances = pd.DataFrame(np.vstack(importances), columns=feature_names)\n"
   ]
  },
  {
   "cell_type": "code",
   "execution_count": null,
   "metadata": {},
   "outputs": [],
   "source": [
    "# PLOT FEATURE IMPORTANCE\n",
    "\n",
    "# sort by mean importance\n",
    "sorted_columns = importances.mean(axis=0).sort_values(ascending=False).index\n",
    "perm_imp_scores = importances[sorted_columns]\n",
    "\n",
    "_, ax = plt.subplots(1,1,figsize=(5,7))\n",
    "sns.barplot(data=perm_imp_scores,\n",
    "            orient='horizontal',\n",
    "            capsize=.3,\n",
    "            errwidth=2,\n",
    "            ax=ax)\n",
    "\n",
    "plt.xticks(fontsize='x-large')\n",
    "plt.yticks(fontsize='x-large')\n",
    "plt.show()"
   ]
  },
  {
   "cell_type": "code",
   "execution_count": 12,
   "metadata": {},
   "outputs": [
    {
     "ename": "ModuleNotFoundError",
     "evalue": "No module named 'shap'",
     "output_type": "error",
     "traceback": [
      "\u001b[0;31m---------------------------------------------------------------------------\u001b[0m",
      "\u001b[0;31mModuleNotFoundError\u001b[0m                       Traceback (most recent call last)",
      "\u001b[1;32m/home/morteza/workspace/acnets/notebooks/1 Connectivity Classifier.ipynb Cell 13'\u001b[0m in \u001b[0;36m<cell line: 3>\u001b[0;34m()\u001b[0m\n\u001b[1;32m      <a href='vscode-notebook-cell:/home/morteza/workspace/acnets/notebooks/1%20Connectivity%20Classifier.ipynb#ch0000012?line=0'>1</a>\u001b[0m \u001b[39m# SHAP\u001b[39;00m\n\u001b[0;32m----> <a href='vscode-notebook-cell:/home/morteza/workspace/acnets/notebooks/1%20Connectivity%20Classifier.ipynb#ch0000012?line=2'>3</a>\u001b[0m \u001b[39mimport\u001b[39;00m \u001b[39mshap\u001b[39;00m\n\u001b[1;32m      <a href='vscode-notebook-cell:/home/morteza/workspace/acnets/notebooks/1%20Connectivity%20Classifier.ipynb#ch0000012?line=3'>4</a>\u001b[0m \u001b[39mfrom\u001b[39;00m \u001b[39mtqdm\u001b[39;00m\u001b[39m.\u001b[39;00m\u001b[39mauto\u001b[39;00m \u001b[39mimport\u001b[39;00m tqdm\n\u001b[1;32m      <a href='vscode-notebook-cell:/home/morteza/workspace/acnets/notebooks/1%20Connectivity%20Classifier.ipynb#ch0000012?line=5'>6</a>\u001b[0m shap_values_cv \u001b[39m=\u001b[39m []\n",
      "\u001b[0;31mModuleNotFoundError\u001b[0m: No module named 'shap'"
     ]
    }
   ],
   "source": [
    "# SHAP\n",
    "\n",
    "import shap\n",
    "from tqdm.auto import tqdm\n",
    "\n",
    "shap_values_cv = []\n",
    "test_indices = []\n",
    "y_test_cv = []\n",
    "y_pred_cv = []\n",
    "\n",
    "feature_names = grid.best_estimator_[:2].get_feature_names_out()\n",
    "\n",
    "cv = StratifiedShuffleSplit(n_splits=10, test_size=8)\n",
    "\n",
    "n_splits = cv.get_n_splits(X, y)\n",
    "\n",
    "X_conn = grid.best_estimator_[:2].fit_transform(X, y)\n",
    "\n",
    "for train, test in tqdm(cv.split(X, y), total=n_splits):\n",
    "\n",
    "    shap_model = grid.best_estimator_[2:].fit(X_conn[train], y[train])\n",
    "\n",
    "    y_pred = shap_model.predict(X_conn[test])\n",
    "\n",
    "    test_indices.extend(test)\n",
    "    y_test_cv.append(y[test])\n",
    "    y_pred_cv.append(y_pred)\n",
    "\n",
    "    explainer = shap.Explainer(\n",
    "        shap_model.predict, X_conn[train],\n",
    "        feature_names=feature_names,\n",
    "        # approximate=True,\n",
    "        # model_output='raw',\n",
    "        # feature_perturbation='interventional',\n",
    "    )\n",
    "\n",
    "    shap_values = explainer(X_conn[test])#, check_additivity=True)\n",
    "\n",
    "    shap_values_cv.append(shap_values)\n",
    "\n",
    "# merge CV SHAPs\n",
    "\n",
    "X = subjects.reshape(-1, 1)\n",
    "X_test = pd.DataFrame(X[np.hstack(test_indices)], columns=['subject'])\n",
    "y_test = np.hstack(y_test_cv)\n",
    "y_pred = np.hstack(y_pred_cv)\n",
    "\n",
    "# merge CV SHAPs\n",
    "shap_values = shap.Explanation(\n",
    "  values = np.vstack([sh.values for sh in shap_values_cv]),\n",
    "  base_values = np.hstack([sh.base_values for sh in shap_values_cv]),\n",
    "  data = np.vstack([sh.data for sh in shap_values_cv]),\n",
    "  feature_names=feature_names,\n",
    "  compute_time=np.sum([sh.compute_time for sh in shap_values_cv]),\n",
    "  output_names=y_encoder.classes_,\n",
    "  output_indexes=y_pred,\n",
    ")\n",
    "\n",
    "shap.summary_plot(shap_values, max_display=21, show=True, plot_type='violin')\n"
   ]
  },
  {
   "cell_type": "markdown",
   "metadata": {},
   "source": [
    "## Appendix"
   ]
  },
  {
   "cell_type": "code",
   "execution_count": null,
   "metadata": {},
   "outputs": [
    {
     "ename": "NameError",
     "evalue": "name 'grid' is not defined",
     "output_type": "error",
     "traceback": [
      "\u001b[0;31m---------------------------------------------------------------------------\u001b[0m",
      "\u001b[0;31mNameError\u001b[0m                                 Traceback (most recent call last)",
      "\u001b[1;32m/Users/morteza/workspace/acnets/notebooks/1 Connectivity Classifier.ipynb Cell 2'\u001b[0m in \u001b[0;36m<cell line: 6>\u001b[0;34m()\u001b[0m\n\u001b[1;32m      <a href='vscode-notebook-cell:/Users/morteza/workspace/acnets/notebooks/1%20Connectivity%20Classifier.ipynb#ch0000001?line=2'>3</a>\u001b[0m \u001b[39mfrom\u001b[39;00m \u001b[39msklearn\u001b[39;00m\u001b[39m.\u001b[39;00m\u001b[39mmodel_selection\u001b[39;00m \u001b[39mimport\u001b[39;00m learning_curve\n\u001b[1;32m      <a href='vscode-notebook-cell:/Users/morteza/workspace/acnets/notebooks/1%20Connectivity%20Classifier.ipynb#ch0000001?line=3'>4</a>\u001b[0m \u001b[39mimport\u001b[39;00m \u001b[39mpandas\u001b[39;00m \u001b[39mas\u001b[39;00m \u001b[39mpd\u001b[39;00m\n\u001b[0;32m----> <a href='vscode-notebook-cell:/Users/morteza/workspace/acnets/notebooks/1%20Connectivity%20Classifier.ipynb#ch0000001?line=5'>6</a>\u001b[0m train_sizes, train_scores, test_scores \u001b[39m=\u001b[39m learning_curve(grid\u001b[39m.\u001b[39mbest_estimator_, X, y,\n\u001b[1;32m      <a href='vscode-notebook-cell:/Users/morteza/workspace/acnets/notebooks/1%20Connectivity%20Classifier.ipynb#ch0000001?line=6'>7</a>\u001b[0m                                                         cv\u001b[39m=\u001b[39mStratifiedShuffleSplit(n_splits\u001b[39m=\u001b[39m\u001b[39m10\u001b[39m, test_size\u001b[39m=\u001b[39m\u001b[39m8\u001b[39m),\n\u001b[1;32m      <a href='vscode-notebook-cell:/Users/morteza/workspace/acnets/notebooks/1%20Connectivity%20Classifier.ipynb#ch0000001?line=7'>8</a>\u001b[0m                                                         scoring\u001b[39m=\u001b[39m\u001b[39m'\u001b[39m\u001b[39maccuracy\u001b[39m\u001b[39m'\u001b[39m,\n\u001b[1;32m      <a href='vscode-notebook-cell:/Users/morteza/workspace/acnets/notebooks/1%20Connectivity%20Classifier.ipynb#ch0000001?line=8'>9</a>\u001b[0m                                                         n_jobs\u001b[39m=\u001b[39m\u001b[39m-\u001b[39m\u001b[39m1\u001b[39m,\n\u001b[1;32m     <a href='vscode-notebook-cell:/Users/morteza/workspace/acnets/notebooks/1%20Connectivity%20Classifier.ipynb#ch0000001?line=9'>10</a>\u001b[0m                                                         shuffle\u001b[39m=\u001b[39m\u001b[39mTrue\u001b[39;00m,\n\u001b[1;32m     <a href='vscode-notebook-cell:/Users/morteza/workspace/acnets/notebooks/1%20Connectivity%20Classifier.ipynb#ch0000001?line=10'>11</a>\u001b[0m                                                         train_sizes\u001b[39m=\u001b[39mnp\u001b[39m.\u001b[39marray([\u001b[39m16\u001b[39m, \u001b[39m18\u001b[39m, \u001b[39m20\u001b[39m, \u001b[39m22\u001b[39m, \u001b[39m24\u001b[39m]))\n\u001b[1;32m     <a href='vscode-notebook-cell:/Users/morteza/workspace/acnets/notebooks/1%20Connectivity%20Classifier.ipynb#ch0000001?line=13'>14</a>\u001b[0m learning_curve_results \u001b[39m=\u001b[39m pd\u001b[39m.\u001b[39mDataFrame({\n\u001b[1;32m     <a href='vscode-notebook-cell:/Users/morteza/workspace/acnets/notebooks/1%20Connectivity%20Classifier.ipynb#ch0000001?line=14'>15</a>\u001b[0m     \u001b[39m'\u001b[39m\u001b[39mtrain_size\u001b[39m\u001b[39m'\u001b[39m: train_sizes,\n\u001b[1;32m     <a href='vscode-notebook-cell:/Users/morteza/workspace/acnets/notebooks/1%20Connectivity%20Classifier.ipynb#ch0000001?line=15'>16</a>\u001b[0m     \u001b[39m'\u001b[39m\u001b[39mmean_train_score\u001b[39m\u001b[39m'\u001b[39m: train_scores\u001b[39m.\u001b[39mmean(axis\u001b[39m=\u001b[39m\u001b[39m1\u001b[39m),\n\u001b[1;32m     <a href='vscode-notebook-cell:/Users/morteza/workspace/acnets/notebooks/1%20Connectivity%20Classifier.ipynb#ch0000001?line=16'>17</a>\u001b[0m     \u001b[39m'\u001b[39m\u001b[39mmean_test_score\u001b[39m\u001b[39m'\u001b[39m: test_scores\u001b[39m.\u001b[39mmean(axis\u001b[39m=\u001b[39m\u001b[39m1\u001b[39m)\n\u001b[1;32m     <a href='vscode-notebook-cell:/Users/morteza/workspace/acnets/notebooks/1%20Connectivity%20Classifier.ipynb#ch0000001?line=17'>18</a>\u001b[0m })\n\u001b[1;32m     <a href='vscode-notebook-cell:/Users/morteza/workspace/acnets/notebooks/1%20Connectivity%20Classifier.ipynb#ch0000001?line=19'>20</a>\u001b[0m learning_curve_results\n",
      "\u001b[0;31mNameError\u001b[0m: name 'grid' is not defined"
     ]
    }
   ],
   "source": [
    "# Learning Curve Analysis\n",
    "\n",
    "from sklearn.model_selection import learning_curve\n",
    "import pandas as pd\n",
    "\n",
    "train_sizes, train_scores, test_scores = learning_curve(grid.best_estimator_, X, y,\n",
    "                                                        cv=StratifiedShuffleSplit(n_splits=10, test_size=8),\n",
    "                                                        scoring='accuracy',\n",
    "                                                        n_jobs=-1,\n",
    "                                                        shuffle=True,\n",
    "                                                        train_sizes=np.array([16, 18, 20, 22, 24]))\n",
    "\n",
    "\n",
    "learning_curve_results = pd.DataFrame({\n",
    "    'train_size': train_sizes,\n",
    "    'mean_train_score': train_scores.mean(axis=1),\n",
    "    'mean_test_score': test_scores.mean(axis=1)\n",
    "})\n",
    "\n",
    "learning_curve_results"
   ]
  }
 ],
 "metadata": {
  "kernelspec": {
   "display_name": "Python 3.9.13 ('rapids-22.04')",
   "language": "python",
   "name": "python3"
  },
  "language_info": {
   "codemirror_mode": {
    "name": "ipython",
    "version": 3
   },
   "file_extension": ".py",
   "mimetype": "text/x-python",
   "name": "python",
   "nbconvert_exporter": "python",
   "pygments_lexer": "ipython3",
   "version": "3.9.13"
  },
  "orig_nbformat": 4,
  "vscode": {
   "interpreter": {
    "hash": "b90e1415fa46b83736dab8d6cd3eae9f81d06d0b168159c38749f45c97010f6d"
   }
  }
 },
 "nbformat": 4,
 "nbformat_minor": 2
}
