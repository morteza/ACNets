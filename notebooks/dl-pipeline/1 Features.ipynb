{
 "cells": [
  {
   "cell_type": "markdown",
   "metadata": {},
   "source": [
    "# Extract features\n",
    "\n",
    "We are interested in the following features:\n",
    "\n",
    "- H1: region-averaged time-series\n",
    "- H2: region-level connectivities (from H1, optional: triu-k1)\n",
    "- H3: network-averaged time-series (from H1)\n",
    "- H4: network connectivity (from H3, optional: triu-k1)\n",
    "- H5: networks connectivity (from H2, optional: triu-k0)\n",
    "\n",
    "> Note that we are not going to take the upper triangular part of the connectivity matrix and full matrices are used instead."
   ]
  },
  {
   "cell_type": "code",
   "execution_count": 1,
   "metadata": {},
   "outputs": [],
   "source": [
    "%reload_ext autoreload\n",
    "%autoreload 2\n",
    "\n",
    "from typing_extensions import deprecated\n",
    "\n",
    "from src.acnets.pipeline import Parcellation, ConnectivityAggregator, \\\n",
    "                                ConnectivityExtractor, TimeseriesAggregator"
   ]
  },
  {
   "cell_type": "code",
   "execution_count": 2,
   "metadata": {},
   "outputs": [],
   "source": [
    "@deprecated('Use full connectivity matrix instead')\n",
    "def flatten(ds, mask_k=0):\n",
    "\n",
    "    ds = ds.copy()\n",
    "    import numpy as np\n",
    "    node_type = ds['connectivity'].dims[-1][:-4]\n",
    "    c = ds['connectivity'].values\n",
    "    c[..., *np.tril_indices(c.shape[1], k=mask_k)] = np.nan\n",
    "    ds['connectivity'].values = c\n",
    "    c = ds['connectivity'].to_dataframe().dropna().reset_index().rename(columns={\n",
    "        'connectivity': 'partial correlation'})\n",
    "    c['connectivity'] = c[f'{node_type}_src'] + ' - ' + c[f'{node_type}_dst']\n",
    "    c = c.pivot(index='subject', columns='connectivity', values='partial correlation')\n",
    "    return c"
   ]
  },
  {
   "cell_type": "code",
   "execution_count": 3,
   "metadata": {},
   "outputs": [],
   "source": [
    "atlases = [\n",
    "    'dosenbach2010',\n",
    "    'dosenbach2007',\n",
    "    'difumo_64_2mm',\n",
    "    'difumo_128_2mm',\n",
    "    'difumo_256_2mm',\n",
    "    'difumo_512_2mm',\n",
    "    'difumo_1024_2mm',\n",
    "    'gordon2014_2mm',\n",
    "    'cort-maxprob-thr25-2mm',\n",
    "    'seitzman2018',\n",
    "    'friedman2020',\n",
    "]\n",
    "\n",
    "kinds = [\n",
    "    'correlation',\n",
    "    'partial correlation',\n",
    "    'tangent',\n",
    "    'covariance',\n",
    "    'precisions'\n",
    "]\n",
    "\n",
    "h1_time_regions = Parcellation(atlas_name='dosenbach2010', verbose=1).fit_transform(X=None)\n",
    "h2_conn_regions = ConnectivityExtractor(kind='partial correlation').fit_transform(h1_time_regions)\n",
    "h3_time_networks = TimeseriesAggregator(strategy='network').fit_transform(h1_time_regions)\n",
    "h4_conn_networks = ConnectivityExtractor(kind='partial correlation').fit_transform(h3_time_networks)\n",
    "h5_conn_networks = ConnectivityAggregator(strategy='network').fit_transform(h2_conn_regions)\n",
    "\n",
    "# TODO WIP: reshape as tidy dataframes\n",
    "\n",
    "# h1\n",
    "# h1 = h1_time_regions['timeseries'].to_dataframe().reset_index().pivot(index=['subject', 'region'], columns='timepoint')\n",
    "# h1.columns = h1.columns.droplevel(0)\n",
    "h1 = h1_time_regions['timeseries'].values\n",
    "\n",
    "# h2\n",
    "# h2 = flatten(h2_conn_regions, mask_k=0)\n",
    "h2 = h2_conn_regions['connectivity'].values\n",
    "\n",
    "# h3\n",
    "# h3 = h3_time_networks['timeseries'].to_dataframe().reset_index().pivot(index=['subject', 'network'], columns='timepoint')\n",
    "# h3.columns = h3.columns.droplevel(0)\n",
    "h3 = h3_time_networks['timeseries'].values\n",
    "\n",
    "# h4\n",
    "# h4 = flatten(h4_conn_networks, mask_k=0)\n",
    "h4 = h4_conn_networks['connectivity'].values\n",
    "\n",
    "# h5\n",
    "# h5 = flatten(h5_conn_networks, mask_k=-1)\n",
    "h5 = h5_conn_networks['connectivity'].values\n"
   ]
  }
 ],
 "metadata": {
  "kernelspec": {
   "display_name": "acnets",
   "language": "python",
   "name": "python3"
  },
  "language_info": {
   "codemirror_mode": {
    "name": "ipython",
    "version": 3
   },
   "file_extension": ".py",
   "mimetype": "text/x-python",
   "name": "python",
   "nbconvert_exporter": "python",
   "pygments_lexer": "ipython3",
   "version": "3.11.7"
  }
 },
 "nbformat": 4,
 "nbformat_minor": 2
}
