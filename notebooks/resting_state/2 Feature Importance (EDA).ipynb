{
 "cells": [
  {
   "cell_type": "code",
   "execution_count": 1,
   "metadata": {},
   "outputs": [],
   "source": [
    "import numpy as np\n",
    "import xarray as xr\n",
    "\n",
    "from tqdm import tqdm\n",
    "\n",
    "from sklearn import preprocessing, model_selection, ensemble, svm, metrics\n",
    "\n",
    "import matplotlib.pyplot as plt"
   ]
  },
  {
   "cell_type": "code",
   "execution_count": null,
   "metadata": {},
   "outputs": [],
   "source": [
    "DATASETS = dict.fromkeys([\n",
    "  'dosenbach2007',\n",
    "  'difumo_64_2',\n",
    "  'difumo_128_2',\n",
    "  'difumo_1024_2'\n",
    "  ], None)\n",
    "\n",
    "# load the datasets\n",
    "DATASETS = {\n",
    "  ds_name: xr.open_dataset(f'data/julia2018_resting/connectivity_{ds_name}.nc')\n",
    "  for ds_name in DATASETS.keys()}"
   ]
  },
  {
   "cell_type": "code",
   "execution_count": null,
   "metadata": {},
   "outputs": [],
   "source": [
    "n_splits = 100\n",
    "\n",
    "scores = {}\n",
    "\n",
    "kinds = ['covariance', 'correlation', 'partial_correlation', 'tangent', 'precision']\n",
    "\n",
    "\n",
    "for ds_name, dataset in DATASETS.items():\n",
    "\n",
    "    valid_beh_subjects_mask = ~np.isnan(dataset['inverse_efficiency_score_ms'].values)\n",
    "\n",
    "    y_encoder = preprocessing.LabelEncoder()\n",
    "    y = y_encoder.fit_transform(dataset['group'])\n",
    "    y = y[valid_beh_subjects_mask]\n",
    "\n",
    "\n",
    "    cv = model_selection.StratifiedShuffleSplit(n_splits=n_splits, test_size=.2)\n",
    "\n",
    "    for kind in kinds:\n",
    "        scores[f'{ds_name}_{kind}'] = []\n",
    "        \n",
    "        # 1d-vectorize the connectivity matrix\n",
    "        X = np.array([subj_conn[np.triu_indices_from(subj_conn, k=1)] \n",
    "                      for subj_conn in dataset[f'{kind}_connectivity'].values])\n",
    "        X = X[valid_beh_subjects_mask]\n",
    "\n",
    "        for train, test in tqdm(cv.split(X, y), desc=f'{ds_name} ({kind})', total=n_splits):\n",
    "            classifier = ensemble.AdaBoostClassifier().fit(X[train], y[train])\n",
    "            y_pred = classifier.predict(X[test])\n",
    "            score = metrics.roc_auc_score(y[test], y_pred)\n",
    "            # score = metrics.accuracy_score(y[test], y_pred)\n",
    "            scores[f'{ds_name}_{kind}'].append(score)"
   ]
  },
  {
   "cell_type": "code",
   "execution_count": null,
   "metadata": {},
   "outputs": [],
   "source": [
    "import pandas as pd\n",
    "import seaborn as sns; sns.set()\n",
    "\n",
    "measure_names = [f'{ds_name}_{kind}' for kind in kinds for ds_name in DATASETS.keys()]\n",
    "\n",
    "plotting_data = pd.DataFrame({\n",
    "  'measure_name': measure_names,\n",
    "})\n",
    "\n",
    "\n",
    "scores_df = pd.DataFrame.from_dict(scores).melt(var_name='measure_name', value_name='score')\n",
    "\n",
    "fig, axes = plt.subplots(2, 1, figsize=(7, 10))\n",
    "\n",
    "# box/violin plot\n",
    "sns.boxplot(data=scores_df, y='measure_name', x='score', orient='horizontal', ax=axes[0])\n",
    "axes[0].set(ylabel='connectivity measure')\n",
    "\n",
    "# dist plot\n",
    "g = sns.kdeplot(\n",
    "  data=scores_df, x='score', hue='measure_name',\n",
    "  fill=True, clip=(0,1), alpha=.12, cut=0,\n",
    "  ax=axes[1])\n",
    "\n",
    "g.set(ylabel='density')\n",
    "axes[1].get_legend().set_title('connectivity measure')\n",
    "axes[1].get_legend().set_bbox_to_anchor((1.05, 1))\n",
    "\n",
    "# plot chance line\n",
    "axes[0].axvline(.5, color='red', linestyle='--')\n",
    "axes[1].axvline(.5, color='red', linestyle='--')\n",
    "\n",
    "plt.suptitle('Classification scores (cross-validated ROC-AUC)'\n",
    "             '\\nRed lines are chance level; both plots use the same data.')\n",
    "\n",
    "plt.show()"
   ]
  }
 ],
 "metadata": {
  "interpreter": {
   "hash": "34f04479ffaeb5c00adb9e28a92647dce776275bf5ee61de72266754f4451f1a"
  },
  "kernelspec": {
   "display_name": "Python 3.9.10 ('acnets')",
   "language": "python",
   "name": "python3"
  },
  "language_info": {
   "codemirror_mode": {
    "name": "ipython",
    "version": 3
   },
   "file_extension": ".py",
   "mimetype": "text/x-python",
   "name": "python",
   "nbconvert_exporter": "python",
   "pygments_lexer": "ipython3",
   "version": "3.9.10"
  },
  "orig_nbformat": 4
 },
 "nbformat": 4,
 "nbformat_minor": 2
}
