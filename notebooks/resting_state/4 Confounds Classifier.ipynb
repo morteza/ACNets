{
 "cells": [
  {
   "cell_type": "markdown",
   "metadata": {},
   "source": [
    "# BOLD rs-fMRI: confounds classifier\n",
    "\n",
    "Are confounding variables, such as motion and global signals, capable of classifying AVGP from NVGP?\n",
    "\n",
    "Below, we use a list of confounds extracted using fmriprep during preprocessing to predict subject group. Se expect to see a no significant difference from chance level as measured by prediction accuracy."
   ]
  },
  {
   "cell_type": "markdown",
   "metadata": {},
   "source": [
    "## Setup\n",
    "\n",
    "To prepare the development environment, run:\n",
    "\n",
    "```\n",
    "mamba create -n tf\n",
    "mamba activate tf\n",
    "mamba install tensorflow-cpu\n",
    "\n",
    "mamba install nilearn matplotlib seaborn tqdm\n",
    "\n",
    "pip install scikeras --no-deps\n",
    "\n",
    "# ray\n",
    "pip install tune-sklearn pyarrow \"ray[tune]\" \"ray[data]\" -U\n",
    "```"
   ]
  },
  {
   "cell_type": "code",
   "execution_count": 34,
   "metadata": {},
   "outputs": [],
   "source": [
    "import matplotlib.pyplot as plt\n",
    "import numpy as np\n",
    "import pandas as pd\n",
    "import seaborn as sns\n",
    "from nilearn.interfaces.bids import get_bids_files\n",
    "from sklearn.dummy import DummyClassifier\n",
    "from sklearn.feature_selection import SelectFromModel, VarianceThreshold\n",
    "from sklearn.inspection import permutation_importance\n",
    "from sklearn.metrics import accuracy_score\n",
    "from sklearn.model_selection import GridSearchCV, RepeatedStratifiedKFold, cross_val_score\n",
    "from sklearn.pipeline import Pipeline\n",
    "from sklearn.preprocessing import StandardScaler, MinMaxScaler\n",
    "from sklearn.svm import SVC\n",
    "from tqdm import tqdm\n",
    "\n",
    "from ray.tune.sklearn import TuneSearchCV "
   ]
  },
  {
   "cell_type": "markdown",
   "metadata": {},
   "source": [
    "## Prepare Data"
   ]
  },
  {
   "cell_type": "code",
   "execution_count": 35,
   "metadata": {},
   "outputs": [],
   "source": [
    "# Prepare the path to the confound data\n",
    "\n",
    "confound_files = get_bids_files(\n",
    "    'data/julia2018/derivatives/fmriprep_2020',\n",
    "    # file_tag='timeseries',\n",
    "    modality_folder='func',\n",
    "    filters=[('ses', 'rest'), ('desc', 'confounds')],\n",
    "    file_type='tsv')"
   ]
  },
  {
   "cell_type": "code",
   "execution_count": 59,
   "metadata": {},
   "outputs": [
    {
     "name": "stderr",
     "output_type": "stream",
     "text": [
      "Loading confounds: 100%|██████████| 32/32 [00:00<00:00, 98.25it/s] \n"
     ]
    }
   ],
   "source": [
    "# prepare Xy\n",
    "\n",
    "_confounds_lst = []\n",
    "\n",
    "for confound_file in tqdm(confound_files, desc='Loading confounds'):\n",
    "    df = pd.read_csv(confound_file, sep='\\t')\n",
    "    df['timestep'] = df.index + 1\n",
    "    df['subject'] = confound_file.split('/')[4].replace('sub-','')\n",
    "    _confounds_lst.append(df)\n",
    "\n",
    "confounds = pd.concat(_confounds_lst).reset_index(drop=True)\n",
    "\n",
    "# all the features (time-series of the confounds, groups, subjects)\n",
    "X = confounds.dropna(axis=1)\n",
    "y = confounds['subject'].apply(lambda x: x[:4])\n",
    "\n",
    "#  3d (subject, timestep, confound)\n",
    "X_ts = X.groupby('subject').apply(lambda grp:\n",
    "    np.stack(grp.sort_values('timestep').drop(columns=['timestep','subject']).values))\n",
    "y_ts = X_ts.index.to_series().apply(lambda x: x[:4])\n",
    "\n",
    "# mean confounds\n",
    "X_mean = confounds.groupby('subject').mean().drop(columns=['timestep']).dropna(axis=1)\n",
    "y_mean = X_mean.index.to_series().apply(lambda x: x[:4])\n",
    "\n",
    "y_mean_onehot = pd.get_dummies(y_mean)"
   ]
  },
  {
   "cell_type": "markdown",
   "metadata": {},
   "source": [
    "## Pipeline and hyper-parameter tuning"
   ]
  },
  {
   "cell_type": "code",
   "execution_count": 60,
   "metadata": {},
   "outputs": [
    {
     "data": {
      "text/html": [
       "== Status ==<br>Current time: 2022-04-09 04:04:38 (running for 00:00:42.29)<br>Memory usage on this node: 10.1/16.0 GiB<br>Using FIFO scheduling algorithm.<br>Resources requested: 0/12 CPUs, 0/0 GPUs, 0.0/5.07 GiB heap, 0.0/2.0 GiB objects<br>Result logdir: /Users/morteza/ray_results/_Trainable_2022-04-09_04-03-54<br>Number of trials: 10/10 (10 TERMINATED)<br><br>"
      ],
      "text/plain": [
       "<IPython.core.display.HTML object>"
      ]
     },
     "metadata": {},
     "output_type": "display_data"
    },
    {
     "name": "stderr",
     "output_type": "stream",
     "text": [
      "2022-04-09 04:04:38,254\tINFO tune.py:639 -- Total run time: 43.46 seconds (42.27 seconds for the tuning loop).\n"
     ]
    },
    {
     "name": "stdout",
     "output_type": "stream",
     "text": [
      "Best estimator: Pipeline(steps=[('zero_var', VarianceThreshold()), ('scale', MinMaxScaler()),\n",
      "                ('select', 'passthrough'),\n",
      "                ('clf', SVC(C=1.4420425347576453, kernel='linear'))])\n"
     ]
    }
   ],
   "source": [
    "pipe = Pipeline([\n",
    "    ('zero_var', VarianceThreshold()),\n",
    "    ('scale', StandardScaler()),\n",
    "    ('select', SelectFromModel(SVC(kernel='linear'))),\n",
    "    ('clf', SVC())\n",
    "])\n",
    "\n",
    "# Grid Search\n",
    "param_grid = {\n",
    "    'scale': [StandardScaler(), MinMaxScaler(), 'passthrough'],\n",
    "    'select': [SelectFromModel(SVC(kernel='linear')), 'passthrough'],\n",
    "    'clf__kernel': ['linear', 'rbf'],\n",
    "    'clf__C': [0.1, 1, 10, 100],\n",
    "}\n",
    "\n",
    "# Bayesian Search\n",
    "param_dists = {\n",
    "    'scale': [StandardScaler(), MinMaxScaler(), 'passthrough'],\n",
    "    'select': [SelectFromModel(SVC(kernel='linear')), 'passthrough'],\n",
    "    'clf__kernel': ['linear', 'rbf'],\n",
    "    'clf__C': (1e-2, 1e3, 'log-uniform'),\n",
    "}\n",
    "\n",
    "# Scikit-learn Grid Search\n",
    "# grid = GridSearchCV(pipe, param_grid, cv=5, verbose=1, scoring='accuracy', n_jobs=-1)\n",
    "\n",
    "# Ray Tune Grid/Bayesian Search\n",
    "grid = TuneSearchCV(\n",
    "    pipe,\n",
    "    param_dists,\n",
    "    cv=5,\n",
    "    # n_trials=3,\n",
    "    # early_stopping=True,\n",
    "    # max_iters=10,\n",
    "    search_optimization='bayesian',\n",
    "    verbose=1,\n",
    "    scoring='accuracy',\n",
    "    n_jobs=-1)\n",
    "\n",
    "# hyper-parameter optimization (the best parameters are available via  grid.best_params_)\n",
    "grid.fit(X_mean, y_mean)\n",
    "print('Best estimator:', grid.best_estimator_)"
   ]
  },
  {
   "cell_type": "markdown",
   "metadata": {},
   "source": [
    "## Cross-validated model fitting"
   ]
  },
  {
   "cell_type": "code",
   "execution_count": 61,
   "metadata": {},
   "outputs": [
    {
     "name": "stderr",
     "output_type": "stream",
     "text": [
      "[Parallel(n_jobs=-1)]: Using backend LokyBackend with 12 concurrent workers.\n",
      "[Parallel(n_jobs=-1)]: Done  26 tasks      | elapsed:    7.0s\n",
      "[Parallel(n_jobs=-1)]: Done 328 tasks      | elapsed:    8.2s\n",
      "[Parallel(n_jobs=-1)]: Done 2328 tasks      | elapsed:   12.6s\n",
      "Map Progress:   0%|          | 0/32 [10:41<?, ?it/s]\n",
      "Map Progress:   0%|          | 0/32 [08:09<?, ?it/s]\n",
      "Map Progress:   0%|          | 0/32 [07:57<?, ?it/s]\n",
      "Map Progress:   0%|          | 0/32 [07:46<?, ?it/s]\n",
      "Map Progress:   0%|          | 0/32 [07:35<?, ?it/s]\n",
      "Map Progress:   0%|          | 0/32 [06:34<?, ?it/s]\n"
     ]
    },
    {
     "name": "stdout",
     "output_type": "stream",
     "text": [
      "[SVM] Validation score (mean/std): 0.498/0.178\n"
     ]
    },
    {
     "name": "stderr",
     "output_type": "stream",
     "text": [
      "[Parallel(n_jobs=-1)]: Done 5000 out of 5000 | elapsed:   18.6s finished\n"
     ]
    }
   ],
   "source": [
    "\n",
    "# cross-validated model fitting\n",
    "cv = RepeatedStratifiedKFold(n_splits=5, n_repeats=1000)\n",
    "\n",
    "scores = cross_val_score(grid.best_estimator_,\n",
    "                         X_mean, y_mean,\n",
    "                         cv=cv, scoring='accuracy',\n",
    "                         n_jobs=-1, verbose=1)\n",
    "\n",
    "print(f'[SVM] Validation score (mean/std): {scores.mean():.3f}/{np.std(scores):.3f}')\n"
   ]
  },
  {
   "cell_type": "markdown",
   "metadata": {},
   "source": [
    "## Simple deep learning model\n",
    "\n",
    "Let's also try a keras-based deep learning pipeline."
   ]
  },
  {
   "cell_type": "code",
   "execution_count": 124,
   "metadata": {},
   "outputs": [
    {
     "name": "stderr",
     "output_type": "stream",
     "text": [
      "100%|██████████| 50/50 [00:23<00:00,  2.14it/s]"
     ]
    },
    {
     "name": "stdout",
     "output_type": "stream",
     "text": [
      "[DL] Validation score (mean/std): 0.500/0.177\n"
     ]
    },
    {
     "name": "stderr",
     "output_type": "stream",
     "text": [
      "\n"
     ]
    }
   ],
   "source": [
    "from scikeras.wrappers import KerasClassifier\n",
    "from tensorflow import keras\n",
    "\n",
    "def build_model(input_dim):\n",
    "    clf = keras.models.Sequential()\n",
    "    clf.add(keras.layers.Dense(10, activation='relu', input_dim=input_dim))\n",
    "    clf.add(keras.layers.Dense(2, activation='softmax'))\n",
    "    clf.compile(loss='categorical_crossentropy',\n",
    "                optimizer='adam',\n",
    "                metrics=['accuracy'])\n",
    "    return clf\n",
    "\n",
    "keras_pipe = Pipeline([\n",
    "    ('scale', StandardScaler()),\n",
    "    ('clf', KerasClassifier(build_model, verbose=0, input_dim=X_mean.shape[1], epochs=100))\n",
    "])\n",
    "\n",
    "# cross-validated model fitting\n",
    "cv = RepeatedStratifiedKFold(n_splits=5, n_repeats=10)\n",
    "\n",
    "keras_scores = []\n",
    "\n",
    "for train, test in tqdm(cv.split(X_mean, y_mean), total=cv.get_n_splits()):\n",
    "    X_train, X_test = X_mean.iloc[train], X_mean.iloc[test]\n",
    "    y_train, y_test = y_mean_onehot.iloc[train], y_mean_onehot.iloc[test]\n",
    "\n",
    "    keras_pipe.fit(X_train, y_train)\n",
    "    score = keras_pipe.score(X_test, y_test)\n",
    "\n",
    "    keras_scores.append(score)\n",
    "\n",
    "print(f'[DL] Validation score (mean/std): {np.mean(keras_scores):.3f}/{np.std(keras_scores):.3f}')\n"
   ]
  },
  {
   "cell_type": "markdown",
   "metadata": {},
   "source": [
    "##  LSTM classifier\n",
    "\n",
    "The classification model below takes sequences of confounds and predicts the group of the subject."
   ]
  },
  {
   "cell_type": "code",
   "execution_count": 125,
   "metadata": {},
   "outputs": [
    {
     "name": "stderr",
     "output_type": "stream",
     "text": [
      "100%|██████████| 10/10 [01:15<00:00,  7.56s/it]"
     ]
    },
    {
     "name": "stdout",
     "output_type": "stream",
     "text": [
      "[LSTM] Validation score (mean/std): 0.462/0.180\n"
     ]
    },
    {
     "name": "stderr",
     "output_type": "stream",
     "text": [
      "\n"
     ]
    }
   ],
   "source": [
    "# fit a LSTM to the sequence of confounds\n",
    "\n",
    "def build_lstm_model():\n",
    "    model = keras.models.Sequential()\n",
    "    n_timesteps = X_ts[0].shape[0]\n",
    "    n_features = X_ts[0].shape[1]\n",
    "    model.add(keras.layers.LSTM(100, input_shape=(n_timesteps, n_features)))\n",
    "    model.add(keras.layers.Dense(1, activation='relu'))\n",
    "    model.compile(loss='binary_crossentropy', optimizer='adam', metrics=['accuracy'])\n",
    "    # print(model.summary())\n",
    "    return model\n",
    "\n",
    "lstm_pipe = KerasClassifier(build_lstm_model, verbose=0, epochs=100)\n",
    "\n",
    "# cross-validated model fitting\n",
    "lstm_cv = RepeatedStratifiedKFold(n_splits=5, n_repeats=2)\n",
    "\n",
    "lstm_scores = []\n",
    "\n",
    "for train, test in tqdm(lstm_cv.split(X_ts, y_mean), total=lstm_cv.get_n_splits()):\n",
    "    X_train, X_test = np.stack(X_ts.iloc[train]), np.stack(X_ts.iloc[test])\n",
    "    y_train, y_test = y_ts.iloc[train], y_ts.iloc[test]\n",
    "\n",
    "    lstm_pipe.fit(X_train, y_train)\n",
    "\n",
    "    score = lstm_pipe.score(X_test, y_test)\n",
    "    lstm_scores.append(score)\n",
    "\n",
    "print(f'[LSTM] Validation score (mean/std): {np.mean(lstm_scores):.3f}/{np.std(lstm_scores):.3f}')"
   ]
  },
  {
   "cell_type": "markdown",
   "metadata": {},
   "source": [
    "## Chance level"
   ]
  },
  {
   "cell_type": "code",
   "execution_count": 127,
   "metadata": {},
   "outputs": [
    {
     "name": "stderr",
     "output_type": "stream",
     "text": [
      "[Parallel(n_jobs=-1)]: Using backend LokyBackend with 12 concurrent workers.\n"
     ]
    },
    {
     "name": "stdout",
     "output_type": "stream",
     "text": [
      "[Chance] Validation score (mean/std): 0.471/0.035\n"
     ]
    },
    {
     "name": "stderr",
     "output_type": "stream",
     "text": [
      "[Parallel(n_jobs=-1)]: Done  50 out of  50 | elapsed:    0.2s finished\n"
     ]
    }
   ],
   "source": [
    "chance_model = DummyClassifier(strategy='most_frequent')\n",
    "\n",
    "chance_scores = cross_val_score(\n",
    "    chance_model,\n",
    "    X_ts, y_ts,\n",
    "    cv=cv,\n",
    "    scoring='accuracy',\n",
    "    n_jobs=-1, verbose=1)\n",
    "\n",
    "print(f'[Chance] Validation score (mean/std): {chance_scores.mean():.3f}/{np.std(chance_scores):.3f}')"
   ]
  },
  {
   "cell_type": "markdown",
   "metadata": {},
   "source": [
    "## Feature importance"
   ]
  },
  {
   "cell_type": "code",
   "execution_count": 128,
   "metadata": {},
   "outputs": [
    {
     "data": {
      "image/png": "[encoded data removed]",
      "text/plain": [
       "<Figure size 720x864 with 1 Axes>"
      ]
     },
     "metadata": {
      "needs_background": "light"
     },
     "output_type": "display_data"
    }
   ],
   "source": [
    "perm_results = permutation_importance(grid.best_estimator_,\n",
    "                                      X_mean, y_mean,\n",
    "                                      n_repeats=1000,\n",
    "                                      scoring='accuracy',\n",
    "                                      n_jobs=-1)\n",
    "\n",
    "perm_importances = pd.DataFrame(perm_results.importances, index=X_mean.columns)\n",
    "\n",
    "perm_importances = perm_importances.reset_index().rename(columns={'index':'confound'})\n",
    "perm_importances = perm_importances.melt(\n",
    "    id_vars=['confound'],\n",
    "    var_name='cv_repetition',\n",
    "    value_name='importance')\n",
    "\n",
    "perm_importances['mean_importance'] = perm_importances.groupby('confound')['importance'].transform('mean')\n",
    "perm_importances = perm_importances.sort_values(by='mean_importance', ascending=False)\n",
    "\n",
    "_, ax = plt.subplots(1, 1, figsize=(10,12))\n",
    "sns.barplot(data=perm_importances, x='importance', y='confound', orient='h', ax=ax)\n",
    "plt.show()\n"
   ]
  }
 ],
 "metadata": {
  "interpreter": {
   "hash": "34f04479ffaeb5c00adb9e28a92647dce776275bf5ee61de72266754f4451f1a"
  },
  "kernelspec": {
   "display_name": "Python 3.9.10 ('acnets')",
   "language": "python",
   "name": "python3"
  },
  "language_info": {
   "codemirror_mode": {
    "name": "ipython",
    "version": 3
   },
   "file_extension": ".py",
   "mimetype": "text/x-python",
   "name": "python",
   "nbconvert_exporter": "python",
   "pygments_lexer": "ipython3",
   "version": "3.9.10"
  },
  "orig_nbformat": 4
 },
 "nbformat": 4,
 "nbformat_minor": 2
}
