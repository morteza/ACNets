{
 "cells": [
  {
   "cell_type": "markdown",
   "metadata": {},
   "source": [
    "# BOLD rs-fMRI: confounds classifier\n",
    "\n",
    "Are confounding variables, such as motion and global signals, capable of classifying AVGP from NVGP?\n",
    "\n",
    "Below, we use a list of confounds extracted using fmriprep during preprocessing to predict subject group. Se expect to see a no significant difference from chance level as measured by prediction accuracy."
   ]
  },
  {
   "cell_type": "markdown",
   "metadata": {},
   "source": [
    "## Setup\n",
    "\n",
    "To prepare the development environment, run:\n",
    "\n",
    "```\n",
    "mamba create -n tf\n",
    "mamba activate tf\n",
    "mamba install tensorflow-cpu nilearn matplotlib seaborn tqdm\n",
    "pip install scikeras --no-deps\n",
    "```"
   ]
  },
  {
   "cell_type": "code",
   "execution_count": 23,
   "metadata": {},
   "outputs": [],
   "source": [
    "import matplotlib.pyplot as plt\n",
    "import numpy as np\n",
    "import pandas as pd\n",
    "import seaborn as sns\n",
    "from nilearn.interfaces.bids import get_bids_files\n",
    "from sklearn.dummy import DummyClassifier\n",
    "from sklearn.feature_selection import SelectFromModel, VarianceThreshold\n",
    "from sklearn.inspection import permutation_importance\n",
    "from sklearn.metrics import accuracy_score\n",
    "from sklearn.model_selection import GridSearchCV, RepeatedStratifiedKFold, cross_val_score\n",
    "from sklearn.pipeline import Pipeline\n",
    "from sklearn.preprocessing import StandardScaler\n",
    "from sklearn.svm import SVC\n",
    "from tqdm import tqdm\n",
    "\n",
    "# from skopt import BayesSearchCV\n"
   ]
  },
  {
   "cell_type": "markdown",
   "metadata": {},
   "source": [
    "## Prepare Data"
   ]
  },
  {
   "cell_type": "code",
   "execution_count": 113,
   "metadata": {},
   "outputs": [],
   "source": [
    "confound_files = get_bids_files(\n",
    "    'data/julia2018/derivatives/fmriprep_2020',\n",
    "    # file_tag='timeseries',\n",
    "    modality_folder='func',\n",
    "    filters=[('ses', 'rest'), ('desc', 'confounds')],\n",
    "    file_type='tsv')\n",
    "\n",
    "_confounds_lst = []\n",
    "\n",
    "for confound_file in confound_files:\n",
    "    df = pd.read_csv(confound_file, sep='\\t')\n",
    "    df['timestep'] = df.index + 1\n",
    "    df['subject'] = confound_file.split('/')[4].replace('sub-','')\n",
    "    _confounds_lst.append(df)\n",
    "\n",
    "confounds = pd.concat(_confounds_lst).reset_index(drop=True)\n",
    "\n",
    "X = confounds.dropna(axis=1)\n",
    "y = confounds['subject'].apply(lambda x: x[:4])\n",
    "\n",
    "X_mean = confounds.groupby('subject').mean().drop(columns=['timestep']).dropna(axis=1)\n",
    "y_mean = X_mean.index.to_series().apply(lambda x: x[:4])"
   ]
  },
  {
   "cell_type": "markdown",
   "metadata": {},
   "source": [
    "## Pipeline and hyper-parameter tuning"
   ]
  },
  {
   "cell_type": "code",
   "execution_count": 114,
   "metadata": {},
   "outputs": [],
   "source": [
    "pipe = Pipeline([\n",
    "    ('zv', VarianceThreshold(0.0)),\n",
    "    ('scale', StandardScaler()),\n",
    "    ('select', SelectFromModel(SVC(kernel='linear'))),\n",
    "    ('clf', SVC(kernel='linear', probability=True))\n",
    "])\n",
    "\n",
    "param_grid = {\n",
    "    \n",
    "}\n",
    "\n",
    "grid = GridSearchCV(pipe, param_grid, cv=5, verbose=3, scoring='accuracy', n_jobs=-1)"
   ]
  },
  {
   "cell_type": "markdown",
   "metadata": {},
   "source": [
    "## Cross-validated model fitting"
   ]
  },
  {
   "cell_type": "code",
   "execution_count": 123,
   "metadata": {},
   "outputs": [
    {
     "name": "stdout",
     "output_type": "stream",
     "text": [
      "Fitting 5 folds for each of 1 candidates, totalling 5 fits\n",
      "[CV 1/5] END ..................................., score=0.429 total time=   0.0s\n",
      "[CV 3/5] END ..................................., score=0.500 total time=   0.0s\n",
      "[CV 2/5] END ..................................., score=0.286 total time=   0.0s\n",
      "[CV 4/5] END ..................................., score=0.500 total time=   0.0s\n",
      "[CV 5/5] END ..................................., score=0.167 total time=   0.0s\n"
     ]
    },
    {
     "name": "stderr",
     "output_type": "stream",
     "text": [
      "100%|██████████| 50/50 [00:00<00:00, 117.33it/s]"
     ]
    },
    {
     "name": "stdout",
     "output_type": "stream",
     "text": [
      "score (mean/std): 0.491/0.159\n"
     ]
    },
    {
     "name": "stderr",
     "output_type": "stream",
     "text": [
      "\n"
     ]
    }
   ],
   "source": [
    "# hyper-parameter optimization\n",
    "grid.fit(X_mean, y_mean)\n",
    "model = grid.best_estimator_\n",
    "\n",
    "# cross-validated model fitting\n",
    "\n",
    "scores = []\n",
    "cv = RepeatedStratifiedKFold(n_splits=5, n_repeats=10)\n",
    "\n",
    "for train, test in tqdm(cv.split(X_mean, y_mean), total=cv.get_n_splits()):\n",
    "    grid.best_estimator_.fit(X_mean.iloc[train], y_mean.iloc[train])\n",
    "    score = grid.best_estimator_.score(X_mean.iloc[test], y_mean.iloc[test])\n",
    "    scores.append(score)\n",
    "\n",
    "print(f'score (mean/std): {np.mean(scores):.3f}/{np.std(scores):.3f}')"
   ]
  },
  {
   "cell_type": "markdown",
   "metadata": {},
   "source": [
    "Let's also try a keras-based deep learning pipeline."
   ]
  },
  {
   "cell_type": "code",
   "execution_count": 125,
   "metadata": {},
   "outputs": [
    {
     "name": "stderr",
     "output_type": "stream",
     "text": [
      "100%|██████████| 50/50 [00:18<00:00,  2.71it/s]"
     ]
    },
    {
     "name": "stdout",
     "output_type": "stream",
     "text": [
      "validation score (mean/std): 0.464/0.167\n"
     ]
    },
    {
     "name": "stderr",
     "output_type": "stream",
     "text": [
      "\n"
     ]
    }
   ],
   "source": [
    "from tensorflow import keras\n",
    "from scikeras.wrappers import KerasClassifier\n",
    "\n",
    "def build_model(input_dim):\n",
    "    clf = keras.models.Sequential()\n",
    "    clf.add(keras.layers.Dense(10, activation='relu', input_dim=input_dim))\n",
    "    clf.add(keras.layers.Dense(2, activation='softmax'))\n",
    "    clf.compile(loss='categorical_crossentropy',\n",
    "                optimizer='adam',\n",
    "                metrics=['accuracy'])\n",
    "    return clf\n",
    "\n",
    "keras_pipe = Pipeline([\n",
    "    ('scale', StandardScaler()),\n",
    "    ('clf', KerasClassifier(build_model, verbose=0, input_dim=X_mean.shape[1]))\n",
    "])\n",
    "\n",
    "# cross-validated model fitting\n",
    "cv = RepeatedStratifiedKFold(n_splits=5, n_repeats=10)\n",
    "\n",
    "keras_scores = []\n",
    "\n",
    "y_mean_onehot = pd.get_dummies(y_mean)\n",
    "\n",
    "for train, test in tqdm(cv.split(X_mean, y_mean), total=cv.get_n_splits()):\n",
    "    keras_pipe.fit(X_mean.iloc[train], y_mean_onehot.iloc[train])\n",
    "    score = keras_pipe.score(X_mean.iloc[test], y_mean_onehot.iloc[test])\n",
    "    keras_scores.append(score)\n",
    "\n",
    "print(f'validation score (mean/std): {np.mean(keras_scores):.3f}/{np.std(keras_scores):.3f}')\n"
   ]
  },
  {
   "cell_type": "code",
   "execution_count": 175,
   "metadata": {},
   "outputs": [],
   "source": [
    "X_ts = X.groupby('subject').apply(lambda grp:\n",
    "    np.stack(grp.sort_values('timestep').drop(columns=['timestep','subject']).values))"
   ]
  },
  {
   "cell_type": "code",
   "execution_count": 202,
   "metadata": {},
   "outputs": [
    {
     "name": "stderr",
     "output_type": "stream",
     "text": [
      "100%|██████████| 5/5 [00:26<00:00,  5.37s/it]"
     ]
    },
    {
     "name": "stdout",
     "output_type": "stream",
     "text": [
      "validation score (mean/std): 0.471/0.035\n"
     ]
    },
    {
     "name": "stderr",
     "output_type": "stream",
     "text": [
      "\n"
     ]
    }
   ],
   "source": [
    "# fit a LSTM to the sequence of confounds\n",
    "\n",
    "def build_lstm_model():\n",
    "    model = keras.models.Sequential()\n",
    "    n_timesteps = X_ts[0].shape[0]\n",
    "    n_features = X_ts[0].shape[1]\n",
    "    model.add(keras.layers.LSTM(10, input_shape=(n_timesteps, n_features)))\n",
    "    model.add(keras.layers.Dense(2, activation='relu'))\n",
    "    model.compile(loss='binary_crossentropy', optimizer='adam', metrics=['accuracy'])\n",
    "    # print(model.summary())\n",
    "    return model\n",
    "\n",
    "lstm_pipe = KerasClassifier(build_lstm_model, verbose=0, epochs=100)\n",
    "\n",
    "# cross-validated model fitting\n",
    "cv = RepeatedStratifiedKFold(n_splits=5, n_repeats=1)\n",
    "\n",
    "lstm_scores = []\n",
    "\n",
    "y_mean_onehot = pd.get_dummies(y_mean)\n",
    "\n",
    "for train, test in tqdm(cv.split(X_ts, y_mean), total=cv.get_n_splits()):\n",
    "    X_train = np.stack(X_ts.iloc[train])\n",
    "    X_test = np.stack(X_ts.iloc[test])\n",
    "    lstm_pipe.fit(X_train, y_mean_onehot.iloc[train])\n",
    "    score = lstm_pipe.score(X_test, y_mean_onehot.iloc[test])\n",
    "    lstm_scores.append(score)\n",
    "\n",
    "print(f'validation score (mean/std): {np.mean(lstm_scores):.3f}/{np.std(lstm_scores):.3f}')\n",
    "\n"
   ]
  },
  {
   "cell_type": "markdown",
   "metadata": {},
   "source": [
    "## Chance level"
   ]
  },
  {
   "cell_type": "code",
   "execution_count": 210,
   "metadata": {},
   "outputs": [
    {
     "name": "stderr",
     "output_type": "stream",
     "text": [
      "100%|██████████| 5/5 [00:00<00:00, 803.72it/s]"
     ]
    },
    {
     "name": "stdout",
     "output_type": "stream",
     "text": [
      "chance score (mean/std): 0.488/0.146\n"
     ]
    },
    {
     "name": "stderr",
     "output_type": "stream",
     "text": [
      "\n"
     ]
    }
   ],
   "source": [
    "chance_model = DummyClassifier(strategy='most_frequent')\n",
    "\n",
    "for train, test in tqdm(cv.split(X_mean, y_mean), total=cv.get_n_splits()):\n",
    "    chance_model.fit(X_mean.iloc[train], y_mean.iloc[train])\n",
    "    y_pred = chance_model.predict(X_mean.iloc[test])\n",
    "    score = accuracy_score(y_mean.iloc[test], y_pred)\n",
    "    scores.append(score)\n",
    "\n",
    "print(f'chance score (mean/std): {np.mean(scores):.3f}/{np.std(scores):.3f}')"
   ]
  },
  {
   "cell_type": "markdown",
   "metadata": {},
   "source": [
    "## Feature importance"
   ]
  },
  {
   "cell_type": "code",
   "execution_count": 213,
   "metadata": {},
   "outputs": [
    {
     "data": {
      "image/png": "[encoded data removed]",
      "text/plain": [
       "<Figure size 720x864 with 1 Axes>"
      ]
     },
     "metadata": {
      "needs_background": "light"
     },
     "output_type": "display_data"
    }
   ],
   "source": [
    "perm_results = permutation_importance(grid.best_estimator_,\n",
    "                                      X_mean, y_mean,\n",
    "                                      n_repeats=1000,\n",
    "                                      scoring='accuracy',\n",
    "                                      n_jobs=-1)\n",
    "\n",
    "perm_importances = pd.DataFrame(perm_results.importances, index=X_mean.columns)\n",
    "\n",
    "perm_importances = perm_importances.reset_index().rename(columns={'index':'confound'})\n",
    "perm_importances = perm_importances.melt(\n",
    "    id_vars=['confound'],\n",
    "    var_name='cv_repetition',\n",
    "    value_name='importance')\n",
    "\n",
    "perm_importances['mean_importance'] = perm_importances.groupby('confound')['importance'].transform('mean')\n",
    "perm_importances = perm_importances.sort_values(by='mean_importance', ascending=False)\n",
    "\n",
    "_, ax = plt.subplots(1, 1, figsize=(10,12))\n",
    "sns.barplot(data=perm_importances, x='importance', y='confound', orient='h', ax=ax)\n",
    "plt.show()\n"
   ]
  }
 ],
 "metadata": {
  "interpreter": {
   "hash": "34f04479ffaeb5c00adb9e28a92647dce776275bf5ee61de72266754f4451f1a"
  },
  "kernelspec": {
   "display_name": "Python 3.9.10 ('acnets')",
   "language": "python",
   "name": "python3"
  },
  "language_info": {
   "codemirror_mode": {
    "name": "ipython",
    "version": 3
   },
   "file_extension": ".py",
   "mimetype": "text/x-python",
   "name": "python",
   "nbconvert_exporter": "python",
   "pygments_lexer": "ipython3",
   "version": "3.10.4"
  },
  "orig_nbformat": 4
 },
 "nbformat": 4,
 "nbformat_minor": 2
}
