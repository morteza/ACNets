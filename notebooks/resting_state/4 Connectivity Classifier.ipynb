{
 "cells": [
  {
   "cell_type": "markdown",
   "metadata": {},
   "source": [
    "# ACNets: Connectivity Classifier\n",
    "\n",
    "This notebook fits a binary classifier to predict participant's group, AVGP or NVGP, using Cognitive Control network connectivity matrices. As input, it receives upper-triangular connectivity matrices for each participant. Results are evaluated using 5-fold cross-validated f1 on the train set."
   ]
  },
  {
   "cell_type": "markdown",
   "metadata": {},
   "source": [
    "## 0. Setup"
   ]
  },
  {
   "cell_type": "code",
   "execution_count": 75,
   "metadata": {},
   "outputs": [
    {
     "name": "stdout",
     "output_type": "stream",
     "text": [
      "Last updated: 2022-02-16T10:21:16.234304+01:00\n",
      "\n",
      "Python implementation: CPython\n",
      "Python version       : 3.9.10\n",
      "IPython version      : 8.0.1\n",
      "\n",
      "conda environment: acnets\n",
      "\n",
      "Compiler    : Clang 11.1.0 \n",
      "OS          : Darwin\n",
      "Release     : 21.3.0\n",
      "Machine     : x86_64\n",
      "Processor   : i386\n",
      "CPU cores   : 12\n",
      "Architecture: 64bit\n",
      "\n",
      "Hostname: MP0159\n",
      "\n",
      "matplotlib: 3.5.1\n",
      "sklearn   : 1.0.2\n",
      "sys       : 3.9.10 | packaged by conda-forge | (main, Feb  1 2022, 21:28:27) \n",
      "[Clang 11.1.0 ]\n",
      "xarray    : 0.21.1\n",
      "seaborn   : 0.11.2\n",
      "numpy     : 1.21.5\n",
      "plotly    : 5.5.0\n",
      "pandas    : 1.4.0\n",
      "\n"
     ]
    }
   ],
   "source": [
    "\n",
    "import numpy as np\n",
    "import xarray as xr\n",
    "import pandas as pd\n",
    "\n",
    "from IPython.display import clear_output\n",
    "import matplotlib.pyplot as plt\n",
    "import seaborn as sns; sns.set('poster')\n",
    "import plotly.express as px\n",
    "\n",
    "from sklearn import preprocessing, model_selection, metrics, ensemble, multioutput\n",
    "from sklearn import decomposition, cross_decomposition, feature_selection, dummy, svm\n",
    "\n",
    "from sklearn.pipeline import Pipeline\n",
    "# from xgboost import XGBClassifier  # incompatible with umap's scipy\n",
    "\n",
    "sns.set(style='dark')\n",
    "\n",
    "# Technical reproducibility\n",
    "%reload_ext watermark\n",
    "%watermark -iv -co -ituhmv"
   ]
  },
  {
   "cell_type": "markdown",
   "metadata": {},
   "source": [
    "### Load the dataset"
   ]
  },
  {
   "cell_type": "code",
   "execution_count": 156,
   "metadata": {},
   "outputs": [],
   "source": [
    "atlases = ['dosenbach2007', 'difumo_64_2', 'difumo_128_2', 'difumo_1024_2']\n",
    "\n",
    "\n",
    "DATASETS = dict()\n",
    "\n",
    "for atlas in atlases:\n",
    "  DATASETS[atlas] = xr.open_dataset(f'data/julia2018_resting/connectivity_{atlas}.nc')\n",
    "\n",
    "# selected data for the analysis\n",
    "ATLAS = 'difumo_64_2'\n",
    "DATASET = DATASETS[ATLAS]\n",
    "CONNECTIVITY = DATASET['tangent_connectivity'].values"
   ]
  },
  {
   "cell_type": "markdown",
   "metadata": {},
   "source": [
    "## 1. Data"
   ]
  },
  {
   "cell_type": "code",
   "execution_count": 202,
   "metadata": {},
   "outputs": [
    {
     "name": "stdout",
     "output_type": "stream",
     "text": [
      "32 features, 32 subjects, 2 class labels.\n"
     ]
    }
   ],
   "source": [
    "# 1. input (vectorized connectivity matrix)\n",
    "X = np.array([subj_conn[np.triu_indices_from(subj_conn)] for subj_conn in CONNECTIVITY])\n",
    "\n",
    "# 1.1. threshold X\n",
    "X_threshold = np.median(X, axis=1) + np.std(X, axis=1)\n",
    "X = np.where(np.abs(X) >= X_threshold.reshape(-1,1), X, 0)\n",
    "\n",
    "# 2. output (AVGP vs NVGP encoded as integers)\n",
    "y_encoder = preprocessing.LabelEncoder()\n",
    "y = y_encoder.fit_transform(DATASET['group'])\n",
    "\n",
    "# 2.1. behavioral outputs (inverse efficiency scores in millis)\n",
    "y_beh = DATASET['inverse_efficiency_score_ms'].values\n",
    "\n",
    "# 3. remove subjects with missing behavioral data\n",
    "X = X[~np.isnan(y_beh)]\n",
    "y = y[~np.isnan(y_beh)]\n",
    "y_beh = y_beh[~np.isnan(y_beh)]\n",
    "\n",
    "# DEBUG\n",
    "print(f'{X.shape[0]} features, {X.shape[0]} subjects, {np.unique(y).shape[0]} class labels.')"
   ]
  },
  {
   "cell_type": "markdown",
   "metadata": {},
   "source": [
    "## Classification\n",
    "\n",
    "-[ ] TODO: replicate https://www.frontiersin.org/articles/10.3389/fnhum.2014.00425/full"
   ]
  },
  {
   "cell_type": "code",
   "execution_count": 242,
   "metadata": {},
   "outputs": [],
   "source": [
    "# ALT1: boosting \n",
    "model = svm.SVC(kernel='rbf', C=1, probability=True)\n",
    "# model =ensemble.AdaBoostClassifier(model, n_estimators=100, algorithm='SAMME.R')\n",
    "\n",
    "# ALT2: chance level\n",
    "# model = dummy.DummyClassifier(strategy='uniform')\n",
    "\n",
    "# ALT3: multi-output (classification + behavioral regression)\n",
    "# model = multioutput.MultiOutputClassifier(ensemble.GradientBoostingClassifier())\n",
    "\n",
    "\n",
    "pipeline = Pipeline([\n",
    "    ('zerovar', feature_selection.VarianceThreshold()),\n",
    "    # ('select', feature_selection.SelectKBest()),\n",
    "    # ('rfe', feature_selection.RFE(svc)),\n",
    "    # ('standard_scaler', preprocessing.StandardScaler()), \n",
    "    # ('reducer', UMAP(n_components=3)), \n",
    "    # ('reducer', decomposition.PCA()),\n",
    "    # ('reducer', cross_decomposition.PLSCanonical()),    \n",
    "    ('model', model),\n",
    "], verbose=True)\n",
    "\n",
    "\n",
    "param_grid = {\n",
    "    # 'zerovar__threshold': [0],\n",
    "    # 'select__k': np.linspace(1, X.shape[1], num=100, endpoint=True, dtype='int'),\n",
    "    # 'rfe__n_features_to_select': [.1, .2, .5, 1.],\n",
    "    # 'reducer__n_neighbors': [1, 2, 3, 4, 5, 10],  # UMAP\n",
    "    # 'reducer__n_components': [2,3,5],  # UMAP\n",
    "    # 'reducer__n_components': range(1, 30),  # PCA\n",
    "    # 'model__n_estimators': [10, 100, 1000],  # XGBClassifier, GradientBoostingClassifier\n",
    "    # 'model__estimator__n_estimators': [10, 100],  # MultiOutputClassifier\n",
    "}\n",
    "\n",
    "grid = model_selection.GridSearchCV(\n",
    "    pipeline, param_grid,\n",
    "    cv=model_selection.LeaveOneOut(),\n",
    "    scoring='accuracy',\n",
    "    # scoring=['accuracy', 'roc_auc', 'f1', 'precision', 'recall'], refit='accuracy',\n",
    "    n_jobs=1, verbose=1,\n",
    ")\n",
    "\n",
    "# rfe_model = feature_selection.RFECV(grid)\n",
    "# rfe_model.fit()"
   ]
  },
  {
   "cell_type": "code",
   "execution_count": 243,
   "metadata": {},
   "outputs": [
    {
     "name": "stdout",
     "output_type": "stream",
     "text": [
      "Fitting 25 folds for each of 1 candidates, totalling 25 fits\n",
      "[Pipeline] ........... (step 1 of 2) Processing zerovar, total=   0.0s\n",
      "[Pipeline] ............. (step 2 of 2) Processing model, total=   0.0s\n",
      "[Pipeline] ........... (step 1 of 2) Processing zerovar, total=   0.0s\n",
      "[Pipeline] ............. (step 2 of 2) Processing model, total=   0.0s\n",
      "[Pipeline] ........... (step 1 of 2) Processing zerovar, total=   0.0s\n",
      "[Pipeline] ............. (step 2 of 2) Processing model, total=   0.0s\n",
      "[Pipeline] ........... (step 1 of 2) Processing zerovar, total=   0.0s\n",
      "[Pipeline] ............. (step 2 of 2) Processing model, total=   0.0s\n",
      "[Pipeline] ........... (step 1 of 2) Processing zerovar, total=   0.0s\n",
      "[Pipeline] ............. (step 2 of 2) Processing model, total=   0.0s\n",
      "[Pipeline] ........... (step 1 of 2) Processing zerovar, total=   0.0s\n",
      "[Pipeline] ............. (step 2 of 2) Processing model, total=   0.0s\n",
      "[Pipeline] ........... (step 1 of 2) Processing zerovar, total=   0.0s\n",
      "[Pipeline] ............. (step 2 of 2) Processing model, total=   0.0s\n",
      "[Pipeline] ........... (step 1 of 2) Processing zerovar, total=   0.0s\n",
      "[Pipeline] ............. (step 2 of 2) Processing model, total=   0.0s\n",
      "[Pipeline] ........... (step 1 of 2) Processing zerovar, total=   0.0s\n",
      "[Pipeline] ............. (step 2 of 2) Processing model, total=   0.0s\n",
      "[Pipeline] ........... (step 1 of 2) Processing zerovar, total=   0.0s\n",
      "[Pipeline] ............. (step 2 of 2) Processing model, total=   0.0s\n",
      "[Pipeline] ........... (step 1 of 2) Processing zerovar, total=   0.0s\n",
      "[Pipeline] ............. (step 2 of 2) Processing model, total=   0.0s\n",
      "[Pipeline] ........... (step 1 of 2) Processing zerovar, total=   0.0s\n",
      "[Pipeline] ............. (step 2 of 2) Processing model, total=   0.0s\n",
      "[Pipeline] ........... (step 1 of 2) Processing zerovar, total=   0.0s\n",
      "[Pipeline] ............. (step 2 of 2) Processing model, total=   0.0s\n",
      "[Pipeline] ........... (step 1 of 2) Processing zerovar, total=   0.0s\n",
      "[Pipeline] ............. (step 2 of 2) Processing model, total=   0.0s\n",
      "[Pipeline] ........... (step 1 of 2) Processing zerovar, total=   0.0s\n",
      "[Pipeline] ............. (step 2 of 2) Processing model, total=   0.0s\n",
      "[Pipeline] ........... (step 1 of 2) Processing zerovar, total=   0.0s\n",
      "[Pipeline] ............. (step 2 of 2) Processing model, total=   0.0s\n",
      "[Pipeline] ........... (step 1 of 2) Processing zerovar, total=   0.0s\n",
      "[Pipeline] ............. (step 2 of 2) Processing model, total=   0.0s\n",
      "[Pipeline] ........... (step 1 of 2) Processing zerovar, total=   0.0s\n",
      "[Pipeline] ............. (step 2 of 2) Processing model, total=   0.0s\n",
      "[Pipeline] ........... (step 1 of 2) Processing zerovar, total=   0.0s\n",
      "[Pipeline] ............. (step 2 of 2) Processing model, total=   0.0s\n",
      "[Pipeline] ........... (step 1 of 2) Processing zerovar, total=   0.0s\n",
      "[Pipeline] ............. (step 2 of 2) Processing model, total=   0.0s\n",
      "[Pipeline] ........... (step 1 of 2) Processing zerovar, total=   0.0s\n",
      "[Pipeline] ............. (step 2 of 2) Processing model, total=   0.0s\n",
      "[Pipeline] ........... (step 1 of 2) Processing zerovar, total=   0.0s\n",
      "[Pipeline] ............. (step 2 of 2) Processing model, total=   0.0s\n",
      "[Pipeline] ........... (step 1 of 2) Processing zerovar, total=   0.0s\n",
      "[Pipeline] ............. (step 2 of 2) Processing model, total=   0.0s\n",
      "[Pipeline] ........... (step 1 of 2) Processing zerovar, total=   0.0s\n",
      "[Pipeline] ............. (step 2 of 2) Processing model, total=   0.0s\n",
      "[Pipeline] ........... (step 1 of 2) Processing zerovar, total=   0.0s\n",
      "[Pipeline] ............. (step 2 of 2) Processing model, total=   0.0s\n",
      "[Pipeline] ........... (step 1 of 2) Processing zerovar, total=   0.0s\n",
      "[Pipeline] ............. (step 2 of 2) Processing model, total=   0.0s\n",
      "Train set score (roc_auc): 1.00\n",
      "Test set score (roc_auc): 0.5714285714285714\n"
     ]
    }
   ],
   "source": [
    "train, test = model_selection.train_test_split(\n",
    "  range(len(X)),\n",
    "  test_size=0.2,\n",
    "  shuffle=True,\n",
    "  stratify=y)\n",
    "\n",
    "# fit\n",
    "grid.fit(X[train], y[train])\n",
    "\n",
    "# evaluate\n",
    "score_train = grid.score(X[train], y[train])\n",
    "score_test = grid.score(X[test], y[test])\n",
    "\n",
    "# report scores and hyperparameters\n",
    "print(f'Train set score (roc_auc): {score_train:.2f}')\n",
    "print(f'Test set score (roc_auc): {score_test}')"
   ]
  },
  {
   "cell_type": "markdown",
   "metadata": {},
   "source": [
    "## Evaluate the model\n",
    "Below is the confusion matrix of the classifier on the train and test sets."
   ]
  },
  {
   "cell_type": "code",
   "execution_count": 244,
   "metadata": {},
   "outputs": [
    {
     "data": {
      "image/png": "[encoded data removed]",
      "text/plain": [
       "<Figure size 864x432 with 4 Axes>"
      ]
     },
     "metadata": {},
     "output_type": "display_data"
    }
   ],
   "source": [
    "# plot confusion matrix\n",
    "fig, axes = plt.subplots(1, 2, figsize=(12, 6))\n",
    "\n",
    "# train set\n",
    "metrics.ConfusionMatrixDisplay.from_estimator(\n",
    "  grid,\n",
    "  X[train], y[train],\n",
    "  # normalize='all',\n",
    "  display_labels=y_encoder.classes_,\n",
    "  ax=axes[0],\n",
    "  cmap='Blues'\n",
    "  )\n",
    "\n",
    "# test set\n",
    "metrics.ConfusionMatrixDisplay.from_estimator(\n",
    "  grid,\n",
    "  X[test], y[test],\n",
    "  # normalize='all',\n",
    "  display_labels=y_encoder.classes_,\n",
    "  ax=axes[1],\n",
    "  cmap='Blues'\n",
    "  )\n",
    "\n",
    "# set titles\n",
    "axes[0].set(title=f'train ({len(train)} subjects)')\n",
    "axes[1].set(title=f'test ({len(test)} subjects)')\n",
    "\n",
    "plt.show()"
   ]
  },
  {
   "cell_type": "code",
   "execution_count": null,
   "metadata": {},
   "outputs": [],
   "source": [
    "# cross-validated permutation test of the model pipeline\n",
    "score_test, perm_scores, perm_pvalue = model_selection.permutation_test_score(\n",
    "    pipeline, X, y,\n",
    "    cv=5, #model_selection.LeaveOneOut(),\n",
    "    scoring='roc_auc',\n",
    "    n_permutations=1000, verbose=0)\n"
   ]
  },
  {
   "cell_type": "code",
   "execution_count": 273,
   "metadata": {},
   "outputs": [
    {
     "data": {
      "image/png": "[encoded data removed]",
      "text/plain": [
       "<Figure size 345.6x288 with 1 Axes>"
      ]
     },
     "metadata": {},
     "output_type": "display_data"
    }
   ],
   "source": [
    "g = sns.displot(perm_scores, kde=True, height=4, aspect=1.2)\n",
    "g.set(xlabel='ROC-AUC score')\n",
    "\n",
    "plt.axvline(score_test, ls='--', color='red')\n",
    "g.set(title=f'ROC-AUC score on the original data: {score_test:.2f} (p-value: {perm_pvalue:.3f})')\n",
    "\n",
    "g.ax.text(.05,107,'$H_0$: 1000 permuted labels')\n",
    "\n",
    "plt.show()"
   ]
  }
 ],
 "metadata": {
  "interpreter": {
   "hash": "34f04479ffaeb5c00adb9e28a92647dce776275bf5ee61de72266754f4451f1a"
  },
  "kernelspec": {
   "display_name": "Python 3.9.9 ('acnets')",
   "language": "python",
   "name": "python3"
  },
  "language_info": {
   "codemirror_mode": {
    "name": "ipython",
    "version": 3
   },
   "file_extension": ".py",
   "mimetype": "text/x-python",
   "name": "python",
   "nbconvert_exporter": "python",
   "pygments_lexer": "ipython3",
   "version": "3.9.10"
  },
  "orig_nbformat": 4
 },
 "nbformat": 4,
 "nbformat_minor": 2
}
