{
 "cells": [
  {
   "cell_type": "markdown",
   "metadata": {},
   "source": [
    "# ACNets: Connectivity Classifier\n",
    "\n",
    "This notebook fits a binary classifier to predict participant's group, AVGP or NVGP, using functional connectivity matrices. As input, it takes upper-triangular connectivity matrices for each participant.\n",
    "\n",
    "To address the concerns about small sample size and test/train splits, results are evaluated using 5-fold cross-validated permutation testing."
   ]
  },
  {
   "cell_type": "markdown",
   "metadata": {},
   "source": [
    "## 0. Setup"
   ]
  },
  {
   "cell_type": "code",
   "execution_count": 1,
   "metadata": {},
   "outputs": [
    {
     "name": "stdout",
     "output_type": "stream",
     "text": [
      "Last updated: 2022-02-18T10:22:05.942758+01:00\n",
      "\n",
      "Python implementation: CPython\n",
      "Python version       : 3.9.10\n",
      "IPython version      : 8.0.1\n",
      "\n",
      "conda environment: acnets\n",
      "\n",
      "Compiler    : Clang 11.1.0 \n",
      "OS          : Darwin\n",
      "Release     : 21.3.0\n",
      "Machine     : x86_64\n",
      "Processor   : i386\n",
      "CPU cores   : 12\n",
      "Architecture: 64bit\n",
      "\n",
      "Hostname: MP0159\n",
      "\n",
      "matplotlib: 3.5.1\n",
      "xarray    : 0.21.1\n",
      "plotly    : 5.5.0\n",
      "sys       : 3.9.10 | packaged by conda-forge | (main, Feb  1 2022, 21:28:27) \n",
      "[Clang 11.1.0 ]\n",
      "numpy     : 1.21.5\n",
      "pandas    : 1.4.0\n",
      "seaborn   : 0.11.2\n",
      "sklearn   : 1.0.2\n",
      "\n"
     ]
    }
   ],
   "source": [
    "\n",
    "import numpy as np\n",
    "import xarray as xr\n",
    "import pandas as pd\n",
    "\n",
    "from IPython.display import clear_output\n",
    "import matplotlib.pyplot as plt\n",
    "import seaborn as sns; sns.set('poster')\n",
    "import plotly.express as px\n",
    "\n",
    "from sklearn import preprocessing, model_selection, metrics, ensemble, multioutput\n",
    "from sklearn import decomposition, cross_decomposition, feature_selection, dummy, svm\n",
    "\n",
    "from sklearn.pipeline import Pipeline\n",
    "# from xgboost import XGBClassifier  # incompatible with umap's scipy\n",
    "\n",
    "sns.set(style='dark')\n",
    "\n",
    "# Technical reproducibility\n",
    "%reload_ext watermark\n",
    "%watermark -iv -co -ituhmv"
   ]
  },
  {
   "cell_type": "markdown",
   "metadata": {},
   "source": [
    "### Load the dataset"
   ]
  },
  {
   "cell_type": "code",
   "execution_count": 5,
   "metadata": {},
   "outputs": [],
   "source": [
    "atlases = ['dosenbach2007', 'difumo_64_2', 'difumo_128_2',]# 'difumo_1024_2']\n",
    "\n",
    "\n",
    "DATASETS = dict()\n",
    "\n",
    "for atlas in atlases:\n",
    "  DATASETS[atlas] = xr.open_dataset(f'data/julia2018_resting/connectivity_{atlas}.nc')\n",
    "\n",
    "# selected data for the analysis\n",
    "DEFAULT_ATLAS = 'difumo_64_2'\n",
    "DEFAULT_DATASET = DATASETS[DEFAULT_ATLAS]\n",
    "DEFAULT_CONNECTIVITY = DEFAULT_DATASET['tangent_connectivity'].values"
   ]
  },
  {
   "cell_type": "markdown",
   "metadata": {},
   "source": [
    "## 2. Classification Model\n",
    "\n",
    "-[ ] TODO: replicate https://www.frontiersin.org/articles/10.3389/fnhum.2014.00425/full"
   ]
  },
  {
   "cell_type": "code",
   "execution_count": 19,
   "metadata": {},
   "outputs": [],
   "source": [
    "# ALT1: single-output classifiers, e.g., SVM, boosting\n",
    "# model = svm.SVC(kernel='linear', C=1, probability=True)\n",
    "# model =ensemble.AdaBoostClassifier(model, n_estimators=100, algorithm='SAMME.R')\n",
    "# model =ensemble.GradientBoostingClassifier(n_estimators=100)\n",
    "\n",
    "# ALT2: chance level\n",
    "# model = dummy.DummyClassifier(strategy='uniform')\n",
    "\n",
    "# ALT3: multi-output (classification + behavioral regression)\n",
    "# model = multioutput.MultiOutputClassifier(ensemble.GradientBoostingClassifier())\n",
    "\n",
    "\n",
    "pipeline = Pipeline([\n",
    "    ('zerovar', feature_selection.VarianceThreshold()),\n",
    "    # ('select', feature_selection.SelectKBest()),\n",
    "    # ('rfe', feature_selection.RFE(svc)),\n",
    "    # ('standard_scaler', preprocessing.StandardScaler()), \n",
    "    # ('reducer', UMAP(n_components=3)), \n",
    "    # ('reducer', decomposition.PCA()),\n",
    "    # ('reducer', cross_decomposition.PLSCanonical()),    \n",
    "    ('model', svm.SVC(kernel='rbf', C=1)),\n",
    "], verbose=False)\n",
    "\n",
    "\n",
    "param_grid = {\n",
    "    # 'zerovar__threshold': [0],\n",
    "    # 'select__k': np.linspace(1, X.shape[1], num=100, endpoint=True, dtype='int'),\n",
    "    # 'rfe__n_features_to_select': [.1, .2, .5, 1.],\n",
    "    # 'reducer__n_neighbors': [1, 2, 3, 4, 5, 10],  # UMAP\n",
    "    # 'reducer__n_components': [2,3,5],  # UMAP\n",
    "    # 'reducer__n_components': range(1, 10),  # PCA\n",
    "    # 'model__n_estimators': [10, 100, 1000],  # XGBClassifier, GradientBoostingClassifier\n",
    "    # 'model__estimator__n_estimators': [10, 100],  # MultiOutputClassifier\n",
    "}\n",
    "\n",
    "grid = model_selection.GridSearchCV(\n",
    "    pipeline, param_grid,\n",
    "    cv=model_selection.LeaveOneOut(),\n",
    "    scoring='accuracy',\n",
    "    # scoring=['accuracy', 'roc_auc', 'f1', 'precision', 'recall'], refit='accuracy',\n",
    "    n_jobs=-1, verbose=1,\n",
    ")\n",
    "\n",
    "# rfe_model = feature_selection.RFECV(grid)\n",
    "# rfe_model.fit()"
   ]
  },
  {
   "cell_type": "markdown",
   "metadata": {},
   "source": [
    "Now we tune the hyper-parameters and train the model. We then evaluate the fitted model on the held-out test data:"
   ]
  },
  {
   "cell_type": "markdown",
   "metadata": {},
   "source": [
    "## 1. Data"
   ]
  },
  {
   "cell_type": "code",
   "execution_count": 21,
   "metadata": {},
   "outputs": [
    {
     "name": "stdout",
     "output_type": "stream",
     "text": [
      "780 features, 32 subjects, 2 class labels.\n",
      "Fitting 25 folds for each of 1 candidates, totalling 25 fits\n",
      "dosenbach2007 - train set score (roc_auc): 1.00\n",
      "dosenbach2007 - test set score (roc_auc): 0.43\n",
      "Permutation testing... done!\n",
      "--------\n",
      "2080 features, 32 subjects, 2 class labels.\n",
      "Fitting 25 folds for each of 1 candidates, totalling 25 fits\n",
      "difumo_64_2 - train set score (roc_auc): 1.00\n",
      "difumo_64_2 - test set score (roc_auc): 0.71\n",
      "Permutation testing... done!\n",
      "--------\n",
      "8256 features, 32 subjects, 2 class labels.\n",
      "Fitting 25 folds for each of 1 candidates, totalling 25 fits\n",
      "difumo_128_2 - train set score (roc_auc): 1.00\n",
      "difumo_128_2 - test set score (roc_auc): 0.71\n",
      "Permutation testing... done!\n",
      "--------\n",
      "Finished!\n"
     ]
    }
   ],
   "source": [
    "\n",
    "_tmp_results = []  # will be converted to DataFrame and deleted later\n",
    "\n",
    "for ds_name, ds in DATASETS.items():\n",
    "\n",
    "  # 1. input (vectorized connectivity matrix)\n",
    "  connectivity = ds['tangent_connectivity'].values\n",
    "  X = np.array([subj_conn[np.triu_indices_from(subj_conn)] for subj_conn in connectivity])\n",
    "\n",
    "  # 1.1. threshold X\n",
    "  X_threshold = np.median(X, axis=1) + np.std(X, axis=1)\n",
    "  X = np.where(np.abs(X) >= X_threshold.reshape(-1,1), X, 0)\n",
    "\n",
    "  # 2. output (AVGP vs NVGP encoded as integers)\n",
    "  y_encoder = preprocessing.LabelEncoder()\n",
    "  y = y_encoder.fit_transform(ds['group'])\n",
    "\n",
    "  # 2.1. behavioral outputs (inverse efficiency scores in millis)\n",
    "  y_beh = ds['inverse_efficiency_score_ms'].values\n",
    "\n",
    "  # 3. remove subjects with missing behavioral data\n",
    "  X = X[~np.isnan(y_beh)]\n",
    "  y = y[~np.isnan(y_beh)]\n",
    "  y_beh = y_beh[~np.isnan(y_beh)]\n",
    "\n",
    "  # DEBUG\n",
    "  print(f'{X.shape[1]} features, {X.shape[0]} subjects, {np.unique(y).shape[0]} class labels.')\n",
    "  \n",
    "  train, test = model_selection.train_test_split(\n",
    "    range(len(X)),\n",
    "    test_size=0.2,\n",
    "    shuffle=True,\n",
    "    stratify=y)\n",
    "\n",
    "  # fit\n",
    "  grid.fit(X[train], y[train])\n",
    "\n",
    "  # evaluate\n",
    "  score_train = grid.score(X[train], y[train])\n",
    "  score_test = grid.score(X[test], y[test])\n",
    "\n",
    "  # clear_output()\n",
    "\n",
    "  # report scores and hyperparameters\n",
    "  print(f'{ds_name} - train set score (roc_auc): {score_train:.2f}')\n",
    "  print(f'{ds_name} - test set score (roc_auc): {score_test:.2f}')\n",
    "  \n",
    "  print('Permutation testing...', end=' ')\n",
    "  \n",
    "  obs_score, perm_scores, p_value = model_selection.permutation_test_score(\n",
    "    pipeline, X, y,\n",
    "    cv=5, scoring='roc_auc',\n",
    "    #cv=model_selection.LeaveOneOut(), scoring='accuracy',  # LOO cannot handle roc-auc\n",
    "    n_permutations=1000,\n",
    "    n_jobs=-1, verbose=0)\n",
    "  \n",
    "  _tmp_results.append({\n",
    "    'dataset': ds_name,\n",
    "    'observed_score': obs_score,\n",
    "    'permutation_scores': perm_scores,\n",
    "    'p_value': p_value,\n",
    "  })\n",
    "  \n",
    "  print('done!')\n",
    "  print('--------')\n",
    "\n",
    "print('Finished!')\n",
    "\n",
    "perm_results = pd.DataFrame(_tmp_results) "
   ]
  },
  {
   "cell_type": "markdown",
   "metadata": {},
   "source": [
    "## 3. Model Evaluation\n",
    "Below is the confusion matrix of the classifier on the train and test sets."
   ]
  },
  {
   "cell_type": "code",
   "execution_count": 22,
   "metadata": {},
   "outputs": [
    {
     "data": {
      "image/png": "[encoded data removed]",
      "text/plain": [
       "<Figure size 1080x216 with 3 Axes>"
      ]
     },
     "metadata": {},
     "output_type": "display_data"
    }
   ],
   "source": [
    "\n",
    "fig, axes = plt.subplots(1, len(perm_results), sharey=True,\n",
    "                         figsize=(15, 3),\n",
    "                         gridspec_kw=dict(wspace=.3)\n",
    "                         )\n",
    "\n",
    "for i, ds_name, obs_score, scores, p_value in perm_results.itertuples():\n",
    "  g = sns.histplot(scores, kde=True, ax=axes[i])\n",
    "  axes[i].axvline(obs_score, ls='--', color='red')\n",
    "\n",
    "  axes[i].set(xlabel='ROC AUC')\n",
    "  axes[i].text(x=obs_score + .02,\n",
    "               y=axes[i].get_ylim()[1] * .7,\n",
    "            s=(f'AUC = {obs_score:.2f}\\n'\n",
    "               f'(p-value: {p_value:.3f})'))\n",
    "  \n",
    "  axes[i].set_title(ds_name, color='blue')\n",
    "\n",
    "plt.suptitle('5-fold permutation testing\\n'\n",
    "             'Red lines are the scores without permutation '\n",
    "             f'and blue curves show $H_0$ ({len(scores)} permuted y labels)',\n",
    "             y=1.15, x=.08, ha='left')\n",
    "plt.show()"
   ]
  },
  {
   "cell_type": "code",
   "execution_count": null,
   "metadata": {},
   "outputs": [],
   "source": [
    "# FIXME does not work in the new version\n",
    "\n",
    "# plot confusion matrix\n",
    "fig, axes = plt.subplots(1, 2, figsize=(12, 6))\n",
    "\n",
    "# train set\n",
    "metrics.ConfusionMatrixDisplay.from_estimator(\n",
    "  grid,\n",
    "  X[train], y[train],\n",
    "  # normalize='all',\n",
    "  display_labels=y_encoder.classes_,\n",
    "  ax=axes[0],\n",
    "  cmap='Blues'\n",
    "  )\n",
    "\n",
    "# test set\n",
    "metrics.ConfusionMatrixDisplay.from_estimator(\n",
    "  grid,\n",
    "  X[test], y[test],\n",
    "  # normalize='all',\n",
    "  display_labels=y_encoder.classes_,\n",
    "  ax=axes[1],\n",
    "  cmap='Blues'\n",
    "  )\n",
    "\n",
    "# set titles\n",
    "axes[0].set(title=f'train ({len(train)} subjects)')\n",
    "axes[1].set(title=f'test ({len(test)} subjects)')\n",
    "\n",
    "plt.suptitle('Confusion matrix on one instance of train/test split')\n",
    "\n",
    "plt.show()"
   ]
  }
 ],
 "metadata": {
  "interpreter": {
   "hash": "34f04479ffaeb5c00adb9e28a92647dce776275bf5ee61de72266754f4451f1a"
  },
  "kernelspec": {
   "display_name": "Python 3.9.9 ('acnets')",
   "language": "python",
   "name": "python3"
  },
  "language_info": {
   "codemirror_mode": {
    "name": "ipython",
    "version": 3
   },
   "file_extension": ".py",
   "mimetype": "text/x-python",
   "name": "python",
   "nbconvert_exporter": "python",
   "pygments_lexer": "ipython3",
   "version": "3.9.10"
  },
  "orig_nbformat": 4
 },
 "nbformat": 4,
 "nbformat_minor": 2
}
