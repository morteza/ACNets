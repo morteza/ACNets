{
 "cells": [
  {
   "cell_type": "markdown",
   "metadata": {},
   "source": [
    "# ACNets: Connectivity Classifier\n",
    "\n",
    "This notebook fits a binary classifier to predict participant's group, AVGP or NVGP, using Cognitive Control network connectivity matrices. As input, it receives upper-triangular connectivity matrices for each participant. Results are evaluated using 5-fold cross-validated f1 on the train set."
   ]
  },
  {
   "cell_type": "markdown",
   "metadata": {},
   "source": [
    "## Setup"
   ]
  },
  {
   "cell_type": "code",
   "execution_count": 26,
   "metadata": {},
   "outputs": [
    {
     "name": "stdout",
     "output_type": "stream",
     "text": [
      "Last updated: 2022-02-14T18:00:32.403468+01:00\n",
      "\n",
      "Python implementation: CPython\n",
      "Python version       : 3.9.10\n",
      "IPython version      : 8.0.1\n",
      "\n",
      "conda environment: acnets\n",
      "\n",
      "Compiler    : Clang 11.1.0 \n",
      "OS          : Darwin\n",
      "Release     : 21.3.0\n",
      "Machine     : x86_64\n",
      "Processor   : i386\n",
      "CPU cores   : 12\n",
      "Architecture: 64bit\n",
      "\n",
      "Hostname: MP0159\n",
      "\n",
      "sys       : 3.9.10 | packaged by conda-forge | (main, Feb  1 2022, 21:28:27) \n",
      "[Clang 11.1.0 ]\n",
      "plotly    : 5.5.0\n",
      "matplotlib: 3.5.1\n",
      "numpy     : 1.21.5\n",
      "xarray    : 0.21.1\n",
      "sklearn   : 1.0.2\n",
      "pandas    : 1.4.0\n",
      "seaborn   : 0.11.2\n",
      "\n"
     ]
    }
   ],
   "source": [
    "\n",
    "import numpy as np\n",
    "import xarray as xr\n",
    "import pandas as pd\n",
    "\n",
    "from IPython.display import clear_output\n",
    "import matplotlib.pyplot as plt\n",
    "import seaborn as sns; sns.set()\n",
    "import plotly.express as px\n",
    "\n",
    "from sklearn import preprocessing, model_selection, metrics, ensemble, multioutput\n",
    "from sklearn import decomposition, cross_decomposition, feature_selection, dummy, svm\n",
    "\n",
    "from sklearn.pipeline import Pipeline\n",
    "# from xgboost import XGBClassifier  # incompatible with umap's scipy\n",
    "\n",
    "sns.set(style='dark')\n",
    "\n",
    "# from umap import UMAP\n",
    "\n",
    "# Technical reproducibility\n",
    "%reload_ext watermark\n",
    "%watermark -iv -co -ituhmv"
   ]
  },
  {
   "cell_type": "markdown",
   "metadata": {},
   "source": [
    "### Load the data"
   ]
  },
  {
   "cell_type": "code",
   "execution_count": 84,
   "metadata": {},
   "outputs": [],
   "source": [
    "# DATASET = xr.open_dataset('data/julia2018_resting/connectivity_difumo_64_2.nc').load()\n",
    "DATASET = xr.open_dataset('data/julia2018_resting/connectivity_dosenbach2007.nc').load()"
   ]
  },
  {
   "cell_type": "markdown",
   "metadata": {},
   "source": [
    "## Input/output data"
   ]
  },
  {
   "cell_type": "code",
   "execution_count": 85,
   "metadata": {},
   "outputs": [],
   "source": [
    "# 1. input (connectivities)\n",
    "X = np.array(\n",
    "  [subj_conn[np.triu_indices_from(subj_conn, k=1)] \n",
    "   for subj_conn in DATASET['tangent_connectivity'].values]\n",
    "  )\n",
    "\n",
    "# 2. classifier output (AVGP or NVGP)\n",
    "y_encoder = preprocessing.LabelEncoder()\n",
    "y = y_encoder.fit_transform(DATASET['group'])\n",
    "\n",
    "# 3. behavioral outputs (inverse efficiency scores in millis)\n",
    "y_beh = DATASET['inverse_efficiency_score_ms'].values\n",
    "\n",
    "# 4. remove subjects with missing connectivity and behavioral data\n",
    "valid_subjects_mask = ~np.isnan(y_beh)\n",
    "X = X[valid_subjects_mask]\n",
    "y = y[valid_subjects_mask]\n",
    "y_beh = y_beh[valid_subjects_mask]"
   ]
  },
  {
   "cell_type": "markdown",
   "metadata": {},
   "source": [
    "## Test/train split"
   ]
  },
  {
   "cell_type": "code",
   "execution_count": 86,
   "metadata": {},
   "outputs": [],
   "source": [
    "# 3. test/train split\n",
    "X_train, X_test, y_train, y_test, y_beh_train, y_beh_test = model_selection.train_test_split(\n",
    "  X, y, y_beh,\n",
    "  test_size=.25, shuffle=True, stratify=y,\n",
    "  # random_state=42,\n",
    "  )"
   ]
  },
  {
   "cell_type": "markdown",
   "metadata": {},
   "source": [
    "## Classification pipeline"
   ]
  },
  {
   "cell_type": "code",
   "execution_count": 116,
   "metadata": {},
   "outputs": [
    {
     "name": "stdout",
     "output_type": "stream",
     "text": [
      "Train set score (roc_auc): 1.00\n",
      "Test set score (roc_auc): 0.50\n"
     ]
    },
    {
     "data": {
      "text/plain": [
       "{'select__k': 98}"
      ]
     },
     "execution_count": 116,
     "metadata": {},
     "output_type": "execute_result"
    }
   ],
   "source": [
    "# ALT1: boosting\n",
    "# model = ensemble.GradientBoostingClassifier()\n",
    "model = svm.SVC(kernel='rbf')\n",
    "\n",
    "# ALT2: chance level\n",
    "# model = dummy.DummyClassifier(strategy='uniform')\n",
    "\n",
    "# ALT3: multi-output\n",
    "# model = multioutput.MultiOutputClassifier(ensemble.GradientBoostingClassifier())\n",
    "\n",
    "\n",
    "pipeline = Pipeline([\n",
    "    ('zerovar', feature_selection.VarianceThreshold()),\n",
    "    ('select', feature_selection.SelectKBest()),\n",
    "    # ('standard_scaler', preprocessing.StandardScaler()), \n",
    "    # ('reducer', UMAP(n_components=3)), \n",
    "    # ('reducer', decomposition.PCA()),\n",
    "    # ('reducer', cross_decomposition.PLSCanonical()),    \n",
    "    ('model', model)\n",
    "], verbose=True)\n",
    "\n",
    "\n",
    "param_grid = {\n",
    "    # 'zerovar__threshold': [0],\n",
    "    'select__k': np.linspace(1, X.shape[1], num=100, endpoint=True, dtype='int'),\n",
    "    # 'reducer__n_neighbors': [1, 2, 3, 4, 5, 10],  # UMAP\n",
    "    # 'reducer__n_components': [2,3,5],  # UMAP\n",
    "    # 'reducer__n_components': range(1, 10),  # PCA\n",
    "    # 'model__n_estimators': [10, 100, 1000],  # XGBClassifier, GradientBoostingClassifier\n",
    "    # 'model__estimator__n_estimators': [10, 100],  # MultiOutputClassifier\n",
    "}\n",
    "\n",
    "grid = model_selection.GridSearchCV(\n",
    "    pipeline, param_grid,\n",
    "    cv=model_selection.LeaveOneOut(),\n",
    "    scoring='accuracy',\n",
    "    # scoring=['accuracy', 'roc_auc', 'f1', 'precision', 'recall'], refit='accuracy',\n",
    "    n_jobs=1, verbose=3,\n",
    ")\n",
    "\n",
    "grid.fit(X_train, y_train)\n",
    "score_train = grid.score(X_train, y_train)\n",
    "score_test = grid.score(X_test, y_test)\n",
    "\n",
    "clear_output(wait=True)\n",
    "\n",
    "# report scores and hyperparameters\n",
    "print(f'Train set score (roc_auc): {score_train:.2f}')\n",
    "print(f'Test set score (roc_auc): {score_test:.2f}')\n",
    "grid.best_params_"
   ]
  },
  {
   "cell_type": "markdown",
   "metadata": {},
   "source": [
    "## Model performance\n",
    "Below is the confusion matrix of the classifier on the train and test sets."
   ]
  },
  {
   "cell_type": "code",
   "execution_count": 117,
   "metadata": {},
   "outputs": [
    {
     "data": {
      "image/png": "[encoded data removed]",
      "text/plain": [
       "<Figure size 864x432 with 4 Axes>"
      ]
     },
     "metadata": {},
     "output_type": "display_data"
    }
   ],
   "source": [
    "# plot confusion matrix\n",
    "fig, axes = plt.subplots(1, 2, figsize=(12, 6))\n",
    "\n",
    "# train set\n",
    "metrics.ConfusionMatrixDisplay.from_estimator(\n",
    "  grid,\n",
    "  X_train, y_train,\n",
    "  normalize='all',\n",
    "  display_labels=y_encoder.classes_,\n",
    "  ax=axes[0],\n",
    "  )\n",
    "\n",
    "# test set\n",
    "metrics.ConfusionMatrixDisplay.from_estimator(\n",
    "  grid,\n",
    "  X_test, y_test,\n",
    "  normalize='all',\n",
    "  display_labels=y_encoder.classes_,\n",
    "  ax=axes[1],\n",
    "  )\n",
    "\n",
    "# set titles\n",
    "axes[0].set(title=f'train ({len(y_train)} subjects)')\n",
    "axes[1].set(title=f'test ({len(y_test)} subjects)')\n",
    "\n",
    "plt.show()"
   ]
  }
 ],
 "metadata": {
  "interpreter": {
   "hash": "34f04479ffaeb5c00adb9e28a92647dce776275bf5ee61de72266754f4451f1a"
  },
  "kernelspec": {
   "display_name": "Python 3.9.9 ('acnets')",
   "language": "python",
   "name": "python3"
  },
  "language_info": {
   "codemirror_mode": {
    "name": "ipython",
    "version": 3
   },
   "file_extension": ".py",
   "mimetype": "text/x-python",
   "name": "python",
   "nbconvert_exporter": "python",
   "pygments_lexer": "ipython3",
   "version": "3.9.10"
  },
  "orig_nbformat": 4
 },
 "nbformat": 4,
 "nbformat_minor": 2
}
