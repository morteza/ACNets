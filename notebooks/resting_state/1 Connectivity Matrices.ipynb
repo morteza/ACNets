{
 "cells": [
  {
   "cell_type": "markdown",
   "metadata": {},
   "source": [
    "## Functional connectivity"
   ]
  },
  {
   "cell_type": "markdown",
   "metadata": {},
   "source": [
    "This notebook extracts individual connectivity matrix of the resting-state networks in [@dosenbach2007] and [@difumo2018] atlases. The connectivity matrix, of shape $N_{\\text{subjects}} \\times N_{\\text{regions}} \\times N_{\\text{regions}}$, will be stored as annotated NetCDF4 files in the following files:\n",
    "\n",
    "- `data/julia2018_resting/connectivity_dosenbach2007.nc`.\n",
    "- `data/julia2018_resting/connectivity_difumo_64_2.nc`."
   ]
  },
  {
   "cell_type": "markdown",
   "metadata": {},
   "source": [
    "## Setup"
   ]
  },
  {
   "cell_type": "code",
   "execution_count": 2,
   "metadata": {},
   "outputs": [],
   "source": [
    "from typing import Tuple\n",
    "\n",
    "from tqdm import tqdm\n",
    "\n",
    "import numpy as np\n",
    "import pandas as pd\n",
    "import xarray as xr\n",
    "import nilearn\n",
    "from nilearn import connectome"
   ]
  },
  {
   "cell_type": "markdown",
   "metadata": {},
   "source": [
    "Load the time-series of the cognitive control network:"
   ]
  },
  {
   "cell_type": "code",
   "execution_count": 3,
   "metadata": {},
   "outputs": [],
   "source": [
    "DATASETS = {\n",
    "  # 'dosenbach2007': xr.open_dataset('data/julia2018_resting/timeseries_dosenbach2007.nc'),\n",
    "  # 'difumo_64_2': xr.open_dataset('data/julia2018_resting/timeseries_difumo_64_2.nc'),\n",
    "  'difumo_128_2': xr.open_dataset('data/julia2018_resting/timeseries_difumo_128_2.nc')\n",
    "}"
   ]
  },
  {
   "cell_type": "markdown",
   "metadata": {},
   "source": [
    "## Fit connectivity matrices\n"
   ]
  },
  {
   "cell_type": "code",
   "execution_count": 4,
   "metadata": {},
   "outputs": [],
   "source": [
    "# some subjects are missing resting time-series, so we need to filter them out.\n",
    "\n",
    "def get_valid_timeseries(timeseries: xr.DataArray) -> Tuple[np.ndarray, list[np.ndarray]]:\n",
    "  missing_mask = timeseries.isnull().all(dim=['region','timestep'])\n",
    "  valid_timeseries = [ts.T for ts in timeseries.values[~missing_mask]]\n",
    "  return missing_mask, valid_timeseries\n",
    "\n",
    "timeseries = {\n",
    "  key: get_valid_timeseries(ds['timeseries'])\n",
    "  for key, ds in DATASETS.items()\n",
    "}"
   ]
  },
  {
   "cell_type": "code",
   "execution_count": 5,
   "metadata": {},
   "outputs": [
    {
     "name": "stderr",
     "output_type": "stream",
     "text": [
      "difumo_128_2: 100%|██████████| 5/5 [00:01<00:00,  3.07it/s]"
     ]
    },
    {
     "name": "stdout",
     "output_type": "stream",
     "text": [
      "difumo_128_2 connectivity saved successfully.\n"
     ]
    },
    {
     "name": "stderr",
     "output_type": "stream",
     "text": [
      "\n"
     ]
    }
   ],
   "source": [
    "# outputs\n",
    "conn_kinds = ['covariance','correlation', 'partial correlation', 'tangent', 'precision']\n",
    "\n",
    "for ds_name, (missing_mask, valid_timeseries) in timeseries.items():\n",
    "  \n",
    "  dataset = DATASETS[ds_name]\n",
    "  dataset.attrs['description'] = f'Resting state connectivity matrices for {ds_name}'\n",
    "  missing_indices = np.flatnonzero(missing_mask)\n",
    "  \n",
    "  for kind in tqdm(conn_kinds, desc=ds_name):\n",
    "    \n",
    "    # calculate connectivity measure\n",
    "    cm = nilearn.connectome.ConnectivityMeasure(kind=kind, vectorize=False)\n",
    "    conn = cm.fit_transform(valid_timeseries)\n",
    "    \n",
    "    # now refill the places of the missing time-series with nan values\n",
    "    nan_insertion_indices = missing_indices - np.arange(missing_indices.shape[0])\n",
    "    conn = np.insert(conn, nan_insertion_indices, np.full_like(conn[0], np.nan), axis=0)\n",
    "\n",
    "    # DEBUG: just to make sure missing values are handled correctly\n",
    "    assert np.equal(np.isnan(conn).all(axis=(1,2)), missing_mask).all()\n",
    "\n",
    "    # add to the dataset\n",
    "    ds_key_name = kind.replace(' ', '_') + '_connectivity'\n",
    "    dataset[ds_key_name] = xr.DataArray(conn, dims=['subject', 'region', 'region'])\n",
    "\n",
    "  # now store the dataset\n",
    "  dataset.to_netcdf(f'data/julia2018_resting/connectivity_{ds_name}.nc', engine='netcdf4')\n",
    "  print(f'{ds_name} connectivity saved successfully.')"
   ]
  }
 ],
 "metadata": {
  "interpreter": {
   "hash": "34f04479ffaeb5c00adb9e28a92647dce776275bf5ee61de72266754f4451f1a"
  },
  "kernelspec": {
   "display_name": "Python 3.9.9 ('acnets')",
   "language": "python",
   "name": "python3"
  },
  "language_info": {
   "codemirror_mode": {
    "name": "ipython",
    "version": 3
   },
   "file_extension": ".py",
   "mimetype": "text/x-python",
   "name": "python",
   "nbconvert_exporter": "python",
   "pygments_lexer": "ipython3",
   "version": "3.9.10"
  },
  "orig_nbformat": 4
 },
 "nbformat": 4,
 "nbformat_minor": 2
}
