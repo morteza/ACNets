{
 "cells": [
  {
   "cell_type": "markdown",
   "metadata": {},
   "source": [
    "To prepare the required environment using conda/mamba, run the following commands:\n",
    "\n",
    "```bash\n",
    "mamba create -n autokeras\n",
    "mamba activate autokeras\n",
    "mamba install python xarray dask netCDF4 bottleneck scikit-learn tqdm nilearn seaborn matplotlib\n",
    "pip install autokeras -U\n",
    "```"
   ]
  },
  {
   "cell_type": "code",
   "execution_count": 19,
   "metadata": {},
   "outputs": [],
   "source": [
    "\n",
    "import autokeras as ak\n",
    "\n",
    "import tensorflow as tf\n",
    "\n",
    "\n",
    "import numpy as np\n",
    "\n",
    "from tqdm import tqdm\n",
    "\n",
    "from sklearn.datasets import make_classification\n",
    "from sklearn.model_selection import StratifiedShuffleSplit\n",
    "from sklearn.pipeline import Pipeline\n",
    "from sklearn.metrics import accuracy_score\n",
    "\n",
    "from python.acnets.pipeline import Connectivity, ConnectivityVectorizer\n",
    "\n",
    "from IPython.display import clear_output"
   ]
  },
  {
   "cell_type": "code",
   "execution_count": 2,
   "metadata": {},
   "outputs": [],
   "source": [
    "atlas = 'dosenbach2010'\n",
    "kind = 'chatterjee'\n",
    "aggregate_networks=True\n",
    "\n",
    "subjects = Connectivity().transform(None).coords['subject'].values\n",
    "groups = np.array([s[:4] for s in subjects])\n",
    "\n",
    "X = subjects.reshape(-1, 1)\n",
    "y = groups\n",
    "\n",
    "factor_name = 'networks' if aggregate_networks else 'regions'\n",
    "\n",
    "from sklearn.preprocessing import LabelEncoder\n",
    "y_encoder = LabelEncoder()\n",
    "y = y_encoder.fit_transform(y)\n",
    "\n",
    "\n",
    "prep_pipe  = Pipeline([\n",
    "    ('connectivity', Connectivity(atlas, kind, aggregate_networks)),\n",
    "    ('vectorize', ConnectivityVectorizer()),\n",
    "])\n",
    "\n",
    "X = prep_pipe.fit_transform(X, y)\n",
    "feature_names = prep_pipe.get_feature_names_out()"
   ]
  },
  {
   "cell_type": "code",
   "execution_count": 3,
   "metadata": {},
   "outputs": [],
   "source": [
    "# DEBUG X, y = make_classification(32, 160, n_classes=2)"
   ]
  },
  {
   "cell_type": "code",
   "execution_count": 61,
   "metadata": {},
   "outputs": [
    {
     "name": "stdout",
     "output_type": "stream",
     "text": [
      "val_scores: [1.0, 0.8571428656578064]\n"
     ]
    }
   ],
   "source": [
    "cv = StratifiedShuffleSplit(n_splits=2, test_size=0.2)\n",
    "\n",
    "val_scores = []\n",
    "\n",
    "\n",
    "for train, test in tqdm(cv.split(X, y), total=cv.get_n_splits(X, y)):\n",
    "    \n",
    "    auto_model = ak.AutoModel(\n",
    "        inputs=ak.StructuredDataInput(\n",
    "            column_names=feature_names.tolist(),\n",
    "            column_types={feat: 'numerical' for feat in feature_names},\n",
    "            name=f'{atlas}_{factor_name}_{kind}'),\n",
    "        outputs=ak.ClassificationHead(metrics=['accuracy'], loss=tf.keras.losses.BinaryCrossentropy()),\n",
    "        project_name=f'tmp/autokeras/{atlas}_{factor_name}_{kind}_{np.random.randint(1e6)}',\n",
    "        tuner='bayesian',\n",
    "        overwrite=True,\n",
    "        max_trials=5,\n",
    "        objective='val_accuracy'\n",
    "    )\n",
    "\n",
    "    history = auto_model.fit(\n",
    "        X[train], y[train],\n",
    "        validation_data=(X[test], y[test]),\n",
    "        callbacks=[tf.keras.callbacks.EarlyStopping('val_loss', patience=10, restore_best_weights=True)],\n",
    "        epochs=1000,\n",
    "        batch_size=32,\n",
    "        verbose=1)\n",
    "\n",
    "    # y_pred = auto_model.predict(X[test])\n",
    "    # score = accuracy_score(y[test], y_pred)\n",
    "    loss, val_score = auto_model.evaluate(X[test], y[test], batch_size=32)\n",
    "\n",
    "    val_scores.append(val_score)\n",
    "    print('val_accuracy: ', val_score)\n",
    "\n",
    "clear_output()\n",
    "print('val_scores:', val_scores)"
   ]
  },
  {
   "cell_type": "code",
   "execution_count": 63,
   "metadata": {},
   "outputs": [
    {
     "name": "stdout",
     "output_type": "stream",
     "text": [
      "cross-validated val_accuracy: 0.9285714328289032\n",
      "Model: \"model\"\n",
      "_________________________________________________________________\n",
      " Layer (type)                Output Shape              Param #   \n",
      "=================================================================\n",
      " input_1 (InputLayer)        [(None, 21)]              0         \n",
      "                                                                 \n",
      " multi_category_encoding (Mu  (None, 21)               0         \n",
      " ltiCategoryEncoding)                                            \n",
      "                                                                 \n",
      " dense (Dense)               (None, 1024)              22528     \n",
      "                                                                 \n",
      " re_lu (ReLU)                (None, 1024)              0         \n",
      "                                                                 \n",
      " dense_1 (Dense)             (None, 1)                 1025      \n",
      "                                                                 \n",
      " classification_head_1 (Acti  (None, 1)                0         \n",
      " vation)                                                         \n",
      "                                                                 \n",
      "=================================================================\n",
      "Total params: 23,553\n",
      "Trainable params: 23,553\n",
      "Non-trainable params: 0\n",
      "_________________________________________________________________\n",
      "one of the fitted model: None\n"
     ]
    }
   ],
   "source": [
    "print('cross-validated val_accuracy:', np.mean(val_scores))\n",
    "\n",
    "print('one of the fitted model:', auto_model.export_model().summary())"
   ]
  }
 ],
 "metadata": {
  "interpreter": {
   "hash": "41779447130906ff776ccc0c5b207b61616fe3aebcd94e9fe070553f8e47e035"
  },
  "kernelspec": {
   "display_name": "Python 3.10.4 ('autokeras')",
   "language": "python",
   "name": "python3"
  },
  "language_info": {
   "codemirror_mode": {
    "name": "ipython",
    "version": 3
   },
   "file_extension": ".py",
   "mimetype": "text/x-python",
   "name": "python",
   "nbconvert_exporter": "python",
   "pygments_lexer": "ipython3",
   "version": "3.10.4"
  },
  "orig_nbformat": 4
 },
 "nbformat": 4,
 "nbformat_minor": 2
}
