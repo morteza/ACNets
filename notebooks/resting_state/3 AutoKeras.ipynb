{
 "cells": [
  {
   "cell_type": "code",
   "execution_count": 1,
   "metadata": {},
   "outputs": [],
   "source": [
    "import autokeras as ak"
   ]
  },
  {
   "cell_type": "code",
   "execution_count": null,
   "metadata": {},
   "outputs": [],
   "source": [
    "from dataclasses import dataclass\n",
    "from sklearn.base import TransformerMixin, BaseEstimator\n",
    "\n",
    "@dataclass\n",
    "class Connectivity(TransformerMixin, BaseEstimator):\n",
    "    \"\"\"Parcellate regions, aggregate networks, and extract connectivity.\"\"\"\n",
    "\n",
    "    atlas: str = 'dosenbach2010'\n",
    "    kind: str = 'correlation'\n",
    "    agg_networks: bool = True\n",
    "    mock: bool = False\n",
    "\n",
    "    def __post_init__(self):\n",
    "        if self.mock:\n",
    "            self.transform = self.mock_transform\n",
    "\n",
    "    def fit(self, X, y=None, **fit_params):\n",
    "        return self\n",
    "\n",
    "    def transform(self, X):\n",
    "        p = Parcellation(self.atlas, bids_dir=BIDS_DIR, cache_dir=PARCELLATION_CACHE_DIR)\n",
    "        n = NetworkAggregator(p.labels_)\n",
    "        c = ConnectivityExtractor(self.kind)\n",
    "\n",
    "        if self.agg_networks:\n",
    "            conn = make_pipeline(p, n, c).fit_transform(X)\n",
    "            nodes = n.networks_\n",
    "        else:\n",
    "            conn = make_pipeline(p, c).fit_transform(X)\n",
    "            nodes = p.labels_.index.to_list()\n",
    "\n",
    "        self.dataset_ = xr.DataArray(\n",
    "            conn,\n",
    "            coords={'subject': p.dataset_['subject'],\n",
    "                    'node': nodes},\n",
    "            dims=['subject', 'node', 'node'],\n",
    "            name='connectivity')\n",
    "\n",
    "        # select only queried subjects\n",
    "        if X is not None:\n",
    "            subjects_1d = X.reshape(-1).tolist()\n",
    "            self.dataset_ = self.dataset_.sel(dict(subject=subjects_1d))\n",
    "\n",
    "        return self.dataset_\n",
    "\n",
    "    def mock_transform(self, X):\n",
    "\n",
    "        n_features_dict = {\n",
    "            ('gordon2014_2mm', True): 13,\n",
    "            ('gordon2014_2mm', False): 333,\n",
    "            ('dosenbach2010', True): 6,\n",
    "            ('dosenbach2010', False): 160,\n",
    "            ('difumo_64_2mm', True): 7,\n",
    "            ('difumo_64_2mm', False): 64,\n",
    "            ('seitzman2018', True): 14,\n",
    "            ('seitzman2018', False): 300,\n",
    "        }\n",
    "\n",
    "        subjects = X\n",
    "        if subjects is None:\n",
    "            subjects =  Parcellation(self.atlas).fit(None).dataset_['subject'].values\n",
    "\n",
    "        n_features = n_features_dict[(self.atlas, self.agg_networks)]\n",
    "\n",
    "        nodes = [f'node_{n}' for n in range(n_features)]\n",
    "\n",
    "        mock_conn = np.random.rand(len(subjects), n_features, n_features)\n",
    "\n",
    "        self.dataset_ = xr.DataArray(\n",
    "            mock_conn,\n",
    "            coords={'subject': subjects,\n",
    "                    'node': nodes},\n",
    "            dims=['subject', 'node', 'node'],\n",
    "            name='connectivity')\n",
    "                \n",
    "        return self.dataset_\n",
    "\n",
    "    def get_feature_names_out(self, input_features=None):\n",
    "        sep = ' \\N{left right arrow} '\n",
    "        if input_features is None:\n",
    "            input_features = self.transform(None).coords['node'].values\n",
    "        feature_names = pd.DataFrame(\n",
    "            np.zeros((input_features.shape[0], input_features.shape[0])),\n",
    "            columns=input_features, index=input_features)\n",
    "        feature_names = feature_names.stack().to_frame().apply(lambda x:\n",
    "            sep.join(x.name) if x.name[0] != x.name[1] else x.name[0],\n",
    "            axis=1).unstack()\n",
    "        return feature_names"
   ]
  },
  {
   "cell_type": "code",
   "execution_count": null,
   "metadata": {},
   "outputs": [],
   "source": [
    "clf = ak.StructuredDataClassifier(\n",
    "    column_names= None,\n",
    "    column_types={'sex': 'categorical', 'fare': 'numerical'},\n",
    "    max_trials=10,\n",
    "    overwrite=True,\n",
    ")"
   ]
  },
  {
   "cell_type": "code",
   "execution_count": null,
   "metadata": {},
   "outputs": [],
   "source": [
    "model = ak.AutoModel(\n",
    "    inputs=[ak.StructuredDataInput],\n",
    "    outputs=[ak.ClassificationHead()]\n",
    ")"
   ]
  },
  {
   "cell_type": "code",
   "execution_count": null,
   "metadata": {},
   "outputs": [],
   "source": [
    "split = 500\n",
    "x_val = x_train[split:]\n",
    "y_val = y_train[split:]\n",
    "x_train = x_train[:split]\n",
    "y_train = y_train[:split]"
   ]
  },
  {
   "cell_type": "code",
   "execution_count": null,
   "metadata": {},
   "outputs": [],
   "source": [
    "clf.fit(\n",
    "    x_train,\n",
    "    y_train,\n",
    "    # Split the training data and use the last 15% as validation data.\n",
    "    validation_split=0.15,\n",
    "    epochs=10,\n",
    ")\n",
    "\n",
    "clf.fit(\n",
    "    x_train,\n",
    "    y_train,\n",
    "    # Use your own validation set.\n",
    "    validation_data=(x_val, y_val),\n",
    "    epochs=10,\n",
    ")"
   ]
  }
 ],
 "metadata": {
  "interpreter": {
   "hash": "41779447130906ff776ccc0c5b207b61616fe3aebcd94e9fe070553f8e47e035"
  },
  "kernelspec": {
   "display_name": "Python 3.10.4 ('autokeras')",
   "language": "python",
   "name": "python3"
  },
  "language_info": {
   "codemirror_mode": {
    "name": "ipython",
    "version": 3
   },
   "file_extension": ".py",
   "mimetype": "text/x-python",
   "name": "python",
   "nbconvert_exporter": "python",
   "pygments_lexer": "ipython3",
   "version": "3.10.4"
  },
  "orig_nbformat": 4
 },
 "nbformat": 4,
 "nbformat_minor": 2
}
