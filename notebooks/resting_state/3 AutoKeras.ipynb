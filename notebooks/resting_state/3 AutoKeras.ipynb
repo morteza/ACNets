{
 "cells": [
  {
   "cell_type": "markdown",
   "metadata": {},
   "source": [
    "To prepare the required environment using conda/mamba, run the following commands:\n",
    "\n",
    "```bash\n",
    "mamba create -n autokeras\n",
    "mamba activate autokeras\n",
    "mamba install python\n",
    "pip install autokeras scikit-learn tqdm -U\n",
    "```"
   ]
  },
  {
   "cell_type": "code",
   "execution_count": 36,
   "metadata": {},
   "outputs": [],
   "source": [
    "import autokeras as ak\n",
    "\n",
    "from tqdm import tqdm\n",
    "\n",
    "from sklearn.datasets import make_classification\n",
    "from sklearn.model_selection import StratifiedShuffleSplit"
   ]
  },
  {
   "cell_type": "code",
   "execution_count": 37,
   "metadata": {},
   "outputs": [],
   "source": [
    "X, y = make_classification(32, 160, n_classes=2)"
   ]
  },
  {
   "cell_type": "code",
   "execution_count": 38,
   "metadata": {},
   "outputs": [
    {
     "name": "stdout",
     "output_type": "stream",
     "text": [
      "INFO:tensorflow:Reloading Oracle from existing project ./auto_model/oracle.json\n",
      "INFO:tensorflow:Reloading Tuner from ./auto_model/tuner0.json\n",
      "INFO:tensorflow:Oracle triggered exit\n",
      "Epoch 1/10\n",
      "4/4 [==============================] - 1s 8ms/step - loss: 0.6888 - accuracy: 0.5600\n",
      "Epoch 2/10\n",
      "4/4 [==============================] - 0s 8ms/step - loss: 0.1205 - accuracy: 1.0000\n",
      "Epoch 3/10\n",
      "4/4 [==============================] - 0s 8ms/step - loss: 0.0095 - accuracy: 1.0000\n",
      "Epoch 4/10\n",
      "4/4 [==============================] - 0s 8ms/step - loss: 6.9355e-04 - accuracy: 1.0000\n",
      "Epoch 5/10\n",
      "4/4 [==============================] - 0s 8ms/step - loss: 1.1692e-04 - accuracy: 1.0000\n",
      "Epoch 6/10\n",
      "4/4 [==============================] - 0s 8ms/step - loss: 4.5772e-05 - accuracy: 1.0000\n",
      "Epoch 7/10\n",
      "4/4 [==============================] - 0s 8ms/step - loss: 3.0168e-05 - accuracy: 1.0000\n",
      "Epoch 8/10\n",
      "4/4 [==============================] - 0s 8ms/step - loss: 2.6345e-05 - accuracy: 1.0000\n",
      "Epoch 9/10\n",
      "4/4 [==============================] - 0s 9ms/step - loss: 2.6092e-05 - accuracy: 1.0000\n",
      "Epoch 10/10\n",
      "4/4 [==============================] - 0s 9ms/step - loss: 2.6092e-05 - accuracy: 1.0000\n",
      "INFO:tensorflow:Assets written to: ./auto_model/best_model/assets\n",
      "Scores [loss, accuracy]:  [1.128725290298462, 0.7142857313156128]\n",
      "INFO:tensorflow:Reloading Oracle from existing project ./auto_model/oracle.json\n",
      "INFO:tensorflow:Reloading Tuner from ./auto_model/tuner0.json\n",
      "INFO:tensorflow:Oracle triggered exit\n",
      "Epoch 1/10\n",
      "4/4 [==============================] - 1s 8ms/step - loss: 0.7749 - accuracy: 0.2800\n",
      "Epoch 2/10\n",
      "4/4 [==============================] - 0s 9ms/step - loss: 0.1869 - accuracy: 1.0000\n",
      "Epoch 3/10\n",
      "4/4 [==============================] - 0s 9ms/step - loss: 0.0128 - accuracy: 1.0000\n",
      "Epoch 4/10\n",
      "4/4 [==============================] - 0s 9ms/step - loss: 0.0016 - accuracy: 1.0000\n",
      "Epoch 5/10\n",
      "4/4 [==============================] - 0s 9ms/step - loss: 4.1191e-04 - accuracy: 1.0000\n",
      "Epoch 6/10\n",
      "4/4 [==============================] - 0s 8ms/step - loss: 1.8928e-04 - accuracy: 1.0000\n",
      "Epoch 7/10\n",
      "4/4 [==============================] - 0s 9ms/step - loss: 1.2908e-04 - accuracy: 1.0000\n",
      "Epoch 8/10\n",
      "4/4 [==============================] - 0s 8ms/step - loss: 1.1223e-04 - accuracy: 1.0000\n",
      "Epoch 9/10\n",
      "4/4 [==============================] - 0s 8ms/step - loss: 1.1065e-04 - accuracy: 1.0000\n",
      "Epoch 10/10\n",
      "4/4 [==============================] - 0s 9ms/step - loss: 1.1065e-04 - accuracy: 1.0000\n",
      "INFO:tensorflow:Assets written to: ./auto_model/best_model/assets\n",
      "Scores [loss, accuracy]:  [0.3395443856716156, 0.8571428656578064]\n"
     ]
    }
   ],
   "source": [
    "cv = StratifiedShuffleSplit(n_splits=2, test_size=0.2)\n",
    "\n",
    "for train, test in cv.split(X, y):\n",
    "\n",
    "    model = ak.AutoModel(\n",
    "        inputs=ak.StructuredDataInput(),\n",
    "        outputs=ak.ClassificationHead(),\n",
    "        # objective='val_accuracy'\n",
    "    )\n",
    "    \n",
    "    model.fit(X[train], y[train], batch_size=8, epochs=10, verbose=0)\n",
    "    scores = model.evaluate(X[test], y[test], batch_size=8, verbose=0)\n",
    "    print('Scores [loss, accuracy]: ', scores)"
   ]
  }
 ],
 "metadata": {
  "interpreter": {
   "hash": "41779447130906ff776ccc0c5b207b61616fe3aebcd94e9fe070553f8e47e035"
  },
  "kernelspec": {
   "display_name": "Python 3.10.4 ('autokeras')",
   "language": "python",
   "name": "python3"
  },
  "language_info": {
   "codemirror_mode": {
    "name": "ipython",
    "version": 3
   },
   "file_extension": ".py",
   "mimetype": "text/x-python",
   "name": "python",
   "nbconvert_exporter": "python",
   "pygments_lexer": "ipython3",
   "version": "3.10.4"
  },
  "orig_nbformat": 4
 },
 "nbformat": 4,
 "nbformat_minor": 2
}
